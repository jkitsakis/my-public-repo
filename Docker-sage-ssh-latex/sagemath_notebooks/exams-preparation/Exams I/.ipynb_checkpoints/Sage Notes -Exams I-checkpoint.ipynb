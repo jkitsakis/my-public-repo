{
 "cells": [
  {
   "cell_type": "code",
   "execution_count": 27,
   "id": "fd51e7d0",
   "metadata": {},
   "outputs": [
    {
     "data": {
      "text/plain": [
       "[\n",
       "(1, 0, 5, 7),\n",
       "(0, 2, 5, 9),\n",
       "(0, 0, 7, 11)\n",
       "]"
      ]
     },
     "execution_count": 27,
     "metadata": {},
     "output_type": "execute_result"
    }
   ],
   "source": [
    "# Define the vectors a, b, c as column vectors\n",
    "a = vector([3, -2, 3, 1])\n",
    "b = vector([-1, 2, 0, 2])\n",
    "c = vector([1, 4, 1, 3])\n",
    "\n",
    "M = matrix([a, b, c]).transpose()\n",
    "column_space = M.column_space()\n",
    "\n",
    "basis_vectors = column_space.basis()\n",
    "basis_vectors\n"
   ]
  },
  {
   "cell_type": "code",
   "execution_count": 43,
   "id": "b9df8a60",
   "metadata": {},
   "outputs": [
    {
     "data": {
      "text/plain": [
       "((49/37, -8/37, 15/37, -23/37), (59/37, 47/37, 55/74, 39/74))"
      ]
     },
     "execution_count": 43,
     "metadata": {},
     "output_type": "execute_result"
    }
   ],
   "source": [
    "# Define vectors x and y\n",
    "x = vector([1, 0, 1, -1])\n",
    "y = vector([2, 1, 0, 1])\n",
    "\n",
    "# Compute projections\n",
    "x_p = M * (M.transpose() * M).inverse() * M.transpose() * x\n",
    "y_p = M * (M.transpose() * M).inverse() * M.transpose() * y\n",
    "\n",
    "# Display the projections x' and y'\n",
    "x_p, y_p"
   ]
  },
  {
   "cell_type": "code",
   "execution_count": 49,
   "id": "bce8688e",
   "metadata": {},
   "outputs": [
    {
     "data": {
      "text/plain": [
       "180*arccos(4958/10701*sqrt(87/37)*sqrt(41/74))/pi"
      ]
     },
     "execution_count": 49,
     "metadata": {},
     "output_type": "execute_result"
    }
   ],
   "source": [
    "cos_theta = x_p.dot_product(y_p) / (x_p.norm() * y_p.norm())\n",
    "angle = arccos(cos_theta)\n",
    "\n",
    "# Convert angle to degrees\n",
    "angle_in_degrees = angle * (180 / pi)\n",
    "\n",
    "\n",
    "# Display the angle in degrees\n",
    "angle_in_degrees"
   ]
  },
  {
   "cell_type": "code",
   "execution_count": null,
   "id": "9b79de91",
   "metadata": {},
   "outputs": [],
   "source": []
  },
  {
   "cell_type": "code",
   "execution_count": 14,
   "id": "8a620c68",
   "metadata": {},
   "outputs": [
    {
     "data": {
      "text/plain": [
       "x2 >= 0"
      ]
     },
     "execution_count": 14,
     "metadata": {},
     "output_type": "execute_result"
    }
   ],
   "source": [
    "\n",
    "Maximize_Z = 200*x1 + 300*x2\n",
    "x1 + 3*x2 <= 20\n",
    "6*x1 + 2*x2 <= 45\n",
    "x1 >= 0\n",
    "x2 >= 0"
   ]
  },
  {
   "cell_type": "code",
   "execution_count": 5,
   "id": "2e8a1e03",
   "metadata": {},
   "outputs": [],
   "source": [
    "var('x1, x2')\n",
    "profit = 200*x1 + 300*x2\n"
   ]
  },
  {
   "cell_type": "code",
   "execution_count": 6,
   "id": "379e557f",
   "metadata": {},
   "outputs": [],
   "source": [
    "constraints = [\n",
    "    x1 + 3*x2 <= 20,\n",
    "    6*x1 + 2*x2 <= 45,\n",
    "    x1 >= 0,\n",
    "    x2 >= 0\n",
    "]\n"
   ]
  },
  {
   "cell_type": "code",
   "execution_count": 17,
   "id": "66ad8cf2",
   "metadata": {},
   "outputs": [
    {
     "data": {
      "text/plain": [
       "2593.75"
      ]
     },
     "execution_count": 17,
     "metadata": {},
     "output_type": "execute_result"
    }
   ],
   "source": [
    "lp = MixedIntegerLinearProgram(maximization=True)\n",
    "v = lp.new_variable(real=True, nonnegative=True)\n",
    "\n",
    "lp.set_objective(200 * v[0] + 300 * v[1])\n",
    "\n",
    "lp.add_constraint(v[0] + 3*v[1] <= 20)\n",
    "lp.add_constraint(6*v[0] + 2*v[1] <= 45)\n",
    "\n",
    "lp.solve()\n"
   ]
  },
  {
   "cell_type": "code",
   "execution_count": 19,
   "id": "092a63d9",
   "metadata": {},
   "outputs": [
    {
     "data": {
      "text/plain": [
       "(5.9375, 4.6875, 2593.75)"
      ]
     },
     "execution_count": 19,
     "metadata": {},
     "output_type": "execute_result"
    }
   ],
   "source": [
    "optimal_values = lp.get_values(v)\n",
    "optimal_x1 = optimal_values[0]\n",
    "optimal_x2 = optimal_values[1]\n",
    "max_profit = lp.get_objective_value()\n",
    "\n",
    "optimal_x1, optimal_x2, max_profit"
   ]
  },
  {
   "cell_type": "code",
   "execution_count": null,
   "id": "e5f5bb47",
   "metadata": {},
   "outputs": [],
   "source": []
  }
 ],
 "metadata": {
  "kernelspec": {
   "display_name": "SageMath 9.5",
   "language": "sage",
   "name": "sagemath"
  },
  "language_info": {
   "codemirror_mode": {
    "name": "ipython",
    "version": 3
   },
   "file_extension": ".py",
   "mimetype": "text/x-python",
   "name": "python",
   "nbconvert_exporter": "python",
   "pygments_lexer": "ipython3",
   "version": "3.10.12"
  }
 },
 "nbformat": 4,
 "nbformat_minor": 5
}
