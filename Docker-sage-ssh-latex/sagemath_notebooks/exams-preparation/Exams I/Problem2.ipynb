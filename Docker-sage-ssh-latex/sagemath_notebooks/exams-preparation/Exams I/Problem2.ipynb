{
 "cells": [
  {
   "cell_type": "code",
   "execution_count": null,
   "id": "9d665eb0",
   "metadata": {},
   "outputs": [],
   "source": []
  },
  {
   "cell_type": "code",
   "execution_count": 2,
   "id": "ac486d6d",
   "metadata": {},
   "outputs": [
    {
     "data": {
      "text/plain": [
       "(\n",
       "[ 3 -1  1]         \n",
       "[-2  2  4]         \n",
       "[ 3  0  1]         \n",
       "[ 1  2  3], 3, True\n",
       ")"
      ]
     },
     "execution_count": 2,
     "metadata": {},
     "output_type": "execute_result"
    }
   ],
   "source": [
    "#Problem1\n",
    "# Define the vectors\n",
    "a = vector([3,-2,3,1])\n",
    "b = vector([-1,2,0,2])\n",
    "c = vector([1,4,1,3])\n",
    "\n",
    "A = matrix([a, b, c]).transpose()\n",
    "rank = A.rank()\n",
    "rank\n",
    "\n",
    "is_independent = (rank == A.ncols())\n",
    "is_independent\n",
    "\n",
    "A, rank, is_independent\n"
   ]
  },
  {
   "cell_type": "code",
   "execution_count": 6,
   "id": "f6d68720",
   "metadata": {},
   "outputs": [
    {
     "data": {
      "text/plain": [
       "(Free module of degree 4 and rank 3 over Integer Ring\n",
       " Echelon basis matrix:\n",
       " [ 1  0  5  7]\n",
       " [ 0  2  5  9]\n",
       " [ 0  0  7 11],\n",
       " [\n",
       " (1, 0, 5, 7),\n",
       " (0, 2, 5, 9),\n",
       " (0, 0, 7, 11)\n",
       " ])"
      ]
     },
     "execution_count": 6,
     "metadata": {},
     "output_type": "execute_result"
    }
   ],
   "source": [
    "subspace_basis = A.column_space()\n",
    "\n",
    "sb=subspace_basis.basis()\n",
    "\n",
    "subspace_basis, sb"
   ]
  },
  {
   "cell_type": "code",
   "execution_count": 29,
   "id": "d8912ef9",
   "metadata": {},
   "outputs": [
    {
     "data": {
      "text/plain": [
       "((49/37, -8/37, 15/37, -23/37), (59/37, 47/37, 55/74, 39/74))"
      ]
     },
     "execution_count": 29,
     "metadata": {},
     "output_type": "execute_result"
    }
   ],
   "source": [
    "\n",
    "P = A * (A.transpose() * A).inverse() * A.transpose()\n",
    "P\n",
    "\n",
    "x_p = P * x\n",
    "y_p = P * y\n",
    "\n",
    "x_p, y_p\n"
   ]
  },
  {
   "cell_type": "code",
   "execution_count": null,
   "id": "2450c803",
   "metadata": {},
   "outputs": [],
   "source": []
  },
  {
   "cell_type": "code",
   "execution_count": 30,
   "id": "793e5b12",
   "metadata": {},
   "outputs": [
    {
     "data": {
      "text/plain": [
       "(4958/10701*sqrt(87/37)*sqrt(41/74),\n",
       " arccos(4958/10701*sqrt(87/37)*sqrt(41/74)),\n",
       " 180*arccos(4958/10701*sqrt(87/37)*sqrt(41/74))/pi)"
      ]
     },
     "execution_count": 30,
     "metadata": {},
     "output_type": "execute_result"
    }
   ],
   "source": [
    "cos_angle = x_p.dot_product(y_p) / (norm(x_p) * norm(y_p))\n",
    "\n",
    "angle = arccos(cos_angle)\n",
    "\n",
    "angle_degrees = angle * 180 / pi\n",
    "\n",
    "cos_angle, angle, angle_degrees"
   ]
  },
  {
   "cell_type": "code",
   "execution_count": null,
   "id": "1c2405db",
   "metadata": {},
   "outputs": [],
   "source": []
  },
  {
   "cell_type": "code",
   "execution_count": 31,
   "id": "0524df55",
   "metadata": {},
   "outputs": [
    {
     "ename": "TypeError",
     "evalue": "The first argument must be a symbolic expression or a list of symbolic expressions.",
     "output_type": "error",
     "traceback": [
      "\u001b[0;31m---------------------------------------------------------------------------\u001b[0m",
      "\u001b[0;31mTypeError\u001b[0m                                 Traceback (most recent call last)",
      "\u001b[0;32m/tmp/ipykernel_328/3289318670.py\u001b[0m in \u001b[0;36m<module>\u001b[0;34m\u001b[0m\n\u001b[1;32m      7\u001b[0m \u001b[0mY\u001b[0m \u001b[0;34m=\u001b[0m \u001b[0mvector\u001b[0m\u001b[0;34m(\u001b[0m\u001b[0;34m[\u001b[0m\u001b[0mInteger\u001b[0m\u001b[0;34m(\u001b[0m\u001b[0;36m20\u001b[0m\u001b[0;34m)\u001b[0m\u001b[0;34m,\u001b[0m\u001b[0mInteger\u001b[0m\u001b[0;34m(\u001b[0m\u001b[0;36m45\u001b[0m\u001b[0;34m)\u001b[0m\u001b[0;34m]\u001b[0m\u001b[0;34m)\u001b[0m\u001b[0;34m\u001b[0m\u001b[0;34m\u001b[0m\u001b[0m\n\u001b[1;32m      8\u001b[0m \u001b[0;34m\u001b[0m\u001b[0m\n\u001b[0;32m----> 9\u001b[0;31m \u001b[0msolutions\u001b[0m \u001b[0;34m=\u001b[0m \u001b[0msolve\u001b[0m\u001b[0;34m(\u001b[0m\u001b[0mdet\u001b[0m\u001b[0;34m(\u001b[0m\u001b[0mA\u001b[0m\u001b[0;34m)\u001b[0m \u001b[0;34m==\u001b[0m \u001b[0mInteger\u001b[0m\u001b[0;34m(\u001b[0m\u001b[0;36m0\u001b[0m\u001b[0;34m)\u001b[0m\u001b[0;34m,\u001b[0m \u001b[0mx\u001b[0m\u001b[0;34m,\u001b[0m\u001b[0my\u001b[0m\u001b[0;34m)\u001b[0m\u001b[0;34m\u001b[0m\u001b[0;34m\u001b[0m\u001b[0m\n\u001b[0m\u001b[1;32m     10\u001b[0m \u001b[0;31m# Print the solutions\u001b[0m\u001b[0;34m\u001b[0m\u001b[0;34m\u001b[0m\u001b[0m\n\u001b[1;32m     11\u001b[0m \u001b[0msolutions\u001b[0m\u001b[0;34m\u001b[0m\u001b[0;34m\u001b[0m\u001b[0m\n",
      "\u001b[0;32m/usr/lib/python3/dist-packages/sage/symbolic/relation.py\u001b[0m in \u001b[0;36msolve\u001b[0;34m(f, *args, **kwds)\u001b[0m\n\u001b[1;32m   1070\u001b[0m \u001b[0;34m\u001b[0m\u001b[0m\n\u001b[1;32m   1071\u001b[0m     \u001b[0;32mif\u001b[0m \u001b[0;32mnot\u001b[0m \u001b[0misinstance\u001b[0m\u001b[0;34m(\u001b[0m\u001b[0mf\u001b[0m\u001b[0;34m,\u001b[0m \u001b[0;34m(\u001b[0m\u001b[0mlist\u001b[0m\u001b[0;34m,\u001b[0m \u001b[0mtuple\u001b[0m\u001b[0;34m)\u001b[0m\u001b[0;34m)\u001b[0m\u001b[0;34m:\u001b[0m\u001b[0;34m\u001b[0m\u001b[0;34m\u001b[0m\u001b[0m\n\u001b[0;32m-> 1072\u001b[0;31m         \u001b[0;32mraise\u001b[0m \u001b[0mTypeError\u001b[0m\u001b[0;34m(\u001b[0m\u001b[0;34m\"The first argument must be a symbolic expression or a list of symbolic expressions.\"\u001b[0m\u001b[0;34m)\u001b[0m\u001b[0;34m\u001b[0m\u001b[0;34m\u001b[0m\u001b[0m\n\u001b[0m\u001b[1;32m   1073\u001b[0m \u001b[0;34m\u001b[0m\u001b[0m\n\u001b[1;32m   1074\u001b[0m     \u001b[0;31m# f is a list of such expressions or equations\u001b[0m\u001b[0;34m\u001b[0m\u001b[0;34m\u001b[0m\u001b[0m\n",
      "\u001b[0;31mTypeError\u001b[0m: The first argument must be a symbolic expression or a list of symbolic expressions."
     ]
    }
   ],
   "source": [
    "#Problem2\n",
    "\n",
    "x,y= var('x,y')\n",
    "\n",
    "A = Matrix([[ 1, 3], [6,2]])\n",
    "X = vector([x,y])\n",
    "Y = vector([20,45])\n",
    "\n",
    "solutions = solve(det(A) == 0, x,y)\n",
    "# Print the solutions\n",
    "solutions"
   ]
  }
 ],
 "metadata": {
  "kernelspec": {
   "display_name": "SageMath 9.5",
   "language": "sage",
   "name": "sagemath"
  },
  "language_info": {
   "codemirror_mode": {
    "name": "ipython",
    "version": 3
   },
   "file_extension": ".py",
   "mimetype": "text/x-python",
   "name": "python",
   "nbconvert_exporter": "python",
   "pygments_lexer": "ipython3",
   "version": "3.10.12"
  }
 },
 "nbformat": 4,
 "nbformat_minor": 5
}
