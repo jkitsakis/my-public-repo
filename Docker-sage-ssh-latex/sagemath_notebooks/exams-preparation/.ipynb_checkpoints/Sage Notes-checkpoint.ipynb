{
 "cells": [
  {
   "cell_type": "markdown",
   "id": "493d4607",
   "metadata": {},
   "source": [
    "- USE SAGE 9.3 commands\n",
    "- provide answer in sage markdown window."
   ]
  },
  {
   "cell_type": "markdown",
   "id": "39655e90",
   "metadata": {},
   "source": [
    "$\\textbf{1. Linear Algebra - Problem 1 - 2024}$\n",
    "\n",
    "Let A be a 8 × 8 matrix with elements $A_{ij} = j(−1)^i + i(−1)^j + k$ where i, j = 1, . . . , 8, and k is the last digit of your academic ID  \n",
    "\n",
    "(a) Compute A.  \n",
    "(b) Find the row reduced echelon form of $AA^T$  .  \n",
    "(c) Find the rank of A.  \n",
    "(d) Compute the expression $det(A^2 − A + 1)$.  "
   ]
  },
  {
   "cell_type": "code",
   "execution_count": 14,
   "id": "852bc048",
   "metadata": {},
   "outputs": [
    {
     "data": {
      "text/html": [
       "<html><script type=\"math/tex; mode=display\">\\newcommand{\\Bold}[1]{\\mathbf{#1}}\\left(\\begin{array}{rrrrrrrr}\n",
       "2 & 3 & 0 & 1 & -2 & -1 & -4 & -3 \\\\\n",
       "3 & 8 & 5 & 10 & 7 & 12 & 9 & 14 \\\\\n",
       "0 & 5 & -2 & 3 & -4 & 1 & -6 & -1 \\\\\n",
       "1 & 10 & 3 & 12 & 5 & 14 & 7 & 16 \\\\\n",
       "-2 & 7 & -4 & 5 & -6 & 3 & -8 & 1 \\\\\n",
       "-1 & 12 & 1 & 14 & 3 & 16 & 5 & 18 \\\\\n",
       "-4 & 9 & -6 & 7 & -8 & 5 & -10 & 3 \\\\\n",
       "-3 & 14 & -1 & 16 & 1 & 18 & 3 & 20\n",
       "\\end{array}\\right) \\left(\\begin{array}{rrrrrrrr}\n",
       "2 & 3 & 0 & 1 & -2 & -1 & -4 & -3 \\\\\n",
       "3 & 8 & 5 & 10 & 7 & 12 & 9 & 14 \\\\\n",
       "0 & 5 & -2 & 3 & -4 & 1 & -6 & -1 \\\\\n",
       "1 & 10 & 3 & 12 & 5 & 14 & 7 & 16 \\\\\n",
       "-2 & 7 & -4 & 5 & -6 & 3 & -8 & 1 \\\\\n",
       "-1 & 12 & 1 & 14 & 3 & 16 & 5 & 18 \\\\\n",
       "-4 & 9 & -6 & 7 & -8 & 5 & -10 & 3 \\\\\n",
       "-3 & 14 & -1 & 16 & 1 & 18 & 3 & 20\n",
       "\\end{array}\\right)</script></html>"
      ],
      "text/latex": [
       "$$\\newcommand{\\Bold}[1]{\\mathbf{#1}}\\left(\\begin{array}{rrrrrrrr}\n",
       "2 & 3 & 0 & 1 & -2 & -1 & -4 & -3 \\\\\n",
       "3 & 8 & 5 & 10 & 7 & 12 & 9 & 14 \\\\\n",
       "0 & 5 & -2 & 3 & -4 & 1 & -6 & -1 \\\\\n",
       "1 & 10 & 3 & 12 & 5 & 14 & 7 & 16 \\\\\n",
       "-2 & 7 & -4 & 5 & -6 & 3 & -8 & 1 \\\\\n",
       "-1 & 12 & 1 & 14 & 3 & 16 & 5 & 18 \\\\\n",
       "-4 & 9 & -6 & 7 & -8 & 5 & -10 & 3 \\\\\n",
       "-3 & 14 & -1 & 16 & 1 & 18 & 3 & 20\n",
       "\\end{array}\\right) \\left(\\begin{array}{rrrrrrrr}\n",
       "2 & 3 & 0 & 1 & -2 & -1 & -4 & -3 \\\\\n",
       "3 & 8 & 5 & 10 & 7 & 12 & 9 & 14 \\\\\n",
       "0 & 5 & -2 & 3 & -4 & 1 & -6 & -1 \\\\\n",
       "1 & 10 & 3 & 12 & 5 & 14 & 7 & 16 \\\\\n",
       "-2 & 7 & -4 & 5 & -6 & 3 & -8 & 1 \\\\\n",
       "-1 & 12 & 1 & 14 & 3 & 16 & 5 & 18 \\\\\n",
       "-4 & 9 & -6 & 7 & -8 & 5 & -10 & 3 \\\\\n",
       "-3 & 14 & -1 & 16 & 1 & 18 & 3 & 20\n",
       "\\end{array}\\right)$$"
      ],
      "text/plain": [
       "[  2   3   0   1  -2  -1  -4  -3]\n",
       "[  3   8   5  10   7  12   9  14]\n",
       "[  0   5  -2   3  -4   1  -6  -1]\n",
       "[  1  10   3  12   5  14   7  16]\n",
       "[ -2   7  -4   5  -6   3  -8   1]\n",
       "[ -1  12   1  14   3  16   5  18]\n",
       "[ -4   9  -6   7  -8   5 -10   3]\n",
       "[ -3  14  -1  16   1  18   3  20] [  2   3   0   1  -2  -1  -4  -3]\n",
       "[  3   8   5  10   7  12   9  14]\n",
       "[  0   5  -2   3  -4   1  -6  -1]\n",
       "[  1  10   3  12   5  14   7  16]\n",
       "[ -2   7  -4   5  -6   3  -8   1]\n",
       "[ -1  12   1  14   3  16   5  18]\n",
       "[ -4   9  -6   7  -8   5 -10   3]\n",
       "[ -3  14  -1  16   1  18   3  20]"
      ]
     },
     "metadata": {},
     "output_type": "display_data"
    },
    {
     "data": {
      "text/html": [
       "<html><script type=\"math/tex; mode=display\">\\newcommand{\\Bold}[1]{\\mathbf{#1}}\\left(\\begin{array}{rrrrrrrr}\n",
       "1 & 0 & 0 & -1 & -1 & -2 & -2 & -3 \\\\\n",
       "0 & 1 & 0 & 1 & 0 & 1 & 0 & 1 \\\\\n",
       "0 & 0 & 1 & 1 & 2 & 2 & 3 & 3 \\\\\n",
       "0 & 0 & 0 & 0 & 0 & 0 & 0 & 0 \\\\\n",
       "0 & 0 & 0 & 0 & 0 & 0 & 0 & 0 \\\\\n",
       "0 & 0 & 0 & 0 & 0 & 0 & 0 & 0 \\\\\n",
       "0 & 0 & 0 & 0 & 0 & 0 & 0 & 0 \\\\\n",
       "0 & 0 & 0 & 0 & 0 & 0 & 0 & 0\n",
       "\\end{array}\\right)</script></html>"
      ],
      "text/latex": [
       "$$\\newcommand{\\Bold}[1]{\\mathbf{#1}}\\left(\\begin{array}{rrrrrrrr}\n",
       "1 & 0 & 0 & -1 & -1 & -2 & -2 & -3 \\\\\n",
       "0 & 1 & 0 & 1 & 0 & 1 & 0 & 1 \\\\\n",
       "0 & 0 & 1 & 1 & 2 & 2 & 3 & 3 \\\\\n",
       "0 & 0 & 0 & 0 & 0 & 0 & 0 & 0 \\\\\n",
       "0 & 0 & 0 & 0 & 0 & 0 & 0 & 0 \\\\\n",
       "0 & 0 & 0 & 0 & 0 & 0 & 0 & 0 \\\\\n",
       "0 & 0 & 0 & 0 & 0 & 0 & 0 & 0 \\\\\n",
       "0 & 0 & 0 & 0 & 0 & 0 & 0 & 0\n",
       "\\end{array}\\right)$$"
      ],
      "text/plain": [
       "[ 1  0  0 -1 -1 -2 -2 -3]\n",
       "[ 0  1  0  1  0  1  0  1]\n",
       "[ 0  0  1  1  2  2  3  3]\n",
       "[ 0  0  0  0  0  0  0  0]\n",
       "[ 0  0  0  0  0  0  0  0]\n",
       "[ 0  0  0  0  0  0  0  0]\n",
       "[ 0  0  0  0  0  0  0  0]\n",
       "[ 0  0  0  0  0  0  0  0]"
      ]
     },
     "metadata": {},
     "output_type": "display_data"
    },
    {
     "data": {
      "text/html": [
       "<html><script type=\"math/tex; mode=display\">\\newcommand{\\Bold}[1]{\\mathbf{#1}}3</script></html>"
      ],
      "text/latex": [
       "$$\\newcommand{\\Bold}[1]{\\mathbf{#1}}3$$"
      ],
      "text/plain": [
       "3"
      ]
     },
     "metadata": {},
     "output_type": "display_data"
    },
    {
     "data": {
      "text/plain": [
       "93227241"
      ]
     },
     "execution_count": 14,
     "metadata": {},
     "output_type": "execute_result"
    }
   ],
   "source": [
    "#a\n",
    "\n",
    "n = 8\n",
    "k = 4\n",
    "A1= Matrix([[j*(-1)^i + i*(-1)^j + k for j in range(1, n+1)] for i in range(1, n+1)])\n",
    "\n",
    "A2= matrix(QQ,8,8,lambda i,j: (i+1)*(-1)^(j+1) + (j+1)*(-1)^(i+1)+k)\n",
    "show(A1,A2)\n",
    "\n",
    "A=A1\n",
    "\n",
    "#b\n",
    "# Compute AA^T\n",
    "AAT = A * A.transpose()\n",
    "\n",
    "# Find the row reduced echelon form of AA^T\n",
    "RREF_AAT = AAT.rref()\n",
    "\n",
    "show(RREF_AAT)\n",
    "\n",
    "#c\n",
    "rank_A = A.rank()\n",
    "show(rank_A)\n",
    "\n",
    "#d\n",
    "result_matrix = A^2 - A + Matrix.identity(8)\n",
    "det_result = result_matrix.det()\n",
    "det_result"
   ]
  },
  {
   "cell_type": "code",
   "execution_count": null,
   "id": "161265d4",
   "metadata": {},
   "outputs": [],
   "source": []
  },
  {
   "cell_type": "markdown",
   "id": "dd1de0ed",
   "metadata": {},
   "source": [
    "$\\textbf{2. Linear Algebra -  Problem 2 - 2024}$ \n",
    "\n",
    "Assume the system of equations in x, y, z, t}\n",
    "$ax + y + z + t = 1$  \n",
    "$x + ay + z + t = b$  \n",
    "$x + y + az + t = b^2$  \n",
    "$x + y + z + at = b^3$  \n",
    "where a, b are integer parameters.  \n",
    "\n",
    "Using sagemath  \n",
    "(a) find a formal solution of the system in terms of a, b  \n",
    "(b) determine the values of a, b for which the system has infinitely many solutions and the values of a, b for which the system is impossible;  \n",
    "(c) derive the full solution for a = the first digit of your academic ID, b = the last digit of your academic ID.  "
   ]
  },
  {
   "cell_type": "code",
   "execution_count": 15,
   "id": "92de7c5c",
   "metadata": {},
   "outputs": [
    {
     "data": {
      "text/html": [
       "<html><script type=\"math/tex; mode=display\">\\newcommand{\\Bold}[1]{\\mathbf{#1}}\\left[\\left[x = -\\frac{b^{3} + b^{2} - a + b - 2}{a^{2} + 2 \\, a - 3}, y = -\\frac{b^{3} - a b + b^{2} - 2 \\, b + 1}{a^{2} + 2 \\, a - 3}, z = \\frac{a b^{2} - b^{3} + 2 \\, b^{2} - b - 1}{a^{2} + 2 \\, a - 3}, t = \\frac{a b^{3} + 2 \\, b^{3} - b^{2} - b - 1}{a^{2} + 2 \\, a - 3}\\right]\\right]</script></html>"
      ],
      "text/latex": [
       "$$\\newcommand{\\Bold}[1]{\\mathbf{#1}}\\left[\\left[x = -\\frac{b^{3} + b^{2} - a + b - 2}{a^{2} + 2 \\, a - 3}, y = -\\frac{b^{3} - a b + b^{2} - 2 \\, b + 1}{a^{2} + 2 \\, a - 3}, z = \\frac{a b^{2} - b^{3} + 2 \\, b^{2} - b - 1}{a^{2} + 2 \\, a - 3}, t = \\frac{a b^{3} + 2 \\, b^{3} - b^{2} - b - 1}{a^{2} + 2 \\, a - 3}\\right]\\right]$$"
      ],
      "text/plain": [
       "[[x == -(b^3 + b^2 - a + b - 2)/(a^2 + 2*a - 3), y == -(b^3 - a*b + b^2 - 2*b + 1)/(a^2 + 2*a - 3), z == (a*b^2 - b^3 + 2*b^2 - b - 1)/(a^2 + 2*a - 3), t == (a*b^3 + 2*b^3 - b^2 - b - 1)/(a^2 + 2*a - 3)]]"
      ]
     },
     "metadata": {},
     "output_type": "display_data"
    },
    {
     "name": "stdout",
     "output_type": "stream",
     "text": [
      "det_A =  a^4 - 6*a^2 + 8*a - 3\n",
      "rank_A =  4\n",
      "rank_augmented =  4\n"
     ]
    },
    {
     "data": {
      "text/html": [
       "<html><script type=\"math/tex; mode=display\">\\newcommand{\\Bold}[1]{\\mathbf{#1}}\\left[\\left[x = \\left(-\\frac{1}{32}\\right), y = \\left(\\frac{3}{32}\\right), z = \\left(\\frac{11}{32}\\right), t = \\left(\\frac{27}{32}\\right)\\right]\\right]</script></html>"
      ],
      "text/latex": [
       "$$\\newcommand{\\Bold}[1]{\\mathbf{#1}}\\left[\\left[x = \\left(-\\frac{1}{32}\\right), y = \\left(\\frac{3}{32}\\right), z = \\left(\\frac{11}{32}\\right), t = \\left(\\frac{27}{32}\\right)\\right]\\right]$$"
      ],
      "text/plain": [
       "[[x == (-1/32), y == (3/32), z == (11/32), t == (27/32)]]"
      ]
     },
     "metadata": {},
     "output_type": "display_data"
    }
   ],
   "source": [
    "#a\n",
    "var('x y z t')\n",
    "var('a b')\n",
    "eq1 = a*x + y + z + t == 1\n",
    "eq2 = x + a*y + z + t == b\n",
    "eq3 = x + y + a*z + t == b^2\n",
    "eq4 = x + y + z + a*t == b^3\n",
    "solution = solve([eq1, eq2, eq3, eq4], x, y, z, t)\n",
    "show(solution)\n",
    "\n",
    "#b\n",
    "# Define the coefficient matrix\n",
    "A = matrix(SR, [\n",
    "    [a, 1, 1, 1],\n",
    "    [1, a, 1, 1],\n",
    "    [1, 1, a, 1],\n",
    "    [1, 1, 1, a]\n",
    "])\n",
    "\n",
    "# Define the augmented matrix\n",
    "b_vector = vector(SR, [1, b, b^2, b^3])\n",
    "augmented_matrix = A.augment(b_vector, subdivide=True)\n",
    "\n",
    "# Calculate the determinant of the coefficient matrix\n",
    "det_A = A.det()\n",
    "\n",
    "# Calculate the rank of the coefficient matrix and the augmented matrix\n",
    "rank_A = A.rank()\n",
    "rank_augmented = augmented_matrix.rank()\n",
    "\n",
    "print('det_A = ',det_A)\n",
    "print('rank_A = ',rank_A)\n",
    "print('rank_augmented = ',rank_augmented)\n",
    "\n",
    "#1. Infinitely Many Solutions: \n",
    "# The system will have infinitely many solutions if det(A) = 0 and rank(A) = rank([A | b).\n",
    "\n",
    "#2. **No Solutions:** \n",
    "# The system will be inconsistent (impossible) if rank(A) < rank(A |b).\n",
    "solve(det_A==0,a)\n",
    "\n",
    "#c\n",
    "# Substitute a = 9 and b = 2 into the equations\n",
    "eq1_sub = eq1.subs({a: 9, b: 2})\n",
    "eq2_sub = eq2.subs({a: 9, b: 2})\n",
    "eq3_sub = eq3.subs({a: 9, b: 2})\n",
    "eq4_sub = eq4.subs({a: 9, b: 2})\n",
    "\n",
    "# Solve the system of equations with the substituted values\n",
    "solution = solve([eq1_sub, eq2_sub, eq3_sub, eq4_sub], x, y, z, t)\n",
    "show(solution)\n"
   ]
  },
  {
   "cell_type": "code",
   "execution_count": null,
   "id": "b43de051",
   "metadata": {},
   "outputs": [],
   "source": []
  },
  {
   "cell_type": "markdown",
   "id": "189c1d0b",
   "metadata": {},
   "source": [
    "$\\textbf{3. Analytic Geometry - Problem 1 - 2024}$   \n",
    "\n",
    "Consider the Euclidean vector space R5 with the Euclidean inner product. A subspace $U ⊂ R^5$ is defined by  \n",
    "\n",
    "$\n",
    "\\mathbf{U} = span \\left\\{\n",
    "\\begin{bmatrix} 0 \\\\ -1 \\\\ 2 \\\\ 0 \\\\ 2 \\end{bmatrix},  \n",
    "\\begin{bmatrix} 1 \\\\ -3 \\\\ 1 \\\\ -1 \\\\ 2 \\end{bmatrix},  \n",
    "\\begin{bmatrix} -3 \\\\ 4 \\\\ 1 \\\\ 2 \\\\ 1 \\end{bmatrix},  \n",
    "\\begin{bmatrix} -1 \\\\ -3 \\\\ 5 \\\\ 0 \\\\ 7 \\end{bmatrix}  \n",
    "\\right\\}\n",
    "$\n",
    "\n",
    "Using Sagemath  \n",
    "(a) check if the vectors that span 𝑈 are linearly independent;  \n",
    "(b) find the projection matrix that maps R5 onto 𝑈;  \n",
    "(c) find the projection of the vector $x= \\begin{bmatrix} -1 \\\\ 9 \\\\-1 \\\\ 4 \\\\1\\end{bmatrix}$ onto 𝑈;  \n",
    "(d) compute the projection error in question (c) both analytically and numerically.  "
   ]
  },
  {
   "cell_type": "code",
   "execution_count": 16,
   "id": "0b06f24b",
   "metadata": {},
   "outputs": [
    {
     "data": {
      "text/html": [
       "<html><script type=\"math/tex; mode=display\">\\newcommand{\\Bold}[1]{\\mathbf{#1}}\\mathrm{True}</script></html>"
      ],
      "text/latex": [
       "$$\\newcommand{\\Bold}[1]{\\mathbf{#1}}\\mathrm{True}$$"
      ],
      "text/plain": [
       "True"
      ]
     },
     "metadata": {},
     "output_type": "display_data"
    },
    {
     "data": {
      "text/html": [
       "<html><script type=\"math/tex; mode=display\">\\newcommand{\\Bold}[1]{\\mathbf{#1}}\\mathrm{True}</script></html>"
      ],
      "text/latex": [
       "$$\\newcommand{\\Bold}[1]{\\mathbf{#1}}\\mathrm{True}$$"
      ],
      "text/plain": [
       "True"
      ]
     },
     "metadata": {},
     "output_type": "display_data"
    },
    {
     "data": {
      "text/html": [
       "<html><script type=\"math/tex; mode=display\">\\newcommand{\\Bold}[1]{\\mathbf{#1}}\\mathrm{False}</script></html>"
      ],
      "text/latex": [
       "$$\\newcommand{\\Bold}[1]{\\mathbf{#1}}\\mathrm{False}$$"
      ],
      "text/plain": [
       "False"
      ]
     },
     "metadata": {},
     "output_type": "display_data"
    },
    {
     "data": {
      "text/html": [
       "<html><script type=\"math/tex; mode=display\">\\newcommand{\\Bold}[1]{\\mathbf{#1}}\\left(\\begin{array}{rrrrr}\n",
       "\\frac{10}{21} & -\\frac{2}{7} & \\frac{4}{21} & -\\frac{1}{7} & -\\frac{1}{3} \\\\\n",
       "-\\frac{2}{7} & \\frac{43}{63} & \\frac{4}{63} & \\frac{2}{7} & -\\frac{2}{9} \\\\\n",
       "\\frac{4}{21} & \\frac{4}{63} & \\frac{58}{63} & \\frac{1}{7} & \\frac{1}{9} \\\\\n",
       "-\\frac{1}{7} & \\frac{2}{7} & \\frac{1}{7} & \\frac{1}{7} & 0 \\\\\n",
       "-\\frac{1}{3} & -\\frac{2}{9} & \\frac{1}{9} & 0 & \\frac{7}{9}\n",
       "\\end{array}\\right)</script></html>"
      ],
      "text/latex": [
       "$$\\newcommand{\\Bold}[1]{\\mathbf{#1}}\\left(\\begin{array}{rrrrr}\n",
       "\\frac{10}{21} & -\\frac{2}{7} & \\frac{4}{21} & -\\frac{1}{7} & -\\frac{1}{3} \\\\\n",
       "-\\frac{2}{7} & \\frac{43}{63} & \\frac{4}{63} & \\frac{2}{7} & -\\frac{2}{9} \\\\\n",
       "\\frac{4}{21} & \\frac{4}{63} & \\frac{58}{63} & \\frac{1}{7} & \\frac{1}{9} \\\\\n",
       "-\\frac{1}{7} & \\frac{2}{7} & \\frac{1}{7} & \\frac{1}{7} & 0 \\\\\n",
       "-\\frac{1}{3} & -\\frac{2}{9} & \\frac{1}{9} & 0 & \\frac{7}{9}\n",
       "\\end{array}\\right)$$"
      ],
      "text/plain": [
       "[10/21  -2/7  4/21  -1/7  -1/3]\n",
       "[ -2/7 43/63  4/63   2/7  -2/9]\n",
       "[ 4/21  4/63 58/63   1/7   1/9]\n",
       "[ -1/7   2/7   1/7   1/7     0]\n",
       "[ -1/3  -2/9   1/9     0   7/9]"
      ]
     },
     "metadata": {},
     "output_type": "display_data"
    },
    {
     "data": {
      "text/html": [
       "<html><script type=\"math/tex; mode=display\">\\newcommand{\\Bold}[1]{\\mathbf{#1}}\\left(-\\frac{29}{7},\\,\\frac{51}{7},\\,\\frac{1}{7},\\,\\frac{22}{7},\\,-1\\right)</script></html>"
      ],
      "text/latex": [
       "$$\\newcommand{\\Bold}[1]{\\mathbf{#1}}\\left(-\\frac{29}{7},\\,\\frac{51}{7},\\,\\frac{1}{7},\\,\\frac{22}{7},\\,-1\\right)$$"
      ],
      "text/plain": [
       "(-29/7, 51/7, 1/7, 22/7, -1)"
      ]
     },
     "metadata": {},
     "output_type": "display_data"
    },
    {
     "data": {
      "text/html": [
       "<html><script type=\"math/tex; mode=display\">\\newcommand{\\Bold}[1]{\\mathbf{#1}}2 \\, \\sqrt{\\frac{33}{7}}</script></html>"
      ],
      "text/latex": [
       "$$\\newcommand{\\Bold}[1]{\\mathbf{#1}}2 \\, \\sqrt{\\frac{33}{7}}$$"
      ],
      "text/plain": [
       "2*sqrt(33/7)"
      ]
     },
     "metadata": {},
     "output_type": "display_data"
    }
   ],
   "source": [
    "#a\n",
    "v1 = vector(QQ,[0, -1, 2, 0, 2])\n",
    "v2 = vector(QQ,[1, -3, 1, -1, 2])\n",
    "v3 = vector(QQ,[-3, 4, 1, 2, 1])\n",
    "v4 = vector(QQ,[-1, -3, 5, 0, 7])\n",
    "\n",
    "M = QQ^5\n",
    "vecs=[(v1), (v2), (v3), (v4)]\n",
    "\n",
    "show(M.are_linearly_dependent(vecs))\n",
    "\n",
    "#OR\n",
    "M = matrix([v1, v2, v3, v4]).transpose()\n",
    "rank = M.rank()\n",
    "is_dependent = (rank < M.ncols())\n",
    "\n",
    "show(is_dependent)\n",
    "\n",
    "#b\n",
    "    # The four vectors are linearly dependent. We can pick three of them as a basis, provided they are linearly independent\n",
    "B = matrix([v1, v2, v3]).transpose()\n",
    "rank = B.rank()\n",
    "is_dependentB = (rank < B.ncols())\n",
    "show(is_dependentB)\n",
    "\n",
    "    # Calculate the projection matrix P = A (A^T A)^(-1) A^T\n",
    "P = B * (B.transpose() * B).inverse() * B.transpose()\n",
    "show(P)\n",
    "\n",
    "\n",
    "#c\n",
    "x = vector(QQ,[-1, 9, -1, 4, 1])\n",
    "Px=P*x\n",
    "show(Px)\n",
    "\n",
    "#d Compute the projection error\n",
    "error = norm(x - Px)\n",
    "show(error)\n",
    "\n"
   ]
  },
  {
   "cell_type": "code",
   "execution_count": null,
   "id": "7f612068",
   "metadata": {},
   "outputs": [],
   "source": []
  },
  {
   "cell_type": "markdown",
   "id": "025e9ba3",
   "metadata": {},
   "source": [
    "$\\textbf{4. Analytic Geometry - Problem 2 - 2024}$  \n",
    "\n",
    "Given a non-zero vector 𝑣 ∈ R𝑚, the Householder matrix 𝑃 is defined as $P = 1 − buu^T , b=2/u^Tu$ , where 1 is the 𝑚-by-𝑚 identity matrix.  \n",
    "\n",
    "If a vector $x \\in R^m$ is multiplied by $P$, then it is reflected in the hyperplane ${span(u)}^ \\bot$. \n",
    "\n",
    "Given $u = (1, −1, 1)^𝑇$, use Sagemath to  \n",
    "(a) compute the associated Householder matrix P as well as $P^2$;  \n",
    "(b) compute the vector $x'=Px$, where $x = (1, 1, 3)^T$;  \n",
    "(c) compute the lengths of both $x$ and $x'$ and comment on the result;  \n",
    "(d) plot the vectors u,x,x' in a common 3-dimensional plot.  "
   ]
  },
  {
   "cell_type": "code",
   "execution_count": 17,
   "id": "ec437b6b",
   "metadata": {},
   "outputs": [
    {
     "data": {
      "text/html": [
       "<html><script type=\"math/tex; mode=display\">\\newcommand{\\Bold}[1]{\\mathbf{#1}}\\left(\\begin{array}{rrr}\n",
       "\\frac{1}{3} & \\frac{2}{3} & -\\frac{2}{3} \\\\\n",
       "\\frac{2}{3} & \\frac{1}{3} & \\frac{2}{3} \\\\\n",
       "-\\frac{2}{3} & \\frac{2}{3} & \\frac{1}{3}\n",
       "\\end{array}\\right) \\left(\\begin{array}{rrr}\n",
       "1 & 0 & 0 \\\\\n",
       "0 & 1 & 0 \\\\\n",
       "0 & 0 & 1\n",
       "\\end{array}\\right)</script></html>"
      ],
      "text/latex": [
       "$$\\newcommand{\\Bold}[1]{\\mathbf{#1}}\\left(\\begin{array}{rrr}\n",
       "\\frac{1}{3} & \\frac{2}{3} & -\\frac{2}{3} \\\\\n",
       "\\frac{2}{3} & \\frac{1}{3} & \\frac{2}{3} \\\\\n",
       "-\\frac{2}{3} & \\frac{2}{3} & \\frac{1}{3}\n",
       "\\end{array}\\right) \\left(\\begin{array}{rrr}\n",
       "1 & 0 & 0 \\\\\n",
       "0 & 1 & 0 \\\\\n",
       "0 & 0 & 1\n",
       "\\end{array}\\right)$$"
      ],
      "text/plain": [
       "[ 1/3  2/3 -2/3]\n",
       "[ 2/3  1/3  2/3]\n",
       "[-2/3  2/3  1/3] [1 0 0]\n",
       "[0 1 0]\n",
       "[0 0 1]"
      ]
     },
     "metadata": {},
     "output_type": "display_data"
    },
    {
     "data": {
      "text/html": [
       "<html><script type=\"math/tex; mode=display\">\\newcommand{\\Bold}[1]{\\mathbf{#1}}\\left(-1,\\,3,\\,1\\right)</script></html>"
      ],
      "text/latex": [
       "$$\\newcommand{\\Bold}[1]{\\mathbf{#1}}\\left(-1,\\,3,\\,1\\right)$$"
      ],
      "text/plain": [
       "(-1, 3, 1)"
      ]
     },
     "metadata": {},
     "output_type": "display_data"
    },
    {
     "data": {
      "text/html": [
       "<html><script type=\"math/tex; mode=display\">\\newcommand{\\Bold}[1]{\\mathbf{#1}}\\sqrt{11} \\sqrt{11}</script></html>"
      ],
      "text/latex": [
       "$$\\newcommand{\\Bold}[1]{\\mathbf{#1}}\\sqrt{11} \\sqrt{11}$$"
      ],
      "text/plain": [
       "sqrt(11) sqrt(11)"
      ]
     },
     "metadata": {},
     "output_type": "display_data"
    }
   ],
   "source": [
    "#a\n",
    "u = vector([1, -1, 1])\n",
    "b = 2 / (u.dot_product(u))\n",
    "P = identity_matrix(3) - b * (matrix([u]).transpose() * matrix([u]))\n",
    "\n",
    "show(P, P^2)\n",
    "\n",
    "#b\n",
    "x = vector([1, 1, 3])\n",
    "x_prime = P * x\n",
    "show(x_prime)\n",
    "\n",
    "#c\n",
    "norm_x = x.norm()\n",
    "norm_x_prime = x_prime.norm()\n",
    "\n",
    "show(norm_x, norm_x_prime)\n",
    "\n",
    "#d\n",
    "#zero=vector(QQ,[0,0,0])\n",
    "#arrow(zero,u,color='red')+arrow(zero,x,color='blue')+arrow(zero,P*x,color='orange')"
   ]
  },
  {
   "cell_type": "code",
   "execution_count": null,
   "id": "aa7603d2",
   "metadata": {},
   "outputs": [],
   "source": []
  },
  {
   "cell_type": "markdown",
   "id": "8acec8c7",
   "metadata": {},
   "source": [
    "$\\textbf{5. Matrix Decomposition - Problem 1 - 2024}$  \n",
    "\n",
    "Consider the matrix  \n",
    "$A= \\begin{pmatrix} −2 & 6 & −3 \\\\ 6 & 3 & 2 \\\\ −3 & 2 & a \\end{pmatrix}$  \n",
    "\n",
    "where a is a real parameter and $x = (1, 1, 1)^T$\n",
    "\n",
    "Consider the case a = −18 and a=6. Using Sagemath  \n",
    "(a) compute the eigenvalues and the eigenvectors of A;  \n",
    "(b) normalize the eigenvectors of A;  \n",
    "(c) compute (numerically with 3 significant digits) the components of x in the orthonormal basis of question (b)  \n",
    "(e) what is the algebraic multiplicity of each eigenvalue?  \n",
    "(f) are the eigenvectors orthogonal ? If not find an orthonormal basis.\n",
    "(g) compute (numerically with 3 significant digits) the components of 𝑥 in the orthonormal\n",
    "basis of question (f)"
   ]
  },
  {
   "cell_type": "code",
   "execution_count": 18,
   "id": "a4f04c34",
   "metadata": {},
   "outputs": [
    {
     "data": {
      "text/html": [
       "<html><script type=\"math/tex; mode=display\">\\newcommand{\\Bold}[1]{\\mathbf{#1}}\\left(\\begin{array}{rrr}\n",
       "-2 & 6 & -3 \\\\\n",
       "6 & 3 & 2 \\\\\n",
       "-3 & 2 & -18\n",
       "\\end{array}\\right)</script></html>"
      ],
      "text/latex": [
       "$$\\newcommand{\\Bold}[1]{\\mathbf{#1}}\\left(\\begin{array}{rrr}\n",
       "-2 & 6 & -3 \\\\\n",
       "6 & 3 & 2 \\\\\n",
       "-3 & 2 & -18\n",
       "\\end{array}\\right)$$"
      ],
      "text/plain": [
       "[ -2   6  -3]\n",
       "[  6   3   2]\n",
       "[ -3   2 -18]"
      ]
     },
     "metadata": {},
     "output_type": "display_data"
    },
    {
     "data": {
      "text/html": [
       "<html><script type=\"math/tex; mode=display\">\\newcommand{\\Bold}[1]{\\mathbf{#1}}\\left[-19, 7, -5\\right]</script></html>"
      ],
      "text/latex": [
       "$$\\newcommand{\\Bold}[1]{\\mathbf{#1}}\\left[-19, 7, -5\\right]$$"
      ],
      "text/plain": [
       "[-19, 7, -5]"
      ]
     },
     "metadata": {},
     "output_type": "display_data"
    },
    {
     "data": {
      "text/html": [
       "<html><script type=\"math/tex; mode=display\">\\newcommand{\\Bold}[1]{\\mathbf{#1}}\\left[\\left(-19, \\left[\\left(1,\\,-\\frac{2}{3},\\,\\frac{13}{3}\\right)\\right], 1\\right), \\left(7, \\left[\\left(1,\\,\\frac{3}{2},\\,0\\right)\\right], 1\\right), \\left(-5, \\left[\\left(1,\\,-\\frac{2}{3},\\,-\\frac{1}{3}\\right)\\right], 1\\right)\\right]</script></html>"
      ],
      "text/latex": [
       "$$\\newcommand{\\Bold}[1]{\\mathbf{#1}}\\left[\\left(-19, \\left[\\left(1,\\,-\\frac{2}{3},\\,\\frac{13}{3}\\right)\\right], 1\\right), \\left(7, \\left[\\left(1,\\,\\frac{3}{2},\\,0\\right)\\right], 1\\right), \\left(-5, \\left[\\left(1,\\,-\\frac{2}{3},\\,-\\frac{1}{3}\\right)\\right], 1\\right)\\right]$$"
      ],
      "text/plain": [
       "[(-19, [(1, -2/3, 13/3)], 1),\n",
       " (7, [(1, 3/2, 0)], 1),\n",
       " (-5, [(1, -2/3, -1/3)], 1)]"
      ]
     },
     "metadata": {},
     "output_type": "display_data"
    },
    {
     "data": {
      "text/html": [
       "<html><script type=\"math/tex; mode=display\">\\newcommand{\\Bold}[1]{\\mathbf{#1}}\\verb|eigenvectors|\\verb| |\\verb|=| \\left(1,\\,-\\frac{2}{3},\\,\\frac{13}{3}\\right) \\left(1,\\,\\frac{3}{2},\\,0\\right) \\left(1,\\,-\\frac{2}{3},\\,-\\frac{1}{3}\\right)</script></html>"
      ],
      "text/latex": [
       "$$\\newcommand{\\Bold}[1]{\\mathbf{#1}}\\verb|eigenvectors|\\verb| |\\verb|=| \\left(1,\\,-\\frac{2}{3},\\,\\frac{13}{3}\\right) \\left(1,\\,\\frac{3}{2},\\,0\\right) \\left(1,\\,-\\frac{2}{3},\\,-\\frac{1}{3}\\right)$$"
      ],
      "text/plain": [
       "'eigenvectors = ' (1, -2/3, 13/3) (1, 3/2, 0) (1, -2/3, -1/3)"
      ]
     },
     "metadata": {},
     "output_type": "display_data"
    },
    {
     "data": {
      "text/html": [
       "<html><script type=\"math/tex; mode=display\">\\newcommand{\\Bold}[1]{\\mathbf{#1}}\\verb|normolized_eigenvector1|\\verb| |\\verb|=| \\left(\\frac{3}{182} \\, \\sqrt{182},\\,-\\frac{1}{91} \\, \\sqrt{182},\\,\\frac{1}{14} \\, \\sqrt{182}\\right)</script></html>"
      ],
      "text/latex": [
       "$$\\newcommand{\\Bold}[1]{\\mathbf{#1}}\\verb|normolized_eigenvector1|\\verb| |\\verb|=| \\left(\\frac{3}{182} \\, \\sqrt{182},\\,-\\frac{1}{91} \\, \\sqrt{182},\\,\\frac{1}{14} \\, \\sqrt{182}\\right)$$"
      ],
      "text/plain": [
       "'normolized_eigenvector1 = ' (3/182*sqrt(182), -1/91*sqrt(182), 1/14*sqrt(182))"
      ]
     },
     "metadata": {},
     "output_type": "display_data"
    },
    {
     "data": {
      "text/html": [
       "<html><script type=\"math/tex; mode=display\">\\newcommand{\\Bold}[1]{\\mathbf{#1}}\\verb|normolized_eigenvector2|\\verb| |\\verb|=| \\left(\\frac{2}{13} \\, \\sqrt{13},\\,\\frac{3}{13} \\, \\sqrt{13},\\,0\\right)</script></html>"
      ],
      "text/latex": [
       "$$\\newcommand{\\Bold}[1]{\\mathbf{#1}}\\verb|normolized_eigenvector2|\\verb| |\\verb|=| \\left(\\frac{2}{13} \\, \\sqrt{13},\\,\\frac{3}{13} \\, \\sqrt{13},\\,0\\right)$$"
      ],
      "text/plain": [
       "'normolized_eigenvector2 = ' (2/13*sqrt(13), 3/13*sqrt(13), 0)"
      ]
     },
     "metadata": {},
     "output_type": "display_data"
    },
    {
     "data": {
      "text/html": [
       "<html><script type=\"math/tex; mode=display\">\\newcommand{\\Bold}[1]{\\mathbf{#1}}\\verb|normolized_eigenvector1|\\verb| |\\verb|=| \\left(\\frac{3}{14} \\, \\sqrt{14},\\,-\\frac{1}{7} \\, \\sqrt{14},\\,-\\frac{1}{14} \\, \\sqrt{14}\\right)</script></html>"
      ],
      "text/latex": [
       "$$\\newcommand{\\Bold}[1]{\\mathbf{#1}}\\verb|normolized_eigenvector1|\\verb| |\\verb|=| \\left(\\frac{3}{14} \\, \\sqrt{14},\\,-\\frac{1}{7} \\, \\sqrt{14},\\,-\\frac{1}{14} \\, \\sqrt{14}\\right)$$"
      ],
      "text/plain": [
       "'normolized_eigenvector1 = ' (3/14*sqrt(14), -1/7*sqrt(14), -1/14*sqrt(14))"
      ]
     },
     "metadata": {},
     "output_type": "display_data"
    },
    {
     "data": {
      "text/html": [
       "<html><script type=\"math/tex; mode=display\">\\newcommand{\\Bold}[1]{\\mathbf{#1}}\\verb|components_of_x=| \\left(1.04,\\,1.39,\\,0.000\\right)</script></html>"
      ],
      "text/latex": [
       "$$\\newcommand{\\Bold}[1]{\\mathbf{#1}}\\verb|components_of_x=| \\left(1.04,\\,1.39,\\,0.000\\right)$$"
      ],
      "text/plain": [
       "'components_of_x= ' (1.04, 1.39, 0.000)"
      ]
     },
     "metadata": {},
     "output_type": "display_data"
    },
    {
     "data": {
      "text/html": [
       "<html><script type=\"math/tex; mode=display\">\\newcommand{\\Bold}[1]{\\mathbf{#1}}\\left(\\begin{array}{rrr}\n",
       "-2 & 6 & -3 \\\\\n",
       "6 & 3 & 2 \\\\\n",
       "-3 & 2 & 6\n",
       "\\end{array}\\right)</script></html>"
      ],
      "text/latex": [
       "$$\\newcommand{\\Bold}[1]{\\mathbf{#1}}\\left(\\begin{array}{rrr}\n",
       "-2 & 6 & -3 \\\\\n",
       "6 & 3 & 2 \\\\\n",
       "-3 & 2 & 6\n",
       "\\end{array}\\right)$$"
      ],
      "text/plain": [
       "[-2  6 -3]\n",
       "[ 6  3  2]\n",
       "[-3  2  6]"
      ]
     },
     "metadata": {},
     "output_type": "display_data"
    },
    {
     "data": {
      "text/html": [
       "<html><script type=\"math/tex; mode=display\">\\newcommand{\\Bold}[1]{\\mathbf{#1}}\\left[-7, 7, 7\\right]</script></html>"
      ],
      "text/latex": [
       "$$\\newcommand{\\Bold}[1]{\\mathbf{#1}}\\left[-7, 7, 7\\right]$$"
      ],
      "text/plain": [
       "[-7, 7, 7]"
      ]
     },
     "metadata": {},
     "output_type": "display_data"
    },
    {
     "data": {
      "text/html": [
       "<html><script type=\"math/tex; mode=display\">\\newcommand{\\Bold}[1]{\\mathbf{#1}}\\left[\\left(-7, \\left[\\left(1,\\,-\\frac{2}{3},\\,\\frac{1}{3}\\right)\\right], 1\\right), \\left(7, \\left[\\left(1,\\,0,\\,-3\\right), \\left(0,\\,1,\\,2\\right)\\right], 2\\right)\\right]</script></html>"
      ],
      "text/latex": [
       "$$\\newcommand{\\Bold}[1]{\\mathbf{#1}}\\left[\\left(-7, \\left[\\left(1,\\,-\\frac{2}{3},\\,\\frac{1}{3}\\right)\\right], 1\\right), \\left(7, \\left[\\left(1,\\,0,\\,-3\\right), \\left(0,\\,1,\\,2\\right)\\right], 2\\right)\\right]$$"
      ],
      "text/plain": [
       "[(-7, [(1, -2/3, 1/3)], 1), (7, [(1, 0, -3), (0, 1, 2)], 2)]"
      ]
     },
     "metadata": {},
     "output_type": "display_data"
    },
    {
     "data": {
      "text/html": [
       "<html><script type=\"math/tex; mode=display\">\\newcommand{\\Bold}[1]{\\mathbf{#1}}\\verb|eigenvectorsA2|\\verb| |\\verb|=| \\left(1,\\,-\\frac{2}{3},\\,\\frac{1}{3}\\right) \\left(1,\\,0,\\,-3\\right) \\left(0,\\,1,\\,2\\right)</script></html>"
      ],
      "text/latex": [
       "$$\\newcommand{\\Bold}[1]{\\mathbf{#1}}\\verb|eigenvectorsA2|\\verb| |\\verb|=| \\left(1,\\,-\\frac{2}{3},\\,\\frac{1}{3}\\right) \\left(1,\\,0,\\,-3\\right) \\left(0,\\,1,\\,2\\right)$$"
      ],
      "text/plain": [
       "'eigenvectorsA2 = ' (1, -2/3, 1/3) (1, 0, -3) (0, 1, 2)"
      ]
     },
     "metadata": {},
     "output_type": "display_data"
    },
    {
     "data": {
      "text/html": [
       "<html><script type=\"math/tex; mode=display\">\\newcommand{\\Bold}[1]{\\mathbf{#1}}\\verb|algebraic|\\verb| |\\verb|multiplicities|\\verb| |\\verb|of|\\verb| |\\verb|the|\\verb| |\\verb|eigenvalues|\\verb| |\\verb|A=| 1 1 1</script></html>"
      ],
      "text/latex": [
       "$$\\newcommand{\\Bold}[1]{\\mathbf{#1}}\\verb|algebraic|\\verb| |\\verb|multiplicities|\\verb| |\\verb|of|\\verb| |\\verb|the|\\verb| |\\verb|eigenvalues|\\verb| |\\verb|A=| 1 1 1$$"
      ],
      "text/plain": [
       "'algebraic multiplicities of the eigenvalues A= ' 1 1 1"
      ]
     },
     "metadata": {},
     "output_type": "display_data"
    },
    {
     "data": {
      "text/html": [
       "<html><script type=\"math/tex; mode=display\">\\newcommand{\\Bold}[1]{\\mathbf{#1}}\\verb|algebraic|\\verb| |\\verb|multiplicities|\\verb| |\\verb|of|\\verb| |\\verb|the|\\verb| |\\verb|eigenvalues|\\verb| |\\verb|A2=| 1 2</script></html>"
      ],
      "text/latex": [
       "$$\\newcommand{\\Bold}[1]{\\mathbf{#1}}\\verb|algebraic|\\verb| |\\verb|multiplicities|\\verb| |\\verb|of|\\verb| |\\verb|the|\\verb| |\\verb|eigenvalues|\\verb| |\\verb|A2=| 1 2$$"
      ],
      "text/plain": [
       "'algebraic multiplicities of the eigenvalues A2= ' 1 2"
      ]
     },
     "metadata": {},
     "output_type": "display_data"
    },
    {
     "data": {
      "text/html": [
       "<html><script type=\"math/tex; mode=display\">\\newcommand{\\Bold}[1]{\\mathbf{#1}}\\verb|dot-product|\\verb| |\\verb|a=-18|\\verb| |\\verb|:| 0 0 0</script></html>"
      ],
      "text/latex": [
       "$$\\newcommand{\\Bold}[1]{\\mathbf{#1}}\\verb|dot-product|\\verb| |\\verb|a=-18|\\verb| |\\verb|:| 0 0 0$$"
      ],
      "text/plain": [
       "'dot-product a=-18 : ' 0 0 0"
      ]
     },
     "metadata": {},
     "output_type": "display_data"
    },
    {
     "data": {
      "text/html": [
       "<html><script type=\"math/tex; mode=display\">\\newcommand{\\Bold}[1]{\\mathbf{#1}}\\verb|dot-product|\\verb| |\\verb|a=6|\\verb| |\\verb|:| 0 0 -6</script></html>"
      ],
      "text/latex": [
       "$$\\newcommand{\\Bold}[1]{\\mathbf{#1}}\\verb|dot-product|\\verb| |\\verb|a=6|\\verb| |\\verb|:| 0 0 -6$$"
      ],
      "text/plain": [
       "'dot-product a=6 : ' 0 0 -6"
      ]
     },
     "metadata": {},
     "output_type": "display_data"
    },
    {
     "data": {
      "text/html": [
       "<html><script type=\"math/tex; mode=display\">\\newcommand{\\Bold}[1]{\\mathbf{#1}}\\verb| |\\verb|orthogonal_basis|\\verb| |\\verb|=| \\left(\\begin{array}{rrr}\n",
       "1 & -\\frac{2}{3} & \\frac{1}{3} \\\\\n",
       "1 & 0 & -3 \\\\\n",
       "\\frac{3}{5} & 1 & \\frac{1}{5}\n",
       "\\end{array}\\right)</script></html>"
      ],
      "text/latex": [
       "$$\\newcommand{\\Bold}[1]{\\mathbf{#1}}\\verb| |\\verb|orthogonal_basis|\\verb| |\\verb|=| \\left(\\begin{array}{rrr}\n",
       "1 & -\\frac{2}{3} & \\frac{1}{3} \\\\\n",
       "1 & 0 & -3 \\\\\n",
       "\\frac{3}{5} & 1 & \\frac{1}{5}\n",
       "\\end{array}\\right)$$"
      ],
      "text/plain": [
       "' orthogonal_basis = ' [   1 -2/3  1/3]\n",
       "[   1    0   -3]\n",
       "[ 3/5    1  1/5]"
      ]
     },
     "metadata": {},
     "output_type": "display_data"
    },
    {
     "data": {
      "text/html": [
       "<html><script type=\"math/tex; mode=display\">\\newcommand{\\Bold}[1]{\\mathbf{#1}}\\verb| |\\verb|orthonormal|\\verb| |\\verb|basis|\\verb| |\\verb|=| \\left(\\frac{3}{14} \\, \\sqrt{14},\\,-\\frac{1}{7} \\, \\sqrt{14},\\,\\frac{1}{14} \\, \\sqrt{14}\\right) \\left(\\frac{1}{10} \\, \\sqrt{10},\\,0,\\,-\\frac{3}{10} \\, \\sqrt{10}\\right) \\left(\\frac{3}{7} \\, \\sqrt{\\frac{7}{5}},\\,\\frac{5}{7} \\, \\sqrt{\\frac{7}{5}},\\,\\frac{1}{7} \\, \\sqrt{\\frac{7}{5}}\\right)</script></html>"
      ],
      "text/latex": [
       "$$\\newcommand{\\Bold}[1]{\\mathbf{#1}}\\verb| |\\verb|orthonormal|\\verb| |\\verb|basis|\\verb| |\\verb|=| \\left(\\frac{3}{14} \\, \\sqrt{14},\\,-\\frac{1}{7} \\, \\sqrt{14},\\,\\frac{1}{14} \\, \\sqrt{14}\\right) \\left(\\frac{1}{10} \\, \\sqrt{10},\\,0,\\,-\\frac{3}{10} \\, \\sqrt{10}\\right) \\left(\\frac{3}{7} \\, \\sqrt{\\frac{7}{5}},\\,\\frac{5}{7} \\, \\sqrt{\\frac{7}{5}},\\,\\frac{1}{7} \\, \\sqrt{\\frac{7}{5}}\\right)$$"
      ],
      "text/plain": [
       "' orthonormal basis = ' (3/14*sqrt(14), -1/7*sqrt(14), 1/14*sqrt(14)) (1/10*sqrt(10), 0, -3/10*sqrt(10)) (3/7*sqrt(7/5), 5/7*sqrt(7/5), 1/7*sqrt(7/5))"
      ]
     },
     "metadata": {},
     "output_type": "display_data"
    },
    {
     "data": {
      "text/html": [
       "<html><script type=\"math/tex; mode=display\">\\newcommand{\\Bold}[1]{\\mathbf{#1}}\\verb|px|\\verb| |\\verb|=| \\left(\\frac{3}{14} \\, \\sqrt{14} + \\frac{1}{10} \\, \\sqrt{10} + \\frac{3}{7} \\, \\sqrt{\\frac{7}{5}},\\,-\\frac{1}{7} \\, \\sqrt{14} + \\frac{5}{7} \\, \\sqrt{\\frac{7}{5}},\\,\\frac{1}{14} \\, \\sqrt{14} - \\frac{3}{10} \\, \\sqrt{10} + \\frac{1}{7} \\, \\sqrt{\\frac{7}{5}}\\right)</script></html>"
      ],
      "text/latex": [
       "$$\\newcommand{\\Bold}[1]{\\mathbf{#1}}\\verb|px|\\verb| |\\verb|=| \\left(\\frac{3}{14} \\, \\sqrt{14} + \\frac{1}{10} \\, \\sqrt{10} + \\frac{3}{7} \\, \\sqrt{\\frac{7}{5}},\\,-\\frac{1}{7} \\, \\sqrt{14} + \\frac{5}{7} \\, \\sqrt{\\frac{7}{5}},\\,\\frac{1}{14} \\, \\sqrt{14} - \\frac{3}{10} \\, \\sqrt{10} + \\frac{1}{7} \\, \\sqrt{\\frac{7}{5}}\\right)$$"
      ],
      "text/plain": [
       "'px = ' (3/14*sqrt(14) + 1/10*sqrt(10) + 3/7*sqrt(7/5), -1/7*sqrt(14) + 5/7*sqrt(7/5), 1/14*sqrt(14) - 3/10*sqrt(10) + 1/7*sqrt(7/5))"
      ]
     },
     "metadata": {},
     "output_type": "display_data"
    },
    {
     "data": {
      "text/plain": [
       "(1.62, 0.311, -0.512)"
      ]
     },
     "execution_count": 18,
     "metadata": {},
     "output_type": "execute_result"
    }
   ],
   "source": [
    "a = var('a')\n",
    "A = matrix(SR, [[-2, 6, -3], [6, 3, 2], [-3, 2, a]])\n",
    "\n",
    "A1=A(a=-18);A1\n",
    "show(A1)\n",
    "\n",
    "eigenvalues = A1.eigenvalues()\n",
    "show(eigenvalues)\n",
    "\n",
    "eigenvectors = A1.eigenvectors_right()\n",
    "show(eigenvectors)\n",
    "eigenvector1,eigenvector2,eigenvector3=eigenvectors[0][1][0],eigenvectors[1][1][0],eigenvectors[2][1][0];\n",
    "show('eigenvectors = ',eigenvector1,eigenvector2,eigenvector3)\n",
    "\n",
    "\n",
    "#b \n",
    "normolized_eigenvector1=eigenvector1/norm(eigenvector1)  \n",
    "show('normolized_eigenvector1 = ',normolized_eigenvector1)\n",
    "\n",
    "normolized_eigenvector2=eigenvector2/norm(eigenvector2)  \n",
    "show('normolized_eigenvector2 = ',normolized_eigenvector2)\n",
    "\n",
    "normolized_eigenvector3=eigenvector3/norm(eigenvector3)  \n",
    "show('normolized_eigenvector1 = ',normolized_eigenvector3)\n",
    "\n",
    "#c\n",
    "x=vector(QQ,[1,1,1])\n",
    "P=column_matrix(SR,[normolized_eigenvector1,normolized_eigenvector2,normolized_eigenvector3])\n",
    "components_of_x = (transpose(P)*x).n(digits=3)\n",
    "show('components_of_x= ',components_of_x)\n",
    "\n",
    "#d\n",
    "A2=A(a=6);\n",
    "show(A2)\n",
    "\n",
    "eigenvaluesA2 = A2.eigenvalues()\n",
    "show(eigenvaluesA2)\n",
    "\n",
    "eigenvectorsA2 = A2.eigenvectors_right()\n",
    "show(eigenvectorsA2)\n",
    "\n",
    "eigenvectorA2_1,eigenvectorA2_2,eigenvectorA2_3=eigenvectorsA2[0][1][0],eigenvectorsA2[1][1][0],eigenvectorsA2[1][1][1];\n",
    "show('eigenvectorsA2 = ',eigenvectorA2_1,eigenvectorA2_2,eigenvectorA2_3)\n",
    "\n",
    "\n",
    "#e \n",
    "    #The algebraic multiplicities of the eigenvalues\n",
    "show('algebraic multiplicities of the eigenvalues A= ',eigenvectors[0][2], eigenvectors[1][2], eigenvectors[2][2])\n",
    "show('algebraic multiplicities of the eigenvalues A2= ',eigenvectorsA2[0][2], eigenvectorsA2[1][2])\n",
    "    \n",
    "#f\n",
    "show('dot-product a=-18 : ',\n",
    "     eigenvector1.dot_product(eigenvector2),\n",
    "     eigenvector1.dot_product(eigenvector3),\n",
    "     eigenvector2.dot_product(eigenvector3))\n",
    "\n",
    "show('dot-product a=6 : ',\n",
    "     eigenvectorA2_1.dot_product(eigenvectorA2_2),\n",
    "     eigenvectorA2_1.dot_product(eigenvectorA2_3),\n",
    "     eigenvectorA2_2.dot_product(eigenvectorA2_3))\n",
    "    #If any entry is non-zero, then the eigenvectors are not orthogonal\n",
    "    #If the eigenvectors are not orthogonal, we can find an orthonormal basis using the Gram-Schmidt process.\n",
    "    # for a=6 The eigenvectors are not orthonormal\n",
    "\n",
    "    #Gram-Schmidt process\n",
    "nb=matrix(QQ,[eigenvectorA2_1,eigenvectorA2_2,eigenvectorA2_3]);\n",
    "orthogonal_basis, norms = nb.gram_schmidt()\n",
    "orthogonal_basis, norms \n",
    "\n",
    "show(' orthogonal_basis = ',orthogonal_basis)\n",
    "\n",
    "\n",
    "    # Normalize the orthogonalized vectors to get an orthonormal basis\n",
    "orthonormal_basis1= orthogonal_basis[0].normalized()\n",
    "orthonormal_basis2= orthogonal_basis[1].normalized()\n",
    "orthonormal_basis3= orthogonal_basis[2].normalized()\n",
    "\n",
    "show(' orthonormal basis = ',orthonormal_basis1, orthonormal_basis2, orthonormal_basis3)\n",
    "\n",
    "#g\n",
    "P_orthonormal = matrix(SR, [orthonormal_basis1, orthonormal_basis2, orthonormal_basis3]).transpose()\n",
    "px = P_orthonormal * x\n",
    "show('px = ', px)\n",
    "px.n(digits=3)\n"
   ]
  },
  {
   "cell_type": "code",
   "execution_count": null,
   "id": "24ac19c2",
   "metadata": {},
   "outputs": [],
   "source": []
  },
  {
   "cell_type": "markdown",
   "id": "c5bdb9a3",
   "metadata": {},
   "source": [
    "$\\textbf{6. Matrix Decomposition - Problem 2 - 2024}$  \n",
    "\n",
    "Consider the 6 × 2 matrix A with elements  \n",
    "$a_{ij} = i^2 + 2ij$, i = 1...6, j = 1, 2  \n",
    "\n",
    "Using sagemath  \n",
    "(a) Compute A;  \n",
    "(b) Compute the SVD of A and print the left and right singular vector matrices and the singular value matrix using 3 significant digits;  \n",
    "(c) Compute the rank-1 approximation A1 of A and print using 3 significant digits;  \n",
    "(d) Compute the Frobenius norm of the difference A − A1;  \n",
    "(e) Compute the rank-2 approximation A2 of A and print using 3 significant digits. Compute the Frobenius norm of the difference A − A2. Comment on these results.  "
   ]
  },
  {
   "cell_type": "code",
   "execution_count": 19,
   "id": "c2cb0aae",
   "metadata": {},
   "outputs": [
    {
     "data": {
      "text/html": [
       "<html><script type=\"math/tex; mode=display\">\\newcommand{\\Bold}[1]{\\mathbf{#1}}\\left(\\begin{array}{rr}\n",
       "3 & 5 \\\\\n",
       "8 & 12 \\\\\n",
       "15 & 21 \\\\\n",
       "24 & 32 \\\\\n",
       "35 & 45 \\\\\n",
       "48 & 60\n",
       "\\end{array}\\right) \\left(\\begin{array}{rr}\n",
       "3 & 5 \\\\\n",
       "8 & 12 \\\\\n",
       "15 & 21 \\\\\n",
       "24 & 32 \\\\\n",
       "35 & 45 \\\\\n",
       "48 & 60\n",
       "\\end{array}\\right)</script></html>"
      ],
      "text/latex": [
       "$$\\newcommand{\\Bold}[1]{\\mathbf{#1}}\\left(\\begin{array}{rr}\n",
       "3 & 5 \\\\\n",
       "8 & 12 \\\\\n",
       "15 & 21 \\\\\n",
       "24 & 32 \\\\\n",
       "35 & 45 \\\\\n",
       "48 & 60\n",
       "\\end{array}\\right) \\left(\\begin{array}{rr}\n",
       "3 & 5 \\\\\n",
       "8 & 12 \\\\\n",
       "15 & 21 \\\\\n",
       "24 & 32 \\\\\n",
       "35 & 45 \\\\\n",
       "48 & 60\n",
       "\\end{array}\\right)$$"
      ],
      "text/plain": [
       "[ 3  5]\n",
       "[ 8 12]\n",
       "[15 21]\n",
       "[24 32]\n",
       "[35 45]\n",
       "[48 60] [ 3  5]\n",
       "[ 8 12]\n",
       "[15 21]\n",
       "[24 32]\n",
       "[35 45]\n",
       "[48 60]"
      ]
     },
     "metadata": {},
     "output_type": "display_data"
    },
    {
     "data": {
      "text/html": [
       "<html><script type=\"math/tex; mode=display\">\\newcommand{\\Bold}[1]{\\mathbf{#1}}\\left(\\begin{array}{rrrrrr}\n",
       "-0.054 & -0.34 & -0.293 & -0.398 & -0.506 & -0.618 \\\\\n",
       "-0.133 & -0.511 & -0.48 & -0.286 & 0.085 & 0.634 \\\\\n",
       "-0.239 & -0.514 & 0.802 & -0.159 & -0.066 & 0.08 \\\\\n",
       "-0.37 & -0.349 & -0.174 & 0.823 & -0.152 & -0.099 \\\\\n",
       "-0.528 & -0.015 & -0.104 & -0.177 & 0.731 & -0.381 \\\\\n",
       "-0.712 & 0.487 & 0.011 & -0.16 & -0.419 & 0.235\n",
       "\\end{array}\\right) \\left(\\begin{array}{rr}\n",
       "107.971 & 0.0 \\\\\n",
       "0.0 & 2.075 \\\\\n",
       "0.0 & 0.0 \\\\\n",
       "0.0 & 0.0 \\\\\n",
       "0.0 & 0.0 \\\\\n",
       "0.0 & 0.0\n",
       "\\end{array}\\right) \\left(\\begin{array}{rr}\n",
       "-0.614 & 0.789 \\\\\n",
       "-0.789 & -0.614\n",
       "\\end{array}\\right)</script></html>"
      ],
      "text/latex": [
       "$$\\newcommand{\\Bold}[1]{\\mathbf{#1}}\\left(\\begin{array}{rrrrrr}\n",
       "-0.054 & -0.34 & -0.293 & -0.398 & -0.506 & -0.618 \\\\\n",
       "-0.133 & -0.511 & -0.48 & -0.286 & 0.085 & 0.634 \\\\\n",
       "-0.239 & -0.514 & 0.802 & -0.159 & -0.066 & 0.08 \\\\\n",
       "-0.37 & -0.349 & -0.174 & 0.823 & -0.152 & -0.099 \\\\\n",
       "-0.528 & -0.015 & -0.104 & -0.177 & 0.731 & -0.381 \\\\\n",
       "-0.712 & 0.487 & 0.011 & -0.16 & -0.419 & 0.235\n",
       "\\end{array}\\right) \\left(\\begin{array}{rr}\n",
       "107.971 & 0.0 \\\\\n",
       "0.0 & 2.075 \\\\\n",
       "0.0 & 0.0 \\\\\n",
       "0.0 & 0.0 \\\\\n",
       "0.0 & 0.0 \\\\\n",
       "0.0 & 0.0\n",
       "\\end{array}\\right) \\left(\\begin{array}{rr}\n",
       "-0.614 & 0.789 \\\\\n",
       "-0.789 & -0.614\n",
       "\\end{array}\\right)$$"
      ],
      "text/plain": [
       "[-0.054  -0.34 -0.293 -0.398 -0.506 -0.618]\n",
       "[-0.133 -0.511  -0.48 -0.286  0.085  0.634]\n",
       "[-0.239 -0.514  0.802 -0.159 -0.066   0.08]\n",
       "[ -0.37 -0.349 -0.174  0.823 -0.152 -0.099]\n",
       "[-0.528 -0.015 -0.104 -0.177  0.731 -0.381]\n",
       "[-0.712  0.487  0.011  -0.16 -0.419  0.235] [107.971     0.0]\n",
       "[    0.0   2.075]\n",
       "[    0.0     0.0]\n",
       "[    0.0     0.0]\n",
       "[    0.0     0.0]\n",
       "[    0.0     0.0] [-0.614  0.789]\n",
       "[-0.789 -0.614]"
      ]
     },
     "metadata": {},
     "output_type": "display_data"
    },
    {
     "data": {
      "text/html": [
       "<html><script type=\"math/tex; mode=display\">\\newcommand{\\Bold}[1]{\\mathbf{#1}}\\left(\\begin{array}{rr}\n",
       "3.556 & 4.567 \\\\\n",
       "8.837 & 11.348 \\\\\n",
       "15.842 & 20.345 \\\\\n",
       "24.571 & 31.555 \\\\\n",
       "35.025 & 44.981 \\\\\n",
       "47.203 & 60.62\n",
       "\\end{array}\\right)</script></html>"
      ],
      "text/latex": [
       "$$\\newcommand{\\Bold}[1]{\\mathbf{#1}}\\left(\\begin{array}{rr}\n",
       "3.556 & 4.567 \\\\\n",
       "8.837 & 11.348 \\\\\n",
       "15.842 & 20.345 \\\\\n",
       "24.571 & 31.555 \\\\\n",
       "35.025 & 44.981 \\\\\n",
       "47.203 & 60.62\n",
       "\\end{array}\\right)$$"
      ],
      "text/plain": [
       "[ 3.556  4.567]\n",
       "[ 8.837 11.348]\n",
       "[15.842 20.345]\n",
       "[24.571 31.555]\n",
       "[35.025 44.981]\n",
       "[47.203  60.62]"
      ]
     },
     "metadata": {},
     "output_type": "display_data"
    },
    {
     "data": {
      "text/html": [
       "<html><script type=\"math/tex; mode=display\">\\newcommand{\\Bold}[1]{\\mathbf{#1}}2.0746347947807724</script></html>"
      ],
      "text/latex": [
       "$$\\newcommand{\\Bold}[1]{\\mathbf{#1}}2.0746347947807724$$"
      ],
      "text/plain": [
       "2.0746347947807724"
      ]
     },
     "metadata": {},
     "output_type": "display_data"
    },
    {
     "data": {
      "text/html": [
       "<html><script type=\"math/tex; mode=display\">\\newcommand{\\Bold}[1]{\\mathbf{#1}}\\left(\\begin{array}{rr}\n",
       "3.0 & 5.0 \\\\\n",
       "8.0 & 12.0 \\\\\n",
       "15.0 & 21.0 \\\\\n",
       "24.0 & 32.0 \\\\\n",
       "35.0 & 45.0 \\\\\n",
       "48.0 & 60.0\n",
       "\\end{array}\\right)</script></html>"
      ],
      "text/latex": [
       "$$\\newcommand{\\Bold}[1]{\\mathbf{#1}}\\left(\\begin{array}{rr}\n",
       "3.0 & 5.0 \\\\\n",
       "8.0 & 12.0 \\\\\n",
       "15.0 & 21.0 \\\\\n",
       "24.0 & 32.0 \\\\\n",
       "35.0 & 45.0 \\\\\n",
       "48.0 & 60.0\n",
       "\\end{array}\\right)$$"
      ],
      "text/plain": [
       "[ 3.0  5.0]\n",
       "[ 8.0 12.0]\n",
       "[15.0 21.0]\n",
       "[24.0 32.0]\n",
       "[35.0 45.0]\n",
       "[48.0 60.0]"
      ]
     },
     "metadata": {},
     "output_type": "display_data"
    },
    {
     "data": {
      "text/html": [
       "<html><script type=\"math/tex; mode=display\">\\newcommand{\\Bold}[1]{\\mathbf{#1}}1.6640017359743802 \\times 10^{-14}</script></html>"
      ],
      "text/latex": [
       "$$\\newcommand{\\Bold}[1]{\\mathbf{#1}}1.6640017359743802 \\times 10^{-14}$$"
      ],
      "text/plain": [
       "1.6640017359743802e-14"
      ]
     },
     "metadata": {},
     "output_type": "display_data"
    }
   ],
   "source": [
    "#a\n",
    "A=matrix(6,2,lambda i,j:(i+1)^2+2*(i+1)*(j+1))\n",
    "    #OR\n",
    "Aor = matrix([[i^2 + 2*i*j for j in [1, 2]] for i in [1..6]])\n",
    "show(A,Aor)\n",
    "\n",
    "\n",
    "\n",
    "#b\n",
    "AA=A.change_ring(RDF)\n",
    "U,S,V=AA.SVD()\n",
    "\n",
    "# Round matrices to 3 significant digits\n",
    "U_rounded = U.apply_map(lambda x: round(x, 3))\n",
    "S_rounded = S.apply_map(lambda x: round(x, 3))\n",
    "V_rounded = V.apply_map(lambda x: round(x, 3))\n",
    "\n",
    "show(U_rounded, S_rounded, V_rounded)\n",
    "\n",
    "#c\n",
    "A1=S[0,0]*(U.column(0)).outer_product(V.column(0))\n",
    "A1_rounded = A1.apply_map(lambda x: round(x, 3))\n",
    "show(A1_rounded)\n",
    "\n",
    "#d\n",
    "frobenius = (A-A1).norm('frob')\n",
    "show(frobenius)\n",
    "\n",
    "#e\n",
    "A2=S[0,0]*(U.column(0)).outer_product(V.column(0))+S[1,1]*(U.column(1)).outer_product(V.column(1))\n",
    "A2_rounded = A2.apply_map(lambda x: round(x, 3))\n",
    "show(A2_rounded)\n",
    "\n",
    "frobeniusA2 = (A-A2).norm('frob')\n",
    "show(frobeniusA2)\n"
   ]
  },
  {
   "cell_type": "code",
   "execution_count": null,
   "id": "22d7abc1",
   "metadata": {},
   "outputs": [],
   "source": []
  },
  {
   "cell_type": "markdown",
   "id": "a972bdbf",
   "metadata": {},
   "source": [
    "$\\textbf{7. Vector Calculation - Problem 1 - 2024}$  \n",
    "\n",
    "Consider the function  $𝑓(𝑥) = ln (1 + 𝑒^𝑥)$ utilised in machine learning. \n",
    "\n",
    "Using sagemath\n",
    "\n",
    "(i) Compute the Taylor approximation of 𝑓(𝑥) around 𝑥 = 0 including terms up to 10-th order in 𝑥 (use series function).  \n",
    "(ii) Plot the softplus function as well as the Taylor approximation of question (i) in a combined\n",
    "plot in the region −5 < 𝑥 < 5, −1 < 𝑦 < 4 (use different colors and styles for the two curves) and comment on the region of validity of the approximation.  \n",
    "(iii) Compute the derivative of 𝑓(𝑥) analytically  \n",
    "(iv) Compute the derivative of 𝑓(𝑥) approximately using the result of (i).  \n",
    "(v) Plot the results of (iii) and (iv) in a combined plot in the region −5 < 𝑥 < 5, −1 < 𝑦 < 1\n",
    "(use different colors and styles for the two curves)."
   ]
  },
  {
   "cell_type": "code",
   "execution_count": 20,
   "id": "f9e74f66",
   "metadata": {},
   "outputs": [
    {
     "data": {
      "text/html": [
       "<html><script type=\"math/tex; mode=display\">\\newcommand{\\Bold}[1]{\\mathbf{#1}}\\frac{31}{14515200} \\, x^{10} - \\frac{17}{645120} \\, x^{8} + \\frac{1}{2880} \\, x^{6} - \\frac{1}{192} \\, x^{4} + \\frac{1}{8} \\, x^{2} + \\frac{1}{2} \\, x + \\log\\left(2\\right)</script></html>"
      ],
      "text/latex": [
       "$$\\newcommand{\\Bold}[1]{\\mathbf{#1}}\\frac{31}{14515200} \\, x^{10} - \\frac{17}{645120} \\, x^{8} + \\frac{1}{2880} \\, x^{6} - \\frac{1}{192} \\, x^{4} + \\frac{1}{8} \\, x^{2} + \\frac{1}{2} \\, x + \\log\\left(2\\right)$$"
      ],
      "text/plain": [
       "31/14515200*x^10 - 17/645120*x^8 + 1/2880*x^6 - 1/192*x^4 + 1/8*x^2 + 1/2*x + log(2)"
      ]
     },
     "metadata": {},
     "output_type": "display_data"
    },
    {
     "data": {
      "text/html": [
       "<html><script type=\"math/tex; mode=display\">\\newcommand{\\Bold}[1]{\\mathbf{#1}}x \\ {\\mapsto}\\ \\frac{e^{x}}{e^{x} + 1}</script></html>"
      ],
      "text/latex": [
       "$$\\newcommand{\\Bold}[1]{\\mathbf{#1}}x \\ {\\mapsto}\\ \\frac{e^{x}}{e^{x} + 1}$$"
      ],
      "text/plain": [
       "x |--> e^x/(e^x + 1)"
      ]
     },
     "metadata": {},
     "output_type": "display_data"
    },
    {
     "data": {
      "text/html": [
       "<html><script type=\"math/tex; mode=display\">\\newcommand{\\Bold}[1]{\\mathbf{#1}}\\frac{31}{1451520} \\, x^{9} - \\frac{17}{80640} \\, x^{7} + \\frac{1}{480} \\, x^{5} - \\frac{1}{48} \\, x^{3} + \\frac{1}{4} \\, x + \\frac{1}{2}</script></html>"
      ],
      "text/latex": [
       "$$\\newcommand{\\Bold}[1]{\\mathbf{#1}}\\frac{31}{1451520} \\, x^{9} - \\frac{17}{80640} \\, x^{7} + \\frac{1}{480} \\, x^{5} - \\frac{1}{48} \\, x^{3} + \\frac{1}{4} \\, x + \\frac{1}{2}$$"
      ],
      "text/plain": [
       "31/1451520*x^9 - 17/80640*x^7 + 1/480*x^5 - 1/48*x^3 + 1/4*x + 1/2"
      ]
     },
     "metadata": {},
     "output_type": "display_data"
    }
   ],
   "source": [
    "# a\n",
    "f(x) = log(1 + e^x)\n",
    "taylor_expansion = f(x).series(x==0, 11)\n",
    "taylor_approx = taylor_expansion.truncate()\n",
    "show(taylor_approx.truncate())\n",
    "\n",
    "# b\n",
    "g=plot(f(x),(x,-5,5),color='blue') + plot(taylor_approx.truncate(),(x,-5,5),color='green',ymin=-1,ymax=4,linestyle='--')\n",
    "g\n",
    "\n",
    "# c\n",
    "df = diff(f, x)\n",
    "show(df)\n",
    "\n",
    "#d \n",
    "taylor_derivative = diff(taylor_approx, x)\n",
    "show(taylor_derivative)\n",
    "\n",
    "#e\n",
    "x_range = (-5, 5)\n",
    "plot_df = plot(df, x_range, ymin=-1, ymax=1, color='blue', linestyle='-')\n",
    "plot_taylor_derivative = plot(taylor_derivative, x_range, ymin=-1, ymax=1, color='red', linestyle='--')\n",
    "combined_plot = plot_df + plot_taylor_derivative\n",
    "#combined_plot"
   ]
  },
  {
   "cell_type": "code",
   "execution_count": null,
   "id": "9430f0a3",
   "metadata": {},
   "outputs": [],
   "source": []
  },
  {
   "cell_type": "markdown",
   "id": "1dcc9897",
   "metadata": {},
   "source": [
    "$\\textbf{8. Probability - Problem 1 - 2024}$  \n",
    "\n",
    "Solve the following problem using sagemath:\n",
    "\n",
    "A manufacturer says the Z-Phone smart phone has a mean consumer life of 42 months with a standard deviation of 8 months. Assuming a normal distribution, what is the probability a given random Z-Phone will last between 20 and 30 months"
   ]
  },
  {
   "cell_type": "code",
   "execution_count": 21,
   "id": "50a718d6",
   "metadata": {},
   "outputs": [
    {
     "data": {
      "text/plain": [
       "0.06382743803380352"
      ]
     },
     "execution_count": 21,
     "metadata": {},
     "output_type": "execute_result"
    }
   ],
   "source": [
    "G=RealDistribution('gaussian',1)\n",
    "mu=42;sigma=8;\n",
    "z1=(20-mu)/sigma;\n",
    "z2=(30-mu)/sigma;\n",
    "G.cum_distribution_function(z2)-G.cum_distribution_function(z1)"
   ]
  },
  {
   "cell_type": "code",
   "execution_count": null,
   "id": "09dfdf53",
   "metadata": {},
   "outputs": [],
   "source": []
  },
  {
   "cell_type": "markdown",
   "id": "f75b2b63",
   "metadata": {},
   "source": [
    "$\\textbf{9. Probability - Problem 2 - 2024}$    \n",
    "\n",
    "A casino proposes a lottery game, in which three numbers, are randomly drawn from the range 1, 2, … , 25 each with an equal chance of being selected. If you bet $\\$1$ ,  you win  $\\$10000$ for guessing the three numbers in the correct order, $\\$1000$  for guessing the three numbers but not in the correct order, and $\\$2$ if the sum of your guessed numbers matches the sum of the numbers drawn. You have decided to bet $\\$1$ on your lucky triplet of numbers [1, 2, 3]. \n",
    "\n",
    "Use a sagemath simulation to calculate your expected profit/loss including necessarily the following steps\n",
    "\n",
    "(a) Create a sample of 𝑛 = 106 triplets utilizing the function ZZ.random_element(1,26) and store them to a list named w (Attention, do not print them).\n",
    "\n",
    "(b) Create the associated list of sums ws using $ws=list(map(sum,w))$ (Attention, do not print them).\n",
    "\n",
    "(c) Compute the number of triplets in the list $w$ matching [1,2,3] using $w.count([1,2,3])$ and estimate the probability that you guessed the three numbers in the correct order.\n",
    "\n",
    "(d) Following step (c) compute the number of triplets in w matching [1,3,2],[2,1,3],[2,3,1],[3,1,2],[3,2,1] and estimate the probability that you guessed the three numbers not in the correct order.\n",
    "\n",
    "(e) Calculate the number of triplets in the list ws matching the sum 1+2+3 and estimate the probability of correctly guessing the sum without correctly  guessing the three numbers.\n",
    "\n",
    "(f) Using the results of steps (c),(d),(e) compute the expected profit/loss and comment on the result."
   ]
  },
  {
   "cell_type": "code",
   "execution_count": 22,
   "id": "ae0ce464",
   "metadata": {},
   "outputs": [
    {
     "data": {
      "text/html": [
       "<html><script type=\"math/tex; mode=display\">\\newcommand{\\Bold}[1]{\\mathbf{#1}}\\frac{37}{500000}</script></html>"
      ],
      "text/latex": [
       "$$\\newcommand{\\Bold}[1]{\\mathbf{#1}}\\frac{37}{500000}$$"
      ],
      "text/plain": [
       "37/500000"
      ]
     },
     "metadata": {},
     "output_type": "display_data"
    },
    {
     "data": {
      "text/html": [
       "<html><script type=\"math/tex; mode=display\">\\newcommand{\\Bold}[1]{\\mathbf{#1}}\\frac{147}{500000}</script></html>"
      ],
      "text/latex": [
       "$$\\newcommand{\\Bold}[1]{\\mathbf{#1}}\\frac{147}{500000}$$"
      ],
      "text/plain": [
       "147/500000"
      ]
     },
     "metadata": {},
     "output_type": "display_data"
    },
    {
     "data": {
      "text/html": [
       "<html><script type=\"math/tex; mode=display\">\\newcommand{\\Bold}[1]{\\mathbf{#1}}\\frac{11}{40000}</script></html>"
      ],
      "text/latex": [
       "$$\\newcommand{\\Bold}[1]{\\mathbf{#1}}\\frac{11}{40000}$$"
      ],
      "text/plain": [
       "11/40000"
      ]
     },
     "metadata": {},
     "output_type": "display_data"
    },
    {
     "data": {
      "text/plain": [
       "691/20000"
      ]
     },
     "execution_count": 22,
     "metadata": {},
     "output_type": "execute_result"
    }
   ],
   "source": [
    "#a \n",
    "nn=10^6\n",
    "a,b,c=1,2,3\n",
    "w=[[ZZ.random_element(1,26),ZZ.random_element(1,26),ZZ.random_element(1,26)] for i in range(nn)]\n",
    "\n",
    "\n",
    "#b\n",
    "ws=list(map(sum,w))\n",
    "\n",
    "#c\n",
    "p1=w.count([a,b,c])/nn\n",
    "show(p1)\n",
    "\n",
    "#d\n",
    "p2=(w.count([a,c,b])+w.count([b,a,c])+w.count([b,c,a])+w.count([c,a,b])+w.count([c,b,a]))/nn\n",
    "show(p2)\n",
    "\n",
    "#e\n",
    "p3=ws.count(a+b+c)/nn-p1-p2\n",
    "show(p3)\n",
    "\n",
    "#f The expected profit/loss\n",
    "10000*p1+1000*p2+2*p3-1"
   ]
  },
  {
   "cell_type": "code",
   "execution_count": null,
   "id": "3d8029f4",
   "metadata": {},
   "outputs": [],
   "source": []
  },
  {
   "cell_type": "markdown",
   "id": "cecb9810",
   "metadata": {},
   "source": [
    "$\\textbf{10. Continuous Optimization - Problem 1 - 2024}$ \n",
    "\n",
    "A pension fund of $42 million is available for investment across treasury notes, bonds, and stocks. Administration guidelines mandate a minimum investment of $3 million in each category, with at least half of the total funds allocated to treasury notes and bonds. Additionally, the investment in bonds must not exceed twice the investment in treasury notes. The annual yields are 7% for treasury notes, 9% for bonds, and 10% for stocks. Find how the allocation of funds should be optimized to maximize returns using the following steps:  \n",
    "\n",
    "(a) Formulate this problem as a linear programming problem and write the resulting equations (in a sagemath markdown cell).\n",
    "\n",
    "(b) Solve the problem using the appropriate class of sagemath functions."
   ]
  },
  {
   "cell_type": "code",
   "execution_count": 23,
   "id": "fc9766b5",
   "metadata": {},
   "outputs": [
    {
     "data": {
      "text/plain": [
       "{1: 7.0, 2: 14.0, 3: 21.0}"
      ]
     },
     "execution_count": 23,
     "metadata": {},
     "output_type": "execute_result"
    }
   ],
   "source": [
    "# Create a new linear program\n",
    "p = MixedIntegerLinearProgram(maximization=True)\n",
    "# Define the variables\n",
    "x = p.new_variable(nonnegative=True)\n",
    "\n",
    "# Objective function: Maximize 0.07*x_1 + 0.09*x_2 + 0.10*x_3\n",
    "p.set_objective(0.07*x[1] + 0.09*x[2] + 0.10*x[3])\n",
    "\n",
    "# Constraints\n",
    "p.add_constraint(x[1] + x[2] + x[3], min=42, max=42)\n",
    "p.add_constraint(x[1], min=3)\n",
    "p.add_constraint(x[2], min=3)\n",
    "p.add_constraint(x[3], min=3)\n",
    "p.add_constraint(x[1] + x[2], min=21)\n",
    "p.add_constraint(x[2] <= 2*x[1])\n",
    "\n",
    "# Solve the problem\n",
    "p.solve()\n",
    "\n",
    "# Get the solution\n",
    "solution = p.get_values(x)\n",
    "solution\n"
   ]
  },
  {
   "cell_type": "code",
   "execution_count": null,
   "id": "b9c1c0a0",
   "metadata": {},
   "outputs": [],
   "source": []
  },
  {
   "cell_type": "markdown",
   "id": "016a7637",
   "metadata": {},
   "source": [
    "$\\textbf{11. Continuous Optimization - Problem 2 - 2024}$ \n",
    "\n",
    "Given the function $f(x1.x2) = e^{x1}(4x1^{2} + 2x2^2 + 4x1x2 +2x2 +1)$ and working with sagemath:  \n",
    "\n",
    "(a) Find analytically and classify (e.g. minimum,maximum,saddle point) the stationary points (at finite 𝑥1, 𝑥2).  \n",
    "\n",
    "(b) Plot the above function using a contour plot (with appropriate parameter bounds) and depict the position of the stationary points. Use axes labels, contour labels and an appropriate number of contours.  \n",
    "\n",
    "(c) Working numerically, find the global minimum (at finite 𝑥1, 𝑥2) starting from the point 𝑥0 = (−1, 2) and utilizing two different algorithms (one using the derivatives and one not using them). Comment on the results compared to the results of (a)."
   ]
  },
  {
   "cell_type": "code",
   "execution_count": 24,
   "id": "b7280be1",
   "metadata": {},
   "outputs": [
    {
     "data": {
      "text/plain": [
       "[[x1 == (1/2), x2 == -1], [x1 == (-3/2), x2 == 1]]"
      ]
     },
     "execution_count": 24,
     "metadata": {},
     "output_type": "execute_result"
    }
   ],
   "source": [
    "#a\n",
    "var('x1 x2')\n",
    "f = exp(x1) * (4*x1^2 + 2*x2^2 + 4*x1*x2 + 2*x2 + 1)\n",
    "\n",
    "f_x1 = f.diff(x1)\n",
    "f_x2 = f.diff(x2)\n",
    "\n",
    "stapoi = solve([f_x1 == 0, f_x2 == 0], x1, x2)\n",
    "stapoi\n",
    "\n",
    "\n"
   ]
  },
  {
   "cell_type": "code",
   "execution_count": 25,
   "id": "55c0a453",
   "metadata": {},
   "outputs": [
    {
     "data": {
      "text/html": [
       "<html><script type=\"math/tex; mode=display\">\\newcommand{\\Bold}[1]{\\mathbf{#1}}\\left(\\begin{array}{rr}\n",
       "{\\left(4 \\, x_{1}^{2} + 4 \\, x_{1} x_{2} + 2 \\, x_{2}^{2} + 2 \\, x_{2} + 1\\right)} e^{x_{1}} + 8 \\, {\\left(2 \\, x_{1} + x_{2}\\right)} e^{x_{1}} + 8 \\, e^{x_{1}} & 2 \\, {\\left(2 \\, x_{1} + 2 \\, x_{2} + 1\\right)} e^{x_{1}} + 4 \\, e^{x_{1}} \\\\\n",
       "2 \\, {\\left(2 \\, x_{1} + 2 \\, x_{2} + 1\\right)} e^{x_{1}} + 4 \\, e^{x_{1}} & 4 \\, e^{x_{1}}\n",
       "\\end{array}\\right)</script></html>"
      ],
      "text/latex": [
       "$$\\newcommand{\\Bold}[1]{\\mathbf{#1}}\\left(\\begin{array}{rr}\n",
       "{\\left(4 \\, x_{1}^{2} + 4 \\, x_{1} x_{2} + 2 \\, x_{2}^{2} + 2 \\, x_{2} + 1\\right)} e^{x_{1}} + 8 \\, {\\left(2 \\, x_{1} + x_{2}\\right)} e^{x_{1}} + 8 \\, e^{x_{1}} & 2 \\, {\\left(2 \\, x_{1} + 2 \\, x_{2} + 1\\right)} e^{x_{1}} + 4 \\, e^{x_{1}} \\\\\n",
       "2 \\, {\\left(2 \\, x_{1} + 2 \\, x_{2} + 1\\right)} e^{x_{1}} + 4 \\, e^{x_{1}} & 4 \\, e^{x_{1}}\n",
       "\\end{array}\\right)$$"
      ],
      "text/plain": [
       "[(4*x1^2 + 4*x1*x2 + 2*x2^2 + 2*x2 + 1)*e^x1 + 8*(2*x1 + x2)*e^x1 + 8*e^x1                                         2*(2*x1 + 2*x2 + 1)*e^x1 + 4*e^x1]\n",
       "[                                        2*(2*x1 + 2*x2 + 1)*e^x1 + 4*e^x1                                                                    4*e^x1]"
      ]
     },
     "metadata": {},
     "output_type": "display_data"
    },
    {
     "data": {
      "text/html": [
       "<html><script type=\"math/tex; mode=display\">\\newcommand{\\Bold}[1]{\\mathbf{#1}}2.51902194973013 \\verb|,| 17.2656332986714</script></html>"
      ],
      "text/latex": [
       "$$\\newcommand{\\Bold}[1]{\\mathbf{#1}}2.51902194973013 \\verb|,| 17.2656332986714$$"
      ],
      "text/plain": [
       "2.51902194973013 ', ' 17.2656332986714"
      ]
     },
     "metadata": {},
     "output_type": "display_data"
    },
    {
     "data": {
      "text/html": [
       "<html><script type=\"math/tex; mode=display\">\\newcommand{\\Bold}[1]{\\mathbf{#1}}-0.551608091547748 \\verb|,| 1.44412873214147</script></html>"
      ],
      "text/latex": [
       "$$\\newcommand{\\Bold}[1]{\\mathbf{#1}}-0.551608091547748 \\verb|,| 1.44412873214147$$"
      ],
      "text/plain": [
       "-0.551608091547748 ', ' 1.44412873214147"
      ]
     },
     "metadata": {},
     "output_type": "display_data"
    },
    {
     "data": {
      "text/plain": [
       "[([x1 == (1/2), x2 == -1], 'Local minimum'),\n",
       " ([x1 == (-3/2), x2 == 1], 'Saddle point')]"
      ]
     },
     "execution_count": 25,
     "metadata": {},
     "output_type": "execute_result"
    }
   ],
   "source": [
    "# Compute the second partial derivatives\n",
    "f_x1x1 = f_x1.diff(x1)\n",
    "f_x1x2 = f_x1.diff(x2)\n",
    "f_x2x2 = f_x2.diff(x2)\n",
    "\n",
    "# Define the Hessian matrix\n",
    "H = matrix([[f_x1x1, f_x1x2], [f_x1x2, f_x2x2]])\n",
    "show(H)\n",
    "\n",
    "ee1=(H.subs(stapoi[0])).eigenvalues()\n",
    "ee2=(H.subs(stapoi[1])).eigenvalues()\n",
    "\n",
    "show( ee1[0].n(),  \", \" ,  ee1[1].n())\n",
    "show( ee2[0].n(),  \", \" ,  ee2[1].n())\n",
    "\n",
    "# Evaluate the Hessian matrix at each stationary point and classify the points\n",
    "classification = []\n",
    "for sol in stapoi:\n",
    "    H_eval = H.subs(sol)\n",
    "    eigenvalues = H_eval.eigenvalues()\n",
    "    if all(e > 0 for e in eigenvalues):\n",
    "        classification.append((sol, 'Local minimum'))\n",
    "    elif all(e < 0 for e in eigenvalues):\n",
    "        classification.append((sol, 'Local maximum'))\n",
    "    else:\n",
    "        classification.append((sol, 'Saddle point'))\n",
    "\n",
    "classification\n"
   ]
  },
  {
   "cell_type": "code",
   "execution_count": 26,
   "id": "2e0a02cf",
   "metadata": {},
   "outputs": [],
   "source": [
    "minx=(stapoi[0][0].rhs(),stapoi[0][1].rhs())\n",
    "sadx=(stapoi[1][0].rhs(),stapoi[1][1].rhs())\n",
    "\n",
    "#contour_plot(f(x1,x2),(x1,-3,3),(x2,-3,3),fill=False,labels=True,axes_labels=('$x_1$','$x_2$'),contours=[.5,1,1.5,1.7,1.8,2,3,4,5,10,20,50,100,200,300,500],plot_points=100)+point(minx,pointsize=80,color=\"red\",zorder=1)+point(sadx,pointsize=80,color=\"green\",zorder=1)"
   ]
  },
  {
   "cell_type": "code",
   "execution_count": 27,
   "id": "0492ca20",
   "metadata": {},
   "outputs": [
    {
     "name": "stdout",
     "output_type": "stream",
     "text": [
      "Optimization terminated successfully.\n",
      "         Current function value: 0.000000\n",
      "         Iterations: 60\n",
      "         Function evaluations: 112\n"
     ]
    },
    {
     "data": {
      "text/html": [
       "<html><script type=\"math/tex; mode=display\">\\newcommand{\\Bold}[1]{\\mathbf{#1}}\\left(0.49999911066660385,\\,-0.9999631034560157\\right)</script></html>"
      ],
      "text/latex": [
       "$$\\newcommand{\\Bold}[1]{\\mathbf{#1}}\\left(0.49999911066660385,\\,-0.9999631034560157\\right)$$"
      ],
      "text/plain": [
       "(0.49999911066660385, -0.9999631034560157)"
      ]
     },
     "metadata": {},
     "output_type": "display_data"
    },
    {
     "name": "stdout",
     "output_type": "stream",
     "text": [
      "Optimization terminated successfully.\n",
      "         Current function value: 0.000008\n",
      "         Iterations: 15\n",
      "         Function evaluations: 16\n",
      "         Gradient evaluations: 16\n",
      "         Hessian evaluations: 15\n"
     ]
    },
    {
     "data": {
      "text/html": [
       "<html><script type=\"math/tex; mode=display\">\\newcommand{\\Bold}[1]{\\mathbf{#1}}\\left(-18.799088747822758,\\,4.2175637488406394\\right)</script></html>"
      ],
      "text/latex": [
       "$$\\newcommand{\\Bold}[1]{\\mathbf{#1}}\\left(-18.799088747822758,\\,4.2175637488406394\\right)$$"
      ],
      "text/plain": [
       "(-18.799088747822758, 4.2175637488406394)"
      ]
     },
     "metadata": {},
     "output_type": "display_data"
    }
   ],
   "source": [
    "#c\n",
    "show(minimize(f,(-1,2),algorithm='simplex',verbose=True))\n",
    "show(minimize(f,(-1,2),algorithm='ncg',verbose=True))\n"
   ]
  },
  {
   "cell_type": "code",
   "execution_count": null,
   "id": "7857fb64",
   "metadata": {},
   "outputs": [],
   "source": []
  },
  {
   "cell_type": "markdown",
   "id": "32cd09fe",
   "metadata": {},
   "source": [
    "$\\textbf{1. Consider the matrix}$\n",
    "\n",
    "$A=\\begin{bmatrix} 1 & 2 & 1 & 2 \\\\ 2 & k & 0 & 1 \\\\ 0 & 1 & 0 & 1   \\end{bmatrix}$\n",
    "\n",
    "where k = 1+(4 mod 3). \n",
    "\n",
    "Using Sagemath:  \n",
    "(a) Calculate numerically the SVD of A.  \n",
    "(b) Calculate the rank-1 approximation of A  \n",
    "(c) Derive the matrix $AA^T$ in the symbolic ring and find its exact eigenvectors and eigenvalues\n"
   ]
  },
  {
   "cell_type": "code",
   "execution_count": 31,
   "id": "70c24c43",
   "metadata": {},
   "outputs": [
    {
     "data": {
      "text/html": [
       "<html><script type=\"math/tex; mode=display\">\\newcommand{\\Bold}[1]{\\mathbf{#1}}\\left(\\begin{array}{rrrr}\n",
       "1 & 2 & 1 & 2 \\\\\n",
       "2 & 2 & 0 & 1 \\\\\n",
       "0 & 1 & 0 & 1\n",
       "\\end{array}\\right)</script></html>"
      ],
      "text/latex": [
       "$$\\newcommand{\\Bold}[1]{\\mathbf{#1}}\\left(\\begin{array}{rrrr}\n",
       "1 & 2 & 1 & 2 \\\\\n",
       "2 & 2 & 0 & 1 \\\\\n",
       "0 & 1 & 0 & 1\n",
       "\\end{array}\\right)$$"
      ],
      "text/plain": [
       "[1 2 1 2]\n",
       "[2 2 0 1]\n",
       "[0 1 0 1]"
      ]
     },
     "metadata": {},
     "output_type": "display_data"
    },
    {
     "data": {
      "text/html": [
       "<html><script type=\"math/tex; mode=display\">\\newcommand{\\Bold}[1]{\\mathbf{#1}}\\left(\\begin{array}{rrr}\n",
       "0.705 & 0.534 & -0.466 \\\\\n",
       "0.651 & -0.749 & 0.126 \\\\\n",
       "0.281 & 0.392 & 0.876\n",
       "\\end{array}\\right) \\left(\\begin{array}{rrrr}\n",
       "4.356 & 0.0 & 0.0 & 0.0 \\\\\n",
       "0.0 & 1.312 & 0.0 & 0.0 \\\\\n",
       "0.0 & 0.0 & 0.553 & 0.0\n",
       "\\end{array}\\right) \\left(\\begin{array}{rrrr}\n",
       "0.461 & -0.734 & -0.386 & 0.316 \\\\\n",
       "0.687 & -0.028 & 0.356 & -0.632 \\\\\n",
       "0.162 & 0.407 & -0.841 & -0.316 \\\\\n",
       "0.538 & 0.542 & 0.128 & 0.632\n",
       "\\end{array}\\right)</script></html>"
      ],
      "text/latex": [
       "$$\\newcommand{\\Bold}[1]{\\mathbf{#1}}\\left(\\begin{array}{rrr}\n",
       "0.705 & 0.534 & -0.466 \\\\\n",
       "0.651 & -0.749 & 0.126 \\\\\n",
       "0.281 & 0.392 & 0.876\n",
       "\\end{array}\\right) \\left(\\begin{array}{rrrr}\n",
       "4.356 & 0.0 & 0.0 & 0.0 \\\\\n",
       "0.0 & 1.312 & 0.0 & 0.0 \\\\\n",
       "0.0 & 0.0 & 0.553 & 0.0\n",
       "\\end{array}\\right) \\left(\\begin{array}{rrrr}\n",
       "0.461 & -0.734 & -0.386 & 0.316 \\\\\n",
       "0.687 & -0.028 & 0.356 & -0.632 \\\\\n",
       "0.162 & 0.407 & -0.841 & -0.316 \\\\\n",
       "0.538 & 0.542 & 0.128 & 0.632\n",
       "\\end{array}\\right)$$"
      ],
      "text/plain": [
       "[ 0.705  0.534 -0.466]\n",
       "[ 0.651 -0.749  0.126]\n",
       "[ 0.281  0.392  0.876] [4.356   0.0   0.0   0.0]\n",
       "[  0.0 1.312   0.0   0.0]\n",
       "[  0.0   0.0 0.553   0.0] [ 0.461 -0.734 -0.386  0.316]\n",
       "[ 0.687 -0.028  0.356 -0.632]\n",
       "[ 0.162  0.407 -0.841 -0.316]\n",
       "[ 0.538  0.542  0.128  0.632]"
      ]
     },
     "metadata": {},
     "output_type": "display_data"
    }
   ],
   "source": [
    "# Define the matrix A\n",
    "A = matrix(QQ,[[1, 2, 1, 2], [2, 2, 0, 1], [0, 1, 0, 1]])\n",
    "show(A)\n",
    "\n",
    "A_real = A.change_ring(RDF)\n",
    "\n",
    "# Compute the SVD of A\n",
    "U, S, V = A_real.SVD()\n",
    "\n",
    "# Round matrices to 3 significant digits\n",
    "U_rounded = U.apply_map(lambda x: round(x, 3))\n",
    "S_rounded = S.apply_map(lambda x: round(x, 3))\n",
    "V_rounded = V.apply_map(lambda x: round(x, 3))\n",
    "\n",
    "show(U_rounded, S_rounded, V_rounded)\n",
    "# Display the results\n",
    "# print(\"U=\", n(U,digits=3))\n",
    "\n",
    "# print(\"S=\",n(S,digits=3))\n",
    "\n",
    "# print(\"V=\",n(V,digits=3))\n"
   ]
  },
  {
   "cell_type": "code",
   "execution_count": null,
   "id": "1b5f1b21",
   "metadata": {},
   "outputs": [],
   "source": [
    "#b\n",
    "u1= U.column(0)\n",
    "v1= V.column(0)\n",
    "\n",
    "# Extract the largest singular value\n",
    "s1=S[0,0]\n",
    "\n",
    "# Rank-1 approximation of A\n",
    "A1= s1*(u1.outer_product(v1))\n",
    "print(\"A1=\",n(A1,digits=3))"
   ]
  },
  {
   "cell_type": "code",
   "execution_count": null,
   "id": "1fb62f6e",
   "metadata": {},
   "outputs": [],
   "source": [
    "#c\n",
    "AA_T = A * A.transpose();\n",
    "eigenvalues = AA_T.eigenvalues();\n",
    "eigenvalues"
   ]
  },
  {
   "cell_type": "code",
   "execution_count": null,
   "id": "0fa241a9",
   "metadata": {},
   "outputs": [],
   "source": []
  },
  {
   "cell_type": "markdown",
   "id": "1cc8e3a3",
   "metadata": {},
   "source": [
    "$\\textbf{2. Consider the function}$  \n",
    "\n",
    "$f(x, y) = 100 ∗ (y − x^2)^2 + (2 − x − y)^2$ , where (x, y) ∈ R2. Using Sagemath and working analytically\n",
    "\n",
    "\n",
    "(a) find the stationary points;  \n",
    "(b) calculate the function value at each stationary point;   \n",
    "(c) classify the stationary points according to their type (minima, maxima, saddle points);  \n",
    "(d) plot the function using a contour plot with appropriate bounds and depict the stationary points on\n",
    "this plot (in different colours depending on their type)"
   ]
  },
  {
   "cell_type": "code",
   "execution_count": null,
   "id": "931ca2f0",
   "metadata": {},
   "outputs": [],
   "source": [
    "# Define the variables\n",
    "x, y = var('x y')\n",
    "\n",
    "# Define the function\n",
    "f(x, y) = 100 * (y - x^2)^2 + (2 - x - y)^2\n",
    "\n",
    "f_x = f(x, y).diff(x)\n",
    "f_y = f(x, y).diff(y)\n",
    "\n",
    "stapoi = solve([f_x == 0, f_y == 0], x, y)\n",
    "stapoi\n",
    "\n"
   ]
  },
  {
   "cell_type": "code",
   "execution_count": null,
   "id": "15fdafad",
   "metadata": {},
   "outputs": [],
   "source": [
    "f(x,y).subs(stapoi[0]),f(x,y).subs(stapoi[1]),f(x,y).subs(stapoi[2])"
   ]
  },
  {
   "cell_type": "code",
   "execution_count": null,
   "id": "dfea0526",
   "metadata": {},
   "outputs": [],
   "source": [
    "H = f(x, y).hessian()\n",
    "show(H)\n",
    "\n",
    "sH=[H.substitute(s).eigenvalues() for s in stapoi];\n",
    "\n",
    "ee1=(H.subs(stapoi[0])).eigenvalues()\n",
    "ee2=(H.subs(stapoi[1])).eigenvalues()\n",
    "ee3=(H.subs(stapoi[2])).eigenvalues()\n",
    "\n",
    "show( ee1[0].n(),  \", \" ,  ee1[1].n())\n",
    "show( ee2[0].n(),  \", \" ,  ee2[1].n())\n",
    "show( ee3[0].n(),  \", \" ,  ee3[1].n())\n",
    "\n",
    "# ee1, ee2 = min (all positive)\n",
    "# ee3 = saddle point\n"
   ]
  },
  {
   "cell_type": "code",
   "execution_count": null,
   "id": "8d16848b",
   "metadata": {},
   "outputs": [],
   "source": [
    "#d\n",
    "p1=[x.subs(stapoi[0]),y.subs(stapoi[1])]\n",
    "p2=[x.subs(stapoi[1]),y.subs(stapoi[1])]\n",
    "p3=[x.subs(stapoi[2]),y.subs(stapoi[2])]"
   ]
  },
  {
   "cell_type": "code",
   "execution_count": null,
   "id": "e5f8ec8f",
   "metadata": {},
   "outputs": [],
   "source": [
    "contour_plot(f(x,y),(x,-5,5),(y,-1,5),fill=False,labels=True,axes_labels=('$x$','$y$'),contours=[1,5,10,20,50,100,200,300],plot_points=300)"
   ]
  },
  {
   "cell_type": "code",
   "execution_count": null,
   "id": "7b64a71a",
   "metadata": {},
   "outputs": [],
   "source": []
  },
  {
   "cell_type": "markdown",
   "id": "5cfa4191",
   "metadata": {},
   "source": [
    "$\\textbf{3. Consider the following two sets of vectors}$  \n",
    "\n",
    "(i) $b1 = (1, 2, 2)^T$ , $b2 = (−1, 2, 1)^T$ , $b3 = (0, 8, 0)^T$  \n",
    "(ii) $b1 = (1, 2, 2)^T$ , $b2 = (−1, 2, 1)^T$ , $b3 = (0, 8, 6)^T$  \n",
    "\n",
    "Using Sagemath  \n",
    "(a) find which of these sets is/are basis/es in R3. Comment on the result.  \n",
    "(b) construct the corresponding orthonormal basis e1, e2, e3;  \n",
    "(c) verify that the vectors e1, e2, e3 are indeed orthonormal  \n",
    "(d) write the vector ⃗k = (1, 2, 3) in the basis e1, e2, e3;  "
   ]
  },
  {
   "cell_type": "code",
   "execution_count": null,
   "id": "211f3374",
   "metadata": {},
   "outputs": [],
   "source": [
    "# Define the vectors\n",
    "b1_1 = vector([1, 2, 2])\n",
    "b2_1 = vector([-1, 2, 1])\n",
    "b3_1 = vector([0, 8, 0])\n",
    "\n",
    "b1_2 = vector([1, 2, 2])\n",
    "b2_2 = vector([-1, 2, 1])\n",
    "b3_2 = vector([0, 8, 6])\n",
    "\n",
    "# Construct the matrices with these vectors as columns\n",
    "M1 = matrix([b1_1, b2_1, b3_1]).transpose()\n",
    "M2 = matrix([b1_2, b2_2, b3_2]).transpose()\n",
    "\n",
    "\n",
    "show(M1)\n",
    "show(M2)\n",
    "\n",
    "det(M1), det(M2)\n",
    "#if 0 the value then linearly dependent NO BASIS of R3"
   ]
  },
  {
   "cell_type": "code",
   "execution_count": null,
   "id": "47c75ff0",
   "metadata": {},
   "outputs": [],
   "source": [
    "# Apply Gram-Schmidt process to obtain an orthonormal basis\n",
    "orth_basis, norms = M1.gram_schmidt()\n",
    "show(orth_basis)\n",
    "\n",
    "# Extract the orthonormal basis vectors\n",
    "orth_basis1 = orth_basis.column(0)\n",
    "orth_basis2 = orth_basis.column(1)\n",
    "orth_basis3 = orth_basis.column(2)\n",
    "\n",
    "show(orth_basis1, orth_basis2, orth_basis3)\n",
    "\n",
    "orthonormal_basis1 = orth_basis1 / norm(orth_basis1)\n",
    "orthonormal_basis2 = orth_basis2 / norm(orth_basis2)\n",
    "orthonormal_basis3 = orth_basis3 / norm(orth_basis3)\n",
    "\n",
    "show(orthonormal_basis1, orthonormal_basis2, orthonormal_basis3)\n"
   ]
  },
  {
   "cell_type": "code",
   "execution_count": null,
   "id": "838a91c8",
   "metadata": {},
   "outputs": [],
   "source": [
    "# Check norms\n",
    "norm_e1 = orthonormal_basis1.norm()\n",
    "norm_e2 = orthonormal_basis2.norm()\n",
    "norm_e3 = orthonormal_basis3.norm()\n",
    "\n",
    "show(norm_e1, norm_e2, norm_e3)\n",
    "     \n",
    "# Check orthogonality\n",
    "orthogonal_e1_e2 = orthonormal_basis1.dot_product(orthonormal_basis2)\n",
    "orthogonal_e1_e3 = orthonormal_basis1.dot_product(orthonormal_basis3)\n",
    "orthogonal_e2_e3 = orthonormal_basis2.dot_product(orthonormal_basis3)\n",
    "\n",
    "# Display results\n",
    "print(orthogonal_e1_e2, orthogonal_e1_e3, orthogonal_e2_e3)"
   ]
  },
  {
   "cell_type": "code",
   "execution_count": null,
   "id": "3f655944",
   "metadata": {},
   "outputs": [],
   "source": [
    "# Define the original vector k\n",
    "k = vector([1, 2, 3])\n",
    "\n",
    "# Project k onto each of the orthonormal basis vectors\n",
    "a = k.dot_product(orthonormal_basis1)\n",
    "b = k.dot_product(orthonormal_basis2)\n",
    "c = k.dot_product(orthonormal_basis3)\n",
    "\n",
    "# Display the coefficients\n",
    "(a, b, c)\n"
   ]
  },
  {
   "cell_type": "code",
   "execution_count": null,
   "id": "8b2888d0",
   "metadata": {},
   "outputs": [],
   "source": []
  },
  {
   "cell_type": "markdown",
   "id": "673758a3",
   "metadata": {},
   "source": [
    "\n",
    "$\\textbf{4. Given the system}$  \n",
    "2y + λz + ω = 1  \n",
    "2x + 2y + 3ω = −1  \n",
    "x + 2y + ω = 0  \n",
    "3x + 5z + ω = 2  \n",
    "\n",
    "where λ is a parameter. \n",
    "\n",
    "Use Sagemath to  \n",
    "(a) find the value/es of λ for which the system has no solutions;  \n",
    "(b) for values of λ different than those of question (a) find and simplify (as far as possible) the solution of\n",
    "the system in terms of λ"
   ]
  },
  {
   "cell_type": "code",
   "execution_count": null,
   "id": "76e19e85",
   "metadata": {},
   "outputs": [],
   "source": [
    "λ = var('λ')\n",
    "x1,x2,x3,x4= var('x1,x2,x3,x4')\n",
    "\n",
    "# Set up the augmented matrix\n",
    "A = Matrix([[0, 2, λ, 1], [2, 2, 0, 3], [1, 2, 0, 1], [3, 0, 5, 1]])\n",
    "X = vector([x1,x2,x3,x4])\n",
    "Y = vector([1,-1,0,2])\n",
    "\n",
    "# Solve the system for lambda\n",
    "solutions = solve(det(A) == 0, λ)\n",
    "# Print the solutions\n",
    "solutions"
   ]
  },
  {
   "cell_type": "code",
   "execution_count": null,
   "id": "8f57abd6",
   "metadata": {},
   "outputs": [],
   "source": [
    "X = (A^(-1)*Y).simplify_full()\n",
    "X"
   ]
  },
  {
   "cell_type": "code",
   "execution_count": null,
   "id": "72337d27",
   "metadata": {},
   "outputs": [],
   "source": [
    "#Solutions for λ=2\n",
    "S = (A^(-1)*Y).substitute(λ=2)\n",
    "S\n"
   ]
  },
  {
   "cell_type": "code",
   "execution_count": null,
   "id": "ddf1e6c9",
   "metadata": {},
   "outputs": [],
   "source": []
  },
  {
   "cell_type": "markdown",
   "id": "27227f72",
   "metadata": {},
   "source": [
    "$\\textbf{5. Find the projection}$  \n",
    "\n",
    "$P_b$ of the vector $b= \\begin{bmatrix} 1 \\\\ 2 \\\\ 3\\end{bmatrix}$ onto the subspace of $R^3$ spanned by the vectors \n",
    "\n",
    "$b1= \\begin{bmatrix} 1 \\\\ 0 \\\\ 1\\end{bmatrix}$ and \n",
    "$b2= \\begin{bmatrix} 1 \\\\ 1 \\\\ 0\\end{bmatrix}$\n",
    "\n",
    "(b) Compute the projection error eb  \n",
    "(c) find the associated projection matrix for any x ∈ R^3."
   ]
  },
  {
   "cell_type": "code",
   "execution_count": null,
   "id": "759229f9",
   "metadata": {},
   "outputs": [],
   "source": [
    "# Define the vectors\n",
    "b = vector([1, 2, 3])\n",
    "b1 = vector([1, 0, 1])\n",
    "b2 = vector([1, 1, 0])\n",
    "\n",
    "# Create the matrix A whose columns are the basis vectors of the subspace\n",
    "A = matrix([b1, b2]).transpose()\n",
    "\n",
    "# Compute the projection matrix P\n",
    "P = A * (A.transpose() * A).inverse() * A.transpose()\n",
    "\n",
    "# Compute the projection Pb of b onto the subspace\n",
    "Pb = P * b\n",
    "\n",
    "Pb\n"
   ]
  },
  {
   "cell_type": "code",
   "execution_count": null,
   "id": "5b5d4b3e",
   "metadata": {},
   "outputs": [],
   "source": [
    "eb = b - Pb\n",
    "\n",
    "eb"
   ]
  },
  {
   "cell_type": "code",
   "execution_count": null,
   "id": "e846460a",
   "metadata": {},
   "outputs": [],
   "source": [
    "# Create the matrix A whose columns are the basis vectors of the subspace\n",
    "A = matrix([b1, b2]).transpose()\n",
    "\n",
    "# Compute A^T A\n",
    "ATA = A.transpose() * A\n",
    "\n",
    "# Compute the inverse of A^T A\n",
    "ATA_inv = ATA.inverse()\n",
    "\n",
    "# Compute the projection matrix P\n",
    "P = A * ATA_inv * A.transpose()\n",
    "\n",
    "P"
   ]
  },
  {
   "cell_type": "code",
   "execution_count": null,
   "id": "59211679",
   "metadata": {},
   "outputs": [],
   "source": []
  },
  {
   "cell_type": "markdown",
   "id": "d5baed5a",
   "metadata": {},
   "source": [
    "$\\textbf{6.Given the matrix}$  \n",
    "$A= \\begin{bmatrix} 1&1&0&1 \\\\0&0&0&1\\\\1&1&0&0 \\end{bmatrix}$  \n",
    "\n",
    "Use Sagemath to  \n",
    "(a) compute the SVD that recasts A in the form $A = USV^T$ and find U, V, S numerically;  \n",
    "(b) derive the matrix $AA^T$ in the symbolic ring and find its exact eigenvectors and eigenvalues;   \n",
    "(c) compare the eigenvalues with the entries of S and comment on their relation (if any);  \n",
    "(d) calculate the rank of the matrices A, AT A, U, V  "
   ]
  },
  {
   "cell_type": "code",
   "execution_count": null,
   "id": "1105e404",
   "metadata": {
    "scrolled": true
   },
   "outputs": [],
   "source": [
    "# Define the matrix A symbolically\n",
    "A = matrix(SR, [[1, 1, 0, 1], [0, 0, 0, 1], [1, 1, 0, 0]])\n",
    "\n",
    "# Compute AAT\n",
    "AAT = A * A.transpose()\n",
    "\n",
    "\n",
    "# Extract eigenvalues and eigenvectors\n",
    "eigenvalues = AAT.eigenvalues()\n",
    "eigenvectors = AAT.eigenvectors_right()\n",
    "\n",
    "# Output the eigenvalues and eigenvectors\n",
    "eigenvalues, eigenvectors\n"
   ]
  },
  {
   "cell_type": "code",
   "execution_count": null,
   "id": "1d64d97a",
   "metadata": {},
   "outputs": [],
   "source": [
    "# Extract the singular values from S\n",
    "singular_values = S.list()\n",
    "singular_values"
   ]
  },
  {
   "cell_type": "code",
   "execution_count": null,
   "id": "cdeeab31",
   "metadata": {},
   "outputs": [],
   "source": [
    "# Calculate ranks\n",
    "rank_A = A.rank()\n",
    "rank_ATA = AAT.rank()\n",
    "rank_U = U.rank()\n",
    "rank_V = V.rank()\n",
    "\n",
    "# Output the ranks\n",
    "rank_A, rank_ATA, rank_U, rank_V"
   ]
  },
  {
   "cell_type": "code",
   "execution_count": null,
   "id": "cb2ac3fa",
   "metadata": {},
   "outputs": [],
   "source": []
  },
  {
   "cell_type": "markdown",
   "id": "baafb98c",
   "metadata": {},
   "source": [
    "$\\textbf{7. Given the function}$  \n",
    "$f(x1,x2)=e^{x1}(4x1^2 + 2x2^2 + 4x1x2 + 2x2 +1$ and working with sagemath:  \n",
    "\n",
    "(a) Find analytically and classify (e.g. minimum,maximum.saddle point) the stationary points\n",
    "(at finite x1, x2).\n",
    "\n",
    "(c) Working numerically, find the global minimum (at finite 𝑥1, 𝑥2) starting from the point\n",
    "𝑥0 = (−1, 2) and utilizing two different algorithms (one using the derivatives and one not using\n",
    "them). Comment on the results compared to the results of (a).\n"
   ]
  },
  {
   "cell_type": "code",
   "execution_count": null,
   "id": "06ff9f0e",
   "metadata": {},
   "outputs": [],
   "source": [
    "var('x1 x2')\n",
    "f(x1, x2) = exp(x1) * (4*x1^2 + 2*x2^2 + 4*x1*x2 + 2*x2 + 1)\n",
    "gradient_f = [diff(f, x1), diff(f, x2)]\n",
    "gradient_f\n",
    "\n",
    "stationary_points = solve([gradient_f[0] == 0, gradient_f[1] == 0], x1, x2)\n",
    "stationary_points\n",
    "\n"
   ]
  },
  {
   "cell_type": "code",
   "execution_count": null,
   "id": "ef068da0",
   "metadata": {},
   "outputs": [],
   "source": [
    "H = f.hessian(); H(x1,x2)\n",
    "\n",
    "sH=[H(x1,x2).substitute(s).eigenvalues() for s in stationary_points];\n",
    "\n",
    "p1=list(map(n,sH[0]))\n",
    "p2=list(map(n,sH[1]))\n",
    "\n",
    "p1,p2"
   ]
  },
  {
   "cell_type": "code",
   "execution_count": null,
   "id": "f296d1e4",
   "metadata": {},
   "outputs": [],
   "source": []
  },
  {
   "cell_type": "code",
   "execution_count": null,
   "id": "9571c269",
   "metadata": {},
   "outputs": [],
   "source": [
    "minimize(f(x1,x2),(-1,2),algorithm='simplex',verbose=True)"
   ]
  },
  {
   "cell_type": "code",
   "execution_count": null,
   "id": "0915bae3",
   "metadata": {},
   "outputs": [],
   "source": [
    " minimize(f(x1,x2),(-1,2),algorithm='ncg',verbose=True)"
   ]
  },
  {
   "cell_type": "code",
   "execution_count": null,
   "id": "739b513e",
   "metadata": {},
   "outputs": [],
   "source": []
  }
 ],
 "metadata": {
  "kernelspec": {
   "display_name": "SageMath 9.5",
   "language": "sage",
   "name": "sagemath"
  },
  "language_info": {
   "codemirror_mode": {
    "name": "ipython",
    "version": 3
   },
   "file_extension": ".py",
   "mimetype": "text/x-python",
   "name": "python",
   "nbconvert_exporter": "python",
   "pygments_lexer": "ipython3",
   "version": "3.10.12"
  }
 },
 "nbformat": 4,
 "nbformat_minor": 5
}
