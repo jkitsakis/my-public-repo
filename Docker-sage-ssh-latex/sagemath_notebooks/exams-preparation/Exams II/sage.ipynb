{
 "cells": [
  {
   "cell_type": "code",
   "execution_count": null,
   "id": "8f284f75",
   "metadata": {},
   "outputs": [],
   "source": []
  },
  {
   "cell_type": "code",
   "execution_count": 2,
   "id": "1505150b",
   "metadata": {},
   "outputs": [
    {
     "data": {
      "text/html": [
       "<html><script type=\"math/tex; mode=display\">\\newcommand{\\Bold}[1]{\\mathbf{#1}}\\left(\\begin{array}{rrr}\n",
       "0.572 & 0.707 & 0.416 \\\\\n",
       "0.588 & 0.0 & -0.809 \\\\\n",
       "0.572 & -0.707 & 0.416\n",
       "\\end{array}\\right) \\left(\\begin{array}{rrrr}\n",
       "8.757 & 0.0 & 0.0 & 0.0 \\\\\n",
       "0.0 & 2.828 & 0.0 & 0.0 \\\\\n",
       "0.0 & 0.0 & 2.307 & 0.0\n",
       "\\end{array}\\right) \\left(\\begin{array}{rrrr}\n",
       "0.53 & -0.5 & -0.681 & -0.07 \\\\\n",
       "0.459 & -0.5 & 0.731 & -0.07 \\\\\n",
       "0.396 & 0.5 & 0.02 & -0.77 \\\\\n",
       "0.593 & 0.5 & 0.03 & 0.63\n",
       "\\end{array}\\right)</script></html>"
      ],
      "text/latex": [
       "$$\\newcommand{\\Bold}[1]{\\mathbf{#1}}\\left(\\begin{array}{rrr}\n",
       "0.572 & 0.707 & 0.416 \\\\\n",
       "0.588 & 0.0 & -0.809 \\\\\n",
       "0.572 & -0.707 & 0.416\n",
       "\\end{array}\\right) \\left(\\begin{array}{rrrr}\n",
       "8.757 & 0.0 & 0.0 & 0.0 \\\\\n",
       "0.0 & 2.828 & 0.0 & 0.0 \\\\\n",
       "0.0 & 0.0 & 2.307 & 0.0\n",
       "\\end{array}\\right) \\left(\\begin{array}{rrrr}\n",
       "0.53 & -0.5 & -0.681 & -0.07 \\\\\n",
       "0.459 & -0.5 & 0.731 & -0.07 \\\\\n",
       "0.396 & 0.5 & 0.02 & -0.77 \\\\\n",
       "0.593 & 0.5 & 0.03 & 0.63\n",
       "\\end{array}\\right)$$"
      ],
      "text/plain": [
       "[ 0.572  0.707  0.416]\n",
       "[ 0.588    0.0 -0.809]\n",
       "[ 0.572 -0.707  0.416] [8.757   0.0   0.0   0.0]\n",
       "[  0.0 2.828   0.0   0.0]\n",
       "[  0.0   0.0 2.307   0.0] [  0.53   -0.5 -0.681  -0.07]\n",
       "[ 0.459   -0.5  0.731  -0.07]\n",
       "[ 0.396    0.5   0.02  -0.77]\n",
       "[ 0.593    0.5   0.03   0.63]"
      ]
     },
     "metadata": {},
     "output_type": "display_data"
    }
   ],
   "source": [
    "#a \n",
    "A = Matrix([[1, 2, 3, 4], [4, 1, 2, 3], [3, 4, 1, 2]])\n",
    "\n",
    "AA=A.change_ring(RDF)\n",
    "U,S,V=AA.SVD()\n",
    "\n",
    "U_rounded = U.apply_map(lambda x: round(x, 3))\n",
    "S_rounded = S.apply_map(lambda x: round(x, 3))\n",
    "V_rounded = V.apply_map(lambda x: round(x, 3))\n",
    "\n",
    "show(U_rounded, S_rounded, V_rounded)\n"
   ]
  },
  {
   "cell_type": "code",
   "execution_count": 14,
   "id": "00d80973",
   "metadata": {},
   "outputs": [
    {
     "data": {
      "text/html": [
       "<html><script type=\"math/tex; mode=display\">\\newcommand{\\Bold}[1]{\\mathbf{#1}}\\left(\\begin{array}{rrrr}\n",
       "3.572 & -3.504 & -1.95 & -0.491 \\\\\n",
       "2.729 & -2.575 & -3.509 & -0.361 \\\\\n",
       "1.736 & -1.504 & -4.875 & -0.211\n",
       "\\end{array}\\right)</script></html>"
      ],
      "text/latex": [
       "$$\\newcommand{\\Bold}[1]{\\mathbf{#1}}\\left(\\begin{array}{rrrr}\n",
       "3.572 & -3.504 & -1.95 & -0.491 \\\\\n",
       "2.729 & -2.575 & -3.509 & -0.361 \\\\\n",
       "1.736 & -1.504 & -4.875 & -0.211\n",
       "\\end{array}\\right)$$"
      ],
      "text/plain": [
       "[ 3.572 -3.504  -1.95 -0.491]\n",
       "[ 2.729 -2.575 -3.509 -0.361]\n",
       "[ 1.736 -1.504 -4.875 -0.211]"
      ]
     },
     "metadata": {},
     "output_type": "display_data"
    }
   ],
   "source": [
    "#b\n",
    "U2 = U[:, 0:2]\n",
    "S2 = S[0:2, 0:2]\n",
    "V2 = V[0:2, :]\n",
    "\n",
    "A2 = U2 * S2 * V2\n",
    "\n",
    "A2_rounded = A2.apply_map(lambda x: round(x, 3))\n",
    "show(A2_rounded)"
   ]
  },
  {
   "cell_type": "code",
   "execution_count": 15,
   "id": "46cdd865",
   "metadata": {},
   "outputs": [
    {
     "data": {
      "text/html": [
       "<html><script type=\"math/tex; mode=display\">\\newcommand{\\Bold}[1]{\\mathbf{#1}}14.453695855272581</script></html>"
      ],
      "text/latex": [
       "$$\\newcommand{\\Bold}[1]{\\mathbf{#1}}14.453695855272581$$"
      ],
      "text/plain": [
       "14.453695855272581"
      ]
     },
     "metadata": {},
     "output_type": "display_data"
    }
   ],
   "source": [
    "#c\n",
    "frobenius = (A-A2).norm('frob')\n",
    "show(frobenius)"
   ]
  },
  {
   "cell_type": "code",
   "execution_count": null,
   "id": "8cda4c36",
   "metadata": {},
   "outputs": [],
   "source": []
  },
  {
   "cell_type": "code",
   "execution_count": null,
   "id": "0f5c0e1b",
   "metadata": {},
   "outputs": [],
   "source": []
  },
  {
   "cell_type": "code",
   "execution_count": 20,
   "id": "6acd6a9f",
   "metadata": {},
   "outputs": [
    {
     "data": {
      "text/html": [
       "<html><script type=\"math/tex; mode=display\">\\newcommand{\\Bold}[1]{\\mathbf{#1}}\\frac{1}{4000} \\, x_{1}^{2} + \\frac{1}{4000} \\, x_{2}^{2} - \\cos\\left(\\frac{1}{2} \\, \\sqrt{2} x_{2}\\right) - \\cos\\left(x_{1}\\right)</script></html>"
      ],
      "text/latex": [
       "$$\\newcommand{\\Bold}[1]{\\mathbf{#1}}\\frac{1}{4000} \\, x_{1}^{2} + \\frac{1}{4000} \\, x_{2}^{2} - \\cos\\left(\\frac{1}{2} \\, \\sqrt{2} x_{2}\\right) - \\cos\\left(x_{1}\\right)$$"
      ],
      "text/plain": [
       "1/4000*x1^2 + 1/4000*x2^2 - cos(1/2*sqrt(2)*x2) - cos(x1)"
      ]
     },
     "metadata": {},
     "output_type": "display_data"
    }
   ],
   "source": [
    "#a\n",
    "x1, x2 = var('x1 x2')\n",
    "f = (x1^2 + x2^2)/4000 - cos(x1) - cos(x2/sqrt(2))\n",
    "show(f)"
   ]
  },
  {
   "cell_type": "code",
   "execution_count": 22,
   "id": "80fc9703",
   "metadata": {},
   "outputs": [
    {
     "name": "stdout",
     "output_type": "stream",
     "text": [
      "Optimization terminated successfully.\n",
      "         Current function value: -2.000000\n",
      "         Iterations: 7\n",
      "         Function evaluations: 7\n",
      "         Gradient evaluations: 7\n",
      "         Hessian evaluations: 7\n"
     ]
    },
    {
     "data": {
      "text/plain": [
       "(1.4304268896756997e-19, -9.652733256801382e-15)"
      ]
     },
     "execution_count": 22,
     "metadata": {},
     "output_type": "execute_result"
    }
   ],
   "source": [
    "minimize(f,(-2,2),algorithm='ncg',verbose=True)"
   ]
  },
  {
   "cell_type": "code",
   "execution_count": 26,
   "id": "c8f07747",
   "metadata": {},
   "outputs": [
    {
     "data": {
      "text/html": [
       "<html><script type=\"math/tex; mode=display\">\\newcommand{\\Bold}[1]{\\mathbf{#1}}\\left[\\frac{1}{2000} \\, x_{1} + \\sin\\left(x_{1}\\right), \\frac{1}{2} \\, \\sqrt{2} \\sin\\left(\\frac{1}{2} \\, \\sqrt{2} x_{2}\\right) + \\frac{1}{2000} \\, x_{2}\\right]</script></html>"
      ],
      "text/latex": [
       "$$\\newcommand{\\Bold}[1]{\\mathbf{#1}}\\left[\\frac{1}{2000} \\, x_{1} + \\sin\\left(x_{1}\\right), \\frac{1}{2} \\, \\sqrt{2} \\sin\\left(\\frac{1}{2} \\, \\sqrt{2} x_{2}\\right) + \\frac{1}{2000} \\, x_{2}\\right]$$"
      ],
      "text/plain": [
       "[1/2000*x1 + sin(x1), 1/2*sqrt(2)*sin(1/2*sqrt(2)*x2) + 1/2000*x2]"
      ]
     },
     "metadata": {},
     "output_type": "display_data"
    },
    {
     "data": {
      "text/plain": [
       "[1/2000*x1 + sin(x1) == 0, 1/2*sqrt(2)*sin(1/2*sqrt(2)*x2) + 1/2000*x2 == 0]"
      ]
     },
     "execution_count": 26,
     "metadata": {},
     "output_type": "execute_result"
    }
   ],
   "source": [
    "#b\n",
    "gradient_f = [diff(f, x1), diff(f, x2)]\n",
    "show(gradient_f)\n",
    "\n",
    "stationary_points = solve([gradient_f[0] == 0, gradient_f[1] == 0], x1, x2)\n",
    "stationary_points\n"
   ]
  },
  {
   "cell_type": "code",
   "execution_count": 28,
   "id": "eb9e3d16",
   "metadata": {},
   "outputs": [
    {
     "data": {
      "text/html": [
       "<html><script type=\"math/tex; mode=display\">\\newcommand{\\Bold}[1]{\\mathbf{#1}}\\left(\\begin{array}{rr}\n",
       "\\cos\\left(x_{1}\\right) + \\frac{1}{2000} & 0 \\\\\n",
       "0 & \\frac{1}{2} \\, \\cos\\left(\\frac{1}{2} \\, \\sqrt{2} x_{2}\\right) + \\frac{1}{2000}\n",
       "\\end{array}\\right)</script></html>"
      ],
      "text/latex": [
       "$$\\newcommand{\\Bold}[1]{\\mathbf{#1}}\\left(\\begin{array}{rr}\n",
       "\\cos\\left(x_{1}\\right) + \\frac{1}{2000} & 0 \\\\\n",
       "0 & \\frac{1}{2} \\, \\cos\\left(\\frac{1}{2} \\, \\sqrt{2} x_{2}\\right) + \\frac{1}{2000}\n",
       "\\end{array}\\right)$$"
      ],
      "text/plain": [
       "[                cos(x1) + 1/2000                                0]\n",
       "[                               0 1/2*cos(1/2*sqrt(2)*x2) + 1/2000]"
      ]
     },
     "metadata": {},
     "output_type": "display_data"
    }
   ],
   "source": [
    "f_x1 = f.diff(x1)\n",
    "f_x2 = f.diff(x2)\n",
    "\n",
    "f_x1x1 = f_x1.diff(x1)\n",
    "f_x1x2 = f_x1.diff(x2)\n",
    "f_x2x2 = f_x2.diff(x2)\n",
    "\n",
    "H = matrix([[f_x1x1, f_x1x2], [f_x1x2, f_x2x2]])\n",
    "show(H)"
   ]
  },
  {
   "cell_type": "code",
   "execution_count": 34,
   "id": "c064aba7",
   "metadata": {},
   "outputs": [
    {
     "data": {
      "text/html": [
       "<html><script type=\"math/tex; mode=display\">\\newcommand{\\Bold}[1]{\\mathbf{#1}}\\left[\\frac{1}{2} \\, \\cos\\left(\\frac{1}{2} \\, \\sqrt{2} x_{2}\\right) + \\frac{1}{2000}, \\cos\\left(x_{1}\\right) + \\frac{1}{2000}\\right]</script></html>"
      ],
      "text/latex": [
       "$$\\newcommand{\\Bold}[1]{\\mathbf{#1}}\\left[\\frac{1}{2} \\, \\cos\\left(\\frac{1}{2} \\, \\sqrt{2} x_{2}\\right) + \\frac{1}{2000}, \\cos\\left(x_{1}\\right) + \\frac{1}{2000}\\right]$$"
      ],
      "text/plain": [
       "[1/2*cos(1/2*sqrt(2)*x2) + 1/2000, cos(x1) + 1/2000]"
      ]
     },
     "metadata": {},
     "output_type": "display_data"
    },
    {
     "data": {
      "text/html": [
       "<html><script type=\"math/tex; mode=display\">\\newcommand{\\Bold}[1]{\\mathbf{#1}}\\left[\\frac{1}{2} \\, \\cos\\left(\\frac{1}{2} \\, \\sqrt{2} x_{2}\\right) + \\frac{1}{2000}, \\cos\\left(x_{1}\\right) + \\frac{1}{2000}\\right]</script></html>"
      ],
      "text/latex": [
       "$$\\newcommand{\\Bold}[1]{\\mathbf{#1}}\\left[\\frac{1}{2} \\, \\cos\\left(\\frac{1}{2} \\, \\sqrt{2} x_{2}\\right) + \\frac{1}{2000}, \\cos\\left(x_{1}\\right) + \\frac{1}{2000}\\right]$$"
      ],
      "text/plain": [
       "[1/2*cos(1/2*sqrt(2)*x2) + 1/2000, cos(x1) + 1/2000]"
      ]
     },
     "metadata": {},
     "output_type": "display_data"
    }
   ],
   "source": [
    "ee1=(H.subs(stationary_points[0])).eigenvalues()\n",
    "ee2=(H.subs(stationary_points[1])).eigenvalues()\n",
    "\n",
    "show(ee1)\n",
    "show(ee2)\n"
   ]
  },
  {
   "cell_type": "code",
   "execution_count": null,
   "id": "15fa85ef",
   "metadata": {},
   "outputs": [],
   "source": []
  }
 ],
 "metadata": {
  "kernelspec": {
   "display_name": "SageMath 9.5",
   "language": "sage",
   "name": "sagemath"
  },
  "language_info": {
   "codemirror_mode": {
    "name": "ipython",
    "version": 3
   },
   "file_extension": ".py",
   "mimetype": "text/x-python",
   "name": "python",
   "nbconvert_exporter": "python",
   "pygments_lexer": "ipython3",
   "version": "3.10.12"
  }
 },
 "nbformat": 4,
 "nbformat_minor": 5
}
