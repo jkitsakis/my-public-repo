{
 "cells": [
  {
   "cell_type": "markdown",
   "id": "b7524f19",
   "metadata": {},
   "source": [
    "$\\textbf{Problem 9}$\n",
    "\\\n",
    "\\\n",
    "(a) Find the 3 by 3 real symmetric matrix S given that\n",
    "$x^T S x = 4(x_1 − x_2 + 2x_3)^2$ and $x = (x_1, x_2, x_3)^T $\n",
    "\\\n",
    "\\\n",
    "$\\textbf{Answer :}$"
   ]
  },
  {
   "cell_type": "markdown",
   "id": "4171ec83",
   "metadata": {},
   "source": [
    "Let \\\n",
    "$\n",
    "S = \\begin{bmatrix} s_{11} & s_{12} & s_{13} \\\\ s_{21} & s_{22} & s_{23} \\\\ s_{31} & s_{32} & s_{33} \\end{bmatrix}\n",
    "$ \\\n",
    "\\\n",
    "So it is: \\\n",
    "\\\n",
    "$x^T S x $ = $\\begin{bmatrix} x_{1} & x_{2} & x_{3} \\end{bmatrix} \\begin{bmatrix} s_{11} & s_{12} & s_{13} \\\\ s_{21} & s_{22} & s_{23} \\\\ s_{31} & s_{32} & s_{33} \\end{bmatrix} \\begin{bmatrix} x_{1} \\\\ x_{2} \\\\ x_{3} \\end{bmatrix} = $ \\\n",
    "\\\n",
    "$ \\begin{bmatrix} s_{11}x_{1} + s_{21}x_{2} + s_{31}x_{3} & s_{12}x_{1} + s_{22}x_{2}+ x_{3}s_{32} & s_{13}x_{1} + s_{23}x_{2} + x_{3}s_{33} \\end{bmatrix} \\begin{bmatrix} x_{1} \\\\ x_{2} \\\\ x_{3} \\end{bmatrix}  = $ \\\n",
    "\\\n",
    "$ x_1(s_{11}x_{1} + s_{21}x_{2} + s_{31}x_{3}) + x_2( s_{12}x_{1} + s_{22}x_{2}+ x_{3}s_{32} ) + x_3( s_{13}x_{1} + s_{23}x_{2} + x_{3}s_{33}) = $ \\\n",
    "\\\n",
    "$s_{11}x_{1}^2 + s_{21}x_1x_{2} + s_{31}x_1 x_{3} +  s_{12}x_{1}x_2 + s_{22}x_{2}^2+ s_{32}x_2x_{3}  + s_{13}x_{1}x_3 + s_{23}x_{2}x_3 + s_{33}x_3^2 $ = \\\n",
    "\\\n",
    "(because of symmetric matrix $ s_{12} = s_{21}$ and $s_{13}=s_{31} )$ \\\n",
    "\\\n",
    "$s_{11}x_{1}^2 + s_{22}x_{2}^2 + s_{33}x_3^2  + 2s_{21}x_1x_{2} + 2s_{13}x_1 x_{3} + 2s_{23}x_2x_{3} $\n",
    "\\\n",
    "\\\n",
    "We have to compare the result with the expansion of expression $4(x_1 − x_2 + 2x_3)^2$ : \n",
    "\\ \n",
    "It is : $4(x_1 − x_2 + 2x_3)^2 = 4[x_1^2 -2x_1(x_2-2x_3) + (x_2-2x_3)^2] = $ \\\n",
    "$4x_1^2 -8x_1x_2 +16x_1x_3 + 4x_2^2 -16x_2x_3 + 16x_3^2 $ \\\n",
    "\n",
    "\n",
    "Finally comparing the coefficients we result : \n",
    "\\\n",
    "$s_{11} = 4 , s_{22} = 4 s_{33} = 16 $\n",
    "\\\n",
    "$s_{12} = s_{21} = -4$\n",
    "\\\n",
    "$s_{13} = s_{31} = 8$\n",
    "\\\n",
    "$s_{23} = s_{32} = -8$\n",
    "\n",
    "and the $S = \\begin{bmatrix}4 & -4 & 8 \\\\ -4 & 4 & -8 \\\\ 8 & -8 & 16 \\end{bmatrix}$\n",
    "\n"
   ]
  },
  {
   "cell_type": "markdown",
   "id": "077a5012",
   "metadata": {},
   "source": [
    "\\\n",
    "\\\n",
    "$\\textbf{Is S positive definite or semi-definite}$\n",
    "\\\n",
    "\\\n",
    "$\\textbf{Answer :}$"
   ]
  },
  {
   "cell_type": "markdown",
   "id": "e002d59a",
   "metadata": {},
   "source": [
    "\n",
    "To determine whether the matrix \n",
    "$S$ is positive definite or positive semi-definite, we can use the following definitions:\n",
    "\n",
    "Positive Definite: A symmetric matrix \n",
    "$S$ is positive definite if, for any non-zero column vector x, the quadratic form \n",
    "$x^T S x = 4(x_1 − x_2 + 2x_3)^2$ is strictly positive.\n",
    "\n",
    "Positive Semi-definite: A symmetric matrix \n",
    "$S$ is positive semi-definite if, for any column vector x, the quadratic form \n",
    "$x^T S x = 4(x_1 − x_2 + 2x_3)^2$  is non-negative.\n",
    "\\\n",
    "Suppose $ x =  \\begin{bmatrix} x_{1} \\\\ x_{2} \\\\ x_{3} \\end{bmatrix}$ \n",
    "\\\n",
    "and we know that $S = \\begin{bmatrix}4 & -4 & 8 \\\\ -4 & 4 & -8 \\\\ 8 & -8 & 16 \\end{bmatrix}$\n",
    "\\\n",
    "$x^T S x = \\begin{bmatrix} x_{1} & x_{2} & x_{3} \\end{bmatrix} \\begin{bmatrix}4 & -4 & 8 \\\\ -4 & 4 & -8 \\\\ 8 & -8 & 16 \\end{bmatrix} \\begin{bmatrix} x_{1} \\\\ x_{2} \\\\ x_{3} \\end{bmatrix} = $\n",
    "\\\n",
    "$4x_{1}^2 - 4x_{1}x_{2} + 8x_{1}x_{3} -4x_{1}x_{2} + 4x_{1}^2 -8x_{2}x_{3} +8x_{1}x_{3} - 8x_{2}x_{3} + 16x_{3}^2$ \n",
    "\\\n",
    "Combine like terms:\n",
    "$x^T S x = $4x_{1}^2 - 8x_{1}x_{2} + 16x_{3}^2\n",
    "\\\n",
    "If $x_{1} = x_{2} = x_{3} = 0$ then $x^T S x = 0$ \n",
    "\\\n",
    "Therefore, $S$ is positive semi-definite but not positive definite.\n"
   ]
  },
  {
   "cell_type": "code",
   "execution_count": null,
   "id": "49727d5f",
   "metadata": {},
   "outputs": [],
   "source": []
  }
 ],
 "metadata": {
  "kernelspec": {
   "display_name": "SageMath 9.5",
   "language": "sage",
   "name": "sagemath"
  },
  "language_info": {
   "codemirror_mode": {
    "name": "ipython",
    "version": 3
   },
   "file_extension": ".py",
   "mimetype": "text/x-python",
   "name": "python",
   "nbconvert_exporter": "python",
   "pygments_lexer": "ipython3",
   "version": "3.10.12"
  }
 },
 "nbformat": 4,
 "nbformat_minor": 5
}
