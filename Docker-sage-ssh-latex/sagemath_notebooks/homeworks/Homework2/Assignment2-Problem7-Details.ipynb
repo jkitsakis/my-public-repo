{
 "cells": [
  {
   "cell_type": "markdown",
   "id": "92939e1a",
   "metadata": {},
   "source": [
    "$\\textbf{Problem 7}$\n",
    "\\\n",
    "\\\n",
    "Consider the Euclidean vector space R5 with the Euclidean inner product. A subspace $U ⊂ R^5$ is defined by \n",
    "\n",
    "$\n",
    "\\mathbf{U} = span \\left\\{\n",
    "\\begin{bmatrix} 0 \\\\ -1 \\\\ 2 \\\\ 0 \\\\ 2 \\end{bmatrix},\n",
    "\\begin{bmatrix} 1 \\\\ -3 \\\\ 1 \\\\ -1 \\\\ 2 \\end{bmatrix},\n",
    "\\begin{bmatrix} -3 \\\\ 4 \\\\ 1 \\\\ 2 \\\\ 1 \\end{bmatrix},\n",
    "\\begin{bmatrix} -1 \\\\ -3 \\\\ 5 \\\\ 0 \\\\ 7 \\end{bmatrix}\n",
    "\\right\\}\n",
    "$\n",
    "\\\n",
    "\\\n",
    "Using Sagemath : \n",
    "\\\n",
    "(a) check if the vectors that $span U$ are linearly independent; \n",
    "\\\n",
    "\\\n",
    "$\\textbf{Answer :}$"
   ]
  },
  {
   "cell_type": "markdown",
   "id": "04175460",
   "metadata": {},
   "source": [
    "Certainly! Let's use row echelon form to solve the system of equations. The augmented matrix for the system is:\n",
    "\n",
    "$\n",
    "\\left[\\begin{array}{cccc|c}\n",
    "0 & 1 & -3 & -1 & 0 \\\\\n",
    "-1 & -3 & 4 & -3 & 0 \\\\\n",
    "2 & 1 & 1 & 5 & 0 \\\\\n",
    "0 & -1 & 2 & 0 & 0 \\\\\n",
    "2 & 2 & 1 & 7 & 0 \\\\\n",
    "\\end{array}\\right]\n",
    "$\n",
    "\n",
    "Now, let's perform row operations to get the matrix into row echelon form:\n",
    "\n",
    "1. $ R_2 = R_2 + R_1 $\n",
    "2. $ R_3 = R_3 - 2R_1 $\n",
    "3. $ R_5 = R_5 - R_1 $\n",
    "4. Swap $ R_2 $ and $ R_3 $ to make the pivot in $ R_2 $ nonzero.\n",
    "5. $ R_4 = R_4 + R_2 $\n",
    "6. $ R_5 = R_5 - R_2 $\n",
    "7. $ R_5 = R_5 - R_3 $\n",
    "\n",
    "After performing these row operations, the augmented matrix becomes:\n",
    "\n",
    "$\n",
    "\\left[\\begin{array}{cccc|c}\n",
    "0 & 1 & -3 & -1 & 0 \\\\\n",
    "2 & 1 & 1 & 5 & 0 \\\\\n",
    "0 & -5 & 7 & -10 & 0 \\\\\n",
    "0 & 0 & 5 & 5 & 0 \\\\\n",
    "0 & 0 & 0 & -8 & 0 \\\\\n",
    "\\end{array}\\right]\n",
    "$\n",
    "\n",
    "Now, let's write the system of equations corresponding to this matrix:\n",
    "\n",
    "$\n",
    "\\begin{align*}\n",
    "&\\begin{cases}\n",
    "y - 3z - w = 0 \\\\\n",
    "2x + y + z + 5w = 0 \\\\\n",
    "-5y + 7z - 10w = 0 \\\\\n",
    "5z + 5w = 0 \\\\\n",
    "-8w = 0\n",
    "\\end{cases}\n",
    "\\end{align*}\n",
    "$\n",
    "\n",
    "Solving this system, we find that \\( w = 0 \\), \\( z = 0 \\), \\( y = 0 \\), and \\( x \\) is a free variable. Since there are non-trivial solutions (not all variables are forced to be zero), the vectors are linearly dependent."
   ]
  },
  {
   "cell_type": "code",
   "execution_count": 42,
   "id": "94928b6e",
   "metadata": {},
   "outputs": [
    {
     "name": "stdout",
     "output_type": "stream",
     "text": [
      "The vectors are linearly dependent.\n"
     ]
    }
   ],
   "source": [
    "# Define the vectors\n",
    "v1 = vector([0, -1, 2, 0, 2])\n",
    "v2 = vector([1, -3, 1, -1, 2])\n",
    "v3 = vector([-3, 4, 1, 2, 1])\n",
    "v4 = vector([-1, -3, 5, 0, 7])\n",
    "\n",
    "# Create a matrix with the vectors as rows\n",
    "A = matrix([v1, v2, v3, v4])\n",
    "\n",
    "# Check if the vectors are linearly independent\n",
    "if A.rank() == len(A.rows()):\n",
    "    print(\"The vectors are linearly independent.\")\n",
    "else:\n",
    "    print(\"The vectors are linearly dependent.\")\n"
   ]
  },
  {
   "cell_type": "code",
   "execution_count": 43,
   "id": "d04956c2",
   "metadata": {},
   "outputs": [
    {
     "name": "stdout",
     "output_type": "stream",
     "text": [
      "The vectors are linearly dependent.\n"
     ]
    }
   ],
   "source": [
    "# Define the vectors\n",
    "v1 = vector([0, -1, 2, 0, 2])\n",
    "v2 = vector([1, -3, 1, -1, 2])\n",
    "v3 = vector([-3, 4, 1, 2, 1])\n",
    "v4 = vector([-1, -3, 5, 0, 7])\n",
    "\n",
    "# Create a matrix with the vectors as columns\n",
    "A = matrix([v1, v2, v3, v4]).transpose()\n",
    "\n",
    "# Find the kernel of the matrix\n",
    "kernel_basis = A.kernel().basis()\n",
    "\n",
    "# Check if the kernel only contains the zero vector\n",
    "if all(vector.is_zero() for vector in kernel_basis):\n",
    "    print(\"The vectors are linearly independent.\")\n",
    "else:\n",
    "    print(\"The vectors are linearly dependent.\")\n"
   ]
  },
  {
   "cell_type": "code",
   "execution_count": 44,
   "id": "7a298fe7",
   "metadata": {},
   "outputs": [
    {
     "name": "stdout",
     "output_type": "stream",
     "text": [
      "Vectors are linearly dependent.\n"
     ]
    }
   ],
   "source": [
    "# Define the augmented matrix\n",
    "A = Matrix([\n",
    "    [0, 1, -3, -1, 0],\n",
    "    [-1, -3, 4, -3, 0],\n",
    "    [2, 1, 1, 5, 0],\n",
    "    [0, -1, 2, 0, 0],\n",
    "    [2, -1, 1, 7, 0]\n",
    "])\n",
    "\n",
    "# Perform Gaussian elimination\n",
    "for i in range(4):\n",
    "    # Find the pivot (non-zero element) in the current column\n",
    "    pivot_row = i\n",
    "    while A[pivot_row, i] == 0 and pivot_row < 4:\n",
    "        pivot_row += 1\n",
    "\n",
    "    # Swap rows if necessary to get a non-zero pivot\n",
    "    if pivot_row != i:\n",
    "        A.swap_rows(i, pivot_row)\n",
    "\n",
    "    # Make the pivot element 1\n",
    "    A[i, :] /= A[i, i]\n",
    "\n",
    "    # Eliminate other elements in the current column\n",
    "    for j in range(5):\n",
    "        if j != i:\n",
    "            A[j, :] -= A[j, i] * A[i, :]\n",
    "\n",
    "# The matrix is now in row-echelon form\n",
    "\n",
    "# Check for non-trivial solutions\n",
    "if A[3, 4] == 0 and A[4, 4] == 0:\n",
    "    # There are non-trivial solutions, vectors are linearly dependent\n",
    "    print(\"Vectors are linearly dependent.\")\n",
    "else:\n",
    "    # No non-trivial solutions, vectors are linearly independent\n",
    "    print(\"Vectors are linearly independent.\")\n"
   ]
  },
  {
   "cell_type": "code",
   "execution_count": 45,
   "id": "05a4c87e",
   "metadata": {},
   "outputs": [
    {
     "name": "stdout",
     "output_type": "stream",
     "text": [
      "[1 0 0 1]\n",
      "[0 1 0 2]\n",
      "[0 0 1 1]\n",
      "[0 0 0 0]\n",
      "[0 0 0 0]\n",
      "3\n",
      "5\n",
      "[1 0 0 1]\n",
      "[0 1 0 2]\n",
      "[0 0 1 1]\n",
      "[0 0 0 0]\n",
      "[0 0 0 0]\n"
     ]
    },
    {
     "data": {
      "text/plain": [
       "False"
      ]
     },
     "execution_count": 45,
     "metadata": {},
     "output_type": "execute_result"
    }
   ],
   "source": [
    "# Define the vectors\n",
    "v1 = vector([0, -1, 2, 0, 2])\n",
    "v2 = vector([1, -3, 1, -1, 2])\n",
    "v3 = vector([-3, 4, 1, 2, 1])\n",
    "v4 = vector([-1, -3, 5, 0, 7])\n",
    "\n",
    "# Form the matrix with these vectors as rows\n",
    "A = matrix([v1, v2, v3, v4]).transpose()\n",
    "\n",
    "# Check for linear independence\n",
    "is_linearly_independent = A.echelon_form().rank() == A.nrows()\n",
    "\n",
    "print(A.echelon_form())\n",
    "print(A.echelon_form().rank())\n",
    "print(A.nrows())\n",
    "print(A.rref())\n",
    "\n",
    "# Output the result\n",
    "is_linearly_independent\n"
   ]
  },
  {
   "cell_type": "markdown",
   "id": "718d2642",
   "metadata": {},
   "source": [
    "\\\n",
    "(b) find the projection matrix that maps $R^5$ onto $U$;\n",
    "\\\n",
    "\\\n",
    "$\\textbf{Answer :}$"
   ]
  },
  {
   "cell_type": "code",
   "execution_count": 52,
   "id": "6a1a4a16",
   "metadata": {},
   "outputs": [
    {
     "name": "stdout",
     "output_type": "stream",
     "text": [
      "[     11       0       0]\n",
      "[      0  241/11       0]\n",
      "[      0       0 252/241]\n",
      "[       0       -1  222/241]\n",
      "[       1   -21/11 -102/241]\n",
      "[      -3     8/11  -30/241]\n",
      "[      -1   -45/11  -12/241]\n"
     ]
    }
   ],
   "source": [
    "#he vectors must form a linearly independent set. In other words, the subspace \n",
    "#U should be a linearly independent set of vectors. NOW it is linear dependent.\n",
    "\n",
    "# Define the vectors spanning U\n",
    "v1 = vector([0, -1, 2, 0, 2])\n",
    "v2 = vector([1, -3, 1, -1, 2])\n",
    "v3 = vector([-3, 4, 1, 2, 1])\n",
    "v4 = vector([-1, -3, 5, 0, 7])\n",
    "\n",
    "# Create the matrix A with the vectors as columns\n",
    "A = Matrix([v1, v2, v3, v4]).transpose()\n",
    "\n",
    "# Perform Gram-Schmidt orthogonalization\n",
    "B = A.gram_schmidt()[0].transpose()\n",
    "\n",
    "# Compute the projection matrix P using the orthogonal basis\n",
    "P = B.transpose() * B\n",
    "\n",
    "print(P)\n",
    "print(B)\n"
   ]
  },
  {
   "cell_type": "markdown",
   "id": "5630f295",
   "metadata": {},
   "source": [
    "\\\n",
    "(c)find the projection of the vector $x = [ −1 9 −1 4 1 ]^T$ onto $U$\n",
    "\\\n",
    "\\\n",
    "$\\textbf{Answer :}$"
   ]
  },
  {
   "cell_type": "code",
   "execution_count": 61,
   "id": "7444589c",
   "metadata": {},
   "outputs": [
    {
     "data": {
      "text/plain": [
       "(-21527/3472, 47685/3472, -13367/3472, 2465/496, -1577/248)"
      ]
     },
     "execution_count": 61,
     "metadata": {},
     "output_type": "execute_result"
    }
   ],
   "source": [
    "\n",
    "# Given vector x\n",
    "x = vector([-1, 9, -1, 4, 1])\n",
    "\n",
    "# Basis vectors for U\n",
    "u1 = vector([0, -1, 2, 0, 2])\n",
    "u2 = vector([1, -3, 1, -1, 2])\n",
    "u3 = vector([-3, 4, 1, 2, 1])\n",
    "u4 = vector([-1, -3, 5, 0, 7])\n",
    "\n",
    "# Projection of x onto U\n",
    "projection_result = (x.dot_product(u1)/u1.dot_product(u1)) * u1 + (x.dot_product(u2)/u2.dot_product(u2)) * u2 + (x.dot_product(u3)/u3.dot_product(u3)) * u3 + (x.dot_product(u4)/u4.dot_product(u4)) * u4\n",
    "\n",
    "# Display the projection result\n",
    "projection_result\n"
   ]
  },
  {
   "cell_type": "markdown",
   "id": "4ef63e37",
   "metadata": {},
   "source": [
    "\\\n",
    "(d) compute the projection error in question (c) both analytically and numerically\n",
    "\\\n",
    "\\\n",
    "$\\textbf{Answer :}$"
   ]
  },
  {
   "cell_type": "markdown",
   "id": "52e9faac",
   "metadata": {},
   "source": [
    "Certainly! The projection error is the vector that represents the difference between the original vector \\( \\mathbf{x} \\) and its projection onto the subspace \\( U \\). It can be computed both analytically and numerically.\n",
    "\n",
    "### Analytical Computation:\n",
    "\n",
    "Analytically, the projection error \\( $\\mathbf{e}$ \\) is given by:\n",
    "\n",
    "$ \\mathbf{e} = \\mathbf{x} - \\text{proj}_{U}(\\mathbf{x}) $\n",
    "\n",
    "Using the projection formula, we can write this as:\n",
    "\n",
    "$ \\mathbf{e} = \\mathbf{x} - \\left( \\frac{\\mathbf{x} \\cdot \\mathbf{u}_1}{\\|\\mathbf{u}_1\\|^2} \\mathbf{u}_1 + \\frac{\\mathbf{x} \\cdot \\mathbf{u}_2}{\\|\\mathbf{u}_2\\|^2} \\mathbf{u}_2 + \\frac{\\mathbf{x} \\cdot \\mathbf{u}_3}{\\|\\mathbf{u}_3\\|^2} \\mathbf{u}_3 + \\frac{\\mathbf{x} \\cdot \\mathbf{u}_4}{\\|\\mathbf{u}_4\\|^2} \\mathbf{u}_4 \\right) $\n",
    "\n",
    "This gives the expression for the analytical projection error.\n",
    "\n",
    "### Numerical Computation:\n",
    "\n",
    "Let's compute the projection error numerically using the SageMath code:\n",
    "\n",
    "\n",
    "This code calculates the projection error numerically by subtracting the projection result from the original vector \\( \\mathbf{x} \\).\n",
    "\n",
    "Feel free to run this code and check the resulting numerical projection error vector."
   ]
  },
  {
   "cell_type": "code",
   "execution_count": 1,
   "id": "9fbc7104",
   "metadata": {},
   "outputs": [
    {
     "ename": "NameError",
     "evalue": "name 'u1' is not defined",
     "output_type": "error",
     "traceback": [
      "\u001b[0;31m---------------------------------------------------------------------------\u001b[0m",
      "\u001b[0;31mNameError\u001b[0m                                 Traceback (most recent call last)",
      "\u001b[0;32m/tmp/ipykernel_410/623007555.py\u001b[0m in \u001b[0;36m<module>\u001b[0;34m\u001b[0m\n\u001b[1;32m      3\u001b[0m \u001b[0;34m\u001b[0m\u001b[0m\n\u001b[1;32m      4\u001b[0m \u001b[0;31m# Projection of x onto U\u001b[0m\u001b[0;34m\u001b[0m\u001b[0;34m\u001b[0m\u001b[0m\n\u001b[0;32m----> 5\u001b[0;31m \u001b[0mprojection_result\u001b[0m \u001b[0;34m=\u001b[0m \u001b[0;34m(\u001b[0m\u001b[0mx\u001b[0m\u001b[0;34m.\u001b[0m\u001b[0mdot_product\u001b[0m\u001b[0;34m(\u001b[0m\u001b[0mu1\u001b[0m\u001b[0;34m)\u001b[0m\u001b[0;34m/\u001b[0m\u001b[0mu1\u001b[0m\u001b[0;34m.\u001b[0m\u001b[0mdot_product\u001b[0m\u001b[0;34m(\u001b[0m\u001b[0mu1\u001b[0m\u001b[0;34m)\u001b[0m\u001b[0;34m)\u001b[0m \u001b[0;34m*\u001b[0m \u001b[0mu1\u001b[0m \u001b[0;34m+\u001b[0m \u001b[0;34m(\u001b[0m\u001b[0mx\u001b[0m\u001b[0;34m.\u001b[0m\u001b[0mdot_product\u001b[0m\u001b[0;34m(\u001b[0m\u001b[0mu2\u001b[0m\u001b[0;34m)\u001b[0m\u001b[0;34m/\u001b[0m\u001b[0mu2\u001b[0m\u001b[0;34m.\u001b[0m\u001b[0mdot_product\u001b[0m\u001b[0;34m(\u001b[0m\u001b[0mu2\u001b[0m\u001b[0;34m)\u001b[0m\u001b[0;34m)\u001b[0m \u001b[0;34m*\u001b[0m \u001b[0mu2\u001b[0m \u001b[0;34m+\u001b[0m \u001b[0;34m(\u001b[0m\u001b[0mx\u001b[0m\u001b[0;34m.\u001b[0m\u001b[0mdot_product\u001b[0m\u001b[0;34m(\u001b[0m\u001b[0mu3\u001b[0m\u001b[0;34m)\u001b[0m\u001b[0;34m/\u001b[0m\u001b[0mu3\u001b[0m\u001b[0;34m.\u001b[0m\u001b[0mdot_product\u001b[0m\u001b[0;34m(\u001b[0m\u001b[0mu3\u001b[0m\u001b[0;34m)\u001b[0m\u001b[0;34m)\u001b[0m \u001b[0;34m*\u001b[0m \u001b[0mu3\u001b[0m \u001b[0;34m+\u001b[0m \u001b[0;34m(\u001b[0m\u001b[0mx\u001b[0m\u001b[0;34m.\u001b[0m\u001b[0mdot_product\u001b[0m\u001b[0;34m(\u001b[0m\u001b[0mu4\u001b[0m\u001b[0;34m)\u001b[0m\u001b[0;34m/\u001b[0m\u001b[0mu4\u001b[0m\u001b[0;34m.\u001b[0m\u001b[0mdot_product\u001b[0m\u001b[0;34m(\u001b[0m\u001b[0mu4\u001b[0m\u001b[0;34m)\u001b[0m\u001b[0;34m)\u001b[0m \u001b[0;34m*\u001b[0m \u001b[0mu4\u001b[0m\u001b[0;34m\u001b[0m\u001b[0;34m\u001b[0m\u001b[0m\n\u001b[0m\u001b[1;32m      6\u001b[0m \u001b[0;34m\u001b[0m\u001b[0m\n\u001b[1;32m      7\u001b[0m \u001b[0;31m# Analytical projection error\u001b[0m\u001b[0;34m\u001b[0m\u001b[0;34m\u001b[0m\u001b[0m\n",
      "\u001b[0;31mNameError\u001b[0m: name 'u1' is not defined"
     ]
    }
   ],
   "source": [
    "# Given vector x\n",
    "x = vector([-1, 9, -1, 4, 1])\n",
    "\n",
    "# Projection of x onto U\n",
    "projection_result = (x.dot_product(u1)/u1.dot_product(u1)) * u1 + (x.dot_product(u2)/u2.dot_product(u2)) * u2 + (x.dot_product(u3)/u3.dot_product(u3)) * u3 + (x.dot_product(u4)/u4.dot_product(u4)) * u4\n",
    "\n",
    "# Analytical projection error\n",
    "analytical_error = x - projection_result\n",
    "\n",
    "# Numerical projection matrix P\n",
    "#P = A * B * A.transpose()\n",
    "\n",
    "# Numerical projection error\n",
    "numerical_error = x - projection_result\n",
    "\n",
    "# Display results\n",
    "analytical_error, numerical_error\n"
   ]
  },
  {
   "cell_type": "code",
   "execution_count": null,
   "id": "20f701c0",
   "metadata": {},
   "outputs": [],
   "source": []
  }
 ],
 "metadata": {
  "kernelspec": {
   "display_name": "SageMath 9.5",
   "language": "sage",
   "name": "sagemath"
  },
  "language_info": {
   "codemirror_mode": {
    "name": "ipython",
    "version": 3
   },
   "file_extension": ".py",
   "mimetype": "text/x-python",
   "name": "python",
   "nbconvert_exporter": "python",
   "pygments_lexer": "ipython3",
   "version": "3.10.12"
  }
 },
 "nbformat": 4,
 "nbformat_minor": 5
}
