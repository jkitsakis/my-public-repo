{
 "cells": [
  {
   "cell_type": "markdown",
   "id": "df517d75",
   "metadata": {},
   "source": [
    "%display latex"
   ]
  },
  {
   "cell_type": "markdown",
   "id": "ca37171d",
   "metadata": {},
   "source": [
    "What is the length of the vector $v=(1,1,1,1,−1,−1,−1,−1)^T$ ?"
   ]
  },
  {
   "cell_type": "markdown",
   "id": "cbc76848",
   "metadata": {},
   "source": [
    "The length of a vector, also known as its magnitude or norm, can be calculated using the Euclidean norm formula. For a vector $v$ with components $v_i$, the length of the vector, denoted as $||v||$ or $|v|$, is calculated as follows:\n",
    "\n",
    "$||v|| = \\sqrt{v_1^2 + v_2^2 + v_3^2 + \\ldots + v_n^2}$\n",
    "\n",
    "In this case, the vector $v$ has 8 components:\n",
    "\n",
    "$v = (1, 1, 1, 1, -1, -1, -1, -1)^T$\n",
    "\n",
    "So, to find the length of this vector, we square each component, sum up the squares, and then take the square root of the result:\n",
    "\n",
    "$||v|| = \\sqrt{1^2 + 1^2 + 1^2 + 1^2 + (-1)^2 + (-1)^2 + (-1)^2 + (-1)^2}$\n",
    "\n",
    "$||v|| = \\sqrt{1 + 1 + 1 + 1 + 1 + 1 + 1 + 1}$\n",
    "\n",
    "$||v|| = \\sqrt{8}$\n",
    "\n",
    "$||v|| = 2\\sqrt{2}$\n",
    "\n",
    "So, the length of the vector $v$ is $2\\sqrt{2}$."
   ]
  },
  {
   "cell_type": "code",
   "execution_count": 1,
   "id": "a948a429",
   "metadata": {},
   "outputs": [
    {
     "data": {
      "text/html": [
       "<html><script type=\"math/tex; mode=display\">\\newcommand{\\Bold}[1]{\\mathbf{#1}}2 \\, \\sqrt{2}</script></html>"
      ],
      "text/latex": [
       "$$\\newcommand{\\Bold}[1]{\\mathbf{#1}}2 \\, \\sqrt{2}$$"
      ],
      "text/plain": [
       "2*sqrt(2)"
      ]
     },
     "metadata": {},
     "output_type": "display_data"
    }
   ],
   "source": [
    "# Define the vector v\n",
    "v = vector([1, 1, 1, 1, -1, -1, -1, -1])\n",
    "\n",
    "# Calculate the Euclidean norm of the vector v\n",
    "length_v = v.norm()\n",
    "\n",
    "pretty_print(length_v)\n"
   ]
  },
  {
   "cell_type": "code",
   "execution_count": null,
   "id": "583f025a",
   "metadata": {},
   "outputs": [],
   "source": []
  }
 ],
 "metadata": {
  "kernelspec": {
   "display_name": "SageMath 9.5",
   "language": "sage",
   "name": "sagemath"
  },
  "language_info": {
   "codemirror_mode": {
    "name": "ipython",
    "version": 3
   },
   "file_extension": ".py",
   "mimetype": "text/x-python",
   "name": "python",
   "nbconvert_exporter": "python",
   "pygments_lexer": "ipython3",
   "version": "3.10.12"
  }
 },
 "nbformat": 4,
 "nbformat_minor": 5
}
