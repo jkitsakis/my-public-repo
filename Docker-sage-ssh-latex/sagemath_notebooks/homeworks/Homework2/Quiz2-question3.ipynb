{
 "cells": [
  {
   "cell_type": "markdown",
   "id": "7ecf1cc2",
   "metadata": {},
   "source": [
    "%display latex"
   ]
  },
  {
   "cell_type": "markdown",
   "id": "09a16221",
   "metadata": {},
   "source": [
    "Which of the following is the result of rotating the vector $a=\\begin{pmatrix}1,-1\\end{pmatrix}^T$\n",
    "by 45$^{\\circ}$ clockwise around the origin $\\begin{pmatrix}0,0\\end{pmatrix}^T$ ?"
   ]
  },
  {
   "cell_type": "markdown",
   "id": "4afb279c",
   "metadata": {},
   "source": [
    "$Answer$"
   ]
  },
  {
   "cell_type": "markdown",
   "id": "bc27b366",
   "metadata": {},
   "source": [
    "To rotate a vector clockwise by 45 degrees around the origin, you can use a rotation matrix. In this case, you want to rotate the vector $a = \\begin{pmatrix}1, -1\\end{pmatrix}^T$ by 45 degrees. The general formula for rotating a 2D vector counterclockwise by an angle θ around the origin is:\n",
    "\n",
    "$\\begin{pmatrix}x'\\\\y'\\end{pmatrix} = \\begin{pmatrix}\\cos(\\theta) & -\\sin(\\theta)\\\\sin(\\theta) & \\cos(\\theta)\\end{pmatrix} \\begin{pmatrix}x\\\\y\\end{pmatrix}$\n",
    "\n",
    "To rotate the vector clockwise by 45 degrees (which is the same as rotating counterclockwise by -45 degrees), you can use θ = -45 degrees:\n",
    "\n",
    "$\\begin{pmatrix}x'\\\\y'\\end{pmatrix} = \\begin{pmatrix}\\cos(-45^\\circ) & -\\sin(-45^\\circ)\\\\sin(-45^\\circ) & \\cos(-45^\\circ)\\end{pmatrix} \\begin{pmatrix}1\\\\-1\\end{pmatrix}$\n",
    "\n",
    "Now, calculate the values of $\\cos(-45^\\circ)$ and $\\sin(-45^\\circ)$:\n",
    "\n",
    "$\\cos(-45^\\circ) = \\cos(45^\\circ) = \\frac{1}{\\sqrt{2}}$\n",
    "\n",
    "$\\sin(-45^\\circ) = -\\sin(45^\\circ) = -\\frac{1}{\\sqrt{2}}$\n",
    "\n",
    "Now, perform the matrix multiplication:\n",
    "\n",
    "$\\begin{pmatrix}x'\\\\y'\\end{pmatrix} = \\begin{pmatrix}\\frac{1}{\\sqrt{2}} & \\frac{1}{\\sqrt{2}}\\\\-\\frac{1}{\\sqrt{2}} & \\frac{1}{\\sqrt{2}}\\end{pmatrix} \\begin{pmatrix}1\\\\-1\\end{pmatrix}$\n",
    "\n",
    "Now, calculate the product:\n",
    "\n",
    "$x' = \\frac{1}{\\sqrt{2}} * 1 + \\frac{1}{\\sqrt{2}} * (-1) = \\frac{1}{\\sqrt{2}} - \\frac{1}{\\sqrt{2}} = 0$\n",
    "\n",
    "$y' = -\\frac{1}{\\sqrt{2}} * 1 + \\frac{1}{\\sqrt{2}} * (-1) = -\\frac{1}{\\sqrt{2}} - \\frac{1}{\\sqrt{2}} = -\\frac{2}{\\sqrt{2}} = -\\sqrt{2}$\n",
    "\n",
    "So, the result of rotating the vector $a = \\begin{pmatrix}1, -1\\end{pmatrix}^T$ by 45 degrees clockwise around the origin is:\n",
    "\n",
    "$\\begin{pmatrix}0\\\\-\\sqrt{2}\\end{pmatrix}$"
   ]
  },
  {
   "cell_type": "code",
   "execution_count": 1,
   "id": "535c53a8",
   "metadata": {},
   "outputs": [
    {
     "data": {
      "text/html": [
       "<html><script type=\"math/tex; mode=display\">\\newcommand{\\Bold}[1]{\\mathbf{#1}}\\left(\\begin{array}{rr}\n",
       "\\frac{1}{2} \\, \\sqrt{2} & \\frac{1}{2} \\, \\sqrt{2} \\\\\n",
       "-\\frac{1}{2} \\, \\sqrt{2} & \\frac{1}{2} \\, \\sqrt{2}\n",
       "\\end{array}\\right)</script></html>"
      ],
      "text/latex": [
       "$$\\newcommand{\\Bold}[1]{\\mathbf{#1}}\\left(\\begin{array}{rr}\n",
       "\\frac{1}{2} \\, \\sqrt{2} & \\frac{1}{2} \\, \\sqrt{2} \\\\\n",
       "-\\frac{1}{2} \\, \\sqrt{2} & \\frac{1}{2} \\, \\sqrt{2}\n",
       "\\end{array}\\right)$$"
      ],
      "text/plain": [
       "[ 1/2*sqrt(2)  1/2*sqrt(2)]\n",
       "[-1/2*sqrt(2)  1/2*sqrt(2)]"
      ]
     },
     "metadata": {},
     "output_type": "display_data"
    },
    {
     "data": {
      "text/html": [
       "<html><script type=\"math/tex; mode=display\">\\newcommand{\\Bold}[1]{\\mathbf{#1}}\\left(\\begin{array}{r}\n",
       "0 \\\\\n",
       "-\\sqrt{2}\n",
       "\\end{array}\\right)</script></html>"
      ],
      "text/latex": [
       "$$\\newcommand{\\Bold}[1]{\\mathbf{#1}}\\left(\\begin{array}{r}\n",
       "0 \\\\\n",
       "-\\sqrt{2}\n",
       "\\end{array}\\right)$$"
      ],
      "text/plain": [
       "[       0]\n",
       "[-sqrt(2)]"
      ]
     },
     "metadata": {},
     "output_type": "display_data"
    },
    {
     "data": {
      "text/plain": [
       "(None, None)"
      ]
     },
     "execution_count": 1,
     "metadata": {},
     "output_type": "execute_result"
    }
   ],
   "source": [
    "# Define the original vector a\n",
    "a = vector([1, -1]).column()\n",
    "\n",
    "# Define the rotation angle in radians (45 degrees clockwise)\n",
    "angle = -pi/4\n",
    "\n",
    "# Create the rotation matrix\n",
    "R = matrix([[cos(angle), -sin(angle)], [sin(angle), cos(angle)]])\n",
    "\n",
    "# Rotate the vector by multiplying with the rotation matrix\n",
    "a_rotated = R * a\n",
    "\n",
    "pretty_print(R) , pretty_print(a_rotated)\n"
   ]
  },
  {
   "cell_type": "code",
   "execution_count": null,
   "id": "d134fbcc",
   "metadata": {},
   "outputs": [],
   "source": []
  }
 ],
 "metadata": {
  "kernelspec": {
   "display_name": "SageMath 9.5",
   "language": "sage",
   "name": "sagemath"
  },
  "language_info": {
   "codemirror_mode": {
    "name": "ipython",
    "version": 3
   },
   "file_extension": ".py",
   "mimetype": "text/x-python",
   "name": "python",
   "nbconvert_exporter": "python",
   "pygments_lexer": "ipython3",
   "version": "3.10.12"
  }
 },
 "nbformat": 4,
 "nbformat_minor": 5
}
