{
 "cells": [
  {
   "cell_type": "markdown",
   "id": "59f1afa4",
   "metadata": {},
   "source": [
    "%display latex"
   ]
  },
  {
   "cell_type": "markdown",
   "id": "6825d45e",
   "metadata": {},
   "source": [
    "For which value of the parameter k is  the real matrix $ A= \\begin{pmatrix}1 & k\\\\ k & 2\\end{pmatrix}$ \n",
    "non-positive definite ?"
   ]
  },
  {
   "cell_type": "markdown",
   "id": "39f84fb0",
   "metadata": {},
   "source": [
    "A real matrix is non-positive definite if and only if all of its eigenvalues are non-positive. To determine the eigenvalues of the matrix $A = \\begin{pmatrix} 1 & k \\ k & 2 \\end{pmatrix}$, you can find the eigenvalues by solving the characteristic equation:\n",
    "\n",
    "$\\det(A - \\lambda I) = 0$\n",
    "\n",
    "where $I$ is the identity matrix and $\\lambda$ is the eigenvalue we want to find. The characteristic equation for matrix $A$ is:\n",
    "\n",
    "$\\det\\left(\\begin{pmatrix} 1 & k \\\\ k & 2 \\end{pmatrix} - \\lambda \\begin{pmatrix} 1 & 0 \\\\ 0 & 1 \\end{pmatrix}\\right) = 0$\n",
    "\n",
    "This simplifies to:\n",
    "\n",
    "$\\det\\left(\\begin{pmatrix} 1-\\lambda & k \\\\ k & 2-\\lambda \\end{pmatrix}\\right) = 0$\n",
    "\n",
    "Now, calculate the determinant:\n",
    "\n",
    "$(1-\\lambda)(2-\\lambda) - k^2 = 0$\n",
    "\n",
    "Expanding and simplifying:\n",
    "\n",
    "$2 - 3\\lambda + \\lambda^2 - k^2 = 0$\n",
    "\n",
    "Now, we need to find the values of $\\lambda$ for which the eigenvalues are non-positive. An eigenvalue is non-positive if and only if $\\lambda \\leq 0$. Therefore, we need to find the values of $k$ for which $\\lambda \\leq 0$.\n",
    "\n",
    "Looking at the characteristic equation:\n",
    "\n",
    "$\\lambda^2 - 3\\lambda + 2 - k^2 = 0$\n",
    "\n",
    "We want to find the values of $k$ for which the roots of this equation are non-positive. The roots of the equation are found using the quadratic formula:\n",
    "\n",
    "$\\lambda = \\frac{3 \\pm \\sqrt{3^2 - 4(1)(2-k^2)}}{2(1)}$\n",
    "\n",
    "Simplify the formula:\n",
    "\n",
    "$\\lambda = \\frac{3 \\pm \\sqrt{9 - (8-4k^2)}}{2}$\n",
    "\n",
    "$\\lambda = \\frac{3 \\pm \\sqrt{4k^2+1}}{2}$\n",
    "\n",
    "For the eigenvalues to be non-positive, we need:\n",
    "\n",
    "$\\frac{3 - \\sqrt{4k^2+1}}{2} \\leq 0$ and $\\frac{3 + \\sqrt{4k^2+1}}{2} \\leq 0$\n",
    "\n",
    "Solving these inequalities:\n",
    "\n",
    "$\\frac{3 - \\sqrt{4k^2+1}}{2} \\leq 0$\n",
    "\n",
    "$3 - \\sqrt{4k^2+1} \\leq 0$\n",
    "\n",
    "$\\sqrt{4k^2+1} \\geq 3$\n",
    "\n",
    "$4k^2+1 \\geq 3^2$\n",
    "\n",
    "$4k^2 \\geq 9 - 1$\n",
    "\n",
    "$4k^2 \\geq 8$\n",
    "\n",
    "$k^2 \\geq 2$\n",
    "\n",
    "Since we want non-positive values of $\\lambda$, this inequality does not provide any such values.\n",
    "\n",
    "$\\frac{3 + \\sqrt{4k^2+1}}{2} \\leq 0$\n",
    "\n",
    "This inequality can never be satisfied because the right side is always positive for real $k$, and the left side is non-negative.\n",
    "\n",
    "So, for any real value of $k$, the matrix $A$ is positive definite, not non-positive definite."
   ]
  },
  {
   "cell_type": "code",
   "execution_count": 10,
   "id": "bdd7f9b7",
   "metadata": {},
   "outputs": [
    {
     "name": "stdout",
     "output_type": "stream",
     "text": [
      "#0: solve_rat_ineq(ineq=3/2-sqrt(4*_SAGE_VAR_k^2+1)/2 <= 0)\n"
     ]
    },
    {
     "data": {
      "text/html": [
       "<html><script type=\"math/tex; mode=display\">\\newcommand{\\Bold}[1]{\\mathbf{#1}}\\left[-\\frac{1}{2} \\, \\sqrt{4 \\, k^{2} + 1} + \\frac{3}{2}, \\frac{1}{2} \\, \\sqrt{4 \\, k^{2} + 1} + \\frac{3}{2}\\right]</script></html>"
      ],
      "text/latex": [
       "$$\\newcommand{\\Bold}[1]{\\mathbf{#1}}\\left[-\\frac{1}{2} \\, \\sqrt{4 \\, k^{2} + 1} + \\frac{3}{2}, \\frac{1}{2} \\, \\sqrt{4 \\, k^{2} + 1} + \\frac{3}{2}\\right]$$"
      ],
      "text/plain": [
       "[-1/2*sqrt(4*k^2 + 1) + 3/2, 1/2*sqrt(4*k^2 + 1) + 3/2]"
      ]
     },
     "metadata": {},
     "output_type": "display_data"
    },
    {
     "data": {
      "text/html": [
       "<html><script type=\"math/tex; mode=display\">\\newcommand{\\Bold}[1]{\\mathbf{#1}}\\left[\\left[\\sqrt{4 \\, k^{2} + 1} - 3 = 0\\right], \\left[\\sqrt{4 \\, k^{2} + 1} - 3 > 0\\right]\\right]</script></html>"
      ],
      "text/latex": [
       "$$\\newcommand{\\Bold}[1]{\\mathbf{#1}}\\left[\\left[\\sqrt{4 \\, k^{2} + 1} - 3 = 0\\right], \\left[\\sqrt{4 \\, k^{2} + 1} - 3 > 0\\right]\\right]$$"
      ],
      "text/plain": [
       "[[sqrt(4*k^2 + 1) - 3 == 0], [sqrt(4*k^2 + 1) - 3 > 0]]"
      ]
     },
     "metadata": {},
     "output_type": "display_data"
    },
    {
     "data": {
      "text/plain": [
       "([[sqrt(4*k^2 + 1) - 3 == 0], [sqrt(4*k^2 + 1) - 3 > 0]], None, None)"
      ]
     },
     "execution_count": 10,
     "metadata": {},
     "output_type": "execute_result"
    }
   ],
   "source": [
    "# Define the matrix A and the variable k\n",
    "var('k')\n",
    "A = Matrix([[1, k], [k, 2]])\n",
    "\n",
    "# Find the eigenvalues of A\n",
    "eigenvalues = A.eigenvalues()\n",
    "\n",
    "# Check if all eigenvalues are non-positive\n",
    "solutions = solve((-1/2*sqrt(4*k^2 + 1) + 3/2) <= 0, k)\n",
    "\n",
    "solutions, pretty_print(eigenvalues), pretty_print(solutions)"
   ]
  },
  {
   "cell_type": "code",
   "execution_count": 11,
   "id": "0ce8d565",
   "metadata": {},
   "outputs": [
    {
     "data": {
      "text/plain": [
       "1.00000000000000"
      ]
     },
     "execution_count": 11,
     "metadata": {},
     "output_type": "execute_result"
    }
   ],
   "source": [
    "n(-1/2*sqrt( 1) + 3/2)"
   ]
  },
  {
   "cell_type": "code",
   "execution_count": null,
   "id": "0645905a",
   "metadata": {},
   "outputs": [],
   "source": []
  },
  {
   "cell_type": "code",
   "execution_count": null,
   "id": "f64c270a",
   "metadata": {},
   "outputs": [],
   "source": []
  }
 ],
 "metadata": {
  "kernelspec": {
   "display_name": "SageMath 9.5",
   "language": "sage",
   "name": "sagemath"
  },
  "language_info": {
   "codemirror_mode": {
    "name": "ipython",
    "version": 3
   },
   "file_extension": ".py",
   "mimetype": "text/x-python",
   "name": "python",
   "nbconvert_exporter": "python",
   "pygments_lexer": "ipython3",
   "version": "3.10.12"
  }
 },
 "nbformat": 4,
 "nbformat_minor": 5
}
