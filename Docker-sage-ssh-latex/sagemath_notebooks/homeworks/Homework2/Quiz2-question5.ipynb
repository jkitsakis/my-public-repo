{
 "cells": [
  {
   "cell_type": "code",
   "execution_count": 1,
   "id": "c965e4aa",
   "metadata": {},
   "outputs": [],
   "source": [
    "%display latex"
   ]
  },
  {
   "cell_type": "markdown",
   "id": "c534c7db",
   "metadata": {},
   "source": [
    "What is the orthogonal complement in $\\mathbb{R}^3$\n",
    " of the span of the vectors : $v_1=\\left(\\begin{array}{c}1\\\\1\\\\1\\end{array}\\right),v_2=\\left(\\begin{array}{c}2\\\\2\\\\2\\end{array}\\right), v_3=\\left(\\begin{array}{c}3\\\\3\\\\3\\end{array}\\right)$"
   ]
  },
  {
   "cell_type": "code",
   "execution_count": null,
   "id": "0b0c7412",
   "metadata": {},
   "outputs": [],
   "source": []
  }
 ],
 "metadata": {
  "kernelspec": {
   "display_name": "SageMath 9.5",
   "language": "sage",
   "name": "sagemath"
  },
  "language_info": {
   "codemirror_mode": {
    "name": "ipython",
    "version": 3
   },
   "file_extension": ".py",
   "mimetype": "text/x-python",
   "name": "python",
   "nbconvert_exporter": "python",
   "pygments_lexer": "ipython3",
   "version": "3.10.12"
  }
 },
 "nbformat": 4,
 "nbformat_minor": 5
}
