{
 "cells": [
  {
   "cell_type": "markdown",
   "id": "a51e4030",
   "metadata": {},
   "source": [
    "%display latex"
   ]
  },
  {
   "cell_type": "markdown",
   "id": "ee91ac82",
   "metadata": {},
   "source": [
    "Assume an inner product defined by $<x,y>=x^TAy$ where $A= ($$\\begin{pmatrix}2&k\\\\k&2\\end{pmatrix}) $ and $x,y \\in \\mathcal{R}^2$. For which value of the real parameter k is the angle  between the  vectors $a= $$\\begin{bmatrix}{1}\\\\{1}\\\\ \\end{bmatrix}$ and $b= $$\\begin{bmatrix}{1}\\\\{2}\\\\ \\end{bmatrix}$ equal to 45$^{\\circ}$?\n"
   ]
  },
  {
   "cell_type": "code",
   "execution_count": 1,
   "id": "f9a0ed0c",
   "metadata": {},
   "outputs": [
    {
     "data": {
      "text/plain": [
       "k"
      ]
     },
     "execution_count": 1,
     "metadata": {},
     "output_type": "execute_result"
    }
   ],
   "source": [
    "var('k')"
   ]
  },
  {
   "cell_type": "code",
   "execution_count": 2,
   "id": "7219ccc1",
   "metadata": {},
   "outputs": [
    {
     "data": {
      "text/plain": [
       "[2 k]\n",
       "[k 2]"
      ]
     },
     "execution_count": 2,
     "metadata": {},
     "output_type": "execute_result"
    }
   ],
   "source": [
    "# Define the matrix A\n",
    "A = Matrix([[2, k], [k, 2]]) \n",
    "A"
   ]
  },
  {
   "cell_type": "code",
   "execution_count": 3,
   "id": "aa490391",
   "metadata": {},
   "outputs": [
    {
     "data": {
      "text/plain": [
       "[1]\n",
       "[1]"
      ]
     },
     "execution_count": 3,
     "metadata": {},
     "output_type": "execute_result"
    }
   ],
   "source": [
    "vector_a=vector([1,1]).column()\n",
    "vector_a"
   ]
  },
  {
   "cell_type": "code",
   "execution_count": 4,
   "id": "17ada3eb",
   "metadata": {},
   "outputs": [
    {
     "data": {
      "text/plain": [
       "[1]\n",
       "[2]"
      ]
     },
     "execution_count": 4,
     "metadata": {},
     "output_type": "execute_result"
    }
   ],
   "source": [
    "vector_b=vector([1,2]).column()\n",
    "vector_b"
   ]
  },
  {
   "cell_type": "code",
   "execution_count": 5,
   "id": "4b8b6e3e",
   "metadata": {},
   "outputs": [
    {
     "data": {
      "text/plain": [
       "[3*k + 6]"
      ]
     },
     "execution_count": 5,
     "metadata": {},
     "output_type": "execute_result"
    }
   ],
   "source": [
    "# Calculate the inner product <𝑥,𝑦>=𝑥^𝑇𝐴𝑦\n",
    "inner_product = vector_a.transpose() * A * vector_b \n",
    "inner_product"
   ]
  },
  {
   "cell_type": "markdown",
   "id": "86deacf4",
   "metadata": {},
   "source": [
    "Calculate the lengtht <𝑥,x>=𝑥^𝑇𝐴x"
   ]
  },
  {
   "cell_type": "code",
   "execution_count": 9,
   "id": "89345b8e",
   "metadata": {},
   "outputs": [
    {
     "data": {
      "text/plain": [
       "[4*(2*k + 5)*(k + 2)]"
      ]
     },
     "execution_count": 9,
     "metadata": {},
     "output_type": "execute_result"
    }
   ],
   "source": [
    "la = vector_a.transpose() * A * vector_a\n",
    "lb = vector_b.transpose() * A * vector_b\n",
    "\n",
    "la*lb"
   ]
  },
  {
   "cell_type": "code",
   "execution_count": 7,
   "id": "cfa0e4b7",
   "metadata": {},
   "outputs": [
    {
     "data": {
      "text/html": [
       "<html><script type=\"math/tex; mode=display\">\\newcommand{\\Bold}[1]{\\mathbf{#1}}\\verb|inner|\\verb| |\\verb|product|\\verb| |\\verb|=| \\left(\\begin{array}{r}\n",
       "3 \\, k + 6\n",
       "\\end{array}\\right)</script></html>"
      ],
      "text/latex": [
       "$$\\newcommand{\\Bold}[1]{\\mathbf{#1}}\\verb|inner|\\verb| |\\verb|product|\\verb| |\\verb|=| \\left(\\begin{array}{r}\n",
       "3 \\, k + 6\n",
       "\\end{array}\\right)$$"
      ],
      "text/plain": [
       "'inner product =' [3*k + 6]"
      ]
     },
     "metadata": {},
     "output_type": "display_data"
    },
    {
     "data": {
      "text/html": [
       "<html><script type=\"math/tex; mode=display\">\\newcommand{\\Bold}[1]{\\mathbf{#1}}\\verb|cos|\\verb| |\\verb|thita=| \\left(\\begin{array}{r}\n",
       "\\frac{3 \\, {\\left(k + 2\\right)}}{2 \\, \\sqrt{{\\left(2 \\, k + 5\\right)} {\\left(k + 2\\right)}}}\n",
       "\\end{array}\\right)</script></html>"
      ],
      "text/latex": [
       "$$\\newcommand{\\Bold}[1]{\\mathbf{#1}}\\verb|cos|\\verb| |\\verb|thita=| \\left(\\begin{array}{r}\n",
       "\\frac{3 \\, {\\left(k + 2\\right)}}{2 \\, \\sqrt{{\\left(2 \\, k + 5\\right)} {\\left(k + 2\\right)}}}\n",
       "\\end{array}\\right)$$"
      ],
      "text/plain": [
       "'cos thita=' [3/2*(k + 2)/sqrt((2*k + 5)*(k + 2))]"
      ]
     },
     "metadata": {},
     "output_type": "display_data"
    },
    {
     "name": "stdout",
     "output_type": "stream",
     "text": [
      "cos thita= (3/2*(k + 2)/sqrt((2*k + 5)*(k + 2)))\n"
     ]
    }
   ],
   "source": [
    "cos_theta = inner_product/sqrt(4*(2*k + 5)*(k + 2))\n",
    "cos_theta\n",
    "pretty_print(\"inner product =\", inner_product), \n",
    "pretty_print(\"cos thita=\",cos_theta)\n",
    "print(\"cos thita=\",cos_theta[0])"
   ]
  },
  {
   "cell_type": "code",
   "execution_count": 8,
   "id": "bc2f1e70",
   "metadata": {},
   "outputs": [
    {
     "data": {
      "text/plain": [
       "[-2, -8/5]"
      ]
     },
     "execution_count": 8,
     "metadata": {},
     "output_type": "execute_result"
    }
   ],
   "source": [
    "\n",
    "eq = (3/2) * (k + 2) / sqrt((2*k + 5) * (k + 2)) - 1 / sqrt(2)\n",
    "\n",
    "solutions = solve(eq, k, to_poly_solve=True, solution_dict=True)\n",
    "solutions = [sol[k].simplify_rational() for sol in solutions]\n",
    "solutions\n"
   ]
  },
  {
   "cell_type": "code",
   "execution_count": null,
   "id": "2ac47ab5",
   "metadata": {},
   "outputs": [],
   "source": []
  }
 ],
 "metadata": {
  "kernelspec": {
   "display_name": "SageMath 9.5",
   "language": "sage",
   "name": "sagemath"
  },
  "language_info": {
   "codemirror_mode": {
    "name": "ipython",
    "version": 3
   },
   "file_extension": ".py",
   "mimetype": "text/x-python",
   "name": "python",
   "nbconvert_exporter": "python",
   "pygments_lexer": "ipython3",
   "version": "3.10.12"
  }
 },
 "nbformat": 4,
 "nbformat_minor": 5
}
