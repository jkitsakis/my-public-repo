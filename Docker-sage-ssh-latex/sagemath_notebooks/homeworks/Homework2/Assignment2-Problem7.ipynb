{
 "cells": [
  {
   "cell_type": "markdown",
   "id": "92939e1a",
   "metadata": {},
   "source": [
    "$\\textbf{Problem 7}$\n",
    "\\\n",
    "\\\n",
    "Consider the Euclidean vector space R5 with the Euclidean inner product. A subspace $U ⊂ R^5$ is defined by \n",
    "\n",
    "$\n",
    "\\mathbf{U} = span \\left\\{\n",
    "\\begin{bmatrix} 0 \\\\ -1 \\\\ 2 \\\\ 0 \\\\ 2 \\end{bmatrix},\n",
    "\\begin{bmatrix} 1 \\\\ -3 \\\\ 1 \\\\ -1 \\\\ 2 \\end{bmatrix},\n",
    "\\begin{bmatrix} -3 \\\\ 4 \\\\ 1 \\\\ 2 \\\\ 1 \\end{bmatrix},\n",
    "\\begin{bmatrix} -1 \\\\ -3 \\\\ 5 \\\\ 0 \\\\ 7 \\end{bmatrix}\n",
    "\\right\\}\n",
    "$\n",
    "\\\n",
    "\\\n",
    "Using Sagemath : \n",
    "\\\n",
    "(a) check if the vectors that $span U$ are linearly independent; \n",
    "\\\n",
    "\\\n",
    "$\\textbf{Answer :}$"
   ]
  },
  {
   "cell_type": "code",
   "execution_count": 5,
   "id": "05a4c87e",
   "metadata": {},
   "outputs": [
    {
     "name": "stdout",
     "output_type": "stream",
     "text": [
      "Echelon Form:  [1 0 0 1]\n",
      "[0 1 0 2]\n",
      "[0 0 1 1]\n",
      "[0 0 0 0]\n",
      "[0 0 0 0]\n",
      "Rank:  3\n",
      "Number of rows :  5\n",
      "Reduced Row Echelon Form:  [1 0 0 1]\n",
      "[0 1 0 2]\n",
      "[0 0 1 1]\n",
      "[0 0 0 0]\n",
      "[0 0 0 0]\n",
      "Is Linear Independent ? :  False\n"
     ]
    }
   ],
   "source": [
    "# Define the vectors\n",
    "v1 = vector([0, -1, 2, 0, 2])\n",
    "v2 = vector([1, -3, 1, -1, 2])\n",
    "v3 = vector([-3, 4, 1, 2, 1])\n",
    "v4 = vector([-1, -3, 5, 0, 7])\n",
    "\n",
    "# Form the matrix with these vectors as rows\n",
    "A = matrix([v1, v2, v3, v4]).transpose()\n",
    "\n",
    "# Check for linear independence\n",
    "is_linearly_independent = A.echelon_form().rank() == A.nrows()\n",
    "\n",
    "print('Echelon Form: ', A.echelon_form())\n",
    "print('Rank: ', A.echelon_form().rank())\n",
    "print('Number of rows : ', A.nrows())\n",
    "print('Reduced Row Echelon Form: ',A.rref())\n",
    "\n",
    "# Output the result\n",
    "print('Is Linear Independent ? : ',is_linearly_independent)\n"
   ]
  },
  {
   "cell_type": "markdown",
   "id": "05d18e21",
   "metadata": {},
   "source": [
    "\\\n",
    "(b) find the projection matrix that maps $R^5$ onto $U$;\n",
    "\\\n",
    "\\\n",
    "$\\textbf{Answer :}$"
   ]
  },
  {
   "cell_type": "code",
   "execution_count": 7,
   "id": "6a1a4a16",
   "metadata": {},
   "outputs": [
    {
     "name": "stdout",
     "output_type": "stream",
     "text": [
      "Gram-Schmidt orthogonalization Matrix B : \n",
      "[       0       -1  222/241]\n",
      "[       1   -21/11 -102/241]\n",
      "[      -3     8/11  -30/241]\n",
      "[      -1   -45/11  -12/241]\n",
      "Projection matrix P\n",
      "[     11       0       0]\n",
      "[      0  241/11       0]\n",
      "[      0       0 252/241]\n"
     ]
    }
   ],
   "source": [
    "# Define the vectors spanning U\n",
    "v1 = vector([0, -1, 2, 0, 2])\n",
    "v2 = vector([1, -3, 1, -1, 2])\n",
    "v3 = vector([-3, 4, 1, 2, 1])\n",
    "v4 = vector([-1, -3, 5, 0, 7])\n",
    "\n",
    "# Create the matrix A with the vectors as columns\n",
    "A = Matrix([v1, v2, v3, v4]).transpose()\n",
    "\n",
    "# Perform Gram-Schmidt orthogonalization\n",
    "B = A.gram_schmidt()[0].transpose()\n",
    "\n",
    "# Compute the projection matrix P using the orthogonal basis\n",
    "P = B.transpose() * B\n",
    "\n",
    "print('Gram-Schmidt orthogonalization Matrix B : ')\n",
    "print(B)\n",
    "print('Projection matrix P')\n",
    "print(P)\n"
   ]
  },
  {
   "cell_type": "markdown",
   "id": "5630f295",
   "metadata": {},
   "source": [
    "\\\n",
    "(c) Find the projection of the vector $x = [ −1, 9, −1, 4, 1 ]^T$ onto $U$\n",
    "\\\n",
    "\\\n",
    "$\\textbf{Answer :}$"
   ]
  },
  {
   "cell_type": "code",
   "execution_count": 61,
   "id": "7444589c",
   "metadata": {},
   "outputs": [
    {
     "data": {
      "text/plain": [
       "(-21527/3472, 47685/3472, -13367/3472, 2465/496, -1577/248)"
      ]
     },
     "execution_count": 61,
     "metadata": {},
     "output_type": "execute_result"
    }
   ],
   "source": [
    "# Given vector x\n",
    "x = vector([-1, 9, -1, 4, 1])\n",
    "\n",
    "# Basis vectors for U\n",
    "u1 = vector([0, -1, 2, 0, 2])\n",
    "u2 = vector([1, -3, 1, -1, 2])\n",
    "u3 = vector([-3, 4, 1, 2, 1])\n",
    "u4 = vector([-1, -3, 5, 0, 7])\n",
    "\n",
    "# Projection of x onto U\n",
    "projection_result = (x.dot_product(u1)/u1.dot_product(u1)) * u1 + (x.dot_product(u2)/u2.dot_product(u2)) * u2 + (x.dot_product(u3)/u3.dot_product(u3)) * u3 + (x.dot_product(u4)/u4.dot_product(u4)) * u4\n",
    "\n",
    "# Display the projection result\n",
    "projection_result\n"
   ]
  },
  {
   "cell_type": "markdown",
   "id": "4ef63e37",
   "metadata": {},
   "source": [
    "\\\n",
    "(d) Compute the projection error in question (c) both analytically and numerically\n",
    "\\\n",
    "\\\n",
    "$\\textbf{Answer :}$"
   ]
  },
  {
   "cell_type": "markdown",
   "id": "52e9faac",
   "metadata": {},
   "source": [
    "The projection error is the vector that represents the difference between the original vector $ \\mathbf{x} $ and its projection onto the subspace $  U $ . It can be computed both analytically and numerically.\n",
    "\n",
    "$\\textbf{Analytical Computation:}$\n",
    "\n",
    "Analytically, the projection error  $\\mathbf{e}$  is given by:\n",
    "\n",
    "$ \\mathbf{e} = \\mathbf{x} - \\text{proj}_{U}(\\mathbf{x}) $\n",
    "\n",
    "Using the projection formula, we can write this as:\n",
    "\n",
    "$ \\mathbf{e} = \\mathbf{x} - \\left( \\frac{\\mathbf{x} \\cdot \\mathbf{u}_1}{\\|\\mathbf{u}_1\\|^2} \\mathbf{u}_1 + \\frac{\\mathbf{x} \\cdot \\mathbf{u}_2}{\\|\\mathbf{u}_2\\|^2} \\mathbf{u}_2 + \\frac{\\mathbf{x} \\cdot \\mathbf{u}_3}{\\|\\mathbf{u}_3\\|^2} \\mathbf{u}_3 + \\frac{\\mathbf{x} \\cdot \\mathbf{u}_4}{\\|\\mathbf{u}_4\\|^2} \\mathbf{u}_4 \\right) $\n",
    "\n",
    "This gives the expression for the analytical projection error.\n",
    "\n",
    "$\\textbf{Numerical Computation:}$\n",
    "\n",
    "This code calculates the projection error numerically by subtracting the projection result from the original vector$\\mathbf{x}$."
   ]
  },
  {
   "cell_type": "code",
   "execution_count": 3,
   "id": "9fbc7104",
   "metadata": {},
   "outputs": [
    {
     "data": {
      "text/plain": [
       "(18055/3472, -16437/3472, 9895/3472, -481/496, 1825/248)"
      ]
     },
     "execution_count": 3,
     "metadata": {},
     "output_type": "execute_result"
    }
   ],
   "source": [
    "# Given vector x\n",
    "x = vector([-1, 9, -1, 4, 1])\n",
    "\n",
    "u1 = vector([0, -1, 2, 0, 2])\n",
    "u2 = vector([1, -3, 1, -1, 2])\n",
    "u3 = vector([-3, 4, 1, 2, 1])\n",
    "u4 = vector([-1, -3, 5, 0, 7])\n",
    "\n",
    "# Numerically compute the projection\n",
    "projection_result = (x.dot_product(u1)/u1.dot_product(u1)) * u1 + (x.dot_product(u2)/u2.dot_product(u2)) * u2 + (x.dot_product(u3)/u3.dot_product(u3)) * u3 + (x.dot_product(u4)/u4.dot_product(u4)) * u4\n",
    "\n",
    "# Numerically compute the projection error\n",
    "projection_error = x - projection_result\n",
    "\n",
    "# Display the numerical projection error\n",
    "projection_error\n"
   ]
  }
 ],
 "metadata": {
  "kernelspec": {
   "display_name": "SageMath 9.5",
   "language": "sage",
   "name": "sagemath"
  },
  "language_info": {
   "codemirror_mode": {
    "name": "ipython",
    "version": 3
   },
   "file_extension": ".py",
   "mimetype": "text/x-python",
   "name": "python",
   "nbconvert_exporter": "python",
   "pygments_lexer": "ipython3",
   "version": "3.10.12"
  }
 },
 "nbformat": 4,
 "nbformat_minor": 5
}
