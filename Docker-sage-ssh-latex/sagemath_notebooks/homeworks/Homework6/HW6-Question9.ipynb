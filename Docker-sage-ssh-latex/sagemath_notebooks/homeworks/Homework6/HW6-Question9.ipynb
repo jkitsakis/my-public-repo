{
 "cells": [
  {
   "cell_type": "markdown",
   "id": "2d0b9a68",
   "metadata": {},
   "source": [
    "$\\textbf{Question9}$ \n",
    "\n",
    "Using by hand calculation, minimize $f(x, y) = 1/2 x^2 + 2y^2$ subject to the constraint $x + 3y = b$, where b is a real number, following the steps below\n",
    "\n",
    "(a) What is the Lagrangian L(x, y, λ) of the problem?\n",
    "\n",
    "(b) What are the equations that determine the minimum ?\n",
    "\n",
    "(c) Solve the equations in (b) to find the minimum (x*, y*) and the Lagrange multiplier λ.\n",
    "\n",
    "(d) Find the value of the function $f$ at the minimum\n",
    "\n",
    "$\\textbf{Answer}$ "
   ]
  },
  {
   "cell_type": "markdown",
   "id": "2087cd7f",
   "metadata": {},
   "source": [
    "\n",
    "(a) The Lagrangian, $ L(x, y, \\lambda) $, is given by:\n",
    "\n",
    "$ L(x, y, \\lambda) = f(x, y) - \\lambda(g(x, y) - b) $\n",
    "\n",
    "where $ f(x, y) = \\frac{1}{2}x^2 + 2y^2 $ and $ g(x, y) = x + 3y $.\n",
    "\n",
    "So, \n",
    "\n",
    "$ L(x, y, \\lambda) = \\frac{1}{2}x^2 + 2y^2 - \\lambda(x + 3y - b) $\n",
    "\n",
    "(b) To find the minimum, we need to find the critical points of $ L $ with respect to $ x $, $ y $, and $ \\lambda $. This means we need to take the partial derivatives of $ L $ with respect to each variable and set them equal to zero:\n",
    "\n",
    "$\\frac{\\partial L}{\\partial x} = x - \\lambda = 0 \\quad (1)$\n",
    "$\\frac{\\partial L}{\\partial y} = 4y - 3\\lambda = 0 \\quad (2)$\n",
    "$\\frac{\\partial L}{\\partial \\lambda} = -(x + 3y - b) = 0 \\quad (3)$\n",
    "\n",
    "(c) Now, we solve the system of equations (1), (2), and (3) simultaneously to find the critical points.\n",
    "\n",
    "From (1), we get $ x = \\lambda $, and from (2), we get $ \\lambda = \\frac{4}{3}y $. Substituting $ \\lambda $ from (2) into (1), we get $ x = \\frac{4}{3}y $. Substituting these values of $ x $ and $ y $ into the constraint equation $ x + 3y = b $, we get:\n",
    "\n",
    "$ \\frac{4}{3}y + 3y = b $\n",
    "$ \\frac{13}{3}y = b $\n",
    "$ y = \\frac{3b}{13} $\n",
    "\n",
    "Then, using $ x = \\frac{4}{3}y $, we get:\n",
    "\n",
    "$ x = \\frac{4}{3} \\times \\frac{3b}{13} = \\frac{4b}{13} $\n",
    "\n",
    "To find $ \\lambda $, we can use equation (3):\n",
    "\n",
    "$ x + 3y - b = 0 $\n",
    "\n",
    "$ \\frac{4b}{13} + 3 \\times \\frac{3b}{13} - b = 0 $\n",
    "\n",
    "$ \\frac{16b}{13} - b = 0 $\n",
    "\n",
    "$ b = \\frac{16b}{13} $\n",
    "\n",
    "$ b = 0 $\n",
    "\n",
    "So, $ b = 0 $, $ x = 0 $, and $ y = 0 $, which means the Lagrange multiplier $ \\lambda $ doesn't exist in this case because the solution is on the boundary. \n",
    "\n",
    "(d) Finally, to find the value of the function $ f $ at the minimum, we substitute the values of $ x $ and $ y $ into $ f(x, y) = \\frac{1}{2}x^2 + 2y^2 $:\n",
    "\n",
    "$ f(0, 0) = \\frac{1}{2}(0)^2 + 2(0)^2 = 0 $\n",
    "\n",
    "So, the minimum value of $ f $ is 0."
   ]
  },
  {
   "cell_type": "code",
   "execution_count": null,
   "id": "99b6e101",
   "metadata": {},
   "outputs": [],
   "source": []
  }
 ],
 "metadata": {
  "kernelspec": {
   "display_name": "SageMath 9.5",
   "language": "sage",
   "name": "sagemath"
  },
  "language_info": {
   "codemirror_mode": {
    "name": "ipython",
    "version": 3
   },
   "file_extension": ".py",
   "mimetype": "text/x-python",
   "name": "python",
   "nbconvert_exporter": "python",
   "pygments_lexer": "ipython3",
   "version": "3.10.12"
  }
 },
 "nbformat": 4,
 "nbformat_minor": 5
}
