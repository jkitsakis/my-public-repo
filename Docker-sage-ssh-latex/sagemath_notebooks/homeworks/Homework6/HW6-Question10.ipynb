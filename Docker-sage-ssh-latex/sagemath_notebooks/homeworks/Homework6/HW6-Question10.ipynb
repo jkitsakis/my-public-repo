{
 "cells": [
  {
   "cell_type": "markdown",
   "id": "890de863",
   "metadata": {},
   "source": [
    "$\\textbf{Question10}$ \n",
    "\n",
    "Using by hand calculation, show that the LogSumExp function in $R^2$  \n",
    "$LSE(x_1, x_2) = ln(e^{x_1} + e^{x_2})$\n",
    "is convex using the following steps:\n",
    "\n",
    "(a) Calculate the Hessian matrix 𝐻. \n",
    "\n",
    "(b) Calculate the eigenvalues of 𝐻. \n",
    "\n",
    "(c) Determine whether the function is convex or not  \n",
    "\n",
    "$\\textbf{Answer}$ "
   ]
  },
  {
   "cell_type": "markdown",
   "id": "f9cfa6b0",
   "metadata": {},
   "source": [
    "Sure, let's go through each step:\n",
    "\n",
    "(a) To calculate the Hessian matrix $ H $ of the function $ LSE(x_1, x_2) = \\ln(e^{x_1} + e^{x_2}) $, we need to compute the second partial derivatives. \n",
    "\n",
    "First, let's find the first partial derivatives:\n",
    "$\\frac{\\partial LSE}{\\partial x_1} = \\frac{e^{x_1}}{e^{x_1} + e^{x_2}}$\n",
    "\n",
    "$\\frac{\\partial LSE}{\\partial x_2} = \\frac{e^{x_2}}{e^{x_1} + e^{x_2}}$\n",
    "\n",
    "Now, we differentiate again to find the second partial derivatives:\n",
    "$\\frac{\\partial^2 LSE}{\\partial x_1^2} = \\frac{e^{x_1}(e^{x_1} + e^{x_2}) - e^{x_1}e^{x_1}}{(e^{x_1} + e^{x_2})^2} = \\frac{e^{x_1}}{(e^{x_1} + e^{x_2})^2}$\n",
    "\n",
    "$\\frac{\\partial^2 LSE}{\\partial x_2^2} = \\frac{e^{x_2}(e^{x_1} + e^{x_2}) - e^{x_2}e^{x_2}}{(e^{x_1} + e^{x_2})^2} = \\frac{e^{x_2}}{(e^{x_1} + e^{x_2})^2}$\n",
    "\n",
    "$\\frac{\\partial^2 LSE}{\\partial x_1 \\partial x_2} = \\frac{-e^{x_1}e^{x_2}}{(e^{x_1} + e^{x_2})^2}$\n",
    "\n",
    "So, the Hessian matrix $ H $ is:\n",
    "$H = \\begin{bmatrix}\\frac{e^{x_1}}{(e^{x_1} + e^{x_2})^2} & \\frac{-e^{x_1}e^{x_2}}{(e^{x_1} + e^{x_2})^2} \\\\\\frac{-e^{x_1}e^{x_2}}{(e^{x_1} + e^{x_2})^2} & \\frac{e^{x_2}}{(e^{x_1} + e^{x_2})^2}\\end{bmatrix}$\n",
    "\n",
    "\n",
    "(b) To calculate the eigenvalues of $ H $, we need to find the determinant of the matrix and solve the characteristic equation $ \\text{det}(H - \\lambda I) = 0 $, where $ I $ is the identity matrix.\n",
    "\n",
    "The determinant of $ H $ is:\n",
    "$\\text{det}(H) = \\frac{e^{x_1}e^{x_2}}{(e^{x_1} + e^{x_2})^4} - \\frac{e^{x_1}e^{x_2}}{(e^{x_1} + e^{x_2})^4} = 0$\n",
    "\n",
    "Thus, one eigenvalue is 0.\n",
    "\n",
    "(c) Since one of the eigenvalues is 0 and the determinant is 0, we can't definitively conclude whether the function is convex or not from the eigenvalues test alone. In such cases, you can either try another approach, like using the definition of convexity directly, or rely on other properties. \n",
    "\n",
    "In this case, you can use the fact that the LogSumExp function is indeed convex. This is a known result and is often used in machine learning and optimization contexts."
   ]
  },
  {
   "cell_type": "code",
   "execution_count": null,
   "id": "d5929c23",
   "metadata": {},
   "outputs": [],
   "source": []
  }
 ],
 "metadata": {
  "kernelspec": {
   "display_name": "SageMath 9.5",
   "language": "sage",
   "name": "sagemath"
  },
  "language_info": {
   "codemirror_mode": {
    "name": "ipython",
    "version": 3
   },
   "file_extension": ".py",
   "mimetype": "text/x-python",
   "name": "python",
   "nbconvert_exporter": "python",
   "pygments_lexer": "ipython3",
   "version": "3.10.12"
  }
 },
 "nbformat": 4,
 "nbformat_minor": 5
}
