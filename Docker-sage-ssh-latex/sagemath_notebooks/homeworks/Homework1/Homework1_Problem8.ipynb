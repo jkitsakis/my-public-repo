{
 "cells": [
  {
   "cell_type": "code",
   "execution_count": null,
   "metadata": {},
   "outputs": [],
   "source": [
    "%display latex"
   ]
  },
  {
   "cell_type": "markdown",
   "metadata": {},
   "source": [
    "\\textbf{Problem 8}"
   ]
  },
  {
   "cell_type": "markdown",
   "metadata": {},
   "source": [
    "Assume the system of equations in x, y, z, t\n",
    "$$ ax + y + z + t = 1$$\n",
    "$$x + ay + z + t = b$$\n",
    "$$x + y + az + t = b2$$\n",
    "$$x + y + z + at = b3 $$\n",
    "where a, b are integer parameters.\n",
    "Using sagemath\n",
    "(a) find a formal solution of the system in terms of a, b;"
   ]
  },
  {
   "cell_type": "code",
   "execution_count": 1,
   "metadata": {},
   "outputs": [
    {
     "data": {
      "text/plain": [
       "[[x == -(b^3 + b^2 - a + b - 2)/(a^2 + 2*a - 3), y == -(b^3 - a*b + b^2 - 2*b + 1)/(a^2 + 2*a - 3), z == (a*b^2 - b^3 + 2*b^2 - b - 1)/(a^2 + 2*a - 3), t == (a*b^3 + 2*b^3 - b^2 - b - 1)/(a^2 + 2*a - 3)]]"
      ]
     },
     "execution_count": 1,
     "metadata": {},
     "output_type": "execute_result"
    }
   ],
   "source": [
    "a, b, x, y, z, t = var('a b x y z t')\n",
    "\n",
    "eq1 = a*x + y + z + t == 1\n",
    "eq2 = x + a*y + z + t == b\n",
    "eq3 = x + y + a*z + t == b^2\n",
    "eq4 = x + y + z + a*t == b^3\n",
    "\n",
    "solutions = solve([eq1, eq2, eq3, eq4], x, y, z, t)\n",
    "\n",
    "solutions\n"
   ]
  },
  {
   "cell_type": "markdown",
   "metadata": {},
   "source": [
    "(b) determine the values of a, b for which the system has infinitely many solutions and the values of a, b\n",
    "for which the system is impossible;"
   ]
  },
  {
   "cell_type": "code",
   "execution_count": 4,
   "metadata": {},
   "outputs": [
    {
     "data": {
      "text/plain": [
       "[[a == -3, b == r1], [a == 1, b == r2]]"
      ]
     },
     "execution_count": 4,
     "metadata": {},
     "output_type": "execute_result"
    }
   ],
   "source": [
    "a, b = var('a b')\n",
    "\n",
    "A = Matrix([[a, 1, 1, 1],\n",
    "            [1, a, 1, 1],\n",
    "            [1, 1, a, 1],\n",
    "            [1, 1, 1, a]])\n",
    "\n",
    "determinant_A = A.det()\n",
    "\n",
    "determinant_A\n",
    "\n",
    "solutions = solve(determinant_A == 0, a, b)\n",
    "\n",
    "solutions\n"
   ]
  },
  {
   "cell_type": "markdown",
   "metadata": {},
   "source": [
    "(c) derive the full solution for a = the first digit of your academic ID, b = the last digit of\n",
    "your academic ID"
   ]
  },
  {
   "cell_type": "code",
   "execution_count": 6,
   "metadata": {},
   "outputs": [
    {
     "data": {
      "text/plain": [
       "[[x == (-2/15), y == (1/15), z == (7/15), t == (19/15)]]"
      ]
     },
     "execution_count": 6,
     "metadata": {},
     "output_type": "execute_result"
    }
   ],
   "source": [
    "a_value = 6\n",
    "b_value = 2\n",
    "\n",
    "eq1 = a_value*x + y + z + t == 1\n",
    "eq2 = x + a_value*y + z + t == b_value\n",
    "eq3 = x + y + a_value*z + t == b_value^2\n",
    "eq4 = x + y + z + a_value*t == b_value^3\n",
    "\n",
    "solutions = solve([eq1, eq2, eq3, eq4], x, y, z, t)\n",
    "\n",
    "solutions"
   ]
  }
 ],
 "metadata": {
  "kernelspec": {
   "display_name": "SageMath 9.5",
   "language": "sage",
   "name": "sagemath"
  },
  "language_info": {
   "codemirror_mode": {
    "name": "ipython",
    "version": 3
   },
   "file_extension": ".py",
   "mimetype": "text/x-python",
   "name": "python",
   "nbconvert_exporter": "python",
   "pygments_lexer": "ipython3",
   "version": "3.10.12"
  }
 },
 "nbformat": 4,
 "nbformat_minor": 4
}
