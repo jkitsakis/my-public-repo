{
 "cells": [
  {
   "cell_type": "code",
   "execution_count": 1,
   "metadata": {},
   "outputs": [],
   "source": [
    "%display latex"
   ]
  },
  {
   "cell_type": "markdown",
   "metadata": {},
   "source": [
    "\\textbf{Problem 7}"
   ]
  },
  {
   "cell_type": "markdown",
   "metadata": {},
   "source": [
    "Let A be a 8 × 8 matrix with elements $A_{ij} = j(−1)^i + i(−1)^j + k$ where i, j = 1, . . . , 8, and k is the last\n",
    "digit of your academic ID.Using Sagemath:"
   ]
  },
  {
   "cell_type": "markdown",
   "metadata": {},
   "source": [
    "(a) Compute A"
   ]
  },
  {
   "cell_type": "code",
   "execution_count": 2,
   "metadata": {},
   "outputs": [
    {
     "data": {
      "text/html": [
       "<html><script type=\"math/tex; mode=display\">\\newcommand{\\Bold}[1]{\\mathbf{#1}}\\left(\\begin{array}{rrrrrrrr}\n",
       "2 & 3 & 4 & 5 & 6 & 7 & 8 & 9 \\\\\n",
       "3 & 0 & 1 & -2 & -1 & -4 & -3 & -6 \\\\\n",
       "4 & 1 & 6 & 3 & 8 & 5 & 10 & 7 \\\\\n",
       "5 & -2 & 3 & -4 & 1 & -6 & -1 & -8 \\\\\n",
       "6 & -1 & 8 & 1 & 10 & 3 & 12 & 5 \\\\\n",
       "7 & -4 & 5 & -6 & 3 & -8 & 1 & -10 \\\\\n",
       "8 & -3 & 10 & -1 & 12 & 1 & 14 & 3 \\\\\n",
       "9 & -6 & 7 & -8 & 5 & -10 & 3 & -12\n",
       "\\end{array}\\right)</script></html>"
      ],
      "text/plain": [
       "[  2   3   4   5   6   7   8   9]\n",
       "[  3   0   1  -2  -1  -4  -3  -6]\n",
       "[  4   1   6   3   8   5  10   7]\n",
       "[  5  -2   3  -4   1  -6  -1  -8]\n",
       "[  6  -1   8   1  10   3  12   5]\n",
       "[  7  -4   5  -6   3  -8   1 -10]\n",
       "[  8  -3  10  -1  12   1  14   3]\n",
       "[  9  -6   7  -8   5 -10   3 -12]"
      ]
     },
     "execution_count": 2,
     "metadata": {},
     "output_type": "execute_result"
    }
   ],
   "source": [
    "A = Matrix(8, 8, lambda i, j: j*(-1)**i + i*(-1)**j + 2) \n",
    "A"
   ]
  },
  {
   "cell_type": "markdown",
   "metadata": {},
   "source": [
    "(b) Find the row reduced echelon form of $A*A^T$"
   ]
  },
  {
   "cell_type": "code",
   "execution_count": 3,
   "metadata": {},
   "outputs": [
    {
     "data": {
      "text/html": [
       "<html><script type=\"math/tex; mode=display\">\\newcommand{\\Bold}[1]{\\mathbf{#1}}\\left(\\begin{array}{rrrrrrrr}\n",
       "1 & 0 & 0 & -1 & -1 & -2 & -2 & -3 \\\\\n",
       "0 & 1 & 0 & 1 & 0 & 1 & 0 & 1 \\\\\n",
       "0 & 0 & 1 & 1 & 2 & 2 & 3 & 3 \\\\\n",
       "0 & 0 & 0 & 0 & 0 & 0 & 0 & 0 \\\\\n",
       "0 & 0 & 0 & 0 & 0 & 0 & 0 & 0 \\\\\n",
       "0 & 0 & 0 & 0 & 0 & 0 & 0 & 0 \\\\\n",
       "0 & 0 & 0 & 0 & 0 & 0 & 0 & 0 \\\\\n",
       "0 & 0 & 0 & 0 & 0 & 0 & 0 & 0\n",
       "\\end{array}\\right)</script></html>"
      ],
      "text/plain": [
       "[ 1  0  0 -1 -1 -2 -2 -3]\n",
       "[ 0  1  0  1  0  1  0  1]\n",
       "[ 0  0  1  1  2  2  3  3]\n",
       "[ 0  0  0  0  0  0  0  0]\n",
       "[ 0  0  0  0  0  0  0  0]\n",
       "[ 0  0  0  0  0  0  0  0]\n",
       "[ 0  0  0  0  0  0  0  0]\n",
       "[ 0  0  0  0  0  0  0  0]"
      ]
     },
     "execution_count": 3,
     "metadata": {},
     "output_type": "execute_result"
    }
   ],
   "source": [
    "B=(A*A.transpose()).rref()\n",
    "B"
   ]
  },
  {
   "cell_type": "markdown",
   "metadata": {},
   "source": [
    "(c) Find the rank of A."
   ]
  },
  {
   "cell_type": "code",
   "execution_count": 4,
   "metadata": {},
   "outputs": [
    {
     "data": {
      "text/html": [
       "<html><script type=\"math/tex; mode=display\">\\newcommand{\\Bold}[1]{\\mathbf{#1}}3</script></html>"
      ],
      "text/plain": [
       "3"
      ]
     },
     "execution_count": 4,
     "metadata": {},
     "output_type": "execute_result"
    }
   ],
   "source": [
    "r=A.rank()\n",
    "r"
   ]
  },
  {
   "cell_type": "markdown",
   "metadata": {},
   "source": [
    "(d) Compute the expression $det(A^2 − A + 1)$"
   ]
  },
  {
   "cell_type": "code",
   "execution_count": 5,
   "metadata": {},
   "outputs": [
    {
     "data": {
      "text/html": [
       "<html><script type=\"math/tex; mode=display\">\\newcommand{\\Bold}[1]{\\mathbf{#1}}21466249</script></html>"
      ],
      "text/plain": [
       "21466249"
      ]
     },
     "execution_count": 5,
     "metadata": {},
     "output_type": "execute_result"
    }
   ],
   "source": [
    "expression = A^2 - A + 1\n",
    "determinant = expression.determinant()\n",
    "determinant"
   ]
  }
 ],
 "metadata": {
  "kernelspec": {
   "display_name": "SageMath 9.5",
   "language": "sage",
   "name": "sagemath"
  },
  "language_info": {
   "codemirror_mode": {
    "name": "ipython",
    "version": 3
   },
   "file_extension": ".py",
   "mimetype": "text/x-python",
   "name": "python",
   "nbconvert_exporter": "python",
   "pygments_lexer": "ipython3",
   "version": "3.10.12"
  }
 },
 "nbformat": 4,
 "nbformat_minor": 4
}
