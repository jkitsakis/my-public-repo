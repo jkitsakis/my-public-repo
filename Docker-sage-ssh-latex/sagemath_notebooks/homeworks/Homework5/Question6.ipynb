{
 "cells": [
  {
   "cell_type": "markdown",
   "id": "cb381728",
   "metadata": {},
   "source": [
    "$\\textbf{Question6}$  \n",
    "\n",
    "Let A and B be two events for which one knows that the probability that at least one of them occurs is 3/4. What is the probability that neither A nor B occurs?\n",
    "\n",
    "$\\textbf{Answer}$"
   ]
  },
  {
   "cell_type": "markdown",
   "id": "b49d2165",
   "metadata": {},
   "source": [
    "To find the probability that neither event A nor event B occurs, we can use the complement rule, which states that the probability of an event happening is 1 minus the probability of the event not happening.\n",
    "\n",
    "Let's denote the probability of event A happening as P(A) and the probability of event B happening as P(B).\n",
    "\n",
    "Given that the probability that at least one of them occurs is 3/4, we can express this as:\n",
    "\n",
    "P(A or B) = 3/4\n",
    "\n",
    "Using the addition rule for probability:\n",
    "\n",
    "P(A or B) = P(A) + P(B) - P(A and B)\n",
    "\n",
    "Since we are interested in the probability of either A or B occurring but not both (neither A nor B), we can simplify the equation:\n",
    "\n",
    "P(A and B) = 0 (since neither A nor B can occur simultaneously)\n",
    "\n",
    "Therefore, we have:\n",
    "\n",
    "P(A or B) = P(A) + P(B)\n",
    "\n",
    "Given that P(A or B) = 3/4, we can solve for P(A) + P(B):\n",
    "\n",
    "3/4 = P(A) + P(B)\n",
    "\n",
    "Since we're interested in finding the probability that neither A nor B occurs, which is the complement of the probability that at least one of them occurs, we can express it as:\n",
    "\n",
    "P(neither A nor B) = 1 - P(A or B)\n",
    "\n",
    "Substituting the value of P(A or B) from above:\n",
    "\n",
    "P(neither A nor B) = 1 - 3/4\n",
    "\n",
    "P(neither A nor B) = 1/4\n",
    "\n",
    "So, the probability that neither event A nor event B occurs is 1/4."
   ]
  },
  {
   "cell_type": "code",
   "execution_count": null,
   "id": "82b58069",
   "metadata": {},
   "outputs": [],
   "source": []
  }
 ],
 "metadata": {
  "kernelspec": {
   "display_name": "SageMath 9.5",
   "language": "sage",
   "name": "sagemath"
  },
  "language_info": {
   "codemirror_mode": {
    "name": "ipython",
    "version": 3
   },
   "file_extension": ".py",
   "mimetype": "text/x-python",
   "name": "python",
   "nbconvert_exporter": "python",
   "pygments_lexer": "ipython3",
   "version": "3.10.12"
  }
 },
 "nbformat": 4,
 "nbformat_minor": 5
}
