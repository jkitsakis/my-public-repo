{
 "cells": [
  {
   "cell_type": "markdown",
   "id": "cb381728",
   "metadata": {},
   "source": [
    "$\\textbf{Question3}$  \n",
    "\n",
    "A survey finds that 15% of people are left-handed. If 10 people are randomly selected, what is the probability that exactly two of them are left-handed?\n",
    "\n",
    "$\\textbf{Answer}$"
   ]
  },
  {
   "cell_type": "markdown",
   "id": "1333647c",
   "metadata": {},
   "source": [
    "To solve this problem, we can use the binomial probability formula, which calculates the probability of getting exactly $ k $ successes in $ n $ trials, given the probability of success in each trial.\n",
    "\n",
    "The binomial probability formula is:\n",
    "\n",
    "$P(X = k) = \\binom{n}{k} \\times p^k \\times (1 - p)^{n - k} $\n",
    "\n",
    "Where:\n",
    "- $ P(X = k) $ is the probability of getting exactly $ k $ successes.\n",
    "- $ n $ is the number of trials (in this case, the number of people selected).\n",
    "- $ k $ is the number of successes (in this case, the number of left-handed people).\n",
    "- $ p $ is the probability of success on each trial (in this case, the probability of a person being left-handed).\n",
    "- $ (1 - p) $ is the probability of failure on each trial.\n",
    "\n",
    "Given:\n",
    "- $ n = 10 $ (10 people are randomly selected).\n",
    "- $ k = 2 $ (we want exactly 2 of them to be left-handed).\n",
    "- $ p = 0.15 $ (the probability of a person being left-handed).\n",
    "\n",
    "Let's calculate:\n",
    "\n",
    "$P(X = 2) = \\binom{10}{2} \\times (0.15)^2 \\times (1 - 0.15)^{10 - 2} $\n",
    "\n",
    "Using the binomial coefficient $\\binom{n}{k} = \\frac{n!}{k!(n - k)!}$:\n",
    "\n",
    "$P(X = 2) = \\frac{10!}{2!(10 - 2)!} \\times (0.15)^2 \\times (0.85)^8 $\n",
    "\n",
    "$P(X = 2) = \\frac{10!}{2!8!} \\times (0.15)^2 \\times (0.85)^8 $\n",
    "\n",
    "$P(X = 2) = \\frac{10 \\times 9}{2} \\times 0.0225 \\times 0.27249 $\n",
    "\n",
    "$P(X = 2) = 45 \\times 0.0225 \\times 0.27249 $\n",
    "\n",
    "$P(X = 2) = 0.27589 $"
   ]
  },
  {
   "cell_type": "code",
   "execution_count": null,
   "id": "79ba734e",
   "metadata": {},
   "outputs": [],
   "source": []
  }
 ],
 "metadata": {
  "kernelspec": {
   "display_name": "SageMath 9.5",
   "language": "sage",
   "name": "sagemath"
  },
  "language_info": {
   "codemirror_mode": {
    "name": "ipython",
    "version": 3
   },
   "file_extension": ".py",
   "mimetype": "text/x-python",
   "name": "python",
   "nbconvert_exporter": "python",
   "pygments_lexer": "ipython3",
   "version": "3.10.12"
  }
 },
 "nbformat": 4,
 "nbformat_minor": 5
}
