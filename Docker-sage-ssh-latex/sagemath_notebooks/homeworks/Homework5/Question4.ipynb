{
 "cells": [
  {
   "cell_type": "markdown",
   "id": "cb381728",
   "metadata": {},
   "source": [
    "$\\textbf{Question4}$  \n",
    "\n",
    "A study in the United States claims that 85 % of cancer patients drink coffee. Given that the percentage of people diagnosed with cancer is 0.5 %  and the  percentage of people who drink coffee is 65 %, what is, according to this study,  the approximate probability of having cancer provided you are a coffee drinker ?\n",
    "\n",
    "$\\textbf{Answer}$"
   ]
  },
  {
   "cell_type": "markdown",
   "id": "a6808f44",
   "metadata": {},
   "source": [
    "To solve this problem, we can use Bayes' theorem, which states:\n",
    "\n",
    "$P(A|B) = \\frac{P(B|A) \\times P(A)}{P(B)} $\n",
    "\n",
    "Where:\n",
    "- $ P(A|B) $ is the probability of event A given event B has occurred.\n",
    "- $ P(B|A) $ is the probability of event B given event A has occurred.\n",
    "- $ P(A) $ is the probability of event A occurring.\n",
    "- $ P(B) $ is the probability of event B occurring.\n",
    "\n",
    "In this case:\n",
    "- Event A: Having cancer\n",
    "- Event B: Drinking coffee\n",
    "\n",
    "We want to find $ P(A|B) $, the probability of having cancer given that you drink coffee.\n",
    "\n",
    "Given:\n",
    "- $ P(A) $, the probability of having cancer, is 0.5% or 0.005.\n",
    "- $ P(B) $, the probability of drinking coffee, is 65% or 0.65.\n",
    "- $ P(B|A) $, the probability of drinking coffee given that you have cancer, is given as 85% or 0.85.\n",
    "\n",
    "Using Bayes' theorem:\n",
    "\n",
    "$P(A|B) = \\frac{P(B|A) \\times P(A)}{P(B)} $\n",
    "\n",
    "$P(A|B) = \\frac{0.85 \\times 0.005}{0.65} $\n",
    "\n",
    "$P(A|B) = \\frac{0.00425}{0.65} $\n",
    "\n",
    "$P(A|B) ≈ 0.00654 $\n",
    "\n",
    "So, the approximate probability of having cancer provided you are a coffee drinker, according to this study, is approximately 0.654%."
   ]
  },
  {
   "cell_type": "code",
   "execution_count": null,
   "id": "6e11eaff",
   "metadata": {},
   "outputs": [],
   "source": []
  }
 ],
 "metadata": {
  "kernelspec": {
   "display_name": "SageMath 9.5",
   "language": "sage",
   "name": "sagemath"
  },
  "language_info": {
   "codemirror_mode": {
    "name": "ipython",
    "version": 3
   },
   "file_extension": ".py",
   "mimetype": "text/x-python",
   "name": "python",
   "nbconvert_exporter": "python",
   "pygments_lexer": "ipython3",
   "version": "3.10.12"
  }
 },
 "nbformat": 4,
 "nbformat_minor": 5
}
