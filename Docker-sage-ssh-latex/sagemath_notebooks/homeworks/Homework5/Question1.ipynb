{
 "cells": [
  {
   "cell_type": "markdown",
   "id": "938ac217",
   "metadata": {},
   "source": [
    "$\\textbf{Question1}$  \n",
    "\n",
    "A fair die is rolled twice.  \n",
    "Let $X_1$ be the result of the first roll and $X_2$ be the result of the second roll.  \n",
    "Given that $X_1+X_2=7$ , what is the probability that  one of $X_1$, $X_2$ equals 4?\n",
    "\n",
    "$\\textbf{Answer}$"
   ]
  },
  {
   "cell_type": "markdown",
   "id": "42e47244",
   "metadata": {},
   "source": [
    "To find the probability that one of $X_1$ or $X_2$ equals 4 given that their sum is 7, let's first list out all the possible outcomes when rolling a fair six-sided die twice:\n",
    "\n",
    "$\n",
    "\\begin{align*}\n",
    "\\text{Possible Outcomes:} & \\quad (1,1), (1,2), (1,3), (1,4), (1,5), (1,6) \\\\\n",
    "& \\quad (2,1), (2,2), (2,3), (2,4), (2,5), (2,6) \\\\\n",
    "& \\quad (3,1), (3,2), (3,3), (3,4), (3,5), (3,6) \\\\\n",
    "& \\quad (4,1), (4,2), (4,3), (4,4), (4,5), (4,6) \\\\\n",
    "& \\quad (5,1), (5,2), (5,3), (5,4), (5,5), (5,6) \\\\\n",
    "& \\quad (6,1), (6,2), (6,3), (6,4), (6,5), (6,6) \\\\\n",
    "\\end{align*}\n",
    "$\n",
    "\n",
    "Now, let's identify the outcomes where $X_1 + X_2 = 7$:\n",
    "\n",
    "$\n",
    "\\begin{align*}\n",
    "& (1,6), (2,5), (3,4), (4,3), (5,2), (6,1) \\\\\n",
    "\\end{align*}\n",
    "$\n",
    "\n",
    "Among these outcomes, we can see that $X_1$ or $X_2$ equals 4 in two cases: $(3,4)$ and $(4,3)$.\n",
    "\n",
    "So, the probability that one of $X_1$ or $X_2$ equals 4 given that their sum is 7 is $2/6$ or $1/3$.\n",
    "\n",
    "This can also be obtained using conditional probability:\n",
    "\n",
    "$P(\\text{One of } X_1 \\text{ or } X_2 = 4 \\,|\\, X_1 + X_2 = 7) = \\frac{P((3,4) \\text{ or } (4,3))}{P(X_1 + X_2 = 7)} = \\frac{2/36}{6/36} = \\frac{1}{3}$\n",
    "\n",
    "So, regardless of how you approach it, the probability is $1/3$."
   ]
  }
 ],
 "metadata": {
  "kernelspec": {
   "display_name": "SageMath 9.5",
   "language": "sage",
   "name": "sagemath"
  },
  "language_info": {
   "codemirror_mode": {
    "name": "ipython",
    "version": 3
   },
   "file_extension": ".py",
   "mimetype": "text/x-python",
   "name": "python",
   "nbconvert_exporter": "python",
   "pygments_lexer": "ipython3",
   "version": "3.10.12"
  }
 },
 "nbformat": 4,
 "nbformat_minor": 5
}
