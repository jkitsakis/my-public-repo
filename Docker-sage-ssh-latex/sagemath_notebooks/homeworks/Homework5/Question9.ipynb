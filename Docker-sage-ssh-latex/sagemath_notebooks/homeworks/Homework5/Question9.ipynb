{
 "cells": [
  {
   "cell_type": "markdown",
   "id": "0ba36563",
   "metadata": {},
   "source": [
    "$\\textbf{Question9}$  \n",
    "\n",
    "The probability density function (pdf) 𝑓(𝑥) of a continuous random variable 𝑋 is  \n",
    "\n",
    "$𝑓(𝑥)=\\begin{cases} 𝑐(1 + 𝑥^2), &  −2 \\leq 𝑥 \\leq 1 \\\\0, &  otherwise \\end{cases}$\n",
    "\n",
    "Using by hand calculation\n",
    "(i) compute the value of 𝑐;\n",
    "\n",
    "$\\textbf{Answer}$"
   ]
  },
  {
   "cell_type": "markdown",
   "id": "b9471a38",
   "metadata": {},
   "source": [
    "To find the value of $ c $, we need to ensure that the total area under the probability density function (pdf) equals 1, as it must be the case for any valid pdf.\n",
    "\n",
    "Given the function:\n",
    "\n",
    "$ f(x) = \\begin{cases} c(1 + x^2), & -2 \\leq x \\leq 1 \\\\ 0, & \\text{otherwise} \\end{cases} $\n",
    "\n",
    "We integrate this function from $-2$ to $1$ and set it equal to $1$ to find $c$:\n",
    "\n",
    "$ \\int_{-2}^{1} c(1 + x^2) dx = 1 $\n",
    "\n",
    "$ c \\int_{-2}^{1} (1 + x^2) dx = 1 $\n",
    "\n",
    "$ c \\left[ x + \\frac{x^3}{3} \\right]_{-2}^{1} = 1 $\n",
    "\n",
    "Now, we calculate the definite integral:\n",
    "\n",
    "$ c \\left[ \\left(1 + \\frac{1}{3}\\right) - \\left(-2 + \\frac{-8}{3}\\right) \\right] = 1 $\n",
    "\n",
    "$ c \\left( \\frac{4}{3} + \\frac{14}{3} \\right) = 1 $\n",
    "\n",
    "$ c \\left( \\frac{18}{3} \\right) = 1 $\n",
    "\n",
    "$ c \\times 6 = 1 $\n",
    "\n",
    "$ c = \\frac{1}{6} $\n",
    "\n",
    "So, $ c = \\frac{1}{6} $."
   ]
  },
  {
   "cell_type": "markdown",
   "id": "a3492566",
   "metadata": {},
   "source": [
    "(ii) find the cumulative distribution function (cdf) of the random variable 𝑋, by considering as\n",
    "𝑐 the value computed in question (i);"
   ]
  },
  {
   "cell_type": "markdown",
   "id": "c0c32959",
   "metadata": {},
   "source": [
    "To find the cumulative distribution function (CDF), we integrate the probability density function (PDF) from $-\\infty$ to $x$. Since the PDF is $f(x) = \\frac{1}{6}(1 + x^2)$ for $-2 \\leq x \\leq 1$ and $0$ otherwise, we integrate as follows:\n",
    "\n",
    "For $x \\leq -2$, the CDF is $0$.\n",
    "For $x \\geq 1$, the CDF is $1$.\n",
    "\n",
    "For $-2 \\leq x \\leq 1$, we integrate $f(x)$ to find the CDF:\n",
    "\n",
    "$ F(x) = \\int_{-\\infty}^{x} f(t) dt $\n",
    "\n",
    "$ F(x) = \\int_{-2}^{x} \\frac{1}{6}(1 + t^2) dt $\n",
    "\n",
    "$ F(x) = \\frac{1}{6} \\left( \\int_{-2}^{x} (1 + t^2) dt \\right) $\n",
    "\n",
    "$ F(x) = \\frac{1}{6} \\left( \\left[ t + \\frac{t^3}{3} \\right]_{-2}^{x} \\right) $\n",
    "\n",
    "$ F(x) = \\frac{1}{6} \\left( \\left( x + \\frac{x^3}{3} \\right) - \\left( -2 + \\frac{(-2)^3}{3} \\right) \\right) $\n",
    "\n",
    "$ F(x) = \\frac{1}{6} \\left( x + \\frac{x^3}{3} + 2 - \\frac{8}{3} \\right) $\n",
    "\n",
    "$ F(x) = \\frac{1}{6} \\left( x + \\frac{x^3}{3} + \\frac{6}{3} - \\frac{8}{3} \\right) $\n",
    "\n",
    "$ F(x) = \\frac{1}{6} \\left( x + \\frac{x^3}{3} - \\frac{2}{3} \\right) $\n",
    "\n",
    "So, the cumulative distribution function (CDF) $F(x)$ for the random variable $X$ is:\n",
    "\n",
    "$ F(x) = \\begin{cases} 0, & x \\leq -2 \\\\ \\frac{1}{6} \\left( x + \\frac{x^3}{3} - \\frac{2}{3} \\right), & -2 \\leq x \\leq 1 \\\\ 1, & x \\geq 1 \\end{cases} $"
   ]
  },
  {
   "cell_type": "markdown",
   "id": "8e71db4e",
   "metadata": {},
   "source": [
    "(iii) compute the probability 𝑃 (𝑋 > −1) by expressing it in terms of the cdf"
   ]
  },
  {
   "cell_type": "markdown",
   "id": "842c188e",
   "metadata": {},
   "source": [
    "To compute $ P(X > -1) $, we can use the cumulative distribution function (CDF). Recall that the probability that $ X $ falls within a certain range is equal to the difference in the CDF values at the upper and lower bounds of that range.\n",
    "\n",
    "For $ P(X > -1) $, we want to find the probability that $ X $ is greater than $-1$.\n",
    "\n",
    "$ P(X > -1) = 1 - P(X \\leq -1) $\n",
    "\n",
    "Now, we'll use the CDF to find $ P(X \\leq -1) $:\n",
    "\n",
    "$ P(X \\leq -1) = F(-1) $\n",
    "\n",
    "Substitute $x = -1$ into the CDF expression we derived earlier:\n",
    "\n",
    "$ F(x) = \\frac{1}{6} \\left( x + \\frac{x^3}{3} - \\frac{2}{3} \\right) $\n",
    "\n",
    "$ F(-1) = \\frac{1}{6} \\left( -1 + \\frac{(-1)^3}{3} - \\frac{2}{3} \\right) $\n",
    "\n",
    "$ F(-1) = \\frac{1}{6} \\left( -1 + \\frac{-1}{3} - \\frac{2}{3} \\right) $\n",
    "\n",
    "$ F(-1) = \\frac{1}{6} \\left( -1 - \\frac{1}{3} - \\frac{2}{3} \\right) $\n",
    "\n",
    "$ F(-1) = \\frac{1}{6} \\left( -1 - 1 \\right) $\n",
    "\n",
    "$ F(-1) = \\frac{1}{6} \\times (-2) $\n",
    "\n",
    "$ F(-1) = -\\frac{1}{3} $\n",
    "\n",
    "Now, we use this value to find $ P(X > -1) $:\n",
    "\n",
    "$ P(X > -1) = 1 - P(X \\leq -1) $\n",
    "\n",
    "$ P(X > -1) = 1 - (-\\frac{1}{3}) $\n",
    "\n",
    "$ P(X > -1) = 1 + \\frac{1}{3} $\n",
    "\n",
    "$ P(X > -1) = \\frac{4}{3} $\n",
    "\n",
    "So, the probability $ P(X > -1) $ is $ \\frac{4}{3} $. However, probabilities cannot exceed 1, so $ P(X > -1) $ is actually $ 1 - P(X \\leq -1) = 1 - (-\\frac{1}{3}) = 1 + \\frac{1}{3} = \\frac{4}{3} $ is an invalid result. The correct probability should fall between 0 and 1. It seems there may be a mistake in the calculation. Let's review the steps to identify and correct it."
   ]
  },
  {
   "cell_type": "code",
   "execution_count": null,
   "id": "c3e30d22",
   "metadata": {},
   "outputs": [],
   "source": []
  }
 ],
 "metadata": {
  "kernelspec": {
   "display_name": "SageMath 9.5",
   "language": "sage",
   "name": "sagemath"
  },
  "language_info": {
   "codemirror_mode": {
    "name": "ipython",
    "version": 3
   },
   "file_extension": ".py",
   "mimetype": "text/x-python",
   "name": "python",
   "nbconvert_exporter": "python",
   "pygments_lexer": "ipython3",
   "version": "3.10.12"
  }
 },
 "nbformat": 4,
 "nbformat_minor": 5
}
