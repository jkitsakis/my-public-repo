{
 "cells": [
  {
   "cell_type": "markdown",
   "id": "0ba36563",
   "metadata": {},
   "source": [
    "$\\textbf{Question8}$  \n",
    "\n",
    "A casino proposes a lottery game, in which three numbers, are randomly drawn from the\n",
    "range 1, 2, … , 25 each with an equal chance of being selected. If you bet $1, you win $10000\n",
    "for guessing the three numbers in the correct order, $1000 for guessing the three numbers but\n",
    "not in the correct order, and $2 if the sum of your guessed numbers matches the sum of the\n",
    "numbers drawn. You have decided to bet $1 on your lucky triplet of numbers [1, 2, 3]. Use a\n",
    "sagemath simulation to calculate your expected profit/loss including necessarily the following\n",
    "steps  \n",
    "(a) Create a sample of 𝑛 = 106 triplets utilizing the function ZZ.random_element(1,26) and\n",
    "store them to a list named w (Attention, do not print them).\n",
    "\n",
    "$\\textbf{Answer}$"
   ]
  },
  {
   "cell_type": "code",
   "execution_count": 6,
   "id": "3dd475d6",
   "metadata": {},
   "outputs": [
    {
     "name": "stdout",
     "output_type": "stream",
     "text": [
      "Expected profit/loss per bet: $ 46823/50000\n"
     ]
    }
   ],
   "source": [
    "# Step (a): Creating a sample of n = 10^6 triplets\n",
    "n = 10^6\n",
    "w = [[ZZ.random_element(1, 26) for _ in range(3)] for _ in range(n)]\n",
    "\n",
    "# Step (b): Calculating the profit/loss\n",
    "profit = 0\n",
    "for triplet in w:\n",
    "    if triplet == [1, 2, 3]:  # If the triplet matches [1, 2, 3] in the correct order\n",
    "        profit += 10000\n",
    "    elif set(triplet) == set([1, 2, 3]):  # If the triplet matches [1, 2, 3] but not in the correct order\n",
    "        profit += 1000\n",
    "    elif sum(triplet) == 6:  # If the sum of the triplet matches 6 (sum of [1, 2, 3])\n",
    "        profit += 2\n",
    "\n",
    "expected_profit = profit / n\n",
    "print(\"Expected profit/loss per bet: $\", expected_profit)\n"
   ]
  },
  {
   "cell_type": "markdown",
   "id": "074341ca",
   "metadata": {},
   "source": [
    "(b) Create the associated list of sums ws using ws=list(map(sum,w)) (Attention, do not print\n",
    "them)\n"
   ]
  },
  {
   "cell_type": "code",
   "execution_count": null,
   "id": "85744702",
   "metadata": {},
   "outputs": [],
   "source": [
    "# Step (b): Creating the associated list of sums\n",
    "ws = list(map(sum, w))"
   ]
  },
  {
   "cell_type": "markdown",
   "id": "64c48fdf",
   "metadata": {},
   "source": [
    "(c) Compute the number of triplets in the list w matching [1,2,3] using w.count([1,2,3])\n",
    "and estimate the probability that you guessed the three numbers in the correct order."
   ]
  },
  {
   "cell_type": "code",
   "execution_count": 10,
   "id": "121c113d",
   "metadata": {},
   "outputs": [
    {
     "name": "stdout",
     "output_type": "stream",
     "text": [
      "Probability of guessing the three numbers in the correct order: 6e-05\n"
     ]
    }
   ],
   "source": [
    "# Step (c): Computing the number of triplets matching [1, 2, 3]\n",
    "matching_triplets_count = w.count([1, 2, 3])\n",
    "\n",
    "# Estimating the probability of guessing the three numbers in the correct order\n",
    "total_triplets = len(w)\n",
    "probability_correct_order = matching_triplets_count / total_triplets\n",
    "print(\"Probability of guessing the three numbers in the correct order:\", probability_correct_order)\n"
   ]
  },
  {
   "cell_type": "markdown",
   "id": "ce75dfd3",
   "metadata": {},
   "source": [
    "d) Following step (c) compute the number of triplets in w matching\n",
    "[1,3,2],[2,1,3],[2,3,1],[3,1,2],[3,2,1] and estimate the probability that you guessed\n",
    "the three numbers not in the correct order"
   ]
  },
  {
   "cell_type": "code",
   "execution_count": 11,
   "id": "f640fe38",
   "metadata": {},
   "outputs": [
    {
     "name": "stdout",
     "output_type": "stream",
     "text": [
      "Probability of guessing the three numbers not in the correct order: 21/62500\n"
     ]
    }
   ],
   "source": [
    "# Step (d): Computing the number of triplets matching [1, 3, 2], [2, 1, 3], [2, 3, 1], [3, 1, 2], [3, 2, 1]\n",
    "not_in_order_triplets_count = 0\n",
    "for pattern in [[1,3,2],[2,1,3],[2,3,1],[3,1,2],[3,2,1]]:\n",
    "    not_in_order_triplets_count += w.count(pattern)\n",
    "\n",
    "# Estimating the probability of guessing the three numbers not in the correct order\n",
    "probability_not_in_order = not_in_order_triplets_count / total_triplets\n",
    "print(\"Probability of guessing the three numbers not in the correct order:\", probability_not_in_order)\n"
   ]
  },
  {
   "cell_type": "markdown",
   "id": "753c24c4",
   "metadata": {},
   "source": [
    "(e) Calculate the number of triplets in the list ws matching the sum 1+2+3 and estimate the\n",
    "probability of correctly guessing the sum without correctly guessing the three numbers"
   ]
  },
  {
   "cell_type": "code",
   "execution_count": 12,
   "id": "be4bf0a2",
   "metadata": {},
   "outputs": [
    {
     "name": "stdout",
     "output_type": "stream",
     "text": [
      "Probability of correctly guessing the sum without correctly guessing the three numbers: 0.000626\n"
     ]
    }
   ],
   "source": [
    "# Step (e): Calculating the number of triplets matching the sum 1+2+3\n",
    "sum_123_triplets_count = ws.count(6)\n",
    "\n",
    "# Estimating the probability of correctly guessing the sum without correctly guessing the three numbers\n",
    "probability_sum_only = sum_123_triplets_count / total_triplets\n",
    "print(\"Probability of correctly guessing the sum without correctly guessing the three numbers:\", probability_sum_only)\n"
   ]
  },
  {
   "cell_type": "markdown",
   "id": "437bc385",
   "metadata": {},
   "source": [
    "(f) Using the results of steps (c),(d),(e) compute the expected profit/loss and comment on the\n",
    "result"
   ]
  },
  {
   "cell_type": "code",
   "execution_count": 15,
   "id": "d81ab52c",
   "metadata": {},
   "outputs": [
    {
     "name": "stdout",
     "output_type": "stream",
     "text": [
      "Expected profit/loss per bet: $ -0.06274800000000003\n"
     ]
    }
   ],
   "source": [
    "# Payouts\n",
    "payout_correct_order = 10000\n",
    "payout_not_in_order = 1000\n",
    "payout_sum_only = 2\n",
    "\n",
    "# Expected profit/loss\n",
    "expected_profit = probability_correct_order * payout_correct_order \\\n",
    "                + probability_not_in_order * payout_not_in_order \\\n",
    "                + probability_sum_only * payout_sum_only \\\n",
    "                - 1  # Subtracting the initial bet\n",
    "\n",
    "print(\"Expected profit/loss per bet: $\", expected_profit)\n"
   ]
  },
  {
   "cell_type": "code",
   "execution_count": null,
   "id": "fc3d8484",
   "metadata": {},
   "outputs": [],
   "source": []
  }
 ],
 "metadata": {
  "kernelspec": {
   "display_name": "SageMath 9.5",
   "language": "sage",
   "name": "sagemath"
  },
  "language_info": {
   "codemirror_mode": {
    "name": "ipython",
    "version": 3
   },
   "file_extension": ".py",
   "mimetype": "text/x-python",
   "name": "python",
   "nbconvert_exporter": "python",
   "pygments_lexer": "ipython3",
   "version": "3.10.12"
  }
 },
 "nbformat": 4,
 "nbformat_minor": 5
}
