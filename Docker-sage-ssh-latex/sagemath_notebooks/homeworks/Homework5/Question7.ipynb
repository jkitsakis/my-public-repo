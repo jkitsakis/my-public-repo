{
 "cells": [
  {
   "cell_type": "markdown",
   "id": "0ba36563",
   "metadata": {},
   "source": [
    "$\\textbf{Question7}$  \n",
    "\n",
    "Solve the following problem using sagemath:\n",
    "A manufacturer says the Z-Phone smart phone has a mean consumer life of 42 months with a standard deviation of 8 months. \n",
    "Assuming a normal distribution, what is the probability a given random Z-Phone will last between 20 and 30 months?\n",
    "\n",
    "$\\textbf{Answer}$"
   ]
  },
  {
   "cell_type": "code",
   "execution_count": 14,
   "id": "3dd475d6",
   "metadata": {},
   "outputs": [
    {
     "data": {
      "text/plain": [
       "erf(-3/4*sqrt(2)) - erf(-11/8*sqrt(2))"
      ]
     },
     "execution_count": 14,
     "metadata": {},
     "output_type": "execute_result"
    }
   ],
   "source": [
    "# Define the mean and standard deviation\n",
    "mean = 42\n",
    "std_dev = 8\n",
    "\n",
    "# Define the lower and upper bounds\n",
    "lower_bound = 20\n",
    "upper_bound = 30\n",
    "\n",
    "# Calculate the z-scores for the lower and upper bounds\n",
    "z_lower = (lower_bound - mean) / std_dev\n",
    "z_upper = (upper_bound - mean) / std_dev\n",
    "\n",
    "# Calculate the probability using the cumulative distribution function (CDF)\n",
    "probability = (1 - erf(z_lower/sqrt(2))) - (1 - erf(z_upper/sqrt(2)))\n",
    "\n",
    "# Print the result\n",
    "probability\n"
   ]
  },
  {
   "cell_type": "code",
   "execution_count": null,
   "id": "f17c5b40",
   "metadata": {},
   "outputs": [],
   "source": []
  }
 ],
 "metadata": {
  "kernelspec": {
   "display_name": "SageMath 9.5",
   "language": "sage",
   "name": "sagemath"
  },
  "language_info": {
   "codemirror_mode": {
    "name": "ipython",
    "version": 3
   },
   "file_extension": ".py",
   "mimetype": "text/x-python",
   "name": "python",
   "nbconvert_exporter": "python",
   "pygments_lexer": "ipython3",
   "version": "3.10.12"
  }
 },
 "nbformat": 4,
 "nbformat_minor": 5
}
