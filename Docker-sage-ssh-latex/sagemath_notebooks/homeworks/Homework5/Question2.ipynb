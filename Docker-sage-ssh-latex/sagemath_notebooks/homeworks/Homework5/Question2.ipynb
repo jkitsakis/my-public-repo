{
 "cells": [
  {
   "cell_type": "markdown",
   "id": "cb381728",
   "metadata": {},
   "source": [
    "$\\textbf{Question2}$  \n",
    "\n",
    "You've only made six trips in your brand new car. \n",
    "The trip distance (x km) and the amount of fuel used by the car (y liters)  are shown in the following table\n",
    "| | | | | | | |\n",
    "|---|---|---|---|---|---|---|  \n",
    "|x km | 14 | 35 | 80 | 116 | 145 | 160 |  \n",
    "|y liters |\t2.5 | 6.2 | 10.8 | 13.6 | 15.4 | 19.7 |  \n",
    "\n",
    "What is approximately the correlation between the  variables x and y ?\n",
    "\n",
    "$\\textbf{Answer}$"
   ]
  },
  {
   "cell_type": "markdown",
   "id": "21aeef0f",
   "metadata": {},
   "source": [
    "To find the correlation between the variables x (trip distance) and y (amount of fuel used), we can use the Pearson correlation coefficient formula, which is given by:\n",
    "\n",
    "$ r = \\frac{n(\\sum xy) - (\\sum x)(\\sum y)}{\\sqrt{[n\\sum x^2 - (\\sum x)^2][n\\sum y^2 - (\\sum y)^2]}} $\n",
    "\n",
    "Where:\n",
    "- $ n $ is the number of data points.\n",
    "- $ \\sum xy $ is the sum of the products of corresponding values of x and y.\n",
    "- $ \\sum x $ and $ \\sum y $ are the sums of all x and y values, respectively.\n",
    "- $ \\sum x^2 $ and $ \\sum y^2 $ are the sums of the squares of all x and y values, respectively.\n",
    "\n",
    "Given the data:\n",
    "\n",
    "$\n",
    "\\begin{align*}\n",
    "n &= 6 \\\\\n",
    "\\sum x &= 14 + 35 + 80 + 116 + 145 + 160 = 550 \\\\\n",
    "\\sum y &= 2.5 + 6.2 + 10.8 + 13.6 + 15.4 + 19.7 = 68.2 \\\\\n",
    "\\sum xy &= (14 \\times 2.5) + (35 \\times 6.2) + (80 \\times 10.8) + (116 \\times 13.6) + (145 \\times 15.4) + (160 \\times 19.7) \\\\\n",
    "&= 35 + 217 + 864 + 1577.6 + 2233 + 3152 = 8078.6 \\\\\n",
    "\\sum x^2 &= (14^2) + (35^2) + (80^2) + (116^2) + (145^2) + (160^2) \\\\\n",
    "&= 196 + 1225 + 6400 + 13456 + 21025 + 25600 = 67602 \\\\\n",
    "\\sum y^2 &= (2.5^2) + (6.2^2) + (10.8^2) + (13.6^2) + (15.4^2) + (19.7^2) \\\\\n",
    "&= 6.25 + 38.44 + 116.64 + 184.96 + 237.16 + 388.09 = 971.54 \\\\\n",
    "\\end{align*}\n",
    "$\n",
    "\n",
    "Now, let's plug these values into the formula:\n",
    "\n",
    "$ r = \\frac{(6 \\times 8078.6) - (550 \\times 68.2)}{\\sqrt{[6 \\times 67602 - (550)^2][6 \\times 971.54 - (68.2)^2]}} $\n",
    "\n",
    "$ r = \\frac{(6 \\times 8078.6) - (550 \\times 68.2)}{\\sqrt{[6 \\times 67602 - 302500][6 \\times 971.54 - 4652.04]}} $\n",
    "\n",
    "$ r = \\frac{(6 \\times 8078.6) - (550 \\times 68.2)}{\\sqrt{[405612 - 302500][5829.24 - 4652.04]}} $\n",
    "\n",
    "$ r = \\frac{(6 \\times 8078.6) - (550 \\times 68.2)}{\\sqrt{(103112)(1177.2)}} $\n",
    "\n",
    "$ r = \\frac{(6 \\times 8078.6) - (550 \\times 68.2)}{\\sqrt{121406142.4}} $\n",
    "\n",
    "$ r = \\frac{(48471.6) - (37510)}{11014.54} $\n",
    "\n",
    "$ r = \\frac{10961.6}{11014.54} $\n",
    "\n",
    "$ r ≈ 0.9956 $\n",
    "\n",
    "So, the correlation between the variables x and y is approximately 0.996.\n",
    "\n",
    "Therefore, the closest option from the given choices is:\n",
    "\n",
    "b. 0.986"
   ]
  }
 ],
 "metadata": {
  "kernelspec": {
   "display_name": "SageMath 9.5",
   "language": "sage",
   "name": "sagemath"
  },
  "language_info": {
   "codemirror_mode": {
    "name": "ipython",
    "version": 3
   },
   "file_extension": ".py",
   "mimetype": "text/x-python",
   "name": "python",
   "nbconvert_exporter": "python",
   "pygments_lexer": "ipython3",
   "version": "3.10.12"
  }
 },
 "nbformat": 4,
 "nbformat_minor": 5
}
