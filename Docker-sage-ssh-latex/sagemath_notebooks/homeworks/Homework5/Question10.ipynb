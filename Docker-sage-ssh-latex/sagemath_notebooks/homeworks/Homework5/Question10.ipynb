{
 "cells": [
  {
   "cell_type": "markdown",
   "id": "0ba36563",
   "metadata": {},
   "source": [
    "$\\textbf{Question10}$  \n",
    "\n",
    "Solve the following problems using by hand calculation:  \n",
    "\n",
    "A certain grapefruit variety is grown in two regions in Greece. Both areas get infested from time to time with parasites that damage the crop. Let A be the event that region R1 is infected with parasites and B that region R2 is infected. \n",
    "\n",
    "Suppose $ P(A) = 3/4, P(B) = 2/5, P(A \\cup B) = 4/5 $. If the food inspection detects the parasite in a ship carrying grapefruits from R1, what is the probability region R2 is infected as well?\n",
    "\n",
    "$\\textbf{Answer}$"
   ]
  },
  {
   "cell_type": "markdown",
   "id": "99a2ad52",
   "metadata": {},
   "source": [
    "To find the probability that region R2 is infected given that region R1 is infected, we can use the conditional probability formula:\n",
    "\n",
    "$ P(B|A) = \\frac{P(B \\cap A)}{P(A)} $\n",
    "\n",
    "We are given that:\n",
    "\n",
    "$ P(A) = \\frac{3}{4} $\n",
    "$ P(B) = \\frac{2}{5} $\n",
    "$ P(A \\cup B) = \\frac{4}{5} $\n",
    "\n",
    "From these, we can use the formula for the probability of the union of two events:\n",
    "\n",
    "$ P(A \\cup B) = P(A) + P(B) - P(A \\cap B) $\n",
    "\n",
    "$ \\frac{4}{5} = \\frac{3}{4} + \\frac{2}{5} - P(A \\cap B) $\n",
    "\n",
    "Now, we can solve for $ P(A \\cap B) $:\n",
    "\n",
    "$ P(A \\cap B) = \\frac{3}{4} + \\frac{2}{5} - \\frac{4}{5} $\n",
    "\n",
    "$ P(A \\cap B) = \\frac{15}{20} + \\frac{8}{20} - \\frac{16}{20} $\n",
    "\n",
    "$ P(A \\cap B) = \\frac{7}{20} $\n",
    "\n",
    "Now, we can plug this back into the conditional probability formula:\n",
    "\n",
    "$ P(B|A) = \\frac{\\frac{7}{20}}{\\frac{3}{4}} $\n",
    "\n",
    "$ P(B|A) = \\frac{7}{20} \\times \\frac{4}{3} $\n",
    "\n",
    "$ P(B|A) = \\frac{7}{15} $\n",
    "\n",
    "So, the probability that region R2 is infected given that region R1 is infected is $ \\frac{7}{15} $."
   ]
  },
  {
   "cell_type": "markdown",
   "id": "2d6738bb",
   "metadata": {},
   "source": [
    "B. A fair coin is tossed independently twice. The random variable 𝑥 counts the number of\n",
    "heads 𝐻 that appeared. Compute the cumulative distribution 𝐹 (𝑥) of 𝑥."
   ]
  },
  {
   "cell_type": "markdown",
   "id": "0847d31f",
   "metadata": {},
   "source": [
    "To compute the cumulative distribution function (CDF) of the random variable $X$, which represents the number of heads obtained when a fair coin is tossed independently twice, we need to consider all possible values of $X$ and their corresponding probabilities.\n",
    "\n",
    "When tossing a fair coin twice, there are four equally likely outcomes: $HH$, $HT$, $TH$, and $TT$, where $H$ represents heads and $T$ represents tails.\n",
    "\n",
    "Let's define the random variable $X$ as the number of heads obtained. Now, we can compute the probability mass function (PMF) of $X$ and then find its cumulative distribution function.\n",
    "\n",
    "The PMF of $X$ is as follows:\n",
    "\n",
    "$P(X = 0) = P(TT) = \\frac{1}{4}$\n",
    "$P(X = 1) = P(HT \\text{ or } TH) = \\frac{1}{4} + \\frac{1}{4} = \\frac{1}{2}$\n",
    "$P(X = 2) = P(HH) = \\frac{1}{4}$\n",
    "\n",
    "Now, we can compute the cumulative distribution function $F(x)$ for all values of $x$:\n",
    "\n",
    "$F(0) = P(X \\leq 0) = P(X = 0) = \\frac{1}{4}$\n",
    "$F(1) = P(X \\leq 1) = P(X = 0) + P(X = 1) = \\frac{1}{4} + \\frac{1}{2} = \\frac{3}{4}$\n",
    "$F(2) = P(X \\leq 2) = P(X = 0) + P(X = 1) + P(X = 2) = \\frac{1}{4} + \\frac{1}{2} + \\frac{1}{4} = 1$\n",
    "\n",
    "So, the cumulative distribution function $F(x)$ for the random variable $X$ is:\n",
    "\n",
    "$\n",
    "F(x) = \n",
    "\\begin{cases} \n",
    "0 & \\text{if } x < 0 \\\\\n",
    "\\frac{1}{4} & \\text{if } 0 \\leq x < 1 \\\\\n",
    "\\frac{3}{4} & \\text{if } 1 \\leq x < 2 \\\\\n",
    "1 & \\text{if } x \\geq 2\n",
    "\\end{cases}\n",
    "$"
   ]
  },
  {
   "cell_type": "code",
   "execution_count": null,
   "id": "84532eef",
   "metadata": {},
   "outputs": [],
   "source": []
  }
 ],
 "metadata": {
  "kernelspec": {
   "display_name": "SageMath 9.5",
   "language": "sage",
   "name": "sagemath"
  },
  "language_info": {
   "codemirror_mode": {
    "name": "ipython",
    "version": 3
   },
   "file_extension": ".py",
   "mimetype": "text/x-python",
   "name": "python",
   "nbconvert_exporter": "python",
   "pygments_lexer": "ipython3",
   "version": "3.10.12"
  }
 },
 "nbformat": 4,
 "nbformat_minor": 5
}
