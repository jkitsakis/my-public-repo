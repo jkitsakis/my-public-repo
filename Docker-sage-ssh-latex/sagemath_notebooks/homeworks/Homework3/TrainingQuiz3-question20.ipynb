{
 "cells": [
  {
   "cell_type": "markdown",
   "id": "3927a432",
   "metadata": {},
   "source": [
    "$\\textbf{Q20.}$ Select the matrix that is neither diagonalizable nor invertible\n",
    "\\\n",
    "$A=\\begin{bmatrix} 0 & 1 \\\\ 0 & 0 \\end{bmatrix}$ , \n",
    "\\\n",
    "$B=\\begin{bmatrix} 2 & 0 \\\\ 0 & 2 \\end{bmatrix}$, \n",
    "\\\n",
    "$C=\\begin{bmatrix} 3 & 0 \\\\ 0 & 0 \\end{bmatrix}$ , \n",
    "\\\n",
    "$D=\\begin{bmatrix} 1 & 1 \\\\ 0 & 1 \\end{bmatrix}$\n",
    "\\\n",
    "\\\n",
    "$\\textbf{Answer :}$"
   ]
  },
  {
   "cell_type": "markdown",
   "id": "413ed72d",
   "metadata": {},
   "source": [
    "\n",
    "Matrix $A=\\begin{bmatrix} 0 & 1 \\\\ 0 & 0 \\end{bmatrix}$:\n",
    "\n",
    "    - The characteristic polynomial is $\\lambda^2 = 0$, so it has only one eigenvalue ($\\lambda = 0$).\n",
    "    - It has one linearly independent eigenvector.\n",
    "    - The determinant is 0, so it is not invertible.\n",
    "\n",
    "\n",
    "Matrix $B=\\begin{bmatrix} 2 & 0 \\\\ 0 & 2 \\end{bmatrix}$:\n",
    "\n",
    "    - It has distinct eigenvalues (2 and 2).\n",
    "    - It is diagonalizable.\n",
    "    - The determinant is non-zero, so it is invertible.\n",
    "\n",
    "\n",
    "Matrix $C=\\begin{bmatrix} 3 & 0 \\\\ 0 & 0 \\end{bmatrix}$:\n",
    "\n",
    "    - The characteristic polynomial is $(\\lambda-3)(\\lambda) = 0$, so it has two eigenvalues (3 and 0).\n",
    "    - It has two linearly independent eigenvectors.\n",
    "    - The determinant is non-zero, so it is invertible.\n",
    "\n",
    "\n",
    "Matrix $D=\\begin{bmatrix} 1 & 1 \\\\ 0 & 1 \\end{bmatrix}$:\n",
    "\n",
    "    - The characteristic polynomial is $(\\lambda-1)^2 = 0$, so it has one repeated eigenvalue ($\\lambda = 1$).\n",
    "    - It has one linearly independent eigenvector.\n",
    "    - The determinant is 1, so it is invertible.\n",
    "\n",
    "\n",
    "Therefore, the matrix that is neither diagonalizable nor invertible is matrix $A$.\n",
    "\n"
   ]
  },
  {
   "cell_type": "code",
   "execution_count": null,
   "id": "8d4bca59",
   "metadata": {},
   "outputs": [],
   "source": []
  }
 ],
 "metadata": {
  "kernelspec": {
   "display_name": "SageMath 9.5",
   "language": "sage",
   "name": "sagemath"
  },
  "language_info": {
   "codemirror_mode": {
    "name": "ipython",
    "version": 3
   },
   "file_extension": ".py",
   "mimetype": "text/x-python",
   "name": "python",
   "nbconvert_exporter": "python",
   "pygments_lexer": "ipython3",
   "version": "3.10.12"
  }
 },
 "nbformat": 4,
 "nbformat_minor": 5
}
