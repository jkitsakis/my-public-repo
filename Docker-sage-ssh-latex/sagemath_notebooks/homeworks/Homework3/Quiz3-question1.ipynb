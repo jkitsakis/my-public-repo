{
 "cells": [
  {
   "cell_type": "markdown",
   "id": "15c8d917",
   "metadata": {},
   "source": [
    "$\\textbf{Q1.}$What is the Moore-Penrose pseudo-inverse of $A=\\begin{bmatrix} 1 & 0  \\\\ 0 & 0 \\end{bmatrix}$   ?\n",
    "\\\n",
    "\\\n",
    "$\\textbf{Answer :}$"
   ]
  },
  {
   "cell_type": "markdown",
   "id": "a0d40fff",
   "metadata": {},
   "source": [
    "The Moore-Penrose pseudo-inverse of a matrix $A$, denoted as $A^+$, is defined as the matrix that satisfies the following four conditions:\n",
    "\n",
    "1. $AA^+A = A$\n",
    "2. $A^+AA^+ = A^+$\n",
    "3. $(AA^+)^T = AA^+$\n",
    "4. $(A^+A)^T = A^+A$\n",
    "\n",
    "Let's calculate the Moore-Penrose pseudo-inverse for the given matrix $A = \\begin{bmatrix} 1 & 0 \\\\ 0 & 0 \\end{bmatrix}$.\n",
    "\n",
    "The singular value decomposition (SVD) of a matrix $A$ is given by $A = U \\Sigma V^T$, where $U$ and $V$ are orthogonal matrices and $\\Sigma$ is a diagonal matrix containing the singular values of $A$.\n",
    "\n",
    "For the matrix $A = \\begin{bmatrix} 1 & 0 \\\\ 0 & 0 \\end{bmatrix}$, the SVD is: \n",
    "\\\n",
    "\\\n",
    "$ A = \\begin{bmatrix} 1 & 0 \\\\ 0 & 0 \\end{bmatrix} = \\begin{bmatrix} 1 & 0 \\\\ 0 & 1 \\end{bmatrix} \\begin{bmatrix} 1 & 0 \\\\ 0 & 0 \\end{bmatrix} \\begin{bmatrix} 1 & 0 \\\\ 0 & 1 \\end{bmatrix}^T $\n",
    "\n",
    "Now, we can calculate the Moore-Penrose pseudo-inverse using the formula $A^+ = V \\Sigma^+ U^T$, where $\\Sigma^+$ is the pseudo-inverse of the diagonal matrix $\\Sigma$.\n",
    "\n",
    "For a diagonal matrix $\\Sigma = \\begin{bmatrix} \\sigma_1 & 0 \\\\ 0 & \\sigma_2 \\end{bmatrix}$, the pseudo-inverse $\\Sigma^+$ is given by:\n",
    "$ \\Sigma^+ = \\begin{bmatrix} \\frac{1}{\\sigma_1} & 0 \\\\ 0 & \\frac{1}{\\sigma_2} \\end{bmatrix} $\n",
    "\n",
    "In this case, $\\Sigma^+ = \\begin{bmatrix} 1 & 0 \\\\ 0 & 0 \\end{bmatrix}$.\n",
    "\n",
    "Now, substitute these into the formula $A^+ = V \\Sigma^+ U^T$ to get the Moore-Penrose pseudo-inverse for matrix $A$. Since $U$ and $V$ are both orthogonal matrices, their transpose is their inverse.\n",
    "\n",
    "$ A^+ = \\begin{bmatrix} 1 & 0 \\\\ 0 & 1 \\end{bmatrix} \\begin{bmatrix} 1 & 0 \\\\ 0 & 0 \\end{bmatrix} \\begin{bmatrix} 1 & 0 \\\\ 0 & 1 \\end{bmatrix} = \\begin{bmatrix} 1 & 0 \\\\ 0 & 0 \\end{bmatrix} $\n",
    "\n",
    "Therefore, the Moore-Penrose pseudo-inverse of $A = \\begin{bmatrix} 1 & 0 \\\\ 0 & 0 \\end{bmatrix}$ is $A^+ = \\begin{bmatrix} 1 & 0 \\\\ 0 & 0 \\end{bmatrix}$.\n"
   ]
  },
  {
   "cell_type": "code",
   "execution_count": null,
   "id": "ba0a38f2",
   "metadata": {},
   "outputs": [],
   "source": []
  }
 ],
 "metadata": {
  "kernelspec": {
   "display_name": "SageMath 9.5",
   "language": "sage",
   "name": "sagemath"
  },
  "language_info": {
   "codemirror_mode": {
    "name": "ipython",
    "version": 3
   },
   "file_extension": ".py",
   "mimetype": "text/x-python",
   "name": "python",
   "nbconvert_exporter": "python",
   "pygments_lexer": "ipython3",
   "version": "3.10.12"
  }
 },
 "nbformat": 4,
 "nbformat_minor": 5
}
