{
 "cells": [
  {
   "cell_type": "markdown",
   "id": "a7ca0e13",
   "metadata": {},
   "source": [
    "$\\textbf{Q16.} $ Has matrix $A=\\begin{bmatrix} 1 & -2 & 2 \\\\ -1 & 0 & 1 \\\\ 3 & -4 & -3 \\end{bmatrix}$ \n",
    "\\\n",
    "a. three eigenvalues and is not invertible \n",
    "\\\n",
    "b. one integer eigenvalue and is symmetric positive definite\n",
    "\\\n",
    "c.two negative eigenvalues and the constant term of its characteristic polynomial is equal to zero \n",
    "\\\n",
    "d.one integer eigenvalue and is invertible.\n",
    "\\\n",
    "\\\n",
    "$\\textbf{Answer :}$"
   ]
  },
  {
   "cell_type": "markdown",
   "id": "c6663f18",
   "metadata": {},
   "source": [
    "\n",
    "To find the eigenvalues of matrix $A$, we need to solve the characteristic equation $\\text{det}(A - \\lambda I) = 0$, where $I$ is the identity matrix and $\\lambda$ is the eigenvalue.\n",
    "\n",
    "The characteristic equation for matrix $A$ is:\n",
    "$\n",
    "\\text{det}\\left(\\begin{bmatrix} 1-\\lambda & -2 & 2 \\\\ -1 & -\\lambda & 1 \\\\ 3 & -4 & -3-\\lambda \\end{bmatrix}\\right) = 0\n",
    "$\n",
    "\n",
    "Expanding the determinant, we get:\n",
    "$\n",
    "(1-\\lambda)((-\\lambda)(-3-\\lambda) - (-4)(1)) - (-2)((-1)(-3-\\lambda) - (3)(1)) + 2((-1)(-4) - (3)(-2)) = 0\n",
    "$\n",
    "\n",
    "Simplifying further:\n",
    "$\n",
    "(1-\\lambda)(\\lambda^2 + 3\\lambda + 4) + 2(\\lambda - 3) + 2(10) = 0\n",
    "$\n",
    "\n",
    "Multiplying and combining like terms:\n",
    "$\n",
    "\\lambda^3 + 2\\lambda^2 + 3\\lambda + 10 = 0\n",
    "$\n",
    "\n",
    "The characteristic polynomial is cubic, and finding its roots might involve complex numbers. To check the options, we can evaluate the determinant for $\\lambda = 0, 1, -1$.\n",
    "\n",
    "For $\\lambda = 0$:\n",
    "$\n",
    "\\text{det}\\left(\\begin{bmatrix} 1 & -2 & 2 \\\\ -1 & 0 & 1 \\\\ 3 & -4 & -3 \\end{bmatrix}\\right) = 15 \\neq 0\n",
    "$\n",
    "\n",
    "For $\\lambda = 1$:\n",
    "$\n",
    "\\text{det}\\left(\\begin{bmatrix} 0 & -2 & 2 \\\\ -1 & -1 & 1 \\\\ 3 & -4 & -4 \\end{bmatrix}\\right) = 0\n",
    "$\n",
    "\n",
    "So, $\\lambda = 1$ is an eigenvalue.\n",
    "\n",
    "For $\\lambda = -1$:\n",
    "$\n",
    "\\text{det}\\left(\\begin{bmatrix} 2 & -2 & 2 \\\\ -1 & 1 & 1 \\\\ 3 & -4 & -2 \\end{bmatrix}\\right) = 0\n",
    "$\n",
    "\n",
    "So, $\\lambda = -1$ is another eigenvalue.\n",
    "\n",
    "Now, let's analyze the given options:\n",
    "\n",
    "a. The matrix has three eigenvalues, but we have found only two.\n",
    "\n",
    "b. The matrix does not appear to be symmetric, so this option is unlikely.\n",
    "\n",
    "c. The matrix does not have two negative eigenvalues, and the constant term in the characteristic polynomial is not zero.\n",
    "\n",
    "d. The matrix has one integer eigenvalue (1) and is invertible.\n",
    "\n",
    "Therefore, the correct answer is (d).\n",
    "\n"
   ]
  },
  {
   "cell_type": "code",
   "execution_count": null,
   "id": "44a5f415",
   "metadata": {},
   "outputs": [],
   "source": []
  }
 ],
 "metadata": {
  "kernelspec": {
   "display_name": "SageMath 9.5",
   "language": "sage",
   "name": "sagemath"
  },
  "language_info": {
   "codemirror_mode": {
    "name": "ipython",
    "version": 3
   },
   "file_extension": ".py",
   "mimetype": "text/x-python",
   "name": "python",
   "nbconvert_exporter": "python",
   "pygments_lexer": "ipython3",
   "version": "3.10.12"
  }
 },
 "nbformat": 4,
 "nbformat_minor": 5
}
