{
 "cells": [
  {
   "cell_type": "markdown",
   "id": "a7ca0e13",
   "metadata": {},
   "source": [
    "$\\textbf{Q11.}$ Calculate the eigenvalues of the matrix  $A=\\begin{bmatrix} 1 & 2 & 0 \\\\ 2 & 2 & 1 \\\\ 0 & 1 & 4 \\end{bmatrix}$\n",
    "\\\n",
    "\\\n",
    "$\\textbf{Answer :}$"
   ]
  },
  {
   "cell_type": "markdown",
   "id": "c698fb9a",
   "metadata": {},
   "source": [
    "\n",
    "\n",
    "To find the eigenvalues of matrix $A$, we solve the characteristic equation:\n",
    "\n",
    "$\n",
    "\\text{det}(A - \\lambda I) = 0\n",
    "$\n",
    "\n",
    "where $I$ is the identity matrix and $\\lambda$ is the eigenvalue.\n",
    "\n",
    "For the given matrix $A$:\n",
    "\n",
    "$\n",
    "A = \\begin{bmatrix} 1 & 2 & 0 \\\\ 2 & 2 & 1 \\\\ 0 & 1 & 4 \\end{bmatrix}\n",
    "$\n",
    "\n",
    "The characteristic equation is:\n",
    "\n",
    "$\n",
    "\\text{det}\\left(\\begin{bmatrix} 1-\\lambda & 2 & 0 \\\\ 2 & 2-\\lambda & 1 \\\\ 0 & 1 & 4-\\lambda \\end{bmatrix}\\right) = 0\n",
    "$\n",
    "\n",
    "Expanding the determinant:\n",
    "\n",
    "$\n",
    "(1-\\lambda)\\left[(2-\\lambda)(4-\\lambda) - (1)(0)\\right] - 2\\left[2(4-\\lambda) - (0)(1)\\right] = 0\n",
    "$\n",
    "\n",
    "Simplifying the equation and solving for $\\lambda$:\n",
    "\n",
    "$\n",
    "(1-\\lambda)((2-\\lambda)(4-\\lambda) - 0) - 2(2(4-\\lambda) - 0) = 0\n",
    "$\n",
    "\n",
    "$ (1-\\lambda)(8 - 6\\lambda + \\lambda^2) - 2(8 - 2\\lambda) = 0 $\n",
    "\n",
    "Expanding and collecting terms:\n",
    "\n",
    "$ (1-\\lambda)(\\lambda^2 - 6\\lambda + 8) - 16 + 4\\lambda = 0 $\n",
    "\n",
    "$ \\lambda^3 - 7\\lambda^2 + 18\\lambda - 12 = 0 $\n",
    "\n",
    "Now, we solve this cubic equation for $\\lambda$. The solutions are the eigenvalues of matrix $A$.\n",
    "\n"
   ]
  },
  {
   "cell_type": "code",
   "execution_count": null,
   "id": "5e19ded0",
   "metadata": {},
   "outputs": [],
   "source": []
  }
 ],
 "metadata": {
  "kernelspec": {
   "display_name": "SageMath 9.5",
   "language": "sage",
   "name": "sagemath"
  },
  "language_info": {
   "codemirror_mode": {
    "name": "ipython",
    "version": 3
   },
   "file_extension": ".py",
   "mimetype": "text/x-python",
   "name": "python",
   "nbconvert_exporter": "python",
   "pygments_lexer": "ipython3",
   "version": "3.10.12"
  }
 },
 "nbformat": 4,
 "nbformat_minor": 5
}
