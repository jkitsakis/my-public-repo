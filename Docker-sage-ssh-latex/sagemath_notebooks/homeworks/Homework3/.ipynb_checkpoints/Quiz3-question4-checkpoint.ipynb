{
 "cells": [
  {
   "cell_type": "markdown",
   "id": "3d4f4e9a",
   "metadata": {},
   "source": [
    "$\\textbf{Q4.}$ Which of the following are the eigenvectors of $A=\\begin{bmatrix} 2 & 1 & 0 \\\\ 3 & 0 & 0 \\\\ 0 & 1 & 2 \\end{bmatrix}$ ?\n",
    "\\\n",
    "\\\n",
    "$\\textbf{Answer :}$"
   ]
  },
  {
   "cell_type": "markdown",
   "id": "eb19b12a",
   "metadata": {},
   "source": [
    "\n",
    "The characteristic polynomial for matrix $A$ is given by:\n",
    "\\\n",
    "\\\n",
    "$\n",
    "\\begin{aligned}\n",
    "\\text{det}(A - \\lambda I) = (2-\\lambda)((\\lambda^2 - 2\\lambda - 3) + 3(2-\\lambda)) \\\\\n",
    "= (2-\\lambda)(\\lambda^2 - 5\\lambda + 3).\n",
    "\\end{aligned}\n",
    "$\n",
    "\n",
    "Setting this polynomial equal to zero, we find the eigenvalues:\n",
    "$\n",
    "\\begin{aligned}\n",
    "&(2-\\lambda)(\\lambda^2 - 5\\lambda + 3) = 0.\n",
    "\\end{aligned}\n",
    "$\n",
    "\n",
    "The solutions are $\\lambda = 2$ and the roots of $\\lambda^2 - 5\\lambda + 3 = 0$, which are $\\lambda = \\frac{5 \\pm \\sqrt{1}}{2}$. So, the eigenvalues are $\\lambda = 2, 3$.\n",
    "\n",
    "Now, lets find the corresponding eigenvectors.\n",
    "\n",
    "1. For $\\lambda = 2$:\n",
    "$\n",
    "(A - 2I)\\mathbf{v} = \\begin{bmatrix} 0 & 1 & 0 \\\\ 3 & -2 & 0 \\\\ 0 & 1 & 0 \\end{bmatrix} \\begin{bmatrix} x \\\\ y \\\\ z \\end{bmatrix} = \\begin{bmatrix} 0 \\\\ 0 \\\\ 0 \\end{bmatrix}.\n",
    "$\n",
    "\\\n",
    "\\\n",
    "This leads to the system of equations:\n",
    "\\\n",
    "$\n",
    "\\begin{aligned}\n",
    "&y = 0 \\\\\n",
    "&3x - 2y = 0 \\\\\n",
    "&y = 0.\n",
    "\\end{aligned}\n",
    "$\n",
    "\\\n",
    "\\\n",
    "The solution is $y = 0$ and $3x = 0$, and $z$ is arbitrary. The corresponding eigenvector is $\\begin{bmatrix} 0 \\\\ 0 \\\\ 0 \\end{bmatrix}$.\n",
    "\n",
    "2. For $\\lambda = 3$:\n",
    "$\n",
    "(A - 3I)\\mathbf{v} = \\begin{bmatrix} -1 & 1 & 0 \\\\ 3 & -3 & 0 \\\\ 0 & 1 & -1 \\end{bmatrix} \\begin{bmatrix} x \\\\ y \\\\ z \\end{bmatrix} = \\begin{bmatrix} 0 \\\\ 0 \\\\ 0 \\end{bmatrix}.\n",
    "$\n",
    "\\\n",
    "\\\n",
    "This leads to the system of equations:\n",
    "\\\n",
    "$\n",
    "\\begin{aligned}\n",
    "&-x + y = 0 \\\\\n",
    "&3x - 3y = 0 \\\\\n",
    "&y - z = 0.\n",
    "\\end{aligned}\n",
    "$\n",
    "\\\n",
    "\\\n",
    "Solving this system, we find that $x = y = z$. The corresponding eigenvector is $\\begin{bmatrix} 1 \\\\ 1 \\\\ 1 \\end{bmatrix}$.\n",
    "\n",
    "In summary, the eigenvectors of matrix $A$ corresponding to eigenvalues $2$ and $3$ are $\\begin{bmatrix} 0 \\\\ 0 \\\\ 0 \\end{bmatrix}$ and $\\begin{bmatrix} 1 \\\\ 1 \\\\ 1 \\end{bmatrix}$, respectively.\n",
    "\n"
   ]
  },
  {
   "cell_type": "code",
   "execution_count": null,
   "id": "457d1652",
   "metadata": {},
   "outputs": [],
   "source": []
  }
 ],
 "metadata": {
  "kernelspec": {
   "display_name": "SageMath 9.5",
   "language": "sage",
   "name": "sagemath"
  },
  "language_info": {
   "codemirror_mode": {
    "name": "ipython",
    "version": 3
   },
   "file_extension": ".py",
   "mimetype": "text/x-python",
   "name": "python",
   "nbconvert_exporter": "python",
   "pygments_lexer": "ipython3",
   "version": "3.10.12"
  }
 },
 "nbformat": 4,
 "nbformat_minor": 5
}
