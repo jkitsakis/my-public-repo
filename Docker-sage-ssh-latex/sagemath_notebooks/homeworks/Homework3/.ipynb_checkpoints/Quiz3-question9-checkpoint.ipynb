{
 "cells": [
  {
   "cell_type": "markdown",
   "id": "fd7315de",
   "metadata": {},
   "source": [
    "$\\textbf{Question 9  :}$\n",
    "\n",
    "Given the eigenvalues 𝜆1 = 9, 𝜆2 = 0, 𝜆3 = −9 and the associated eigenvectors \n",
    "$𝑒_1 = \\frac{1}{3} (−2, 2, 1)$,\n",
    "$𝑒_2 = \\frac{1}{3} (2, 1, 2)$, \n",
    "$𝑒_3 = \\frac{1}{3} (−1, −2, 2)$ \n",
    "of a real symmetric matrix 𝐴. Compute 𝐴 using by-hand calculation.\n",
    "\n",
    "$\\textbf{Answer :}$"
   ]
  },
  {
   "cell_type": "markdown",
   "id": "9cf86523",
   "metadata": {},
   "source": [
    "To construct the matrix $ A $ using the given eigenvalues and eigenvectors, recall that for a diagonalizable matrix $ A $, we have the eigendecomposition:\n",
    "\n",
    "$ A = Q D Q^{-1} $\n",
    "\n",
    "where:\n",
    "- $ Q $ is the matrix whose columns are the eigenvectors of $ A $.\n",
    "- $ D $ is the diagonal matrix whose diagonal elements are the eigenvalues of $ A $.\n",
    "\n",
    "Given the eigenvalues $ D_1 = 9 $, $ D_2 = 0 $, $ D_3 = -9 $ and the associated eigenvectors:\n",
    "$ e_1 = \\frac{1}{3} (-2, 2, 1), \\quad e_2 = \\frac{1}{3} (2, 1, 2), \\quad e_3 = \\frac{1}{3} (-1, -2, 2) $\n",
    "\n",
    "We construct the matrix $ Q $ by arranging the eigenvectors as its columns:\n",
    "\n",
    "$ Q = \\begin{pmatrix} -2/3 & 2/3 & -1/3 \\\\ 2/3 & 1/3 & -2/3 \\\\ 1/3 & 2/3 & 2/3 \\end{pmatrix} $\n",
    "\n",
    "and the diagonal matrix $ D $ with the eigenvalues along the diagonal:\n",
    "\n",
    "$ D = \\begin{pmatrix} 9 & 0 & 0 \\\\ 0 & 0 & 0 \\\\ 0 & 0 & -9 \\end{pmatrix} $\n",
    "\n",
    "Now, we compute $ Q^{-1} $ to obtain $ A $.\n",
    "\n",
    "To compute $ Q^{-1} $, we use the inverse of $ Q $. Since $ Q $ is an orthogonal matrix (its columns are orthogonal unit vectors), $ Q^{-1} = Q^T $.\n",
    "\n",
    "$ Q^{-1} = Q^T $\n",
    "\n",
    "Let's calculate $ Q^T $:\n",
    "\n",
    "$ Q^T = \\begin{pmatrix} -2/3 & 2/3 & 1/3 \\\\ 2/3 & 1/3 & 2/3 \\\\ -1/3 & -2/3 & 2/3 \\end{pmatrix} $\n",
    "\n",
    "Now, we have:\n",
    "\n",
    "$ A = Q D Q^{-1} = Q D Q^T $\n",
    "\n",
    "To compute $ A $, we perform the matrix multiplication:\n",
    "\n",
    "$ A = \\begin{pmatrix} -2/3 & 2/3 & -1/3 \\\\ 2/3 & 1/3 & -2/3 \\\\ 1/3 & 2/3 & 2/3 \\end{pmatrix} \\begin{pmatrix} 9 & 0 & 0 \\\\ 0 & 0 & 0 \\\\ 0 & 0 & -9 \\end{pmatrix} \\begin{pmatrix} -2/3 & 2/3 & 1/3 \\\\ 2/3 & 1/3 & 2/3 \\\\ -1/3 & -2/3 & 2/3 \\end{pmatrix} $\n",
    "\n",
    "Now, we perform the multiplication:\n",
    "\n",
    "$ A = \\begin{pmatrix} (-2/3)(9) + (2/3)(0) + (-1/3)(0) & (-2/3)(0) + (2/3)(0) + (-1/3)(0) & (-2/3)(0) + (2/3)(0) + (-1/3)(-9) \\\\ (2/3)(9) + (1/3)(0) + (-2/3)(0) & (2/3)(0) + (1/3)(0) + (-2/3)(0) & (2/3)(0) + (1/3)(0) + (-2/3)(-9) \\\\ (1/3)(9) + (2/3)(0) + (2/3)(0) & (1/3)(0) + (2/3)(0) + (2/3)(0) & (1/3)(0) + (2/3)(0) + (2/3)(-9) \\end{pmatrix} $\n",
    "\n",
    "$ A = \\begin{pmatrix} -6 & 0 & 3 \\\\ 6 & 0 & -6 \\\\ 3 & 0 & -6 \\end{pmatrix} $\n",
    "\n",
    "So, the matrix $ A $ is:\n",
    "\n",
    "$ A = \\begin{pmatrix} -6 & 0 & 3 \\\\ 6 & 0 & -6 \\\\ 3 & 0 & -6 \\end{pmatrix} $"
   ]
  },
  {
   "cell_type": "code",
   "execution_count": null,
   "id": "4ff43c73",
   "metadata": {},
   "outputs": [],
   "source": []
  },
  {
   "cell_type": "code",
   "execution_count": null,
   "id": "74e00af6",
   "metadata": {},
   "outputs": [],
   "source": []
  }
 ],
 "metadata": {
  "kernelspec": {
   "display_name": "SageMath 9.5",
   "language": "sage",
   "name": "sagemath"
  },
  "language_info": {
   "codemirror_mode": {
    "name": "ipython",
    "version": 3
   },
   "file_extension": ".py",
   "mimetype": "text/x-python",
   "name": "python",
   "nbconvert_exporter": "python",
   "pygments_lexer": "ipython3",
   "version": "3.10.12"
  }
 },
 "nbformat": 4,
 "nbformat_minor": 5
}
