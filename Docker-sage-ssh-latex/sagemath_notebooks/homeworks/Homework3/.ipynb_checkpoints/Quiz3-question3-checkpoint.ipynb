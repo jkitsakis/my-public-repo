{
 "cells": [
  {
   "cell_type": "markdown",
   "id": "60aecedb",
   "metadata": {},
   "source": [
    "$\\textbf{Q3.}$ Given a symmetric positive definite matrix  $A=\\begin{bmatrix} 2 & 1  \\\\ 1 & 3  \\end{bmatrix}$  and its Cholesky decomposition is $A=LL^T$, where $L$ is a lower  triangular matrix. What is the value of the element in the second row and first column of L ?\n",
    "\\\n",
    "\\\n",
    "$\\textbf{Answer :}$"
   ]
  },
  {
   "cell_type": "markdown",
   "id": "395e4433",
   "metadata": {},
   "source": [
    "Given a symmetric positive definite matrix $A$ and its Cholesky decomposition $A = LL^T$, where $L$ is a lower triangular matrix:\n",
    "\n",
    "$ A = \\begin{bmatrix} 2 & 1 \\\\ 1 & 3 \\end{bmatrix} $\n",
    "\n",
    "The Cholesky decomposition is given by:\n",
    "\n",
    "$ L = \\begin{bmatrix} l_{11} & 0 \\\\ l_{21} & l_{22} \\end{bmatrix} $\n",
    "\n",
    "The elements of $L$ are related to the elements of $A$ by the following equations:\n",
    "\n",
    "$ l_{11} = \\sqrt{a_{11}} $\n",
    "\n",
    "$ l_{21} = \\frac{a_{21}}{l_{11}} $\n",
    "\n",
    "$ l_{22} = \\sqrt{a_{22} - l_{21}^2} $\n",
    "\n",
    "In this case:\n",
    "\n",
    "$ l_{11} = \\sqrt{2} $\n",
    "\n",
    "$ l_{21} = \\frac{1}{\\sqrt{2}} $\n",
    "\n",
    "$ l_{22} = \\sqrt{3 - \\left(\\frac{1}{\\sqrt{2}}\\right)^2} = \\sqrt{\\frac{5}{2}} $\n",
    "\n",
    "Therefore, the value of the element in the second row and first column of $L$ is $ \\frac{1}{\\sqrt{2}} $.\n"
   ]
  },
  {
   "cell_type": "code",
   "execution_count": null,
   "id": "24e4092f",
   "metadata": {},
   "outputs": [],
   "source": []
  }
 ],
 "metadata": {
  "kernelspec": {
   "display_name": "SageMath 9.5",
   "language": "sage",
   "name": "sagemath"
  },
  "language_info": {
   "codemirror_mode": {
    "name": "ipython",
    "version": 3
   },
   "file_extension": ".py",
   "mimetype": "text/x-python",
   "name": "python",
   "nbconvert_exporter": "python",
   "pygments_lexer": "ipython3",
   "version": "3.10.12"
  }
 },
 "nbformat": 4,
 "nbformat_minor": 5
}
