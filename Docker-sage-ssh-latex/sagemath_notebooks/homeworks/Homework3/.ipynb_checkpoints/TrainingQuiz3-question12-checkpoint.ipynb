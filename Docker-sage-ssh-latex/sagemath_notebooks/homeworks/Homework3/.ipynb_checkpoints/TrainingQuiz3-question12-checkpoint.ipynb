{
 "cells": [
  {
   "cell_type": "markdown",
   "id": "a7ca0e13",
   "metadata": {},
   "source": [
    "$\\textbf{Q12.}$ Calculate the matrix that has eigenvalues $λ_1=5$ and $λ_2=−1$ and eigenvectors  $v_1=\\begin{bmatrix} 1 \\\\ -1 \\end{bmatrix}$  and $v_2=\\begin{bmatrix} 1 \\\\ 1/2 \\end{bmatrix}$, respectively \n",
    "\\\n",
    "\\\n",
    "$\\textbf{Answer :}$"
   ]
  },
  {
   "cell_type": "markdown",
   "id": "c62d8c5f",
   "metadata": {},
   "source": [
    "\n",
    "\n",
    "Given eigenvalues and eigenvectors:\n",
    "$\n",
    "\\lambda_1 = 5, \\quad \\lambda_2 = -1\n",
    "$\n",
    "$\n",
    "v_1 = \\begin{bmatrix} 1 \\\\ -1 \\end{bmatrix}, \\quad v_2 = \\begin{bmatrix} 1 \\\\ \\frac{1}{2} \\end{bmatrix}\n",
    "$\n",
    "\n",
    "Construct matrix $P$ and diagonal matrix $D$:\n",
    "\n",
    "\n",
    "\n",
    "Given eigenvalues and eigenvectors:\n",
    "$\n",
    "\\lambda_1 = 5, \\quad \\lambda_2 = -1\n",
    "$\n",
    "$\n",
    "v_1 = \\begin{bmatrix} 1 \\\\ -1 \\end{bmatrix}, \\quad v_2 = \\begin{bmatrix} 1 \\\\ \\frac{1}{2} \\end{bmatrix}\n",
    "$\n",
    "\n",
    "Construct matrix $P$:\n",
    "$\n",
    "P = \\begin{bmatrix} v_1 & v_2 \\end{bmatrix} = \\begin{bmatrix} 1 & 1 \\\\ -1 & \\frac{1}{2} \\end{bmatrix}\n",
    "$\n",
    "\n",
    "Construct diagonal matrix $D$:\n",
    "$\n",
    "D = \\begin{bmatrix} \\lambda_1 & 0 \\\\ 0 & \\lambda_2 \\end{bmatrix} = \\begin{bmatrix} 5 & 0 \\\\ 0 & -1 \\end{bmatrix}\n",
    "$\n",
    "\n",
    "So, the matrices $P$ and $D$ are:\n",
    "$\n",
    "P = \\begin{bmatrix} 1 & 1 \\\\ -1 & \\frac{1}{2} \\end{bmatrix}\n",
    "$\n",
    "$\n",
    "D = \\begin{bmatrix} 5 & 0 \\\\ 0 & -1 \\end{bmatrix}\n",
    "$\n",
    "\n",
    "\n",
    "\n",
    "\n",
    "Calculate the inverse of $P$, denoted as $P^{-1}$:\n",
    "$\n",
    "P^{-1} = \\begin{bmatrix} \\frac{1}{3} & -\\frac{2}{3} \\\\ \\frac{2}{3} & \\frac{1}{3} \\end{bmatrix}\n",
    "$\n",
    "\n",
    "Substitute into the formula $A = PDP^{-1}$:\n",
    "$\n",
    "A = \\begin{bmatrix} 1 & 1 \\\\ -1 & \\frac{1}{2} \\end{bmatrix} \\begin{bmatrix} 5 & 0 \\\\ 0 & -1 \\end{bmatrix} \\begin{bmatrix} \\frac{1}{3} & -\\frac{2}{3} \\\\ \\frac{2}{3} & \\frac{1}{3} \\end{bmatrix}\n",
    "$\n",
    "\n",
    "Perform the matrix multiplication to obtain the final result for $A$.\n",
    "\n"
   ]
  },
  {
   "cell_type": "code",
   "execution_count": null,
   "id": "45ca031e",
   "metadata": {},
   "outputs": [],
   "source": []
  }
 ],
 "metadata": {
  "kernelspec": {
   "display_name": "SageMath 9.5",
   "language": "sage",
   "name": "sagemath"
  },
  "language_info": {
   "codemirror_mode": {
    "name": "ipython",
    "version": 3
   },
   "file_extension": ".py",
   "mimetype": "text/x-python",
   "name": "python",
   "nbconvert_exporter": "python",
   "pygments_lexer": "ipython3",
   "version": "3.10.12"
  }
 },
 "nbformat": 4,
 "nbformat_minor": 5
}
