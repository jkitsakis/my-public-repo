{
 "cells": [
  {
   "cell_type": "markdown",
   "id": "a7ca0e13",
   "metadata": {},
   "source": [
    "$\\textbf{Q9.}$ Calculate a,b,c so that to give eigenvalues 1,2,3 for the matrix  $C=\\begin{bmatrix} 0 & 1 & 0 \\\\ 0 & 0 & 1 \\\\ a & b &c \\end{bmatrix}$\n",
    "\\\n",
    "\\\n",
    "$\\textbf{Answer :}$"
   ]
  },
  {
   "cell_type": "markdown",
   "id": "021669cb",
   "metadata": {},
   "source": [
    "\n",
    "The characteristic equation is given by:\n",
    "$\n",
    "\\text{det}(C - \\lambda I) =\n",
    "\\begin{vmatrix}\n",
    "-\\lambda & 1 & 0 \\\\\n",
    "0 & -\\lambda & 1 \\\\\n",
    "a & b & c - \\lambda\n",
    "\\end{vmatrix} = 0\n",
    "$\n",
    "\n",
    "Expanding the determinant, we get:\n",
    "$\n",
    "-\\lambda\n",
    "\\begin{vmatrix}\n",
    "-\\lambda & 1 \\\\\n",
    "b & c - \\lambda\n",
    "\\end{vmatrix}\n",
    "- \\begin{vmatrix}\n",
    "0 & 1 \\\\\n",
    "a & b\n",
    "\\end{vmatrix} = 0\n",
    "$\n",
    "\n",
    "Simplifying further:\n",
    "$\n",
    "-\\lambda((-\\lambda)(c - \\lambda) - (1)(b)) - ((0)(b) - (1)(a)) = 0\n",
    "$\n",
    "\n",
    "\n",
    "To solve the characteristic equation:\n",
    "$\n",
    "\\lambda^3 - c\\lambda^2 - b\\lambda - a = 0\n",
    "$\n",
    "\n",
    "Given that the eigenvalues are 1, 2, and 3, we can write the factorized form:\n",
    "$\n",
    "(\\lambda - 1)(\\lambda - 2)(\\lambda - 3) = 0\n",
    "$\n",
    "\n",
    "Equating the two expressions:\n",
    "$\n",
    "\\lambda^3 - c\\lambda^2 - b\\lambda - a = (\\lambda - 1)(\\lambda - 2)(\\lambda - 3)\n",
    "$\n",
    "\n",
    "Comparing coefficients:\n",
    "\\begin{align*}\n",
    "-c &= -(1 + 2 + 3) \\quad \\Rightarrow \\quad c = 6 \\\\\n",
    "-b &= 1 \\cdot 2 + 1 \\cdot 3 + 2 \\cdot 3 \\quad \\Rightarrow \\quad b = -11 \\\\\n",
    "-a &= -1 \\cdot 2 \\cdot 3 \\quad \\Rightarrow \\quad a = 6\n",
    "\\end{align*}\n",
    "\n",
    "So, the values of $a$, $b$, and $c$ are $a = 6$, $b = -11$, and $c = 6$.\n",
    "\n",
    "\n",
    "\n"
   ]
  },
  {
   "cell_type": "code",
   "execution_count": null,
   "id": "7bc255e7",
   "metadata": {},
   "outputs": [],
   "source": []
  }
 ],
 "metadata": {
  "kernelspec": {
   "display_name": "SageMath 9.5",
   "language": "sage",
   "name": "sagemath"
  },
  "language_info": {
   "codemirror_mode": {
    "name": "ipython",
    "version": 3
   },
   "file_extension": ".py",
   "mimetype": "text/x-python",
   "name": "python",
   "nbconvert_exporter": "python",
   "pygments_lexer": "ipython3",
   "version": "3.10.12"
  }
 },
 "nbformat": 4,
 "nbformat_minor": 5
}
