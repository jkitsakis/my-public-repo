{
 "cells": [
  {
   "cell_type": "markdown",
   "id": "ead39614",
   "metadata": {},
   "source": [
    "$\\textbf{Q3.}$ Let \n",
    "\\\n",
    "$a=\\begin{bmatrix} 1 \\\\  1 \\\\ 1 \\end{bmatrix}$ , \n",
    "$b=\\begin{bmatrix} -1 \\\\ 1 \\\\ 1 \\end{bmatrix}$ and \n",
    "$c=\\begin{bmatrix} 1 \\\\ -1 \\\\ 1 \\end{bmatrix}$\n",
    "\\\n",
    "be three  linear independent vectors. For which k the volume of the cube defined by them is maximized?\n",
    "\\\n",
    "\\\n",
    "$\\textbf{Answer :}$"
   ]
  },
  {
   "cell_type": "markdown",
   "id": "1d5c691d",
   "metadata": {},
   "source": [
    "Let \n",
    "\\\n",
    "\\\n",
    "$\n",
    "a=\\begin{bmatrix} 1 \\\\  1 \\\\ 1 \\end{bmatrix}, \\quad\n",
    "b=\\begin{bmatrix} -1 \\\\ 1 \\\\ 1 \\end{bmatrix}, \\quad \\text{and} \\quad\n",
    "c=\\begin{bmatrix} 1 \\\\ -1 \\\\ 1 \\end{bmatrix}\n",
    "$\n",
    "\\\n",
    "\\\n",
    "be three linear independent vectors. The volume of the parallelepiped formed by these vectors is given by the absolute value of the scalar triple product:\n",
    "\\\n",
    "\\\n",
    "$\n",
    "V = |a \\cdot (b \\times c)|\n",
    "$\n",
    "\\\n",
    "\\\n",
    "where $\\cdot$ denotes the dot product and $\\times$ denotes the cross product.\n",
    "\\\n",
    "\\\n",
    "Computing the scalar triple product, we get:\n",
    "\\\n",
    "\\\n",
    "$\n",
    "V = |1 \\cdot (2) + 1 \\cdot (-2) + 1 \\cdot (-2)| = |-2| = 2\n",
    "$\n",
    "\\\n",
    "\\\n",
    "Now, introducing a scalar $k$ to vector $a$:\n",
    "\\\n",
    "\\\n",
    "$\n",
    "a_k = \\begin{bmatrix} k \\\\ k \\\\ k \\end{bmatrix}\n",
    "$\n",
    "\\\n",
    "\\\n",
    "The volume expression with the modified vector becomes:\n",
    "\\\n",
    "\\\n",
    "$\n",
    "V_k = |a_k \\cdot (b \\times c)| = |k \\cdot (2) + k \\cdot (-2) + k \\cdot (-2)| = |-2k|\n",
    "$\n",
    "\\\n",
    "\\\n",
    "To maximize $V_k$, we need to maximize $|k|$. Therefore, the maximum volume occurs when $k = -1$, and the result is $V_{-1} = 2$.\n"
   ]
  },
  {
   "cell_type": "code",
   "execution_count": null,
   "id": "5ad01af9",
   "metadata": {},
   "outputs": [],
   "source": []
  }
 ],
 "metadata": {
  "kernelspec": {
   "display_name": "SageMath 9.5",
   "language": "sage",
   "name": "sagemath"
  },
  "language_info": {
   "codemirror_mode": {
    "name": "ipython",
    "version": 3
   },
   "file_extension": ".py",
   "mimetype": "text/x-python",
   "name": "python",
   "nbconvert_exporter": "python",
   "pygments_lexer": "ipython3",
   "version": "3.10.12"
  }
 },
 "nbformat": 4,
 "nbformat_minor": 5
}
