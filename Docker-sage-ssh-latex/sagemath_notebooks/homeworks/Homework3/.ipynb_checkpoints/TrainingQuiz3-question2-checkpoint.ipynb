{
 "cells": [
  {
   "cell_type": "markdown",
   "id": "81e0b2b2",
   "metadata": {},
   "source": [
    "$\\textbf{Q2.}$ Calculate the volume defined by the three linearly independent vectors \n",
    "$a=\\begin{bmatrix} 1 \\\\  1 \\\\ 1 \\end{bmatrix}$ , \n",
    "$b=\\begin{bmatrix} -1 \\\\ 1 \\\\ 1 \\end{bmatrix}$ and \n",
    "$c=\\begin{bmatrix} 1 \\\\ -1 \\\\ 1 \\end{bmatrix}$\n",
    "\n",
    "applying Sarrus' rule and Laplace expansion\n",
    "\\\n",
    "\\\n",
    "$\\textbf{Answer :}$\n"
   ]
  },
  {
   "cell_type": "markdown",
   "id": "0adc5d2c",
   "metadata": {},
   "source": [
    "\n",
    "a. Sarrus' Rule:\n",
    "\\\n",
    "\\\n",
    "$\n",
    "\\text{Volume} = \\left| \\sum_{i=1}^{3} (M_{i1} \\cdot M_{i2} \\cdot M_{i3}) - \\sum_{i=1}^{3} (M_{i3} \\cdot M_{i2} \\cdot M_{i1}) \\right|\n",
    "$\n",
    "\\\n",
    "\\\n",
    "$\n",
    "= \\left| (1 \\cdot 1 \\cdot 1) + (-1 \\cdot -1 \\cdot 1) + (1 \\cdot 1 \\cdot 1) - (1 \\cdot 1 \\cdot 1) - (-1 \\cdot 1 \\cdot 1) - (1 \\cdot -1 \\cdot 1) \\right|\n",
    "$\n",
    "\\\n",
    "\\\n",
    "$\n",
    "= \\left| 4 \\right| = 4\n",
    "$\n",
    "\\\n",
    "\\\n",
    "\\\n",
    "\\\n",
    "\n",
    "b. Laplace Expansion:\n",
    "\\\n",
    "\\\n",
    "$\n",
    "\\text{Volume} = \\left| 1 \\cdot \\text{det}(M_{11}) - (-1) \\cdot \\text{det}(M_{21}) + 1 \\cdot \\text{det}(M_{31}) \\right|\n",
    "$\n",
    "\\\n",
    "\\\n",
    "$\n",
    "\\text{det}(M_{11}) = \\begin{vmatrix} 1 & -1 \\\\ 1 & 1 \\end{vmatrix} = (1 \\cdot 1) - (-1 \\cdot 1) = 2\n",
    "$\n",
    "\\\n",
    "\\\n",
    "$\n",
    "\\text{det}(M_{21}) = \\begin{vmatrix} 1 & 1 \\\\ 1 & 1 \\end{vmatrix} = (1 \\cdot 1) - (1 \\cdot 1) = 0\n",
    "$\n",
    "\\\n",
    "\\\n",
    "$\n",
    "\\text{det}(M_{31}) = \\begin{vmatrix} -1 & 1 \\\\ 1 & 1 \\end{vmatrix} = (-1 \\cdot 1) - (1 \\cdot 1) = -2\n",
    "$\n",
    "\\\n",
    "\\\n",
    "$\n",
    "\\text{Volume} = \\left| 1 \\cdot 2 - (-1) \\cdot 0 + 1 \\cdot (-2) \\right| = \\left| 4 \\right| = 4\n",
    "$\n"
   ]
  },
  {
   "cell_type": "code",
   "execution_count": null,
   "id": "0a74967c",
   "metadata": {},
   "outputs": [],
   "source": []
  }
 ],
 "metadata": {
  "kernelspec": {
   "display_name": "SageMath 9.5",
   "language": "sage",
   "name": "sagemath"
  },
  "language_info": {
   "codemirror_mode": {
    "name": "ipython",
    "version": 3
   },
   "file_extension": ".py",
   "mimetype": "text/x-python",
   "name": "python",
   "nbconvert_exporter": "python",
   "pygments_lexer": "ipython3",
   "version": "3.10.12"
  }
 },
 "nbformat": 4,
 "nbformat_minor": 5
}
