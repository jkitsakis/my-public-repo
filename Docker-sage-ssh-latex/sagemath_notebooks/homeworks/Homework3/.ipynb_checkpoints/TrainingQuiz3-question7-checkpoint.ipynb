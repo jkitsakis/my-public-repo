{
 "cells": [
  {
   "cell_type": "markdown",
   "id": "a7ca0e13",
   "metadata": {},
   "source": [
    "$\\textbf{Q7.}$ Calculate the trace of matrix $A=B^T+2C−3I_3$, where $B=\\begin{bmatrix} 1 & 2 & 1 \\\\ -1 & 1 & -1 \\\\ -1 & -1 & 1 \\end{bmatrix}$, \n",
    "$C=\\begin{bmatrix} 2 & 3 & 1 \\\\ -2 & 1 & 3 \\\\ -3 & -1 & 1 \\end{bmatrix}$, and $I_3$ being the 3×3 identity matrix \n",
    "\\\n",
    "\\\n",
    "$\\textbf{Answer :}$"
   ]
  },
  {
   "cell_type": "markdown",
   "id": "a60d6b7d",
   "metadata": {},
   "source": [
    "\n",
    "The matrix $A$ is defined as\n",
    "$A = B^T + 2C - 3I_3, $\n",
    "where\n",
    "$B = \\begin{bmatrix} 1 & 2 & 1 \\\\ -1 & 1 & -1 \\\\ -1 & -1 & 1 \\end{bmatrix}, $\n",
    "$C = \\begin{bmatrix} 2 & 3 & 1 \\\\ -2 & 1 & 3 \\\\ -3 & -1 & 1 \\end{bmatrix}, $\n",
    "and $I_3$ is the 3x3 identity matrix.\n",
    "\n",
    "1. Transpose of matrix $B$, denoted as $B^T$:\n",
    "\\\n",
    "$B^T = \\begin{bmatrix} 1 & -1 & -1 \\\\ 2 & 1 & -1 \\\\ 1 & -1 & 1 \\end{bmatrix} $\n",
    "\n",
    "2. Multiply matrix $C$ by 2:\n",
    "\\\n",
    "$2C = \\begin{bmatrix} 4 & 6 & 2 \\\\ -4 & 2 & 6 \\\\ -6 & -2 & 2 \\end{bmatrix} $\n",
    "\n",
    "3. Multiply the identity matrix $I_3$ by 3:\n",
    "\\\n",
    "$3I_3 = \\begin{bmatrix} 3 & 0 & 0 \\\\ 0 & 3 & 0 \\\\ 0 & 0 & 3 \\end{bmatrix} $\n",
    "\n",
    "Now, we can add these matrices together to find $A$:\n",
    "$A = B^T + 2C - 3I_3 = \\begin{bmatrix} 2 & 5 & 1 \\\\ -2 & 0 & 5 \\\\ -5 & -3 & 0 \\end{bmatrix} $\n",
    "\n",
    "Finally, calculate the trace, which is the sum of the diagonal elements:\n",
    "$\\text{Trace}(A) = 2 + 0 + 0 = 2 $\n",
    "\n",
    "So, the trace of matrix $A$ is 2.\n",
    "\n",
    "\n"
   ]
  },
  {
   "cell_type": "code",
   "execution_count": null,
   "id": "be29fd9c",
   "metadata": {},
   "outputs": [],
   "source": []
  }
 ],
 "metadata": {
  "kernelspec": {
   "display_name": "SageMath 9.5",
   "language": "sage",
   "name": "sagemath"
  },
  "language_info": {
   "codemirror_mode": {
    "name": "ipython",
    "version": 3
   },
   "file_extension": ".py",
   "mimetype": "text/x-python",
   "name": "python",
   "nbconvert_exporter": "python",
   "pygments_lexer": "ipython3",
   "version": "3.10.12"
  }
 },
 "nbformat": 4,
 "nbformat_minor": 5
}
