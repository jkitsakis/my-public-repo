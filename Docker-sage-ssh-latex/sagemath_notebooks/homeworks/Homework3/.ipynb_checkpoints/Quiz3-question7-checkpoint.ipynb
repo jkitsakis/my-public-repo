{
 "cells": [
  {
   "cell_type": "markdown",
   "id": "d5a7b7e5",
   "metadata": {},
   "source": [
    "$\\textbf{Question 7}$\n",
    "\n",
    "Consider the matrix \n",
    "\n",
    "$A=\\begin{bmatrix} -2 & 6 & -3 \\\\ 6 & 3 & 2 \\\\ -3 & 2 & a \\end{bmatrix}$\n",
    "\n",
    "where a is a real parameter and $𝑥 = (1, 1, 1)^𝑇$. If a = −18. \n",
    "Using Sagemath: \n",
    "(a) compute the eigenvalues and the eigenvectors of 𝐴;\n",
    "(b) normalize the eigenvectors of 𝐴;\n",
    "(c) compute (numerically with 3 significant digits) the components of 𝑥 in the orthonormal\n",
    "basis of question (b).\n",
    "\n",
    "$\\textbf{Answer :}$"
   ]
  },
  {
   "cell_type": "code",
   "execution_count": 24,
   "id": "191e9d93",
   "metadata": {},
   "outputs": [
    {
     "name": "stdout",
     "output_type": "stream",
     "text": [
      "Eigenvalues:\n",
      "[  7   0   0]\n",
      "[  0  -5   0]\n",
      "[  0   0 -19]\n",
      "\n",
      "Eigenvectors:\n",
      "[   1    1    1]\n",
      "[ 3/2 -2/3 -2/3]\n",
      "[   0 -1/3 13/3]\n",
      "\n",
      "Normalized Eigenvectors:\n",
      "[(2/13*sqrt(13), 3/13*sqrt(13), 0), (3/14*sqrt(14), -1/7*sqrt(14), -1/14*sqrt(14)), (3/182*sqrt(182), -1/91*sqrt(182), 1/14*sqrt(182))]\n",
      "\n",
      "x: [1]\n",
      "[1]\n",
      "[1]\n",
      "\n",
      " orthonormal_basis_matrix: [  2/13*sqrt(13)   3/14*sqrt(14) 3/182*sqrt(182)]\n",
      "[  3/13*sqrt(13)   -1/7*sqrt(14) -1/91*sqrt(182)]\n",
      "[              0  -1/14*sqrt(14)  1/14*sqrt(182)]\n",
      "\n",
      " Components of x in the orthonormal basis:\n",
      "[ 1.39]\n",
      "[0.000]\n",
      "[ 1.04]\n"
     ]
    }
   ],
   "source": [
    "# Given matrix A\n",
    "A = Matrix([[-2, 6, -3], [6, 3, 2], [-3, 2, -18]])\n",
    "\n",
    "# (a) Compute eigenvalues and eigenvectors\n",
    "eigenvalues, eigenvectors = A.eigenmatrix_right()\n",
    "\n",
    "# Display eigenvalues and eigenvectors\n",
    "print(\"Eigenvalues:\")\n",
    "print(eigenvalues)\n",
    "print(\"\\nEigenvectors:\")\n",
    "print(eigenvectors)\n",
    "\n",
    "# (b) Normalize the eigenvectors\n",
    "normalized_eigenvectors = [v.normalized() for v in eigenvectors.columns()]\n",
    "print(\"\\nNormalized Eigenvectors:\")\n",
    "print(normalized_eigenvectors)\n",
    "\n",
    "# (c) Compute components of x in the orthonormal basis\n",
    "x = vector([1, 1, 1]).column()\n",
    "print(\"\\nx:\", x)\n",
    "# Create the orthonormal basis matrix from normalized_eigenvectors matrix\n",
    "orthonormal_basis_matrix = Matrix(normalized_eigenvectors).transpose()\n",
    "print(\"\\n orthonormal_basis_matrix:\", orthonormal_basis_matrix)\n",
    "\n",
    "# Compute the components of x in the orthonormal basis\n",
    "x_in_orthonormal_basis = orthonormal_basis_matrix.solve_right(x)\n",
    "print(\"\\n Components of x in the orthonormal basis:\")\n",
    "print(x_in_orthonormal_basis.n(digits=3))\n"
   ]
  },
  {
   "cell_type": "markdown",
   "id": "fd7315de",
   "metadata": {},
   "source": [
    "Consider the matrix \n",
    "\n",
    "$A=\\begin{bmatrix} -2 & 6 & -3 \\\\ 6 & 3 & 2 \\\\ -3 & 2 & a \\end{bmatrix}$\n",
    "\n",
    "where a is a real parameter and $𝑥 = (1 , 1 , 1)^𝑇$. If a = 6. \n",
    "Using Sagemath: \n",
    "(d) compute the eigenvalues and the eigenvectors of 𝐴;\n",
    "(e) what is the algebraic multiplicity of each eigenvalue?\n",
    "(f) are the eigenvectors orthogonal ? If not find an orthonormal basis.\n",
    "(g) compute (numerically with 3 significant digits) the components of 𝑥 in the orthonormal\n",
    "basis of question (f).\n",
    "\n",
    "$\\textbf{Answer :}$"
   ]
  },
  {
   "cell_type": "code",
   "execution_count": 47,
   "id": "09f207e8",
   "metadata": {},
   "outputs": [
    {
     "name": "stdout",
     "output_type": "stream",
     "text": [
      "Eigenvalues:\n",
      "[-7  0  0]\n",
      "[ 0  7  0]\n",
      "[ 0  0  7]\n",
      "\n",
      "Eigenvectors:\n",
      "[   1    1    0]\n",
      "[-2/3    0    1]\n",
      "[ 1/3   -3    2]\n",
      "\n",
      "Algebraic Multiplicities:\n",
      "[0, 0, 0]\n",
      "\n",
      "Are Eigenvectors Orthogonal?\n",
      "False\n",
      "\n",
      "Orthonormal Basis:\n",
      "[     1      1      0]\n",
      "[  -1/3    1/3      1]\n",
      "[ 21/11 -21/11  14/11]\n",
      "\n",
      "Components of x in the Orthonormal Basis:\n",
      "(0.442, 0.558, 0.961)\n"
     ]
    }
   ],
   "source": [
    "# Given matrix A with a = 6\n",
    "A = Matrix([[-2, 6, -3], [6, 3, 2], [-3, 2, 6]])\n",
    "\n",
    "# (d) Compute eigenvalues and eigenvectors\n",
    "eigenvalues, eigenvectors = A.eigenmatrix_right()\n",
    "\n",
    "# (e) Compute algebraic multiplicities\n",
    "algebraic_multiplicities = [eigenvalues.list().count(eigenvalue) for eigenvalue in eigenvalues]\n",
    "\n",
    "# (f) Check if eigenvectors are orthogonal\n",
    "are_eigenvectors_orthogonal = all(v1.dot_product(v2) == 0 for v1 in eigenvectors.columns() for v2 in eigenvectors.columns() if v1 != v2)\n",
    "\n",
    "# If eigenvectors are not orthogonal, find an orthonormal basis using Gram-Schmidt\n",
    "if not are_eigenvectors_orthogonal:\n",
    "    orthonormal_basis = Matrix(eigenvectors).gram_schmidt()[0]\n",
    "\n",
    "# (g) Compute components of x in the orthonormal basis (either eigenvectors or the orthonormal basis from (f))\n",
    "x = vector([1, 1, 1])\n",
    "x_in_orthonormal_basis = orthonormal_basis.solve_right(x)\n",
    "\n",
    "# Display results\n",
    "print(\"Eigenvalues:\")\n",
    "print(eigenvalues)\n",
    "print(\"\\nEigenvectors:\")\n",
    "print(eigenvectors)\n",
    "print(\"\\nAlgebraic Multiplicities:\")\n",
    "print(algebraic_multiplicities)\n",
    "print(\"\\nAre Eigenvectors Orthogonal?\")\n",
    "print(are_eigenvectors_orthogonal)\n",
    "print(\"\\nOrthonormal Basis:\")\n",
    "print(orthonormal_basis if not are_eigenvectors_orthogonal else \"Eigenvectors are already orthogonal.\")\n",
    "print(\"\\nComponents of x in the Orthonormal Basis:\")\n",
    "print(x_in_orthonormal_basis.n(digits=3))\n"
   ]
  },
  {
   "cell_type": "code",
   "execution_count": null,
   "id": "4f7cf025",
   "metadata": {},
   "outputs": [],
   "source": []
  }
 ],
 "metadata": {
  "kernelspec": {
   "display_name": "SageMath 9.5",
   "language": "sage",
   "name": "sagemath"
  },
  "language_info": {
   "codemirror_mode": {
    "name": "ipython",
    "version": 3
   },
   "file_extension": ".py",
   "mimetype": "text/x-python",
   "name": "python",
   "nbconvert_exporter": "python",
   "pygments_lexer": "ipython3",
   "version": "3.10.12"
  }
 },
 "nbformat": 4,
 "nbformat_minor": 5
}
