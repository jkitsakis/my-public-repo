{
 "cells": [
  {
   "cell_type": "markdown",
   "id": "ead39614",
   "metadata": {},
   "source": [
    "$\\textbf{Q5.}$ For the matrix $A=\\begin{bmatrix} a & b \\\\ c & d \\end{bmatrix}$ we have $det(A)=k$ with k≠0. Calculate determinant regarding the matrix  \n",
    "$B=\\begin{bmatrix} c & d \\\\ a & b \\end{bmatrix}$ ?\n",
    "\\\n",
    "\\\n",
    "$\\textbf{Answer :}$"
   ]
  },
  {
   "cell_type": "markdown",
   "id": "c6f8013a",
   "metadata": {},
   "source": [
    "The determinant of a $2 \\times 2$ matrix can be calculated using the formula:\n",
    "\n",
    "$ \\text{det}\\left(\\begin{bmatrix} a & b \\\\ c & d \\end{bmatrix}\\right) = ad - bc $\n",
    "\n",
    "Given that $ \\text{det}(A) = k \\neq 0 $, we know that $ ad - bc \\neq 0 $.\n",
    "\n",
    "Now, let's find the determinant of matrix $ B $:\n",
    "\n",
    "$ \\text{det}\\left(\\begin{bmatrix} c & d \\\\ a & b \\end{bmatrix}\\right) = cb - da $\n",
    "\n",
    "Notice that this is the negative of the determinant of matrix $ A $:\n",
    "\n",
    "$ \\text{det}(B) = -\\text{det}(A) = -k $\n",
    "\n",
    "So, the determinant of matrix $ B $ is $-k$.\n"
   ]
  },
  {
   "cell_type": "code",
   "execution_count": null,
   "id": "15515777",
   "metadata": {},
   "outputs": [],
   "source": []
  }
 ],
 "metadata": {
  "kernelspec": {
   "display_name": "SageMath 9.5",
   "language": "sage",
   "name": "sagemath"
  },
  "language_info": {
   "codemirror_mode": {
    "name": "ipython",
    "version": 3
   },
   "file_extension": ".py",
   "mimetype": "text/x-python",
   "name": "python",
   "nbconvert_exporter": "python",
   "pygments_lexer": "ipython3",
   "version": "3.10.12"
  }
 },
 "nbformat": 4,
 "nbformat_minor": 5
}
