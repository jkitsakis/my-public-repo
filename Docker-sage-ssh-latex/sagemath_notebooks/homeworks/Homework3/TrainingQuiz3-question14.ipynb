{
 "cells": [
  {
   "cell_type": "markdown",
   "id": "a7ca0e13",
   "metadata": {},
   "source": [
    "$\\textbf{Q14.}$ Calculate the characteristic polynomial P(λ) of the matrix $A=\\begin{bmatrix} 1 &  1 \\\\ 1 & 1\\end{bmatrix}$\n",
    "\\\n",
    "\\\n",
    "$\\textbf{Answer :}$"
   ]
  },
  {
   "cell_type": "markdown",
   "id": "c49214b0",
   "metadata": {},
   "source": [
    "\n",
    "\n",
    "The matrix $A$ is given by:\n",
    "$ A = \\begin{bmatrix} 1 & 1 \\\\ 1 & 1 \\end{bmatrix} $\n",
    "\n",
    "To find the characteristic polynomial $P(\\lambda)$, we compute the determinant of $A - \\lambda I$:\n",
    "\\\n",
    "\\\n",
    "$ \\text{det}(A - \\lambda I) = \\text{det}\\left(\\begin{bmatrix} 1-\\lambda & 1 \\\\ 1 & 1-\\lambda \\end{bmatrix}\\right) $\n",
    "\\\n",
    "\\\n",
    "Expanding the determinant, we get:\n",
    "$ (1-\\lambda)(1-\\lambda) - (1)(1) $\n",
    "\\\n",
    "\\\n",
    "Simplifying, we obtain:\n",
    "$ (1-\\lambda)^2 - 1 $\n",
    "\\\n",
    "\\\n",
    "Expanding and collecting like terms:\n",
    "$ (1 - 2\\lambda + \\lambda^2) - 1 $\n",
    "\\\n",
    "\\\n",
    "The characteristic polynomial $P(\\lambda)$ for the matrix $A$ is:\n",
    "$ P(\\lambda) = \\lambda^2 - 2\\lambda $\n",
    "\n"
   ]
  },
  {
   "cell_type": "code",
   "execution_count": null,
   "id": "a3425535",
   "metadata": {},
   "outputs": [],
   "source": []
  }
 ],
 "metadata": {
  "kernelspec": {
   "display_name": "SageMath 9.5",
   "language": "sage",
   "name": "sagemath"
  },
  "language_info": {
   "codemirror_mode": {
    "name": "ipython",
    "version": 3
   },
   "file_extension": ".py",
   "mimetype": "text/x-python",
   "name": "python",
   "nbconvert_exporter": "python",
   "pygments_lexer": "ipython3",
   "version": "3.10.12"
  }
 },
 "nbformat": 4,
 "nbformat_minor": 5
}
