{
 "cells": [
  {
   "cell_type": "markdown",
   "id": "a7ca0e13",
   "metadata": {},
   "source": [
    "$\\textbf{Q13.}$ Calculate the (full) range of values of the parameter a for which the  matrix  $\\begin{bmatrix}  2 & a \\\\ -1 & 1 \\end{bmatrix}$  has real eigenvalues .\n",
    "\\\n",
    "\\\n",
    "$\\textbf{Answer :}$"
   ]
  },
  {
   "cell_type": "markdown",
   "id": "7d825880",
   "metadata": {},
   "source": [
    "\n",
    "The eigenvalues of the matrix $\\begin{bmatrix} 2 & a \\\\ -1 & 1 \\end{bmatrix}$ can be found by solving the characteristic equation:\n",
    "\\\n",
    "$\n",
    "\\text{det}(\\mathbf{A} - \\lambda \\mathbf{I}) = 0\n",
    "$\n",
    "\\\n",
    "For the given matrix $\\begin{bmatrix} 2 & a \\\\ -1 & 1 \\end{bmatrix}$, the characteristic equation is:\n",
    "$\n",
    "\\text{det}\\left(\\begin{bmatrix} 2-\\lambda & a \\\\ -1 & 1-\\lambda \\end{bmatrix}\\right) = 0\n",
    "$\n",
    "\\\n",
    "\\\n",
    "The determinant is given by:\n",
    "$\n",
    "(2-\\lambda)(1-\\lambda) - (-1)(a) = 0\n",
    "$\n",
    "\\\n",
    "\\\n",
    "Simplifying, we get:\n",
    "$\n",
    "(2-\\lambda)(1-\\lambda) + a = 0\n",
    "$\n",
    "\\\n",
    "Expanding and rearranging:\n",
    "$\n",
    "\\lambda^2 - 3\\lambda + (2 + a) = 0\n",
    "$\n",
    "\\\n",
    "\\\n",
    "For real eigenvalues, the discriminant must be non-negative. \n",
    "\\\n",
    "The discriminant is given by $b^2 - 4ac$ in the quadratic equation $ax^2 + bx + c = 0$.\n",
    "\\\n",
    "In our case, $a = 1$, $b = -3$, and $c = (2 + a)$. \n",
    "\\\n",
    "\\\n",
    "So, the discriminant is:\n",
    "$\n",
    "(-3)^2 - 4(1)(2 + a) \\geq 0\n",
    "$\n",
    "\\\n",
    "\\\n",
    "Solving this inequality gives the range of values for $a$:\n",
    "\\\n",
    "$\n",
    "9 - 8 - 4a \\geq 0 \\implies 1 - 4a \\geq 0 \\implies -4a \\geq -1 \\implies a \\leq \\frac{1}{4}\n",
    "$\n",
    "\\\n",
    "So, the full range of values for the parameter $a$ for which the matrix has real eigenvalues is $a \\leq \\frac{1}{4}$.\n",
    "\n",
    "\n"
   ]
  },
  {
   "cell_type": "code",
   "execution_count": null,
   "id": "2122e78c",
   "metadata": {},
   "outputs": [],
   "source": []
  }
 ],
 "metadata": {
  "kernelspec": {
   "display_name": "SageMath 9.5",
   "language": "sage",
   "name": "sagemath"
  },
  "language_info": {
   "codemirror_mode": {
    "name": "ipython",
    "version": 3
   },
   "file_extension": ".py",
   "mimetype": "text/x-python",
   "name": "python",
   "nbconvert_exporter": "python",
   "pygments_lexer": "ipython3",
   "version": "3.10.12"
  }
 },
 "nbformat": 4,
 "nbformat_minor": 5
}
