{
 "cells": [
  {
   "cell_type": "markdown",
   "id": "60aecedb",
   "metadata": {},
   "source": [
    "$\\textbf{Q2.}$ A 2×2 matrix Q has eigenvalues 4 and 1. Which could it be Q ?\n",
    "\\\n",
    "\\\n",
    "$\\textbf{Answer :}$"
   ]
  },
  {
   "cell_type": "markdown",
   "id": "1fee505b",
   "metadata": {},
   "source": [
    "To determine which of the given matrices could be $ Q $ with eigenvalues 4 and 1, we can use the fact that the determinant of a matrix is equal to the product of its eigenvalues, and the trace (sum of the diagonal elements) is equal to the sum of its eigenvalues.\n",
    "\n",
    "Let's denote the matrix $ Q $ as:\n",
    "\n",
    "$ Q = \\begin{bmatrix} a & b \\\\ c & d \\end{bmatrix} $\n",
    "\n",
    "The eigenvalues of $ Q $ are given as 4 and 1. The determinant and trace are related to the eigenvalues as follows:\n",
    "\n",
    "$ \\text{det}(Q) = \\lambda_1 \\times \\lambda_2 $\n",
    "$ \\text{trace}(Q) = \\lambda_1 + \\lambda_2 $\n",
    "\n",
    "For matrix $ Q $, the eigenvalues are 4 and 1. Therefore,\n",
    "\n",
    "$ \\text{det}(Q) = 4 \\times 1 = 4 $\n",
    "$ \\text{trace}(Q) = 4 + 1 = 5 $\n",
    "\n",
    "Now, let's evaluate the determinant and trace for each given matrix:\n",
    "\n",
    "a. Matrix $ \\begin{bmatrix} 2 & 3 \\\\ 1 & 2 \\end{bmatrix} $\n",
    "\n",
    "$ \\text{det}(Q_a) = (2)(2) - (3)(1) = 4 - 3 = 1 $\n",
    "$ \\text{trace}(Q_a) = 2 + 2 = 4 $\n",
    "\n",
    "b. Matrix $ \\begin{bmatrix} \\frac{5}{2} & \\frac{3}{2} \\\\ \\frac{2}{5} & \\frac{2}{5} \\end{bmatrix} $\n",
    "\n",
    "$ \\text{det}(Q_b) = \\left(\\frac{5}{2}\\right)\\left(\\frac{2}{5}\\right) - \\left(\\frac{3}{2}\\right)\\left(\\frac{2}{5}\\right) = 1 - \\frac{3}{5} = \\frac{2}{5} $\n",
    "$ \\text{trace}(Q_b) = \\frac{5}{2} + \\frac{2}{5} = \\frac{29}{10} $\n",
    "\n",
    "c. Matrix $ \\begin{bmatrix} 1 & 1 \\\\ 1 & 4 \\end{bmatrix} $\n",
    "\n",
    "$ \\text{det}(Q_c) = (1)(4) - (1)(1) = 3 $\n",
    "$ \\text{trace}(Q_c) = 1 + 4 = 5 $\n",
    "\n",
    "Comparing the determinant and trace values for each matrix with the desired values (det=4, trace=5), we can see that only matrix c satisfies both conditions. Therefore, matrix c could be $ Q $.\n"
   ]
  },
  {
   "cell_type": "code",
   "execution_count": null,
   "id": "8cd61f26",
   "metadata": {},
   "outputs": [],
   "source": []
  }
 ],
 "metadata": {
  "kernelspec": {
   "display_name": "SageMath 9.5",
   "language": "sage",
   "name": "sagemath"
  },
  "language_info": {
   "codemirror_mode": {
    "name": "ipython",
    "version": 3
   },
   "file_extension": ".py",
   "mimetype": "text/x-python",
   "name": "python",
   "nbconvert_exporter": "python",
   "pygments_lexer": "ipython3",
   "version": "3.10.12"
  }
 },
 "nbformat": 4,
 "nbformat_minor": 5
}
