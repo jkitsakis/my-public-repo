{
 "cells": [
  {
   "cell_type": "markdown",
   "id": "fd7315de",
   "metadata": {},
   "source": [
    "$\\textbf{Question 8  :}$\n",
    "\n",
    "Consider the 6 × 2 matrix 𝐴 with elements\n",
    "\n",
    "$𝑎_{𝑖𝑗} = 𝑖^2 + 2𝑖𝑗, 𝑖 = 1, … , 6, 𝑗 = 1, 2$\n",
    "\n",
    "Using sagemath :\n",
    "\n",
    "(a) Compute 𝐴;\n",
    "\n",
    "(b) Compute the SVD of 𝐴 and print the left and right singular vector matrices and the\n",
    "singular value matrix using 3 significant digits;\n",
    "\n",
    "(c) Compute the rank-1 approximation 𝐴1 of 𝐴 and print using 3 significant digits;\n",
    "\n",
    "(d) Compute the Frobenius norm of the difference 𝐴 − 𝐴1 (e) Compute the rank-2 approximation 𝐴2 of 𝐴 and print using 3 significant digits. Compute the Frobenius norm of the difference 𝐴 − 𝐴2. Comment on these results.\n",
    "\n",
    "$\\textbf{Answer :}$"
   ]
  },
  {
   "cell_type": "code",
   "execution_count": 3,
   "id": "4f7cf025",
   "metadata": {},
   "outputs": [
    {
     "name": "stdout",
     "output_type": "stream",
     "text": [
      "Matrix A:\n",
      "[ 3  5]\n",
      "[ 8 12]\n",
      "[15 21]\n",
      "[24 32]\n",
      "[35 45]\n",
      "[48 60]\n"
     ]
    }
   ],
   "source": [
    "# Import the required function from scipy\n",
    "from scipy.linalg import svd\n",
    "\n",
    "# Define the matrix A\n",
    "A = Matrix([[i^2 + 2*i*j for j in range(1, 3)] for i in range(1, 7)])\n",
    "\n",
    "# Convert A to a floating-point matrix\n",
    "A_float = Matrix(RR, A)\n",
    "\n",
    "# (a) Compute A\n",
    "print(\"Matrix A:\")\n",
    "print(A)\n",
    "\n"
   ]
  }
 ],
 "metadata": {
  "kernelspec": {
   "display_name": "SageMath 9.5",
   "language": "sage",
   "name": "sagemath"
  },
  "language_info": {
   "codemirror_mode": {
    "name": "ipython",
    "version": 3
   },
   "file_extension": ".py",
   "mimetype": "text/x-python",
   "name": "python",
   "nbconvert_exporter": "python",
   "pygments_lexer": "ipython3",
   "version": "3.10.12"
  }
 },
 "nbformat": 4,
 "nbformat_minor": 5
}
