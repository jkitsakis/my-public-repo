{
 "cells": [
  {
   "cell_type": "markdown",
   "id": "a7ca0e13",
   "metadata": {},
   "source": [
    "$\\textbf{Q15.}$ Calculate the eigenvector of matrix  $A=\\begin{bmatrix} 2 & 1 & -1 \\\\ 2 & -1 & 2 \\\\ 1 & 2 & -1 \\end{bmatrix}$\n",
    "\\\n",
    "\\\n",
    "$\\textbf{Answer :}$"
   ]
  },
  {
   "cell_type": "markdown",
   "id": "52298069",
   "metadata": {},
   "source": [
    "\n",
    "\n",
    "To find the eigenvectors of a matrix $A$, you need to solve the equation $(A - \\lambda I) \\mathbf{v} = \\mathbf{0}$, where $\\lambda$ is the eigenvalue, $I$ is the identity matrix, and $\\mathbf{v}$ is the eigenvector.\n",
    "\n",
    "Given the matrix $A$:\n",
    "\n",
    "$ A = \\begin{bmatrix} 2 & 1 & -1 \\\\ 2 & -1 & 2 \\\\ 1 & 2 & -1 \\end{bmatrix} $\n",
    "\n",
    "Let's find the eigenvalues first by solving the characteristic equation:\n",
    "\n",
    "$ \\text{det}(A - \\lambda I) = 0 $\n",
    "\n",
    "$ \\text{det}\\left(\\begin{bmatrix} 2-\\lambda & 1 & -1 \\\\ 2 & -1-\\lambda & 2 \\\\ 1 & 2 & -1-\\lambda \\end{bmatrix}\\right) = 0 $\n",
    "\n",
    "Expanding the determinant:\n",
    "\n",
    "$ (2-\\lambda) [(-1-\\lambda)(-1-\\lambda) - (2)(2)] - (1)[(2)(-1-\\lambda) - (1)(2)] + (-1)[(2)(2) - (1)(1+\\lambda)] = 0 $\n",
    "\n",
    "Solving this equation will give you the characteristic polynomial, which you can then solve to find the eigenvalues $\\lambda$.\n",
    "\n",
    "\n",
    "Given matrix $A$:\n",
    "\n",
    "$ A = \\begin{bmatrix} 2 & 1 & -1 \\\\ 2 & -1 & 2 \\\\ 1 & 2 & -1 \\end{bmatrix} $\n",
    "\n",
    "$\\textbf{1. Find the Eigenvalues ($\\lambda$):}$\n",
    "\n",
    "The characteristic equation is given by $\\text{det}(A - \\lambda I) = 0$. Let's set up and solve this equation:\n",
    "\n",
    "$ \\text{det}\\left(\\begin{bmatrix} 2-\\lambda & 1 & -1 \\\\ 2 & -1-\\lambda & 2 \\\\ 1 & 2 & -1-\\lambda \\end{bmatrix}\\right) = 0 $\n",
    "\n",
    "Expanding the determinant:\n",
    "\n",
    "$ (2-\\lambda) [(-1-\\lambda)(-1-\\lambda) - (2)(2)] - (1)[(2)(-1-\\lambda) - (1)(2)] + (-1)[(2)(2) - (1)(1+\\lambda)] = 0 $\n",
    "\n",
    "Solving this equation will give us the eigenvalues $\\lambda$.\n",
    "\n",
    "Once you have the eigenvalues, substitute them back into $(A - \\lambda I) \\mathbf{v} = \\mathbf{0}$ to find the corresponding eigenvectors.\n",
    "\n",
    "$\\textbf{2. Find the Eigenvectors ($\\mathbf{v}$):}$\n",
    "\n",
    "Once we have the eigenvalues, we substitute them back into the equation $(A - \\lambda I) \\mathbf{v} = \\mathbf{0}$ to find the corresponding eigenvectors.\n",
    "\n",
    "$ (A - \\lambda I) \\mathbf{v} = \\mathbf{0} $\n",
    "\n",
    "We repeat this process for each eigenvalue.\n",
    "\n",
    "\n",
    "\n",
    "\n",
    "\n"
   ]
  },
  {
   "cell_type": "code",
   "execution_count": null,
   "id": "d3afdb1b",
   "metadata": {},
   "outputs": [],
   "source": []
  }
 ],
 "metadata": {
  "kernelspec": {
   "display_name": "SageMath 9.5",
   "language": "sage",
   "name": "sagemath"
  },
  "language_info": {
   "codemirror_mode": {
    "name": "ipython",
    "version": 3
   },
   "file_extension": ".py",
   "mimetype": "text/x-python",
   "name": "python",
   "nbconvert_exporter": "python",
   "pygments_lexer": "ipython3",
   "version": "3.10.12"
  }
 },
 "nbformat": 4,
 "nbformat_minor": 5
}
