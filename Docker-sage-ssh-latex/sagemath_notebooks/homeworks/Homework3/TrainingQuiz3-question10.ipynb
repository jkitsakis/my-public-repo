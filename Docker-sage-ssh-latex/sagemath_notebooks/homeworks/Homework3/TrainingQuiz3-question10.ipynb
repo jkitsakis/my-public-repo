{
 "cells": [
  {
   "cell_type": "markdown",
   "id": "a7ca0e13",
   "metadata": {},
   "source": [
    "$\\textbf{Q10.}$ If  $\\begin{bmatrix} −4.5 \\\\ −4 \\\\ 1 \\end{bmatrix}$ is an eigenvector of $B=\\begin{bmatrix} 8 & -4 & 2 \\\\ 4 & 0 & 2 \\\\ 0 & -2 & -4 \\end{bmatrix}$, calculate the associated eigenvalue.\n",
    "\n",
    "\\\n",
    "\\\n",
    "$\\textbf{Answer :}$"
   ]
  },
  {
   "cell_type": "markdown",
   "id": "2b717b46",
   "metadata": {},
   "source": [
    "\n",
    "If $\\mathbf{v} = \\begin{bmatrix} -4.5 \\\\ -4 \\\\ 1 \\end{bmatrix}$ is an eigenvector of $B = \\begin{bmatrix} 8 & -4 & 2 \\\\ 4 & 0 & 2 \\\\ 0 & -2 & -4 \\end{bmatrix}$, we can find the associated eigenvalue $\\lambda$ by solving the equation $B\\mathbf{v} = \\lambda \\mathbf{v}$.\n",
    "\n",
    "Starting with the given matrix and vector:\n",
    "\n",
    "$\n",
    "B\\mathbf{v} = \\begin{bmatrix} 8 & -4 & 2 \\\\ 4 & 0 & 2 \\\\ 0 & -2 & -4 \\end{bmatrix} \\begin{bmatrix} -4.5 \\\\ -4 \\\\ 1 \\end{bmatrix}\n",
    "$\n",
    "\n",
    "Performing the matrix multiplication:\n",
    "\n",
    "$\n",
    "B\\mathbf{v} = \\begin{bmatrix} (-4.5)(8) + (-4)(-4) + (2)(1) \\\\ (-4.5)(4) + (-4)(0) + (2)(-2) \\\\ (0)(-4.5) + (-2)(-4) + (-4)(1) \\end{bmatrix} = \\begin{bmatrix} -18 \\\\ -26 \\\\ 4 \\end{bmatrix}\n",
    "$\n",
    "\n",
    "Setting up the equation for the eigenvalue:\n",
    "\n",
    "$\n",
    "\\begin{bmatrix} -18 \\\\ -26 \\\\ 4 \\end{bmatrix} = \\lambda \\begin{bmatrix} -4.5 \\\\ -4 \\\\ 1 \\end{bmatrix}\n",
    "$\n",
    "\n",
    "Solving the system of equations:\n",
    "\n",
    "\\begin{align*}\n",
    "&1. \\quad -18 = \\lambda(-4.5) \\\\\n",
    "&2. \\quad -26 = \\lambda(-4) \\\\\n",
    "&3. \\quad 4 = \\lambda(1)\n",
    "\\end{align*}\n",
    "\n",
    "The solution is $\\lambda = 4$. Therefore, the associated eigenvalue is $\\lambda = 4$.\n",
    "\n"
   ]
  },
  {
   "cell_type": "code",
   "execution_count": null,
   "id": "ca3c4267",
   "metadata": {},
   "outputs": [],
   "source": []
  }
 ],
 "metadata": {
  "kernelspec": {
   "display_name": "SageMath 9.5",
   "language": "sage",
   "name": "sagemath"
  },
  "language_info": {
   "codemirror_mode": {
    "name": "ipython",
    "version": 3
   },
   "file_extension": ".py",
   "mimetype": "text/x-python",
   "name": "python",
   "nbconvert_exporter": "python",
   "pygments_lexer": "ipython3",
   "version": "3.10.12"
  }
 },
 "nbformat": 4,
 "nbformat_minor": 5
}
