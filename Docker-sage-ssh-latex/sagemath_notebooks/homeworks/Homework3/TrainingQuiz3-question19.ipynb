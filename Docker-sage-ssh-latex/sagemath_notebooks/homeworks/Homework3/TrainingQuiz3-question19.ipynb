{
 "cells": [
  {
   "cell_type": "markdown",
   "id": "3927a432",
   "metadata": {},
   "source": [
    "$\\textbf{Q19.}$ Which of the following 2×2 matrices are defective \n",
    "\\\n",
    "$A=\\begin{bmatrix} 4 & -1 \\\\ 1 & 2 \\end{bmatrix}$ , \n",
    "\\\n",
    "$B=\\begin{bmatrix} 1 & 1 \\\\ 1 & 1 \\end{bmatrix}$ , \n",
    "\\\n",
    "$C=\\begin{bmatrix} 3 & 2 \\\\ 0 & 3 \\end{bmatrix}$ ?\n",
    "\\\n",
    "\\\n",
    "$\\textbf{Answer :}$"
   ]
  },
  {
   "cell_type": "markdown",
   "id": "9a775f69",
   "metadata": {},
   "source": [
    "\n",
    "1. Matrix $A$:\n",
    "$\n",
    "\\text{det}(A - \\lambda I) = 0\n",
    "$\n",
    "$\n",
    "\\text{det}\\left(\\begin{bmatrix} 4-\\lambda & -1 \\\\ 1 & 2-\\lambda \\end{bmatrix}\\right) = 0\n",
    "$\n",
    "Solving this characteristic equation, we get $\\lambda = 3, 3$.\n",
    "\n",
    "The repeated eigenvalue $\\lambda = 3$ has only one linearly independent eigenvector $\\begin{bmatrix} 1 \\\\ 1 \\end{bmatrix}$. Since the sum of the dimensions of the corresponding eigenspaces is less than 2, matrix $A$ is defective.\n",
    "\n",
    "2. Matrix $B$:\n",
    "$\n",
    "\\text{det}(B - \\lambda I) = 0\n",
    "$\n",
    "$\n",
    "\\text{det}\\left(\\begin{bmatrix} 1-\\lambda & 1 \\\\ 1 & 1-\\lambda \\end{bmatrix}\\right) = 0\n",
    "$\n",
    "Solving this characteristic equation, we get $\\lambda = 0, 2$.\n",
    "\n",
    "Matrix $B$ has two distinct eigenvalues, so it is diagonalizable.\n",
    "\n",
    "3. Matrix $C$:\n",
    "$\n",
    "\\text{det}(C - \\lambda I) = 0\n",
    "$\n",
    "$\n",
    "\\text{det}\\left(\\begin{bmatrix} 3-\\lambda & 2 \\\\ 0 & 3-\\lambda \\end{bmatrix}\\right) = 0\n",
    "$\n",
    "Solving this characteristic equation, we get $\\lambda = 3, 3$.\n",
    "\n",
    "The repeated eigenvalue $\\lambda = 3$ has only one linearly independent eigenvector $\\begin{bmatrix} 1 \\\\ 0 \\end{bmatrix}$. Since the sum of the dimensions of the corresponding eigenspaces is less than 2, matrix $C$ is defective.\n",
    "\n",
    "In summary:\n",
    "\n",
    " - Matrix $A$ is defective.\n",
    " - Matrix $B$ is not defective (it is diagonalizable).\n",
    " - Matrix $C$ is defective.\n"
   ]
  },
  {
   "cell_type": "code",
   "execution_count": null,
   "id": "4f6c38ae",
   "metadata": {},
   "outputs": [],
   "source": []
  }
 ],
 "metadata": {
  "kernelspec": {
   "display_name": "SageMath 9.5",
   "language": "sage",
   "name": "sagemath"
  },
  "language_info": {
   "codemirror_mode": {
    "name": "ipython",
    "version": 3
   },
   "file_extension": ".py",
   "mimetype": "text/x-python",
   "name": "python",
   "nbconvert_exporter": "python",
   "pygments_lexer": "ipython3",
   "version": "3.10.12"
  }
 },
 "nbformat": 4,
 "nbformat_minor": 5
}
