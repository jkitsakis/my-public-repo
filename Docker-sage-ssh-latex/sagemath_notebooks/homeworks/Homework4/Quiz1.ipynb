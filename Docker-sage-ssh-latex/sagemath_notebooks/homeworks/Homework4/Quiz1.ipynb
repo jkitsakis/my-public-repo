{
 "cells": [
  {
   "cell_type": "markdown",
   "id": "adc4b0d8",
   "metadata": {},
   "source": [
    "$\\textbf{QuestionQuiz-1}$\n",
    "\n",
    "The derivative of the hyperbolic function   \n",
    "$\\tanh(x) = \\frac{e^{x}-e^{-x}}{e^{x}+e^{-x}}$ ,  \n",
    "that is used in Neural Networks as an activation function is :\n",
    "\n",
    "$\\textbf{Answer}$"
   ]
  },
  {
   "cell_type": "markdown",
   "id": "e1fe41e2",
   "metadata": {},
   "source": [
    "Starting with the definition of $\\tanh(x)$:\n",
    "\n",
    "$ \\tanh(x) = \\frac{e^x - e^{-x}}{e^x + e^{-x}} $\n",
    "\n",
    "Now, let's find its derivative with respect to $x$:\n",
    "\n",
    "$ \\frac{d}{dx} \\tanh(x) = \\frac{d}{dx} \\left( \\frac{e^x - e^{-x}}{e^x + e^{-x}} \\right) $\n",
    "\n",
    "To simplify, let's denote $u = e^x$ and $v = e^{-x}$:\n",
    "\n",
    "$ \\frac{d}{dx} \\tanh(x) = \\frac{d}{dx} \\left( \\frac{u - v}{u + v} \\right) $\n",
    "\n",
    "Now, applying the quotient rule $\\frac{d}{dx} \\left( \\frac{u}{v} \\right) = \\frac{u'v - uv'}{v^2}$:\n",
    "\n",
    "$ \\frac{d}{dx} \\tanh(x) = \\frac{(1 + 1)(u'v - uv')}{(u + v)^2} $\n",
    "\n",
    "Substituting back $u = e^x$ and $v = e^{-x}$ and simplifying:\n",
    "\n",
    "$ \\frac{d}{dx} \\tanh(x) = \\frac{e^x + e^{-x}}{(e^x + e^{-x})^2} - \\frac{(e^x - e^{-x})^2}{(e^x + e^{-x})^2} $\n",
    "\n",
    "Now, combining the terms:\n",
    "\n",
    "$ \\frac{d}{dx} \\tanh(x) = \\frac{e^x + e^{-x} - (e^x - e^{-x})^2}{(e^x + e^{-x})^2} $\n",
    "\n",
    "Expanding and simplifying the numerator:\n",
    "\n",
    "$ \\frac{d}{dx} \\tanh(x) = \\frac{e^x + e^{-x} - (e^{2x} - 2 + e^{-2x})}{(e^x + e^{-x})^2} $\n",
    "\n",
    "$ \\frac{d}{dx} \\tanh(x) = \\frac{2e^x + 2e^{-x} - e^{2x} + 2 - e^{-2x}}{(e^x + e^{-x})^2} $\n",
    "\n",
    "Now, expressing $e^{2x}$ and $e^{-2x}$ in terms of $e^x$ and $e^{-x}$:\n",
    "\n",
    "$ \\frac{d}{dx} \\tanh(x) = \\frac{2(e^x + e^{-x}) - (e^x)^2 + 2 - (e^{-x})^2}{(e^x + e^{-x})^2} $\n",
    "\n",
    "$ \\frac{d}{dx} \\tanh(x) = \\frac{2 - (e^x - e^{-x})^2}{(e^x + e^{-x})^2} $\n",
    "\n",
    "Finally, recognizing that $e^x - e^{-x} = 2 \\sinh(x)$:\n",
    "\n",
    "$ \\frac{d}{dx} \\tanh(x) = \\frac{2 - 4\\sinh^2(x)}{(e^x + e^{-x})^2} $\n",
    "\n",
    "Now, using the identity $\\cosh^2(x) - \\sinh^2(x) = 1$, where $\\cosh(x) = \\frac{e^x + e^{-x}}{2}$:\n",
    "\n",
    "$ \\frac{d}{dx} \\tanh(x) = \\frac{2 - 4\\sinh^2(x)}{4\\cosh^2(x)} $\n",
    "\n",
    "Simplifying the numerator:\n",
    "\n",
    "$ \\frac{d}{dx} \\tanh(x) = \\frac{1 - 2\\sinh^2(x)}{\\cosh^2(x)} $\n",
    "\n",
    "Now, using the identity $\\tanh(x) = \\frac{\\sinh(x)}{\\cosh(x)}$, we can rewrite $\\sinh^2(x)$ as $\\tanh^2(x)$:\n",
    "\n",
    "$ \\frac{d}{dx} \\tanh(x) = \\frac{1 - 2\\tanh^2(x)}{\\cosh^2(x)} $\n",
    "\n",
    "Finally, using the identity $\\cosh^2(x) = 1 + \\sinh^2(x)$:\n",
    "\n",
    "$ \\frac{d}{dx} \\tanh(x) = 1 - \\tanh^2(x) $\n",
    "\n",
    "So, indeed, the derivative of $\\tanh(x)$ is $1 - \\tanh^2(x)$."
   ]
  },
  {
   "cell_type": "code",
   "execution_count": null,
   "id": "c35a313c",
   "metadata": {},
   "outputs": [],
   "source": []
  }
 ],
 "metadata": {
  "kernelspec": {
   "display_name": "SageMath 9.5",
   "language": "sage",
   "name": "sagemath"
  },
  "language_info": {
   "codemirror_mode": {
    "name": "ipython",
    "version": 3
   },
   "file_extension": ".py",
   "mimetype": "text/x-python",
   "name": "python",
   "nbconvert_exporter": "python",
   "pygments_lexer": "ipython3",
   "version": "3.10.12"
  }
 },
 "nbformat": 4,
 "nbformat_minor": 5
}
