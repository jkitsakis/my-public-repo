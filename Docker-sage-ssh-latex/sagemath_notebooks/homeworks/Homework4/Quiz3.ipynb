{
 "cells": [
  {
   "cell_type": "markdown",
   "id": "adc4b0d8",
   "metadata": {},
   "source": [
    "$\\textbf{QuestionQuiz-3}$\n",
    "\n",
    "The partial derivative ∂f(x,y)∂y of the function $f(x,y)=x^2(1−e^{−y})$ equals to:\n",
    "\n",
    "$\\textbf{Answer}$"
   ]
  },
  {
   "cell_type": "markdown",
   "id": "542cc5b7",
   "metadata": {},
   "source": [
    "1. Take the derivative of the first term, x^2, with respect to y (since x is treated as a constant):\n",
    "   $ \\frac{d}{dy} (x^2) = 0 $\n",
    "\n",
    "2. Take the derivative of the second term, (1 - e^(-y)), with respect to y:\n",
    "   $ \\frac{d}{dy} (1 - e^{-y}) = 0 - \\frac{d}{dy} (e^{-y}) $\n",
    "   $ = e^{-y} $\n",
    "\n",
    "Now, combine the results:\n",
    "$ \\frac{\\partial f}{\\partial y} = 0 + x^2 \\cdot e^{-y} $\n",
    "\n",
    "So, the partial derivative $ \\frac{\\partial f}{\\partial y} $ of the given function is $ x^2 \\cdot e^{-y} $."
   ]
  },
  {
   "cell_type": "code",
   "execution_count": null,
   "id": "92a69650",
   "metadata": {},
   "outputs": [],
   "source": []
  }
 ],
 "metadata": {
  "kernelspec": {
   "display_name": "SageMath 9.5",
   "language": "sage",
   "name": "sagemath"
  },
  "language_info": {
   "codemirror_mode": {
    "name": "ipython",
    "version": 3
   },
   "file_extension": ".py",
   "mimetype": "text/x-python",
   "name": "python",
   "nbconvert_exporter": "python",
   "pygments_lexer": "ipython3",
   "version": "3.10.12"
  }
 },
 "nbformat": 4,
 "nbformat_minor": 5
}
