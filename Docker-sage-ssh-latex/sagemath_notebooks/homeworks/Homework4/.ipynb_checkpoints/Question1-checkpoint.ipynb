{
 "cells": [
  {
   "cell_type": "markdown",
   "id": "e8153ded",
   "metadata": {},
   "source": [
    "The Jacobian of the function $f:R^3→R^3$, $\\overrightarrow{f} (x,y,z)=\\begin{bmatrix} x + 3y^2 - z^3 \\\\ 2x^2yz \\\\ 2z^2 - xy \\end{bmatrix}$ at (x,y,z)=(1,1,1)  equals\n",
    "\n",
    "$\\textbf{Answer}$"
   ]
  },
  {
   "cell_type": "markdown",
   "id": "8ffe9e74",
   "metadata": {},
   "source": [
    "\n",
    "To calculate the Jacobian matrix of a vector-valued function $\\mathbf{f} : \\mathbb{R}^3 \\to \\mathbb{R}^3$, you need to find the partial derivatives of each component of $\\mathbf{f}$ with respect to each input variable and then evaluate them at the given point.\n",
    "\n",
    "Let's denote the components of $\\mathbf{f}$ as $f_1, f_2$, and $f_3$:\n",
    "\n",
    "$\n",
    "\\mathbf{f}(x, y, z) = \\begin{bmatrix} f_1(x, y, z) \\\\ f_2(x, y, z) \\\\ f_3(x, y, z) \\end{bmatrix} = \\begin{bmatrix} x + 3y^2 - z^3 \\\\ 2x^2yz \\\\ 2z^2 - xy \\end{bmatrix}\n",
    "$\n",
    "\n",
    "Now, let's find the partial derivatives of each component with respect to $x, y$, and $z$:\n",
    "\n",
    "$\n",
    "\\frac{\\partial f_1}{\\partial x} = 1, \\quad\n",
    "\\frac{\\partial f_1}{\\partial y} = 6y, \\quad\n",
    "\\frac{\\partial f_1}{\\partial z} = -3z^2\n",
    "$\n",
    "$\n",
    "\\frac{\\partial f_2}{\\partial x} = 4xyz, \\quad\n",
    "\\frac{\\partial f_2}{\\partial y} = 2x^2z, \\quad\n",
    "\\frac{\\partial f_2}{\\partial z} = 2x^2y\n",
    "$\n",
    "$\n",
    "\\frac{\\partial f_3}{\\partial x} = -y, \\quad\n",
    "\\frac{\\partial f_3}{\\partial y} = -x, \\quad\n",
    "\\frac{\\partial f_3}{\\partial z} = 4z\n",
    "$\n",
    "\n",
    "Now, evaluate these partial derivatives at the point $(1, 1, 1)$:\n",
    "\n",
    "$\n",
    "\\frac{\\partial f_1}{\\partial x}(1, 1, 1) = 1, \\quad\n",
    "\\frac{\\partial f_1}{\\partial y}(1, 1, 1) = 6, \\quad\n",
    "\\frac{\\partial f_1}{\\partial z}(1, 1, 1) = -3\n",
    "$\n",
    "$\n",
    "\\frac{\\partial f_2}{\\partial x}(1, 1, 1) = 4, \\quad\n",
    "\\frac{\\partial f_2}{\\partial y}(1, 1, 1) = 2, \\quad\n",
    "\\frac{\\partial f_2}{\\partial z}(1, 1, 1) = 2\n",
    "$\n",
    "$\n",
    "\\frac{\\partial f_3}{\\partial x}(1, 1, 1) = -1, \\quad\n",
    "\\frac{\\partial f_3}{\\partial y}(1, 1, 1) = -1, \\quad\n",
    "\\frac{\\partial f_3}{\\partial z}(1, 1, 1) = 4\n",
    "$\n",
    "\n",
    "Now, assemble these partial derivatives into the Jacobian matrix $J$:\n",
    "\n",
    "$\n",
    "J = \\begin{bmatrix} 1 & 6 & -3 \\\\ 4 & 2 & 2 \\\\ -1 & -1 & 4 \\end{bmatrix}\n",
    "$\n",
    "\n",
    "So, the Jacobian matrix of $\\mathbf{f}$ at the point $(1, 1, 1)$ is:\n",
    "\n",
    "$\n",
    "J = \\begin{bmatrix} 1 & 6 & -3 \\\\ 4 & 2 & 2 \\\\ -1 & -1 & 4 \\end{bmatrix}\n",
    "$\n"
   ]
  }
 ],
 "metadata": {
  "kernelspec": {
   "display_name": "SageMath 9.5",
   "language": "sage",
   "name": "sagemath"
  },
  "language_info": {
   "codemirror_mode": {
    "name": "ipython",
    "version": 3
   },
   "file_extension": ".py",
   "mimetype": "text/x-python",
   "name": "python",
   "nbconvert_exporter": "python",
   "pygments_lexer": "ipython3",
   "version": "3.10.12"
  }
 },
 "nbformat": 4,
 "nbformat_minor": 5
}
