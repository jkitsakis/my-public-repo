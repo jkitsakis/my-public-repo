{
 "cells": [
  {
   "cell_type": "markdown",
   "id": "a02168c8",
   "metadata": {},
   "source": [
    "$\\textbf{Question 9.}$\n",
    "\n",
    "Using by-hand calculation, find an approximation of the two variable function $𝑓(𝑥, 𝑦) = 𝑒^𝑥 ln(1+𝑦)$ that comprises up to second-order terms in 𝑥, 𝑦 in the Taylor series expansion around the\n",
    "point $(𝑥_0, 𝑦_0) = (0, 0)$\n",
    "\n",
    "$\\textbf{Answer}$"
   ]
  },
  {
   "cell_type": "markdown",
   "id": "234face0",
   "metadata": {},
   "source": [
    "To find the second-order Taylor series expansion of the function $f(x, y) = e^x \\ln(1 + y)$ around the point $(x_0, y_0) = (0, 0)$, we use the general form of the Taylor series for a two-variable function:\n",
    "\n",
    "$f(x, y) \\approx f(x_0, y_0) + f_x(x_0, y_0)(x - x_0) + f_y(x_0, y_0)(y - y_0) + \\frac{1}{2}[f_{xx}(x_0, y_0)(x - x_0)^2 + 2f_{xy}(x_0, y_0)(x - x_0)(y - y_0) + f_{yy}(x_0, y_0)(y - y_0)^2]$\n",
    "\n",
    "where $f_x$, $f_y$, $f_{xx}$, $f_{xy}$, and $f_{yy}$ are the partial derivatives of $f$ with respect to $x$ and $y$ up to the second order evaluated at $(x_0, y_0)$.\n",
    "\n",
    "calculate derivatives:\n",
    "\n",
    "$f(x, y) = e^x \\ln(1 + y)$\n",
    "\n",
    "$f_x = e^x \\ln(1 + y)$\n",
    "\n",
    "$f_y = \\frac{e^x}{1 + y}$\n",
    "\n",
    "$f_{xx} = e^x \\ln(1 + y)$\n",
    "\n",
    "$f_{xy} = \\frac{e^x}{1 + y}$\n",
    "\n",
    "$f_{yy} = -\\frac{e^x}{(1 + y)^2}$\n",
    "\n",
    "evaluate these derivatives at $(x_0, y_0) = (0, 0)$:\n",
    "\n",
    "$f(0, 0) = 0$\n",
    "\n",
    "$f_x(0, 0) = 0$\n",
    "\n",
    "$f_y(0, 0) = 1$\n",
    "\n",
    "$f_{xx}(0, 0) = 0$\n",
    "\n",
    "$f_{xy}(0, 0) = 1$\n",
    "\n",
    "$f_{yy}(0, 0) = -1$\n",
    "\n",
    "substitute these values into the Taylor series expansion:\n",
    "\n",
    "$f(x, y) \\approx 0 + 0 + (1)(y - 0) + \\frac{1}{2}[0(x - 0)^2 + 2(1)(x - 0)(y - 0) - 1(y - 0)^2]$\n",
    "\n",
    "Simplify:\n",
    "\n",
    "$f(x, y) \\approx y + (x)(y) - \\frac{1}{2}(y)^2$\n",
    "\n",
    "So, the second-order Taylor series approximation for the given function around $(0, 0)$ is:\n",
    "\n",
    "$f(x, y) \\approx y + xy - \\frac{1}{2}y^2$"
   ]
  },
  {
   "cell_type": "code",
   "execution_count": null,
   "id": "380e4a25",
   "metadata": {},
   "outputs": [],
   "source": []
  },
  {
   "cell_type": "code",
   "execution_count": null,
   "id": "195b9fa7",
   "metadata": {},
   "outputs": [],
   "source": []
  }
 ],
 "metadata": {
  "kernelspec": {
   "display_name": "SageMath 9.5",
   "language": "sage",
   "name": "sagemath"
  },
  "language_info": {
   "codemirror_mode": {
    "name": "ipython",
    "version": 3
   },
   "file_extension": ".py",
   "mimetype": "text/x-python",
   "name": "python",
   "nbconvert_exporter": "python",
   "pygments_lexer": "ipython3",
   "version": "3.10.12"
  }
 },
 "nbformat": 4,
 "nbformat_minor": 5
}
