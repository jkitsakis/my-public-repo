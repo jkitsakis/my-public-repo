{
 "cells": [
  {
<<<<<<< HEAD
   "cell_type": "markdown",
   "id": "d105f747",
   "metadata": {},
   "source": [
    "$\\textbf{Question 8}$\n",
    "\n",
    "Consider the sigmoid function\n",
    "\n",
    "$f(w_0, w_1, w_2, x_0, x_1) = \\frac{1}{1 + e^{-(w_0x_0 + w_1x_1 + w_2)}}$\n",
    "\n",
    "(a) Install the automatic differentiation library autograd in sagemath and all additional\n",
    "libraries required for its functionality.\n",
    "\n",
    "(b) Define 𝑓 as a python function and utilise autograd to define a function named augradf\n",
    "that automatically computes the numerical value of the gradient of 𝑓 with respect to\n",
    "𝑤0, 𝑤1, 𝑤2, 𝑥0, 𝑥1.\n",
    "\n",
    "(c) Define a sagemath function angradf that computes analytically the gradient of 𝑓 with\n",
    "respect to 𝑤0, 𝑤1, 𝑤2, 𝑥0, 𝑥1.\n",
    "\n",
    "(d) Compare the results of the functions augradf and angradf for 10 points (𝑤0, 𝑤1, 𝑤2, 𝑥0, 𝑥1)\n",
    "choosed randomly in the range (0, 1), and comment on any discrepancies.\n",
    "\n",
    "(e) Compare the execution time of the two methods of computation of the gradient for a\n",
    "specific point (chosen randomly).\n",
    "\n",
    "$\\textbf{Answer:}$"
   ]
  },
  {
   "cell_type": "code",
   "execution_count": 3,
=======
   "cell_type": "code",
   "execution_count": 27,
>>>>>>> ac1637669b07962d61ecaa7f4ead9ad2e2218408
   "id": "b5c43aef",
   "metadata": {},
   "outputs": [
    {
     "name": "stdout",
     "output_type": "stream",
     "text": [
<<<<<<< HEAD
      "Input values:\n",
      "w0 = 1.0, w1 = 2.0, w2 = 3.0, x0 = 0.5, x1 = 0.3\n",
      "\n",
      "Gradient of f at the given point:\n",
      "θf/θw0 = 0.008018\n",
      "θf/θw1 = 0.004811\n",
      "θf/θw2 = 0.016037\n",
      "θf/θx0 = 0.016037\n",
      "θf/θx1 = 0.032073\n"
=======
      "Gradient of f at the given point: 0.008018363942842556\n"
>>>>>>> ac1637669b07962d61ecaa7f4ead9ad2e2218408
     ]
    }
   ],
   "source": [
    "# Make sure you have autograd installed\n",
    "import autograd.numpy as np\n",
    "from autograd import grad, elementwise_grad\n",
    "\n",
    "# Define the sigmoid function\n",
    "def sigmoid(w0, w1, w2, x0, x1):\n",
    "    return 1 / (1 + np.exp(-(w0*x0 + w1*x1 + w2)))\n",
    "\n",
    "# Define the function to compute the gradient of sigmoid function\n",
    "def augradf(w0, w1, w2, x0, x1):\n",
    "    # Define the gradient function using autograd\n",
<<<<<<< HEAD
    "    grad_sigmoid = elementwise_grad(sigmoid, argnum=(0, 1, 2, 3, 4))\n",
=======
    "    grad_sigmoid = elementwise_grad(sigmoid)\n",
>>>>>>> ac1637669b07962d61ecaa7f4ead9ad2e2218408
    "    # Evaluate the gradient at the given point\n",
    "    gradient_value = grad_sigmoid(w0, w1, w2, x0, x1)\n",
    "    return gradient_value\n",
    "\n",
<<<<<<< HEAD
    "# Example usage:\n",
    "# Example usage:\n",
=======
    "\n",
>>>>>>> ac1637669b07962d61ecaa7f4ead9ad2e2218408
    "w0_val = 1.0\n",
    "w1_val = 2.0\n",
    "w2_val = 3.0\n",
    "x0_val = 0.5\n",
    "x1_val = 0.3\n",
    "\n",
<<<<<<< HEAD
    "gradient_at_point = augradf(w0_val, w1_val, w2_val, x0_val, x1_val)\n",
    "\n",
    "# Format and print the results\n",
    "print(\"Input values:\")\n",
    "print(f\"w0 = {w0_val}, w1 = {w1_val}, w2 = {w2_val}, x0 = {x0_val}, x1 = {x1_val}\")\n",
    "\n",
    "print(\"\\nGradient of f at the given point:\")\n",
    "print(f\"θf/θw0 = {gradient_at_point[0]:.6f}\")\n",
    "print(f\"θf/θw1 = {gradient_at_point[1]:.6f}\")\n",
    "print(f\"θf/θw2 = {gradient_at_point[2]:.6f}\")\n",
    "print(f\"θf/θx0 = {gradient_at_point[3]:.6f}\")\n",
    "print(f\"θf/θx1 = {gradient_at_point[4]:.6f}\")\n",
=======
    "gradient_at_point = augradf(w0=w0_val, w1=w1_val, w2=w2_val, x0=x0_val, x1=x1_val)\n",
    "print(\"Gradient of f at the given point:\", gradient_at_point)\n",
>>>>>>> ac1637669b07962d61ecaa7f4ead9ad2e2218408
    "\n"
   ]
  },
  {
   "cell_type": "code",
   "execution_count": null,
   "id": "bab116a4",
   "metadata": {},
   "outputs": [],
   "source": []
  },
  {
   "cell_type": "code",
<<<<<<< HEAD
   "execution_count": 10,
=======
   "execution_count": 28,
>>>>>>> ac1637669b07962d61ecaa7f4ead9ad2e2218408
   "id": "483c2e7e",
   "metadata": {},
   "outputs": [
    {
     "name": "stdout",
     "output_type": "stream",
     "text": [
<<<<<<< HEAD
      "θf/θw0 = x0*e^(-w0*x0 - w1*x1 - w2)/(e^(-w0*x0 - w1*x1 - w2) + 1)^2\n",
      "θf/θw0 = x1*e^(-w0*x0 - w1*x1 - w2)/(e^(-w0*x0 - w1*x1 - w2) + 1)^2\n",
      "θf/θw0 = e^(-w0*x0 - w1*x1 - w2)/(e^(-w0*x0 - w1*x1 - w2) + 1)^2\n",
      "θf/θw0 = w0*e^(-w0*x0 - w1*x1 - w2)/(e^(-w0*x0 - w1*x1 - w2) + 1)^2\n",
      "θf/θw0 = w1*e^(-w0*x0 - w1*x1 - w2)/(e^(-w0*x0 - w1*x1 - w2) + 1)^2\n"
=======
      "∂f/∂w0 = x0*e^(-w0*x0 - w1*x1 - w2)/(e^(-w0*x0 - w1*x1 - w2) + 1)^2\n",
      "∂f/∂w0 = x1*e^(-w0*x0 - w1*x1 - w2)/(e^(-w0*x0 - w1*x1 - w2) + 1)^2\n",
      "∂f/∂w0 = e^(-w0*x0 - w1*x1 - w2)/(e^(-w0*x0 - w1*x1 - w2) + 1)^2\n",
      "∂f/∂w0 = w0*e^(-w0*x0 - w1*x1 - w2)/(e^(-w0*x0 - w1*x1 - w2) + 1)^2\n",
      "∂f/∂w0 = w1*e^(-w0*x0 - w1*x1 - w2)/(e^(-w0*x0 - w1*x1 - w2) + 1)^2\n"
>>>>>>> ac1637669b07962d61ecaa7f4ead9ad2e2218408
     ]
    }
   ],
   "source": [
    "from sage.all import *\n",
<<<<<<< HEAD
    "\n",
    "# Define the symbolic variables\n",
    "w0, w1, w2, x0, x1 = var('w0 w1 w2 x0 x1')\n",
    "\n",
    "# Define the sigmoid function\n",
    "sigmoid = 1 / (1 + exp(-(w0*x0 + w1*x1 + w2)))\n",
    "\n",
    "# Define the gradient of the sigmoid function\n",
    "angradf = [\n",
    "    diff(sigmoid, w0),\n",
    "    diff(sigmoid, w1),\n",
    "    diff(sigmoid, w2),\n",
    "    diff(sigmoid, x0),\n",
    "    diff(sigmoid, x1)\n",
    "]\n",
    "\n",
    "# Display the analytical gradient\n",
    "for i, derivative in enumerate(angradf):\n",
    "    print(f\"θf/θ{angradf[i].variables()[0]} =\", derivative)\n"
   ]
  },
  {
   "cell_type": "code",
   "execution_count": null,
   "id": "da2287f1",
   "metadata": {},
   "outputs": [],
   "source": []
  },
  {
   "cell_type": "code",
   "execution_count": 12,
   "id": "ea8c0a1f",
   "metadata": {},
   "outputs": [
    {
     "name": "stdout",
     "output_type": "stream",
     "text": [
      "Analytical Gradient of f at the given point: [0.008018363942842558, 0.004811018365705535, 0.016036727885685116, 0.016036727885685116, 0.03207345577137023]\n"
     ]
    }
   ],
   "source": [
    "# Import the symbolic ring from SageMath\n",
    "from sage.all import *\n",
    "\n",
=======
>>>>>>> ac1637669b07962d61ecaa7f4ead9ad2e2218408
    "# Define symbolic variables\n",
    "w0, w1, w2, x0, x1 = SR.var('w0 w1 w2 x0 x1')\n",
    "\n",
    "# Define the sigmoid function\n",
    "sigmoid = 1 / (1 + exp(-(w0*x0 + w1*x1 + w2)))\n",
    "\n",
    "# Define the gradient of the sigmoid function\n",
    "angradf = [\n",
    "    diff(sigmoid, w0),\n",
    "    diff(sigmoid, w1),\n",
    "    diff(sigmoid, w2),\n",
    "    diff(sigmoid, x0),\n",
    "    diff(sigmoid, x1)\n",
    "]\n",
    "\n",
<<<<<<< HEAD
    "# Define a function to evaluate the gradient at a specific point\n",
    "def evaluate_gradient_at_point(w0_val, w1_val, w2_val, x0_val, x1_val):\n",
    "    gradient_values = [angradf[i](w0=w0_val, w1=w1_val, w2=w2_val, x0=x0_val, x1=x1_val) for i in range(len(angradf))]\n",
    "    return gradient_values\n",
    "\n",
    "# Example usage:\n",
    "w0_val = 1.0\n",
    "w1_val = 2.0\n",
    "w2_val = 3.0\n",
    "x0_val = 0.5\n",
    "x1_val = 0.3\n",
    "\n",
    "gradient_at_point = evaluate_gradient_at_point(w0_val, w1_val, w2_val, x0_val, x1_val)\n",
    "print(\"Analytical Gradient of f at the given point:\", gradient_at_point)\n"
=======
    "# Display the analytical gradient\n",
    "for i, derivative in enumerate(angradf):\n",
    "    print(f\"∂f/∂{angradf[i].variables()[0]} =\", derivative)\n"
   ]
  },
  {
   "cell_type": "code",
   "execution_count": null,
   "id": "da2287f1",
   "metadata": {},
   "outputs": [],
   "source": []
  },
  {
   "cell_type": "code",
   "execution_count": 39,
   "id": "ea8c0a1f",
   "metadata": {},
   "outputs": [
    {
     "name": "stdout",
     "output_type": "stream",
     "text": [
      "Print: [0.00446152 0.55245114 0.28994354 0.83070482 0.01388596]\n"
     ]
    },
    {
     "ename": "TypeError",
     "evalue": "Substitution using function-call syntax and unnamed arguments has been removed. You can use named arguments instead, like EXPR(x=..., y=...)",
     "output_type": "error",
     "traceback": [
      "\u001b[0;31m---------------------------------------------------------------------------\u001b[0m",
      "\u001b[0;31mTypeError\u001b[0m                                 Traceback (most recent call last)",
      "\u001b[0;32m/tmp/ipykernel_55/3502849052.py\u001b[0m in \u001b[0;36m<module>\u001b[0;34m\u001b[0m\n\u001b[1;32m     16\u001b[0m \u001b[0;34m\u001b[0m\u001b[0m\n\u001b[1;32m     17\u001b[0m     \u001b[0;31m# Compute gradients using autograd\u001b[0m\u001b[0;34m\u001b[0m\u001b[0;34m\u001b[0m\u001b[0m\n\u001b[0;32m---> 18\u001b[0;31m     \u001b[0mgradient_autograd\u001b[0m \u001b[0;34m=\u001b[0m \u001b[0maugradf\u001b[0m\u001b[0;34m(\u001b[0m\u001b[0mw0_val\u001b[0m\u001b[0;34m,\u001b[0m \u001b[0mw1_val\u001b[0m\u001b[0;34m,\u001b[0m \u001b[0mw2_val\u001b[0m\u001b[0;34m,\u001b[0m \u001b[0mx0_val\u001b[0m\u001b[0;34m,\u001b[0m \u001b[0mx1_val\u001b[0m\u001b[0;34m)\u001b[0m\u001b[0;34m\u001b[0m\u001b[0;34m\u001b[0m\u001b[0m\n\u001b[0m\u001b[1;32m     19\u001b[0m \u001b[0;34m\u001b[0m\u001b[0m\n\u001b[1;32m     20\u001b[0m     \u001b[0;31m# Compute gradients using analytical approach\u001b[0m\u001b[0;34m\u001b[0m\u001b[0;34m\u001b[0m\u001b[0m\n",
      "\u001b[0;32m/tmp/ipykernel_55/2835889020.py\u001b[0m in \u001b[0;36maugradf\u001b[0;34m(w0, w1, w2, x0, x1)\u001b[0m\n\u001b[1;32m     12\u001b[0m     \u001b[0mgrad_sigmoid\u001b[0m \u001b[0;34m=\u001b[0m \u001b[0melementwise_grad\u001b[0m\u001b[0;34m(\u001b[0m\u001b[0msigmoid\u001b[0m\u001b[0;34m)\u001b[0m\u001b[0;34m\u001b[0m\u001b[0;34m\u001b[0m\u001b[0m\n\u001b[1;32m     13\u001b[0m     \u001b[0;31m# Evaluate the gradient at the given point\u001b[0m\u001b[0;34m\u001b[0m\u001b[0;34m\u001b[0m\u001b[0m\n\u001b[0;32m---> 14\u001b[0;31m     \u001b[0mgradient_value\u001b[0m \u001b[0;34m=\u001b[0m \u001b[0mgrad_sigmoid\u001b[0m\u001b[0;34m(\u001b[0m\u001b[0mw0\u001b[0m\u001b[0;34m,\u001b[0m \u001b[0mw1\u001b[0m\u001b[0;34m,\u001b[0m \u001b[0mw2\u001b[0m\u001b[0;34m,\u001b[0m \u001b[0mx0\u001b[0m\u001b[0;34m,\u001b[0m \u001b[0mx1\u001b[0m\u001b[0;34m)\u001b[0m\u001b[0;34m\u001b[0m\u001b[0;34m\u001b[0m\u001b[0m\n\u001b[0m\u001b[1;32m     15\u001b[0m     \u001b[0;32mreturn\u001b[0m \u001b[0mgradient_value\u001b[0m\u001b[0;34m\u001b[0m\u001b[0;34m\u001b[0m\u001b[0m\n\u001b[1;32m     16\u001b[0m \u001b[0;34m\u001b[0m\u001b[0m\n",
      "\u001b[0;32m~/.sage/local/lib/python3.10/site-packages/autograd/wrap_util.py\u001b[0m in \u001b[0;36mnary_f\u001b[0;34m(*args, **kwargs)\u001b[0m\n\u001b[1;32m     18\u001b[0m             \u001b[0;32melse\u001b[0m\u001b[0;34m:\u001b[0m\u001b[0;34m\u001b[0m\u001b[0;34m\u001b[0m\u001b[0m\n\u001b[1;32m     19\u001b[0m                 \u001b[0mx\u001b[0m \u001b[0;34m=\u001b[0m \u001b[0mtuple\u001b[0m\u001b[0;34m(\u001b[0m\u001b[0margs\u001b[0m\u001b[0;34m[\u001b[0m\u001b[0mi\u001b[0m\u001b[0;34m]\u001b[0m \u001b[0;32mfor\u001b[0m \u001b[0mi\u001b[0m \u001b[0;32min\u001b[0m \u001b[0margnum\u001b[0m\u001b[0;34m)\u001b[0m\u001b[0;34m\u001b[0m\u001b[0;34m\u001b[0m\u001b[0m\n\u001b[0;32m---> 20\u001b[0;31m             \u001b[0;32mreturn\u001b[0m \u001b[0munary_operator\u001b[0m\u001b[0;34m(\u001b[0m\u001b[0munary_f\u001b[0m\u001b[0;34m,\u001b[0m \u001b[0mx\u001b[0m\u001b[0;34m,\u001b[0m \u001b[0;34m*\u001b[0m\u001b[0mnary_op_args\u001b[0m\u001b[0;34m,\u001b[0m \u001b[0;34m**\u001b[0m\u001b[0mnary_op_kwargs\u001b[0m\u001b[0;34m)\u001b[0m\u001b[0;34m\u001b[0m\u001b[0;34m\u001b[0m\u001b[0m\n\u001b[0m\u001b[1;32m     21\u001b[0m         \u001b[0;32mreturn\u001b[0m \u001b[0mnary_f\u001b[0m\u001b[0;34m\u001b[0m\u001b[0;34m\u001b[0m\u001b[0m\n\u001b[1;32m     22\u001b[0m     \u001b[0;32mreturn\u001b[0m \u001b[0mnary_operator\u001b[0m\u001b[0;34m\u001b[0m\u001b[0;34m\u001b[0m\u001b[0m\n",
      "\u001b[0;32m~/.sage/local/lib/python3.10/site-packages/autograd/differential_operators.py\u001b[0m in \u001b[0;36melementwise_grad\u001b[0;34m(fun, x)\u001b[0m\n\u001b[1;32m     39\u001b[0m     \u001b[0mof\u001b[0m \u001b[0mthe\u001b[0m \u001b[0mJacobian\u001b[0m\u001b[0;34m.\u001b[0m\u001b[0;34m\u001b[0m\u001b[0;34m\u001b[0m\u001b[0m\n\u001b[1;32m     40\u001b[0m     \"\"\"\n\u001b[0;32m---> 41\u001b[0;31m     \u001b[0mvjp\u001b[0m\u001b[0;34m,\u001b[0m \u001b[0mans\u001b[0m \u001b[0;34m=\u001b[0m \u001b[0m_make_vjp\u001b[0m\u001b[0;34m(\u001b[0m\u001b[0mfun\u001b[0m\u001b[0;34m,\u001b[0m \u001b[0mx\u001b[0m\u001b[0;34m)\u001b[0m\u001b[0;34m\u001b[0m\u001b[0;34m\u001b[0m\u001b[0m\n\u001b[0m\u001b[1;32m     42\u001b[0m     \u001b[0;32mif\u001b[0m \u001b[0mvspace\u001b[0m\u001b[0;34m(\u001b[0m\u001b[0mans\u001b[0m\u001b[0;34m)\u001b[0m\u001b[0;34m.\u001b[0m\u001b[0miscomplex\u001b[0m\u001b[0;34m:\u001b[0m\u001b[0;34m\u001b[0m\u001b[0;34m\u001b[0m\u001b[0m\n\u001b[1;32m     43\u001b[0m         \u001b[0;32mraise\u001b[0m \u001b[0mTypeError\u001b[0m\u001b[0;34m(\u001b[0m\u001b[0;34m\"Elementwise_grad only applies to real-output functions.\"\u001b[0m\u001b[0;34m)\u001b[0m\u001b[0;34m\u001b[0m\u001b[0;34m\u001b[0m\u001b[0m\n",
      "\u001b[0;32m~/.sage/local/lib/python3.10/site-packages/autograd/core.py\u001b[0m in \u001b[0;36mmake_vjp\u001b[0;34m(fun, x)\u001b[0m\n\u001b[1;32m      8\u001b[0m \u001b[0;32mdef\u001b[0m \u001b[0mmake_vjp\u001b[0m\u001b[0;34m(\u001b[0m\u001b[0mfun\u001b[0m\u001b[0;34m,\u001b[0m \u001b[0mx\u001b[0m\u001b[0;34m)\u001b[0m\u001b[0;34m:\u001b[0m\u001b[0;34m\u001b[0m\u001b[0;34m\u001b[0m\u001b[0m\n\u001b[1;32m      9\u001b[0m     \u001b[0mstart_node\u001b[0m \u001b[0;34m=\u001b[0m \u001b[0mVJPNode\u001b[0m\u001b[0;34m.\u001b[0m\u001b[0mnew_root\u001b[0m\u001b[0;34m(\u001b[0m\u001b[0;34m)\u001b[0m\u001b[0;34m\u001b[0m\u001b[0;34m\u001b[0m\u001b[0m\n\u001b[0;32m---> 10\u001b[0;31m     \u001b[0mend_value\u001b[0m\u001b[0;34m,\u001b[0m \u001b[0mend_node\u001b[0m \u001b[0;34m=\u001b[0m  \u001b[0mtrace\u001b[0m\u001b[0;34m(\u001b[0m\u001b[0mstart_node\u001b[0m\u001b[0;34m,\u001b[0m \u001b[0mfun\u001b[0m\u001b[0;34m,\u001b[0m \u001b[0mx\u001b[0m\u001b[0;34m)\u001b[0m\u001b[0;34m\u001b[0m\u001b[0;34m\u001b[0m\u001b[0m\n\u001b[0m\u001b[1;32m     11\u001b[0m     \u001b[0;32mif\u001b[0m \u001b[0mend_node\u001b[0m \u001b[0;32mis\u001b[0m \u001b[0;32mNone\u001b[0m\u001b[0;34m:\u001b[0m\u001b[0;34m\u001b[0m\u001b[0;34m\u001b[0m\u001b[0m\n\u001b[1;32m     12\u001b[0m         \u001b[0;32mdef\u001b[0m \u001b[0mvjp\u001b[0m\u001b[0;34m(\u001b[0m\u001b[0mg\u001b[0m\u001b[0;34m)\u001b[0m\u001b[0;34m:\u001b[0m \u001b[0;32mreturn\u001b[0m \u001b[0mvspace\u001b[0m\u001b[0;34m(\u001b[0m\u001b[0mx\u001b[0m\u001b[0;34m)\u001b[0m\u001b[0;34m.\u001b[0m\u001b[0mzeros\u001b[0m\u001b[0;34m(\u001b[0m\u001b[0;34m)\u001b[0m\u001b[0;34m\u001b[0m\u001b[0;34m\u001b[0m\u001b[0m\n",
      "\u001b[0;32m~/.sage/local/lib/python3.10/site-packages/autograd/tracer.py\u001b[0m in \u001b[0;36mtrace\u001b[0;34m(start_node, fun, x)\u001b[0m\n\u001b[1;32m      8\u001b[0m     \u001b[0;32mwith\u001b[0m \u001b[0mtrace_stack\u001b[0m\u001b[0;34m.\u001b[0m\u001b[0mnew_trace\u001b[0m\u001b[0;34m(\u001b[0m\u001b[0;34m)\u001b[0m \u001b[0;32mas\u001b[0m \u001b[0mt\u001b[0m\u001b[0;34m:\u001b[0m\u001b[0;34m\u001b[0m\u001b[0;34m\u001b[0m\u001b[0m\n\u001b[1;32m      9\u001b[0m         \u001b[0mstart_box\u001b[0m \u001b[0;34m=\u001b[0m \u001b[0mnew_box\u001b[0m\u001b[0;34m(\u001b[0m\u001b[0mx\u001b[0m\u001b[0;34m,\u001b[0m \u001b[0mt\u001b[0m\u001b[0;34m,\u001b[0m \u001b[0mstart_node\u001b[0m\u001b[0;34m)\u001b[0m\u001b[0;34m\u001b[0m\u001b[0;34m\u001b[0m\u001b[0m\n\u001b[0;32m---> 10\u001b[0;31m         \u001b[0mend_box\u001b[0m \u001b[0;34m=\u001b[0m \u001b[0mfun\u001b[0m\u001b[0;34m(\u001b[0m\u001b[0mstart_box\u001b[0m\u001b[0;34m)\u001b[0m\u001b[0;34m\u001b[0m\u001b[0;34m\u001b[0m\u001b[0m\n\u001b[0m\u001b[1;32m     11\u001b[0m         \u001b[0;32mif\u001b[0m \u001b[0misbox\u001b[0m\u001b[0;34m(\u001b[0m\u001b[0mend_box\u001b[0m\u001b[0;34m)\u001b[0m \u001b[0;32mand\u001b[0m \u001b[0mend_box\u001b[0m\u001b[0;34m.\u001b[0m\u001b[0m_trace\u001b[0m \u001b[0;34m==\u001b[0m \u001b[0mstart_box\u001b[0m\u001b[0;34m.\u001b[0m\u001b[0m_trace\u001b[0m\u001b[0;34m:\u001b[0m\u001b[0;34m\u001b[0m\u001b[0;34m\u001b[0m\u001b[0m\n\u001b[1;32m     12\u001b[0m             \u001b[0;32mreturn\u001b[0m \u001b[0mend_box\u001b[0m\u001b[0;34m.\u001b[0m\u001b[0m_value\u001b[0m\u001b[0;34m,\u001b[0m \u001b[0mend_box\u001b[0m\u001b[0;34m.\u001b[0m\u001b[0m_node\u001b[0m\u001b[0;34m\u001b[0m\u001b[0;34m\u001b[0m\u001b[0m\n",
      "\u001b[0;32m~/.sage/local/lib/python3.10/site-packages/autograd/wrap_util.py\u001b[0m in \u001b[0;36munary_f\u001b[0;34m(x)\u001b[0m\n\u001b[1;32m     13\u001b[0m                 \u001b[0;32melse\u001b[0m\u001b[0;34m:\u001b[0m\u001b[0;34m\u001b[0m\u001b[0;34m\u001b[0m\u001b[0m\n\u001b[1;32m     14\u001b[0m                     \u001b[0msubargs\u001b[0m \u001b[0;34m=\u001b[0m \u001b[0msubvals\u001b[0m\u001b[0;34m(\u001b[0m\u001b[0margs\u001b[0m\u001b[0;34m,\u001b[0m \u001b[0mzip\u001b[0m\u001b[0;34m(\u001b[0m\u001b[0margnum\u001b[0m\u001b[0;34m,\u001b[0m \u001b[0mx\u001b[0m\u001b[0;34m)\u001b[0m\u001b[0;34m)\u001b[0m\u001b[0;34m\u001b[0m\u001b[0;34m\u001b[0m\u001b[0m\n\u001b[0;32m---> 15\u001b[0;31m                 \u001b[0;32mreturn\u001b[0m \u001b[0mfun\u001b[0m\u001b[0;34m(\u001b[0m\u001b[0;34m*\u001b[0m\u001b[0msubargs\u001b[0m\u001b[0;34m,\u001b[0m \u001b[0;34m**\u001b[0m\u001b[0mkwargs\u001b[0m\u001b[0;34m)\u001b[0m\u001b[0;34m\u001b[0m\u001b[0;34m\u001b[0m\u001b[0m\n\u001b[0m\u001b[1;32m     16\u001b[0m             \u001b[0;32mif\u001b[0m \u001b[0misinstance\u001b[0m\u001b[0;34m(\u001b[0m\u001b[0margnum\u001b[0m\u001b[0;34m,\u001b[0m \u001b[0mint\u001b[0m\u001b[0;34m)\u001b[0m\u001b[0;34m:\u001b[0m\u001b[0;34m\u001b[0m\u001b[0;34m\u001b[0m\u001b[0m\n\u001b[1;32m     17\u001b[0m                 \u001b[0mx\u001b[0m \u001b[0;34m=\u001b[0m \u001b[0margs\u001b[0m\u001b[0;34m[\u001b[0m\u001b[0margnum\u001b[0m\u001b[0;34m]\u001b[0m\u001b[0;34m\u001b[0m\u001b[0;34m\u001b[0m\u001b[0m\n",
      "\u001b[0;32m/usr/lib/python3/dist-packages/sage/symbolic/expression.pyx\u001b[0m in \u001b[0;36msage.symbolic.expression.Expression.__call__ (build/cythonized/sage/symbolic/expression.cpp:61293)\u001b[0;34m()\u001b[0m\n\u001b[1;32m   6142\u001b[0m             \u001b[0mz\u001b[0m\u001b[0;34m^\u001b[0m\u001b[0;36m2\u001b[0m \u001b[0;34m+\u001b[0m \u001b[0mx\u001b[0m\u001b[0;34m^\u001b[0m\u001b[0my\u001b[0m\u001b[0;34m\u001b[0m\u001b[0;34m\u001b[0m\u001b[0m\n\u001b[1;32m   6143\u001b[0m         \"\"\"\n\u001b[0;32m-> 6144\u001b[0;31m         \u001b[0;32mreturn\u001b[0m \u001b[0mself\u001b[0m\u001b[0;34m.\u001b[0m\u001b[0m_parent\u001b[0m\u001b[0;34m.\u001b[0m\u001b[0m_call_element_\u001b[0m\u001b[0;34m(\u001b[0m\u001b[0mself\u001b[0m\u001b[0;34m,\u001b[0m \u001b[0;34m*\u001b[0m\u001b[0margs\u001b[0m\u001b[0;34m,\u001b[0m \u001b[0;34m**\u001b[0m\u001b[0mkwds\u001b[0m\u001b[0;34m)\u001b[0m\u001b[0;34m\u001b[0m\u001b[0;34m\u001b[0m\u001b[0m\n\u001b[0m\u001b[1;32m   6145\u001b[0m \u001b[0;34m\u001b[0m\u001b[0m\n\u001b[1;32m   6146\u001b[0m     \u001b[0;32mdef\u001b[0m \u001b[0mvariables\u001b[0m\u001b[0;34m(\u001b[0m\u001b[0mself\u001b[0m\u001b[0;34m)\u001b[0m\u001b[0;34m:\u001b[0m\u001b[0;34m\u001b[0m\u001b[0;34m\u001b[0m\u001b[0m\n",
      "\u001b[0;32m/usr/lib/python3/dist-packages/sage/symbolic/ring.pyx\u001b[0m in \u001b[0;36msage.symbolic.ring.SymbolicRing._call_element_ (build/cythonized/sage/symbolic/ring.c:9944)\u001b[0;34m()\u001b[0m\n\u001b[1;32m   1047\u001b[0m             \u001b[0md\u001b[0m \u001b[0;34m=\u001b[0m \u001b[0margs\u001b[0m\u001b[0;34m[\u001b[0m\u001b[0;36m0\u001b[0m\u001b[0;34m]\u001b[0m\u001b[0;34m\u001b[0m\u001b[0;34m\u001b[0m\u001b[0m\n\u001b[1;32m   1048\u001b[0m         \u001b[0;32melse\u001b[0m\u001b[0;34m:\u001b[0m\u001b[0;34m\u001b[0m\u001b[0;34m\u001b[0m\u001b[0m\n\u001b[0;32m-> 1049\u001b[0;31m             raise TypeError(\"Substitution using function-call syntax \"\n\u001b[0m\u001b[1;32m   1050\u001b[0m                             \u001b[0;34m\"and unnamed arguments has been removed. You \"\u001b[0m\u001b[0;34m\u001b[0m\u001b[0;34m\u001b[0m\u001b[0m\n\u001b[1;32m   1051\u001b[0m                             \u001b[0;34m\"can use named arguments instead, like \"\u001b[0m\u001b[0;34m\u001b[0m\u001b[0;34m\u001b[0m\u001b[0m\n",
      "\u001b[0;31mTypeError\u001b[0m: Substitution using function-call syntax and unnamed arguments has been removed. You can use named arguments instead, like EXPR(x=..., y=...)"
     ]
    }
   ],
   "source": [
    "# Import necessary libraries\n",
    "import numpy as np\n",
    "\n",
    "# Define the range and number of points\n",
    "num_points = 10\n",
    "random_points = np.random.rand(num_points, 5)\n",
    "\n",
    "# Compare results for 10 randomly chosen points\n",
    "for point in random_points:\n",
    "    print(\"Print:\", point)\n",
    "    w0_val=point[0] \n",
    "    w1_val=point[1] \n",
    "    w2_val=point[2] \n",
    "    x0_val=point[3] \n",
    "    x1_val = point[4]\n",
    "    \n",
    "    # Compute gradients using autograd\n",
    "    gradient_autograd = augradf(w0=w0_val, w1=w1_val, w2=w2_val, x0=x0_val, x1=x1_val)\n",
    "    \n",
    "    # Compute gradients using analytical approach\n",
    "    gradient_analytical = [float(expr.subs({w0: w0_val, w1: w1_val, w2: w2_val, x0: x0_val, x1: x1_val})) for expr in angradf]\n",
    "    \n",
    "    # Print results\n",
    "    print(\"Point:\", point)\n",
    "    print(\"Gradient using augradf:\", gradient_autograd)\n",
    "    print(\"Gradient using angradf:\", gradient_analytical)\n",
    "    print(\"\\n\")\n"
>>>>>>> ac1637669b07962d61ecaa7f4ead9ad2e2218408
   ]
  },
  {
   "cell_type": "code",
   "execution_count": null,
   "id": "2fc6dcc0",
   "metadata": {},
   "outputs": [],
   "source": []
<<<<<<< HEAD
=======
  },
  {
   "cell_type": "code",
   "execution_count": null,
   "id": "94d072eb",
   "metadata": {},
   "outputs": [],
   "source": []
>>>>>>> ac1637669b07962d61ecaa7f4ead9ad2e2218408
  }
 ],
 "metadata": {
  "kernelspec": {
   "display_name": "Python 3 (ipykernel)",
   "language": "python",
   "name": "python3"
  },
  "language_info": {
   "codemirror_mode": {
    "name": "ipython",
    "version": 3
   },
   "file_extension": ".py",
   "mimetype": "text/x-python",
   "name": "python",
   "nbconvert_exporter": "python",
   "pygments_lexer": "ipython3",
   "version": "3.10.12"
  }
 },
 "nbformat": 4,
 "nbformat_minor": 5
}
