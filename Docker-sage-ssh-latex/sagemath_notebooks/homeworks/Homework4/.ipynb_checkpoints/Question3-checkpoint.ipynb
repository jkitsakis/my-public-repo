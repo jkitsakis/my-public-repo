{
 "cells": [
  {
   "cell_type": "markdown",
   "id": "d072ba10",
   "metadata": {},
   "source": [
    "The gradient $\\overrightarrow{\\nabla}$  $f$  of the function $f(x,y,z)=\\sqrt{x^2+y^2+z^2}$ equals\n",
    "\n",
    "$\\textbf{Answer}$"
   ]
  },
  {
   "cell_type": "markdown",
   "id": "0980b56c",
   "metadata": {},
   "source": [
    "To calculate the gradient vector $\\nabla f$ of the function $f(x, y, z) = \\sqrt{x^2 + y^2 + z^2}$, we need to find the partial derivatives of $f$ with respect to each variable ($x, y, z$).\n",
    "\n",
    "Let's compute each partial derivative:\n",
    "\n",
    "1. Partial derivative with respect to $x$:\n",
    "   $\n",
    "   \\frac{\\partial f}{\\partial x} = \\frac{\\partial}{\\partial x} \\sqrt{x^2 + y^2 + z^2} = \\frac{x}{\\sqrt{x^2 + y^2 + z^2}}\n",
    "   $\n",
    "\n",
    "2. Partial derivative with respect to $y$:\n",
    "   $\n",
    "   \\frac{\\partial f}{\\partial y} = \\frac{\\partial}{\\partial y} \\sqrt{x^2 + y^2 + z^2} = \\frac{y}{\\sqrt{x^2 + y^2 + z^2}}\n",
    "   $\n",
    "\n",
    "3. Partial derivative with respect to $z$:\n",
    "   $\n",
    "   \\frac{\\partial f}{\\partial z} = \\frac{\\partial}{\\partial z} \\sqrt{x^2 + y^2 + z^2} = \\frac{z}{\\sqrt{x^2 + y^2 + z^2}}\n",
    "   $\n",
    "\n",
    "Therefore, the gradient vector $\\nabla f$ is given by:\n",
    "$\n",
    "\\overrightarrow{\\nabla} f = \\left(\\frac{\\partial f}{\\partial x}, \\frac{\\partial f}{\\partial y}, \\frac{\\partial f}{\\partial z}\\right) = \\left(\\frac{x}{\\sqrt{x^2 + y^2 + z^2}}, \\frac{y}{\\sqrt{x^2 + y^2 + z^2}}, \\frac{z}{\\sqrt{x^2 + y^2 + z^2}}\\right)\n",
    "$"
   ]
  },
  {
   "cell_type": "code",
   "execution_count": null,
   "id": "7306c964",
   "metadata": {},
   "outputs": [],
   "source": []
  }
 ],
 "metadata": {
  "kernelspec": {
   "display_name": "SageMath 9.5",
   "language": "sage",
   "name": "sagemath"
  },
  "language_info": {
   "codemirror_mode": {
    "name": "ipython",
    "version": 3
   },
   "file_extension": ".py",
   "mimetype": "text/x-python",
   "name": "python",
   "nbconvert_exporter": "python",
   "pygments_lexer": "ipython3",
   "version": "3.10.12"
  }
 },
 "nbformat": 4,
 "nbformat_minor": 5
}
