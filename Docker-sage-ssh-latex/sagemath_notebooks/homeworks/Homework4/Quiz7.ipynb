{
 "cells": [
  {
   "cell_type": "markdown",
   "id": "adc4b0d8",
   "metadata": {},
   "source": [
    "$\\textbf{QuestionQuiz-7}$\n",
    "\n",
    "Which is the gradient of the function $f(x,y) = \\frac{x^{3} e^{x}}{\\sqrt{y}}$\n",
    "\n",
    "$\\textbf{Answer}$"
   ]
  },
  {
   "cell_type": "markdown",
   "id": "fddb712f",
   "metadata": {},
   "source": [
    "The gradient vector $\\nabla f $ of a function $f(x, y) $ is given by the vector of its partial derivatives:\n",
    "\n",
    "$ \\nabla f = \\left( \\frac{\\partial f}{\\partial x}, \\frac{\\partial f}{\\partial y} \\right) $\n",
    "\n",
    "For the given function $f(x, y) = \\frac{x^3 e^x}{\\sqrt{y}} $, let's find the partial derivatives:\n",
    "\n",
    "1. Partial derivative of $f $ with respect to $x $:\n",
    "$ \\frac{\\partial f}{\\partial x} = \\frac{\\partial}{\\partial x}\\left(\\frac{x^3 e^x}{\\sqrt{y}}\\right) $\n",
    "\n",
    "To find this derivative, you can use the product rule and chain rule. The result is:\n",
    "$ \\frac{\\partial f}{\\partial x} = \\frac{3x^2 e^x}{\\sqrt{y}} + \\frac{x^3 e^x}{2\\sqrt{y}} $\n",
    "\n",
    "2. Partial derivative of $f $ with respect to $y $:\n",
    "$ \\frac{\\partial f}{\\partial y} = \\frac{\\partial}{\\partial y}\\left(\\frac{x^3 e^x}{\\sqrt{y}}\\right) $\n",
    "\n",
    "Using the chain rule, the result is:\n",
    "$ \\frac{\\partial f}{\\partial y} = -\\frac{x^3 e^x}{2y^{3/2}} $\n",
    "\n",
    "So, the gradient vector $\\nabla f $ is:\n",
    "$ \\nabla f = \\left( \\frac{3x^2 e^x}{\\sqrt{y}} + \\frac{x^3 e^x}{2\\sqrt{y}}, -\\frac{x^3 e^x}{2y^{3/2}} \\right) $"
   ]
  },
  {
   "cell_type": "code",
   "execution_count": null,
   "id": "e6d7c63a",
   "metadata": {},
   "outputs": [],
   "source": []
  }
 ],
 "metadata": {
  "kernelspec": {
   "display_name": "SageMath 9.5",
   "language": "sage",
   "name": "sagemath"
  },
  "language_info": {
   "codemirror_mode": {
    "name": "ipython",
    "version": 3
   },
   "file_extension": ".py",
   "mimetype": "text/x-python",
   "name": "python",
   "nbconvert_exporter": "python",
   "pygments_lexer": "ipython3",
   "version": "3.10.12"
  }
 },
 "nbformat": 4,
 "nbformat_minor": 5
}
