{
 "cells": [
  {
   "cell_type": "markdown",
   "id": "d8192146",
   "metadata": {},
   "source": [
    "$\\textbf{Question 10.}$\n",
    "\n",
    "Consider the function $𝑓(𝑥, 𝑦) = ln (1 + 𝑥(𝑥 + 𝑦^2))$.\n",
    "\n",
    "(i) Draw its computational graph.\n",
    "\n",
    "(ii) Compute its gradient at (𝑥, 𝑦) = (2, 1) using the results of (i) and backpropagation\n",
    "\n",
    "$\\textbf{Answer}$"
   ]
  },
  {
   "cell_type": "markdown",
   "id": "86ffbec7",
   "metadata": {},
   "source": [
    "To compute the gradient of the given function $f(x, y) = \\ln(1 + x(x + y^2))$ at the point $(2, 1)$, we'll find the partial derivatives of $f$ with respect to $x$ and $y$. \n",
    "\n",
    "Let:\n",
    "\n",
    "$ u = 1 + x(x + y^2) $\n",
    "\n",
    "The function $f$ can be rewritten as:\n",
    "\n",
    "$ f(x, y) = \\ln(u) $\n",
    "\n",
    "find the partial derivatives:\n",
    "\n",
    "$ u = 1 + x(x + y^2) $\n",
    "\n",
    "To find $\\frac{\\partial u}{\\partial x}$, we differentiate $u$ with respect to $x$, treating $y$ as a constant:\n",
    "\n",
    "$ \\frac{\\partial u}{\\partial x} = \\frac{d}{dx}(1) + \\frac{d}{dx}[x(x + y^2)] $\n",
    "\n",
    "$ = 0 + 1 \\cdot (x + y^2) + x \\cdot \\frac{d}{dx}(x + y^2) $\n",
    "\n",
    "$ = x + y^2 + x \\cdot (1) $\n",
    "\n",
    "$ = x + x + y^2 $\n",
    "\n",
    "$ = 2x + y^2 $\n",
    "\n",
    "To find $\\frac{\\partial u}{\\partial y}$, we differentiate $u$ with respect to $y$, treating $x$ as a constant:\n",
    "\n",
    "$ \\frac{\\partial u}{\\partial y} = \\frac{d}{dy}(1) + \\frac{d}{dy}[x(x + y^2)] $\n",
    "\n",
    "$ = 0 + x \\cdot \\frac{d}{dy}(x + y^2) $\n",
    "\n",
    "$ = x \\cdot 0 + x \\cdot 2y $\n",
    "\n",
    "$ = 2xy $\n",
    "\n",
    "So, the partial derivatives are:\n",
    "\n",
    "$ \\frac{\\partial u}{\\partial x} = 2x + y^2 $\n",
    "\n",
    "$ \\frac{\\partial u}{\\partial y} = 2xy $\n",
    "\n",
    "\n",
    "\n",
    "substitute the values $x = 2$ and $y = 1$ into these expressions:\n",
    "\n",
    "$ \\frac{\\partial u}{\\partial x} = 2x + y^2  = 2(2) + 1^2 = 4 + 1 = 5 $\n",
    "\n",
    "$ \\frac{\\partial u}{\\partial y} = 2xy = 2(2)(1) = 4 $\n",
    "\n",
    "Therefore, the gradient of $u$ at $(2, 1)$ is:\n",
    "\n",
    "$ \\nabla u(2, 1) =  (5, 4) $"
   ]
  },
  {
   "cell_type": "code",
   "execution_count": null,
   "id": "f15611d4",
   "metadata": {},
   "outputs": [],
   "source": []
  }
 ],
 "metadata": {
  "kernelspec": {
   "display_name": "SageMath 9.5",
   "language": "sage",
   "name": "sagemath"
  },
  "language_info": {
   "codemirror_mode": {
    "name": "ipython",
    "version": 3
   },
   "file_extension": ".py",
   "mimetype": "text/x-python",
   "name": "python",
   "nbconvert_exporter": "python",
   "pygments_lexer": "ipython3",
   "version": "3.10.12"
  }
 },
 "nbformat": 4,
 "nbformat_minor": 5
}
