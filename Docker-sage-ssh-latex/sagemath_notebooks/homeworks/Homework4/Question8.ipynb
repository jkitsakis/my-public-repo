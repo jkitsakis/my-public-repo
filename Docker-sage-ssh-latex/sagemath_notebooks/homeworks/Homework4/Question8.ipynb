{
 "cells": [
  {
   "cell_type": "markdown",
   "id": "4274d032",
   "metadata": {},
   "source": [
    "Consider the sigmoid function \n",
    "\n",
    "$f(w_0, w_1, w_2, x_0, x_1) = \\frac{1}{1 + e^{-(w_0x_0 + w_1x_1 + w_2)}}$\n",
    "\n",
    "(a) Install the automatic differentiation library autograd in sagemath and all additional\n",
    "libraries required for its functionality.\n",
    "\n",
    "$\\textbf{Answer}$\n"
   ]
  },
  {
   "cell_type": "code",
   "execution_count": 1,
   "id": "ac6b9abf",
   "metadata": {},
   "outputs": [
    {
     "ename": "ModuleNotFoundError",
     "evalue": "No module named 'autograd'",
     "output_type": "error",
     "traceback": [
      "\u001b[0;31m---------------------------------------------------------------------------\u001b[0m",
      "\u001b[0;31mModuleNotFoundError\u001b[0m                       Traceback (most recent call last)",
      "\u001b[0;32m/tmp/ipykernel_55/1932537493.py\u001b[0m in \u001b[0;36m<module>\u001b[0;34m\u001b[0m\n\u001b[1;32m      3\u001b[0m \u001b[0;31m# !pip install autograd\u001b[0m\u001b[0;34m\u001b[0m\u001b[0;34m\u001b[0m\u001b[0m\n\u001b[1;32m      4\u001b[0m \u001b[0;34m\u001b[0m\u001b[0m\n\u001b[0;32m----> 5\u001b[0;31m \u001b[0;32mimport\u001b[0m \u001b[0mautograd\u001b[0m\u001b[0;34m.\u001b[0m\u001b[0mnumpy\u001b[0m \u001b[0;32mas\u001b[0m \u001b[0mnp\u001b[0m\u001b[0;34m\u001b[0m\u001b[0;34m\u001b[0m\u001b[0m\n\u001b[0m\u001b[1;32m      6\u001b[0m \u001b[0;32mfrom\u001b[0m \u001b[0mautograd\u001b[0m \u001b[0;32mimport\u001b[0m \u001b[0mgrad\u001b[0m\u001b[0;34m\u001b[0m\u001b[0;34m\u001b[0m\u001b[0m\n\u001b[1;32m      7\u001b[0m \u001b[0;34m\u001b[0m\u001b[0m\n",
      "\u001b[0;31mModuleNotFoundError\u001b[0m: No module named 'autograd'"
     ]
    }
   ],
   "source": [
    "# Install autograd package if not already installed\n",
    "# Run this in your SageMath environment or a Jupyter notebook\n",
    "# !pip install autograd\n",
    "\n",
    "import autograd.numpy as np\n",
    "from autograd import grad\n",
    "\n",
    "# Define the sigmoid function\n",
    "def sigmoid(w0, w1, w2, x0, x1):\n",
    "    return 1 / (1 + np.exp(-(w0*x0 + w1*x1 + w2)))\n",
    "\n",
    "# Define the function to compute the gradient using autograd\n",
    "augradf = grad(sigmoid, argnum=(0, 1, 2, 3, 4))\n",
    "\n",
    "# Example usage:\n",
    "w0_val, w1_val, w2_val, x0_val, x1_val = 1.0, 2.0, 3.0, 0.5, 0.7\n",
    "gradient_values = augradf(w0_val, w1_val, w2_val, x0_val, x1_val)\n",
    "\n",
    "# Print the gradient values\n",
    "print(\"Gradient values:\", gradient_values)\n"
   ]
  },
  {
   "cell_type": "code",
   "execution_count": null,
   "id": "36783286",
   "metadata": {},
   "outputs": [],
   "source": []
  }
 ],
 "metadata": {
  "kernelspec": {
   "display_name": "SageMath 9.5",
   "language": "sage",
   "name": "sagemath"
  },
  "language_info": {
   "codemirror_mode": {
    "name": "ipython",
    "version": 3
   },
   "file_extension": ".py",
   "mimetype": "text/x-python",
   "name": "python",
   "nbconvert_exporter": "python",
   "pygments_lexer": "ipython3",
   "version": "3.10.12"
  }
 },
 "nbformat": 4,
 "nbformat_minor": 5
}
