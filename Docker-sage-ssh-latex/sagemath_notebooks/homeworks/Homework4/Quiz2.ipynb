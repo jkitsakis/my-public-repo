{
 "cells": [
  {
   "cell_type": "markdown",
   "id": "adc4b0d8",
   "metadata": {},
   "source": [
    "$\\textbf{QuestionQuiz-2}$\n",
    "\n",
    "Which of the following functions are solutions of the equation $\\frac{d^y(x)}{dx^2} =−y(x): $\n",
    "(i) sin(x)\n",
    "(ii) cos(x)\n",
    "(iii) cosh(x)\n",
    "(iv) e−x\n",
    "\n",
    "$\\textbf{Answer}$"
   ]
  },
  {
   "cell_type": "markdown",
   "id": "675ea81a",
   "metadata": {},
   "source": [
    "To determine which of the given functions are solutions to the differential equation $\\frac{d^2y}{dx^2} = -y$, let's differentiate each function twice and see if it satisfies the equation:\n",
    "\n",
    "(i) $y_1(x) = \\sin(x)$\n",
    "$ \\frac{dy_1}{dx} = \\cos(x) $\n",
    "$ \\frac{d^2y_1}{dx^2} = -\\sin(x) $\n",
    "\n",
    "The second derivative is $-\\sin(x)$, which is not equal to $-y_1(x)$, so $\\sin(x)$ is not a solution.\n",
    "\n",
    "(ii) $y_2(x) = \\cos(x)$\n",
    "$ \\frac{dy_2}{dx} = -\\sin(x) $\n",
    "$ \\frac{d^2y_2}{dx^2} = -\\cos(x) $\n",
    "\n",
    "The second derivative is $-\\cos(x)$, which is equal to $-y_2(x)$, so $\\cos(x)$ is a solution.\n",
    "\n",
    "(iii) $y_3(x) = \\cosh(x)$\n",
    "$ \\frac{dy_3}{dx} = \\sinh(x) $\n",
    "$ \\frac{d^2y_3}{dx^2} = \\cosh(x) $\n",
    "\n",
    "The second derivative is $\\cosh(x)$, which is not equal to $-y_3(x)$, so $\\cosh(x)$ is not a solution.\n",
    "\n",
    "(iv) $y_4(x) = e^{-x}$\n",
    "$ \\frac{dy_4}{dx} = -e^{-x} $\n",
    "$ \\frac{d^2y_4}{dx^2} = e^{-x} $\n",
    "\n",
    "The second derivative is $e^{-x}$, which is not equal to $-y_4(x)$, so $e^{-x}$ is not a solution.\n",
    "\n",
    "Therefore, the only function among the given options that is a solution to the given differential equation is $y(x) = \\cos(x)$ (option ii)."
   ]
  },
  {
   "cell_type": "markdown",
   "id": "0349479c",
   "metadata": {},
   "source": []
  }
 ],
 "metadata": {
  "kernelspec": {
   "display_name": "SageMath 9.5",
   "language": "sage",
   "name": "sagemath"
  },
  "language_info": {
   "codemirror_mode": {
    "name": "ipython",
    "version": 3
   },
   "file_extension": ".py",
   "mimetype": "text/x-python",
   "name": "python",
   "nbconvert_exporter": "python",
   "pygments_lexer": "ipython3",
   "version": "3.10.12"
  }
 },
 "nbformat": 4,
 "nbformat_minor": 5
}
