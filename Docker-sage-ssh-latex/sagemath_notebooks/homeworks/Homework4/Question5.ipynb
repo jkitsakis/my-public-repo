{
 "cells": [
  {
   "cell_type": "markdown",
   "id": "02b7d9a0",
   "metadata": {},
   "source": [
    "In the conventions used in the book of  M. P. Deisenroth et all, the expression \n",
    "$\n",
    "(\\nabla \\mathbf{x} f(\\mathbf{x}))(\\nabla \\mathbf{x} f(\\mathbf{x}))^T\n",
    "$\n",
    "\n",
    "where\n",
    "\n",
    "$\n",
    "\\mathbf{x} = \\begin{bmatrix} x_1 \\\\ x_2 \\\\ x_3 \\end{bmatrix}, \\quad\n",
    "f(\\mathbf{x}) = x_1^2 + 2x_2^2 + 3x_3^2\n",
    "$\n",
    "\n",
    "and the evaluation point is $ \\mathbf{x} = \\begin{bmatrix} 1 \\\\ 1 \\\\ 0 \\end{bmatrix} $.\n",
    "\n",
    "\n",
    "equals\n",
    "\n",
    "$\\textbf{Answer}$"
   ]
  },
  {
   "cell_type": "markdown",
   "id": "6ff979ad",
   "metadata": {},
   "source": [
    "Let's break down the expression:\n",
    "\n",
    "$\n",
    "(\\nabla \\mathbf{x} f(\\mathbf{x}))(\\nabla \\mathbf{x} f(\\mathbf{x}))^T\n",
    "$\n",
    "\n",
    "Here, $ \\nabla \\mathbf{x} f(\\mathbf{x}) $ represents the gradient of $ f(\\mathbf{x}) $ with respect to $ \\mathbf{x} $, and $ (\\nabla \\mathbf{x} f(\\mathbf{x}))^T $ denotes its transpose.\n",
    "\n",
    "Given that $ \\mathbf{x} = \\begin{bmatrix} x_1 \\\\ x_2 \\\\ x_3 \\end{bmatrix} $ and $ f(\\mathbf{x}) = x_1^2 + 2x_2^2 + 3x_3^2 $, we can find the gradient $ \\nabla \\mathbf{x} f(\\mathbf{x}) $ as follows:\n",
    "\n",
    "$\n",
    "\\nabla \\mathbf{x} f(\\mathbf{x}) = \\begin{bmatrix} \\frac{\\partial f}{\\partial x_1} \\\\ \\frac{\\partial f}{\\partial x_2} \\\\ \\frac{\\partial f}{\\partial x_3} \\end{bmatrix}\n",
    "$\n",
    "\n",
    "Now, let's compute the partial derivatives:\n",
    "\n",
    "$\n",
    "\\frac{\\partial f}{\\partial x_1} = 2x_1, \\quad\n",
    "\\frac{\\partial f}{\\partial x_2} = 4x_2, \\quad\n",
    "\\frac{\\partial f}{\\partial x_3} = 6x_3\n",
    "$\n",
    "\n",
    "At the evaluation point $ \\mathbf{x} = \\begin{bmatrix} 1 \\\\ 1 \\\\ 0 \\end{bmatrix} $, the gradient becomes:\n",
    "\n",
    "$\n",
    "\\nabla \\mathbf{x} f(\\mathbf{x}) = \\begin{bmatrix} 2 \\\\ 4 \\\\ 0 \\end{bmatrix}\n",
    "$\n",
    "\n",
    "Now, we can compute the expression:\n",
    "\n",
    "$\n",
    "(\\nabla \\mathbf{x} f(\\mathbf{x}))(\\nabla \\mathbf{x} f(\\mathbf{x}))^T = \\begin{bmatrix} 2 \\\\ 4 \\\\ 0 \\end{bmatrix} \\begin{bmatrix} 2 & 4 & 0 \\end{bmatrix}\n",
    "$\n",
    "\n",
    "Performing the multiplication:\n",
    "\n",
    "$\n",
    "(\\nabla \\mathbf{x} f(\\mathbf{x}))(\\nabla \\mathbf{x} f(\\mathbf{x}))^T = \\begin{bmatrix} 2 \\\\ 4 \\\\ 0 \\end{bmatrix} \\begin{bmatrix} 2 & 4 & 0 \\\\ 4 & 8 & 0 \\\\ 0 & 0 & 0 \\end{bmatrix} = \\begin{bmatrix} 4 & 8 & 0 \\\\ 8 & 16 & 0 \\\\ 0 & 0 & 0 \\end{bmatrix}\n",
    "$\n",
    "\n",
    "So, the expression $ (\\nabla \\mathbf{x} f(\\mathbf{x}))(\\nabla \\mathbf{x} f(\\mathbf{x}))^T $ evaluates to:\n",
    "\n",
    "$\n",
    "\\begin{bmatrix} 4 & 8 & 0 \\\\ 8 & 16 & 0 \\\\ 0 & 0 & 0 \\end{bmatrix}\n",
    "$"
   ]
  },
  {
   "cell_type": "code",
   "execution_count": null,
   "id": "cb11fd14",
   "metadata": {},
   "outputs": [],
   "source": []
  }
 ],
 "metadata": {
  "kernelspec": {
   "display_name": "SageMath 9.5",
   "language": "sage",
   "name": "sagemath"
  },
  "language_info": {
   "codemirror_mode": {
    "name": "ipython",
    "version": 3
   },
   "file_extension": ".py",
   "mimetype": "text/x-python",
   "name": "python",
   "nbconvert_exporter": "python",
   "pygments_lexer": "ipython3",
   "version": "3.10.12"
  }
 },
 "nbformat": 4,
 "nbformat_minor": 5
}
