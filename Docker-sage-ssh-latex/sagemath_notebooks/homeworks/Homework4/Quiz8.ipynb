{
 "cells": [
  {
   "cell_type": "markdown",
   "id": "adc4b0d8",
   "metadata": {},
   "source": [
    "$\\textbf{QuestionQuiz-8}$\n",
    "\n",
    "Given $z=e^{-y} \\sin(x)$ compute the $\\frac{\\partial^2 z}{\\partial x^2}+\\frac{\\partial^2 z}{\\partial y^2}$\n",
    "\n",
    "$\\textbf{Answer}$"
   ]
  },
  {
   "cell_type": "markdown",
   "id": "2aa4309a",
   "metadata": {},
   "source": [
    "To find $ \\frac{\\partial^2 z}{\\partial x^2} + \\frac{\\partial^2 z}{\\partial y^2} $ for the given function $ z = e^{-y} \\sin(x) $, we'll first find the second partial derivatives with respect to $ x $ and $ y $.\n",
    "\n",
    "Given:\n",
    "$ z = e^{-y} \\sin(x) $\n",
    "\n",
    "1. Find $ \\frac{\\partial z}{\\partial x} $:\n",
    "$ \\frac{\\partial z}{\\partial x} = e^{-y} \\cos(x) $\n",
    "\n",
    "2. Find $ \\frac{\\partial^2 z}{\\partial x^2} $:\n",
    "$ \\frac{\\partial^2 z}{\\partial x^2} = -e^{-y} \\sin(x) $\n",
    "\n",
    "3. Find $ \\frac{\\partial z}{\\partial y} $:\n",
    "$ \\frac{\\partial z}{\\partial y} = -e^{-y} \\sin(x) $\n",
    "\n",
    "4. Find $ \\frac{\\partial^2 z}{\\partial y^2} $:\n",
    "$ \\frac{\\partial^2 z}{\\partial y^2} = e^{-y} \\sin(x) $\n",
    "\n",
    "Now, we can compute $ \\frac{\\partial^2 z}{\\partial x^2} + \\frac{\\partial^2 z}{\\partial y^2} $:\n",
    "\n",
    "$ \\frac{\\partial^2 z}{\\partial x^2} + \\frac{\\partial^2 z}{\\partial y^2} = -e^{-y} \\sin(x) + e^{-y} \\sin(x) $\n",
    "\n",
    "Notice that the $ e^{-y} \\sin(x) $ terms cancel out, and the result is zero:\n",
    "\n",
    "$ \\frac{\\partial^2 z}{\\partial x^2} + \\frac{\\partial^2 z}{\\partial y^2} = 0 $"
   ]
  },
  {
   "cell_type": "code",
   "execution_count": null,
   "id": "d0ea6b4c",
   "metadata": {},
   "outputs": [],
   "source": []
  }
 ],
 "metadata": {
  "kernelspec": {
   "display_name": "SageMath 9.5",
   "language": "sage",
   "name": "sagemath"
  },
  "language_info": {
   "codemirror_mode": {
    "name": "ipython",
    "version": 3
   },
   "file_extension": ".py",
   "mimetype": "text/x-python",
   "name": "python",
   "nbconvert_exporter": "python",
   "pygments_lexer": "ipython3",
   "version": "3.10.12"
  }
 },
 "nbformat": 4,
 "nbformat_minor": 5
}
