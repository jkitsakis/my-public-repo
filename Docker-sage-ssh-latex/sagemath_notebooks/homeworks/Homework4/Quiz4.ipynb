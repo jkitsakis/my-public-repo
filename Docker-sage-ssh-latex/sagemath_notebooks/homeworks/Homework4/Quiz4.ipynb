{
 "cells": [
  {
   "cell_type": "markdown",
   "id": "adc4b0d8",
   "metadata": {},
   "source": [
    "$\\textbf{QuestionQuiz-4}$\n",
    "\n",
    "Given the function $ f(x,y)=xe^{x+y} $, the second order partial derivative $\\frac{∂^2f}{∂x∂y}$  equals to:\n",
    "\n",
    "$\\textbf{Answer}$"
   ]
  },
  {
   "cell_type": "markdown",
   "id": "c6acbe7d",
   "metadata": {},
   "source": [
    "\n",
    "Let's first find $ \\frac{\\partial f}{\\partial x} $ and $ \\frac{\\partial f}{\\partial y} $:\n",
    "\n",
    "Given: \n",
    "$ f(x, y) = xe^{x+y} $\n",
    "\n",
    "1. Partial derivative of $ f $ with respect to $ x $:\n",
    "$ \\frac{\\partial f}{\\partial x} = e^{x+y} + xe^{x+y} $\n",
    "\n",
    "2. Partial derivative of $ f $ with respect to $ y $:\n",
    "$ \\frac{\\partial f}{\\partial y} = xe^{x+y} $\n",
    "\n",
    "Now, let's find the second-order partial derivative $ \\frac{\\partial^2 f}{\\partial x \\partial y} $:\n",
    "\n",
    "Differentiating $ \\frac{\\partial f}{\\partial y} $ with respect to $ x $:\n",
    "\n",
    "$ \\frac{\\partial}{\\partial x} \\left( \\frac{\\partial f}{\\partial y} \\right) = \\frac{\\partial}{\\partial x} (xe^{x+y}) = e^{x+y} + xe^{x+y} $\n",
    "\n",
    "So, the second-order partial derivative $ \\frac{\\partial^2 f}{\\partial x \\partial y} $ is equal to $ e^{x+y} + xe^{x+y} $."
   ]
  },
  {
   "cell_type": "code",
   "execution_count": null,
   "id": "0d803e89",
   "metadata": {},
   "outputs": [],
   "source": []
  }
 ],
 "metadata": {
  "kernelspec": {
   "display_name": "SageMath 9.5",
   "language": "sage",
   "name": "sagemath"
  },
  "language_info": {
   "codemirror_mode": {
    "name": "ipython",
    "version": 3
   },
   "file_extension": ".py",
   "mimetype": "text/x-python",
   "name": "python",
   "nbconvert_exporter": "python",
   "pygments_lexer": "ipython3",
   "version": "3.10.12"
  }
 },
 "nbformat": 4,
 "nbformat_minor": 5
}
