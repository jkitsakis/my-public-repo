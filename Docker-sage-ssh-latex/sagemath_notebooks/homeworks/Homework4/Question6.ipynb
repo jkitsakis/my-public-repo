{
 "cells": [
  {
   "cell_type": "markdown",
   "id": "b73d6751",
   "metadata": {},
   "source": [
    "Which  is the derivative of $ln(cos(x))$ in the domain $0<x<π/2$?\n",
    "\n",
    "$\\textbf{Answer:}$"
   ]
  },
  {
   "cell_type": "markdown",
   "id": "86b9e757",
   "metadata": {},
   "source": [
    "To find the derivative of $ \\ln(\\cos(x)) $, we'll need to apply the chain rule. Let's break it down step by step:\n",
    "\n",
    "Given: $ y = \\ln(\\cos(x)) $\n",
    "\n",
    "1. **Find the derivative of the outer function**: The derivative of $ \\ln(u) $ with respect to $ u $ is $ \\frac{1}{u} $.\n",
    "\n",
    "So, $ \\frac{d}{du}(\\ln(u)) = \\frac{1}{u} $.\n",
    "\n",
    "2. **Find the derivative of the inner function $ u = \\cos(x) $**: The derivative of $ \\cos(x) $ with respect to $ x $ is $ -\\sin(x) $.\n",
    "\n",
    "Now, apply the chain rule:\n",
    "\n",
    "$ \\frac{dy}{dx} = \\frac{1}{u} \\times \\frac{du}{dx} $\n",
    "\n",
    "Substitute $ u = \\cos(x) $ and $ \\frac{du}{dx} = -\\sin(x) $:\n",
    "\n",
    "$ \\frac{dy}{dx} = \\frac{1}{\\cos(x)} \\times (-\\sin(x)) $\n",
    "\n",
    "$ \\frac{dy}{dx} = -\\frac{\\sin(x)}{\\cos(x)} $\n",
    "\n",
    "$ \\frac{dy}{dx} = -\\tan(x) $\n",
    "\n",
    "So, the derivative of $ \\ln(\\cos(x)) $ with respect to $ x $ is $ -\\tan(x) $.\n",
    "\n",
    "Now, for the given domain $ 0 < x < \\frac{\\pi}{2} $, the tangent function is negative, so the derivative $ \\frac{dy}{dx} $ is negative for this interval."
   ]
  },
  {
   "cell_type": "code",
   "execution_count": null,
   "id": "7e41ad02",
   "metadata": {},
   "outputs": [],
   "source": []
  }
 ],
 "metadata": {
  "kernelspec": {
   "display_name": "SageMath 9.5",
   "language": "sage",
   "name": "sagemath"
  },
  "language_info": {
   "codemirror_mode": {
    "name": "ipython",
    "version": 3
   },
   "file_extension": ".py",
   "mimetype": "text/x-python",
   "name": "python",
   "nbconvert_exporter": "python",
   "pygments_lexer": "ipython3",
   "version": "3.10.12"
  }
 },
 "nbformat": 4,
 "nbformat_minor": 5
}
