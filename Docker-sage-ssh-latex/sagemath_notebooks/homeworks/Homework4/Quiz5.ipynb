{
 "cells": [
  {
   "cell_type": "markdown",
   "id": "adc4b0d8",
   "metadata": {},
   "source": [
    "$\\textbf{QuestionQuiz-5}$\n",
    "\n",
    "The gradient of the function $f(x,y)=xln(y)$, at $(x,y)=(1,1)$ equals :\n",
    "\n",
    "$\\textbf{Answer}$"
   ]
  },
  {
   "cell_type": "markdown",
   "id": "19cf831e",
   "metadata": {},
   "source": [
    "\n",
    "The gradient vector $ \\nabla f $ is given by:\n",
    "\n",
    "$ \\nabla f = \\left( \\frac{\\partial f}{\\partial x}, \\frac{\\partial f}{\\partial y} \\right) $\n",
    "\n",
    "For the function $ f(x, y) = x \\ln(y) $, let's find the partial derivatives:\n",
    "\n",
    "1. Partial derivative of $ f $ with respect to $ x $:\n",
    "$ \\frac{\\partial f}{\\partial x} = \\ln(y) $\n",
    "\n",
    "2. Partial derivative of $ f $ with respect to $ y $:\n",
    "$ \\frac{\\partial f}{\\partial y} = \\frac{x}{y} $\n",
    "\n",
    "Now, evaluate the gradient vector at the point $ (1, 1) $:\n",
    "\n",
    "$ \\nabla f(1, 1) = \\left( \\ln(1), \\frac{1}{1} \\right) $\n",
    "\n",
    "Since $ \\ln(1) = 0 $, the gradient vector at $ (1, 1) $ is $ (0, 1) $."
   ]
  }
 ],
 "metadata": {
  "kernelspec": {
   "display_name": "SageMath 9.5",
   "language": "sage",
   "name": "sagemath"
  },
  "language_info": {
   "codemirror_mode": {
    "name": "ipython",
    "version": 3
   },
   "file_extension": ".py",
   "mimetype": "text/x-python",
   "name": "python",
   "nbconvert_exporter": "python",
   "pygments_lexer": "ipython3",
   "version": "3.10.12"
  }
 },
 "nbformat": 4,
 "nbformat_minor": 5
}
