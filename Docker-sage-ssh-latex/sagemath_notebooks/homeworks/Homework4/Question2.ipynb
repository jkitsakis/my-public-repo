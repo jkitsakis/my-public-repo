{
 "cells": [
  {
   "cell_type": "markdown",
   "id": "2f2b797c",
   "metadata": {},
   "source": [
    "The number of hamburgers sold at a fast-food restaurant is  given by y=10+6sin(x)\n",
    " where y\n",
    " is the number of hamburgers sold and x\n",
    " stands for the number of hours after the restaurant opened at 11 a.m. until 11 p.m. when it closes. At 2 p.m. the number of hamburgers being sold is \n",
    " a. increasing\n",
    " b. the same as at 1 p.m.\n",
    " c. decreasing\n",
    " d. zero because the restaurant is closed\n",
    " e. None of these.\n",
    " \n",
    " $\\textbf{Answer}$"
   ]
  },
  {
   "cell_type": "markdown",
   "id": "09e8a8c5",
   "metadata": {},
   "source": [
    "The given function is $ y = 10 + 6 \\sin(x) $.\n",
    "\n",
    "The derivative of $ y $ with respect to $ x $ gives the rate of change of $ y $ with respect to $ x $, which is the instantaneous rate of sales.\n",
    "\n",
    "Let's find the derivative:\n",
    "\n",
    "$ \\frac{dy}{dx} = 6 \\cos(x) $\n",
    "\n",
    "Now, let's evaluate the derivative at $ x = 1 $ (1 p.m.) and $ x = 2 $ (2 p.m.):\n",
    "\n",
    "$ \\frac{dy}{dx} \\Big|_{x=1} = 6 \\cos(1) $\n",
    "$ \\frac{dy}{dx} \\Big|_{x=2} = 6 \\cos(2) $\n",
    "\n",
    "Since $ \\cos(2) < \\cos(1) $, we can conclude that $ \\frac{dy}{dx} \\Big|_{x=2} < \\frac{dy}{dx} \\Big|_{x=1} $.\n",
    "\n",
    "Therefore, the derivative is decreasing, which means the rate of change of hamburgers sold is decreasing at 2 p.m. compared to 1 p.m.\n",
    "\n",
    "So, the correct answer is:\n",
    "c. decreasing\n"
   ]
  },
  {
   "cell_type": "code",
   "execution_count": null,
   "id": "f3923b77",
   "metadata": {},
   "outputs": [],
   "source": []
  }
 ],
 "metadata": {
  "kernelspec": {
   "display_name": "SageMath 9.5",
   "language": "sage",
   "name": "sagemath"
  },
  "language_info": {
   "codemirror_mode": {
    "name": "ipython",
    "version": 3
   },
   "file_extension": ".py",
   "mimetype": "text/x-python",
   "name": "python",
   "nbconvert_exporter": "python",
   "pygments_lexer": "ipython3",
   "version": "3.10.12"
  }
 },
 "nbformat": 4,
 "nbformat_minor": 5
}
