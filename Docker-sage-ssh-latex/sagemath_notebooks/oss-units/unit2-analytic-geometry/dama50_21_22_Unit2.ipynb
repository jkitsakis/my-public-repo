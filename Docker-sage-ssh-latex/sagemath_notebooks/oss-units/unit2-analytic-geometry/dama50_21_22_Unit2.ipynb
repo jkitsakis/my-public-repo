{
 "cells": [
  {
   "cell_type": "markdown",
   "metadata": {},
   "source": [
    "# DAMA50 - MATHEMATICS FOR MACHINE LEARNING\n",
    "## Unit 2 - Examples"
   ]
  },
  {
   "cell_type": "code",
   "execution_count": null,
   "metadata": {},
   "outputs": [],
   "source": [
    "%display latex"
   ]
  },
  {
   "cell_type": "code",
   "execution_count": null,
   "metadata": {},
   "outputs": [],
   "source": [
    "N = 10 # number of rows\n",
    "m = random_matrix(RR,N,3) # Randomly assigned matrix.\n",
    "m"
   ]
  },
  {
   "cell_type": "code",
   "execution_count": null,
   "metadata": {},
   "outputs": [],
   "source": [
    "# Manipulate a matrix row by row.\n",
    "for i in range(N) :\n",
    "    print (i, m[i], norm(m[i]))"
   ]
  },
  {
   "cell_type": "code",
   "execution_count": null,
   "metadata": {},
   "outputs": [],
   "source": [
    "# or in a more Pythonic way.\n",
    "for mi in m :\n",
    "    print (mi, norm(mi))"
   ]
  },
  {
   "cell_type": "code",
   "execution_count": null,
   "metadata": {},
   "outputs": [],
   "source": [
    "# Visualize the 3d vectors.\n",
    "\n",
    "# Initialize a 3d plot displaying the 1/sqrt(3)[1 1 1]^T vector.\n",
    "arrows = arrow((0,0,0), (1./sqrt(3.0),1./sqrt(3.0),1./sqrt(3.0)), color = \"red\")\n",
    "\n",
    "# For each one of the vectros in matrix m\n",
    "for mi in m :\n",
    "    mi = mi/norm(mi)\n",
    "    arrows += arrow((0,0,0), mi) # Add them to the the plot.\n",
    "\n",
    "# Display the 3d-plot.\n",
    "arrows"
   ]
  },
  {
   "cell_type": "code",
   "execution_count": null,
   "metadata": {},
   "outputs": [],
   "source": [
    "# Plot 2d arrows\n",
    "arrow2d((0,0), (2,0), legend_label='$x_1$', legend_color='black') + \\\n",
    "arrow2d((0,0), (1,1), legend_label='$x_2$', legend_color='black', color = \"red\") + \\\n",
    "arrow2d((0,0), (0,1), legend_label='$u_2$', legend_color='black', color = \"black\")"
   ]
  },
  {
   "cell_type": "code",
   "execution_count": null,
   "metadata": {},
   "outputs": [],
   "source": [
    "# Projections\n",
    "# Project each one of the vectors onto vector r.\n",
    "\n",
    "r = vector([1,1,1])/sqrt(3.)\n",
    "print (\"Vector r:\", r)\n",
    "print ()\n",
    "\n",
    "for i in range(N) :\n",
    "    print (\"Coordinate λ = \", r*m[i])"
   ]
  },
  {
   "cell_type": "code",
   "execution_count": null,
   "metadata": {},
   "outputs": [],
   "source": [
    "# We could also use a more compact command using an implicit for loop \n",
    "# Create a list containing the projection of each vector of m onto vector r.\n",
    "projections = [r.dot_product(x) for x in m]; projections"
   ]
  },
  {
   "cell_type": "markdown",
   "metadata": {},
   "source": [
    "### Find the projection matrix $P\\pi$ onto the line through the origin spanned by b = $[1, 2, 2]^T$. b is a direction and a basis of the one-dimensional subspace (line through origin)."
   ]
  },
  {
   "cell_type": "code",
   "execution_count": null,
   "metadata": {},
   "outputs": [],
   "source": [
    "b = vector([1,2,2]).column()\n",
    "b"
   ]
  },
  {
   "cell_type": "code",
   "execution_count": null,
   "metadata": {},
   "outputs": [],
   "source": [
    "bNorm = norm(b)\n",
    "print (\"|b| =\", bNorm)\n",
    "print ()\n",
    "\n",
    "bTb = b.transpose()*b\n",
    "\n",
    "print (\"      bTb\", bTb, type(bTb))\n",
    "print (\"   bTb[0]\", bTb[0],type(bTb[0]))\n",
    "print (\"bTb[0][0]\", bTb[0][0], type(bTb[0][0]))\n",
    "print ()\n",
    "#\n",
    "Ppi = b*b.transpose()/bTb[0][0] # bTb[0][0] = bNorm^2\n",
    "print (\"Ppi\")\n",
    "print (Ppi)"
   ]
  },
  {
   "cell_type": "markdown",
   "metadata": {},
   "source": [
    "### The projection $\\pi_U(\\vec{x})$ of $\\vec{x} = [1,1,1]^T$ onto the line through the origin spanned by $\\vec{b}$ is:"
   ]
  },
  {
   "cell_type": "code",
   "execution_count": null,
   "metadata": {},
   "outputs": [],
   "source": [
    "x = vector([1,1,1]).column()"
   ]
  },
  {
   "cell_type": "code",
   "execution_count": null,
   "metadata": {},
   "outputs": [],
   "source": [
    "Ppi*x"
   ]
  },
  {
   "cell_type": "code",
   "execution_count": null,
   "metadata": {},
   "outputs": [],
   "source": [
    "show(\"Is invertible = \", Ppi.is_invertible(), \" Det(Ppi) = \", Ppi.determinant())\n",
    "show(\"Is symmetric = \", Ppi.is_symmetric())\n",
    "show(\"Is the same as its transpose = \", Ppi.transpose() == Ppi)\n",
    "show(\"Is the same as its square = \", Ppi*Ppi == Ppi)"
   ]
  },
  {
   "cell_type": "code",
   "execution_count": null,
   "metadata": {},
   "outputs": [],
   "source": [
    "def generalized_inner_product(x,A,y):\n",
    "    if A.dimensions()[0] != A.dimensions()[1]:\n",
    "        return 'No symmetric matrix is provided'\n",
    "    elif A.is_positive_definite() == False:\n",
    "        return 'No psd matrix is provided'\n",
    "    else:\n",
    "        return x * A * y.column()"
   ]
  },
  {
   "cell_type": "code",
   "execution_count": null,
   "metadata": {},
   "outputs": [],
   "source": [
    "x = vector([4,1])\n",
    "y = vector([3,1])\n",
    "\n",
    "print('Dot product of x,y: ', x.inner_product(y))\n",
    "\n",
    "A = matrix([[7,0],[0,1]])\n",
    "\n",
    "a = generalized_inner_product(x,A,y)\n",
    "\n",
    "if type(a)=='str':\n",
    "    print(a)\n",
    "else:\n",
    "    print('Generalized inner product of x,y: ', a)"
   ]
  },
  {
   "cell_type": "code",
   "execution_count": null,
   "metadata": {},
   "outputs": [],
   "source": [
    "# Check the orthogonality between two vectors.\n",
    "b1 = vector([1,1,1])\n",
    "b1 = b1.column()\n",
    "\n",
    "b2 = vector([-2,1,1])\n",
    "b2 = b2.column()\n",
    "\n",
    "print (\"Inner product (b1,b2):\", b1.transpose()*b2)"
   ]
  },
  {
   "cell_type": "markdown",
   "metadata": {},
   "source": [
    "### Gram-Schmidt orthogonalization\n",
    "Documantation : https://doc.sagemath.org/html/en/reference/matrices/sage/matrix/matrix2.html#sage.matrix.matrix2.Matrix.gram_schmidt\n",
    "    "
   ]
  },
  {
   "cell_type": "code",
   "execution_count": null,
   "metadata": {},
   "outputs": [],
   "source": [
    "nonOrthogonalBasis = matrix([[2,0],[1,1]])\n",
    "b1, b2 = nonOrthogonalBasis\n",
    "print (\"u1:\", b1)\n",
    "print (\"u2:\", b2)\n",
    "print (\"b1.dot_product(b2):\", b1.dot_product(b2))"
   ]
  },
  {
   "cell_type": "code",
   "execution_count": null,
   "metadata": {},
   "outputs": [],
   "source": [
    "# Gram-Schmidt orthogonalization\n",
    "orthogonalBasis, s = nonOrthogonalBasis.gram_schmidt()\n",
    "orthogonalBasis"
   ]
  },
  {
   "cell_type": "code",
   "execution_count": null,
   "metadata": {},
   "outputs": [],
   "source": [
    "# Check the orthogonality of the new basis\n",
    "u1, u2 = orthogonalBasis\n",
    "\n",
    "print (\"u1:\", u1)\n",
    "print (\"u2:\", u2)\n",
    "print (\"u1.dot_product(u2):\", u1.dot_product(u2))"
   ]
  },
  {
   "cell_type": "code",
   "execution_count": null,
   "metadata": {},
   "outputs": [],
   "source": [
    "# Create a rotation matrix.\n",
    "def R(thetaRads):\n",
    "    return matrix([[cos(thetaRads), -sin(thetaRads)], [sin(thetaRads), cos(thetaRads)]])"
   ]
  },
  {
   "cell_type": "code",
   "execution_count": null,
   "metadata": {},
   "outputs": [],
   "source": [
    "# Convert degrees into rads.\n",
    "def degreesToRads(theta):\n",
    "    return pi*theta/180.0\n",
    "\n",
    "# Convert rads into degrees.\n",
    "def radsToDegrees(thetaRads):\n",
    "    return (180*thetaRads/pi).n()"
   ]
  },
  {
   "cell_type": "code",
   "execution_count": null,
   "metadata": {},
   "outputs": [],
   "source": [
    "radsToDegrees(pi/4)"
   ]
  },
  {
   "cell_type": "code",
   "execution_count": null,
   "metadata": {},
   "outputs": [],
   "source": [
    "# Calculate the angle between two vectors\n",
    "def angle(x1,x2):\n",
    "    normalizedInnerProd = x1.column().transpose()*x2.column()/norm(x1)/norm(x2)\n",
    "    return radsToDegrees(arccos(normalizedInnerProd[0][0]))"
   ]
  },
  {
   "cell_type": "code",
   "execution_count": null,
   "metadata": {},
   "outputs": [],
   "source": [
    "x = vector([1,0])"
   ]
  },
  {
   "cell_type": "code",
   "execution_count": null,
   "metadata": {},
   "outputs": [],
   "source": [
    "y = vector([0,1])"
   ]
  },
  {
   "cell_type": "code",
   "execution_count": null,
   "metadata": {},
   "outputs": [],
   "source": [
    "print (angle(x,y))"
   ]
  },
  {
   "cell_type": "code",
   "execution_count": null,
   "metadata": {},
   "outputs": [],
   "source": [
    "# Rotate vector x by 90 degrees\n",
    "R(pi/2)*x"
   ]
  },
  {
   "cell_type": "code",
   "execution_count": null,
   "metadata": {},
   "outputs": [],
   "source": [
    "(R(degreesToRads(45))*x).n()"
   ]
  },
  {
   "cell_type": "code",
   "execution_count": null,
   "metadata": {},
   "outputs": [],
   "source": [
    "x.inner_product(y)"
   ]
  }
 ],
 "metadata": {
  "kernelspec": {
   "display_name": "SageMath 9.5",
   "language": "sage",
   "name": "sagemath"
  },
  "language_info": {
   "codemirror_mode": {
    "name": "ipython",
    "version": 3
   },
   "file_extension": ".py",
   "mimetype": "text/x-python",
   "name": "python",
   "nbconvert_exporter": "python",
   "pygments_lexer": "ipython3",
   "version": "3.10.12"
  }
 },
 "nbformat": 4,
 "nbformat_minor": 4
}
