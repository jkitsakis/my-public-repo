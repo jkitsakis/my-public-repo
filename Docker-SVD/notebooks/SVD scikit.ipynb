{
 "cells": [
  {
   "cell_type": "markdown",
   "metadata": {},
   "source": [
    "<iframe src=\"https://docs.google.com/presentation/d/e/2PACX-1vQ-1VHWH9P5_ot34Kw4qfrS-OGtSumHQxEgxntPShj_cf1FkYdLt3fDTNonDV354jl_J8kXXyhRBg_4/embed?start=false&loop=false&delayms=3000\" frameborder=\"0\" width=\"960\" height=\"569\" allowfullscreen=\"true\" mozallowfullscreen=\"true\" webkitallowfullscreen=\"true\"></iframe>"
   ]
  },
  {
   "cell_type": "code",
   "execution_count": 1,
   "metadata": {
    "slideshow": {
     "slide_type": "skip"
    }
   },
   "outputs": [],
   "source": [
    "import random\n",
    "import numpy as np\n",
    "\n",
    "my_seed = 1337\n",
    "random.seed(my_seed)\n",
    "np.random.seed(my_seed)"
   ]
  },
  {
   "cell_type": "code",
   "execution_count": 2,
   "metadata": {
    "slideshow": {
     "slide_type": "skip"
    }
   },
   "outputs": [],
   "source": [
    "import pandas as pd\n",
    "import numpy as np\n",
    "from typing import *\n",
    "from IPython.display import display, HTML, Markdown\n",
    "\n",
    "import warnings\n",
    "warnings.filterwarnings('ignore')\n",
    "\n",
    "\n",
    "def display_best_and_worse_recommendations(recommendations: pd.DataFrame):\n",
    "    recommendations.sort_values('Estimated Prediction', ascending=False, inplace=True)\n",
    "\n",
    "    top_recommendations = recommendations.iloc[:10]\n",
    "    top_recommendations.columns = ['Prediction (sorted by best)', 'Movie Title']\n",
    "\n",
    "    worse_recommendations = recommendations.iloc[-10:]\n",
    "    worse_recommendations.columns = ['Prediction (sorted by worse)', 'Movie Title']\n",
    "\n",
    "    display(HTML(\"<h1>Recommendations your user will love</h1>\"))\n",
    "    display(top_recommendations)\n",
    "\n",
    "    display(HTML(\"<h1>Recommendations your user will hate</h1>\"))\n",
    "    display(worse_recommendations)\n",
    "    \n",
    "\n",
    "def load_movies_dataset() -> pd.DataFrame:\n",
    "    movie_data_columns = [\n",
    "    'movie_id', 'title', 'release_date', 'video_release_date', 'url',\n",
    "    'unknown', 'Action', 'Adventure', 'Animation', \"Children's\",\n",
    "    'Comedy', 'Crime', 'Documentary', 'Drama', 'Fantasy', 'Film-Noir',\n",
    "    'Horror', 'Musical', 'Mystery', 'Romance', 'Sci-Fi', 'Thriller',\n",
    "    'War', 'Western'\n",
    "    ]\n",
    "\n",
    "    movie_data = pd.read_csv(\n",
    "        'datasets/ml-100k/u.item', \n",
    "        sep = '|', \n",
    "        encoding = \"ISO-8859-1\", \n",
    "        header = None, \n",
    "        names = movie_data_columns,\n",
    "        index_col = 'movie_id'\n",
    "    )\n",
    "    movie_data['release_date'] = pd.to_datetime(movie_data['release_date'])\n",
    "    return movie_data\n",
    "\n",
    "def load_ratings() -> pd.DataFrame:\n",
    "    ratings_data = pd.read_csv(\n",
    "        'datasets/ml-100k/u.data',\n",
    "        sep = '\\t',\n",
    "        encoding = \"ISO-8859-1\",\n",
    "        header = None,\n",
    "        names=['user_id', 'movie_id', 'rating', 'timestamp']\n",
    "    )\n",
    "    return ratings_data[['user_id', 'movie_id', 'rating']]\n",
    "\n",
    "def load_movielens() -> pd.DataFrame:\n",
    "    ratings_data = load_ratings()\n",
    "    movies_data = load_movies_dataset()\n",
    "    ratings_data['user_id'] = ratings_data['user_id'].map(lambda k: f\"User {k}\")\n",
    "    \n",
    "    ratings_and_movies = ratings_data \\\n",
    "        .set_index('movie_id') \\\n",
    "        .join(movies_data['title']) \\\n",
    "        .reset_index()\n",
    "    \n",
    "    ratings_and_movies['movie_title'] = ratings_and_movies['title']\n",
    "    return ratings_and_movies[['user_id', 'movie_title', 'rating']].sample(frac=1)\n",
    "    \n",
    "    \n"
   ]
  },
  {
   "cell_type": "markdown",
   "metadata": {
    "slideshow": {
     "slide_type": "slide"
    }
   },
   "source": [
    "# Table of contents\n",
    "\n",
    "## 1) Training a SVD model\n",
    "\n",
    " - Downloading and exploring the MovieLens dataset\n",
    " - Training a SVD using Surprise in 4 simple steps\n",
    " \n",
    "## 2) Generating recommendations\n",
    " \n",
    " - Recommendations via Matrix Reconstruction: Using the predict() API inside of Surprise\n",
    " - Recommendations via Product based CF: Finding similarity between vectors"
   ]
  },
  {
   "cell_type": "markdown",
   "metadata": {
    "slideshow": {
     "slide_type": "slide"
    }
   },
   "source": [
    "# Downloading and exploring the MovieLens dataset\n",
    "\n",
    "\n",
    "- Open Source dataset\n",
    "- 20 million ratings\n",
    "- 27,000 movies\n",
    "- 138,000 users"
   ]
  },
  {
   "cell_type": "code",
   "execution_count": 3,
   "metadata": {
    "slideshow": {
     "slide_type": "fragment"
    }
   },
   "outputs": [
    {
     "data": {
      "text/html": [
       "<div>\n",
       "<style>\n",
       "    .dataframe thead tr:only-child th {\n",
       "        text-align: right;\n",
       "    }\n",
       "\n",
       "    .dataframe thead th {\n",
       "        text-align: left;\n",
       "    }\n",
       "\n",
       "    .dataframe tbody tr th {\n",
       "        vertical-align: top;\n",
       "    }\n",
       "</style>\n",
       "<table border=\"1\" class=\"dataframe\">\n",
       "  <thead>\n",
       "    <tr style=\"text-align: right;\">\n",
       "      <th></th>\n",
       "      <th>user_id</th>\n",
       "      <th>movie_title</th>\n",
       "      <th>rating</th>\n",
       "    </tr>\n",
       "  </thead>\n",
       "  <tbody>\n",
       "    <tr>\n",
       "      <th>36649</th>\n",
       "      <td>User 742</td>\n",
       "      <td>Jerry Maguire (1996)</td>\n",
       "      <td>4</td>\n",
       "    </tr>\n",
       "    <tr>\n",
       "      <th>2478</th>\n",
       "      <td>User 908</td>\n",
       "      <td>Usual Suspects, The (1995)</td>\n",
       "      <td>3</td>\n",
       "    </tr>\n",
       "    <tr>\n",
       "      <th>82838</th>\n",
       "      <td>User 758</td>\n",
       "      <td>Real Genius (1985)</td>\n",
       "      <td>4</td>\n",
       "    </tr>\n",
       "    <tr>\n",
       "      <th>69729</th>\n",
       "      <td>User 393</td>\n",
       "      <td>Things to Do in Denver when You're Dead (1995)</td>\n",
       "      <td>3</td>\n",
       "    </tr>\n",
       "    <tr>\n",
       "      <th>36560</th>\n",
       "      <td>User 66</td>\n",
       "      <td>Jerry Maguire (1996)</td>\n",
       "      <td>4</td>\n",
       "    </tr>\n",
       "  </tbody>\n",
       "</table>\n",
       "</div>"
      ],
      "text/plain": [
       "        user_id                                     movie_title  rating\n",
       "36649  User 742                            Jerry Maguire (1996)       4\n",
       "2478   User 908                      Usual Suspects, The (1995)       3\n",
       "82838  User 758                              Real Genius (1985)       4\n",
       "69729  User 393  Things to Do in Denver when You're Dead (1995)       3\n",
       "36560   User 66                            Jerry Maguire (1996)       4"
      ]
     },
     "execution_count": 3,
     "metadata": {},
     "output_type": "execute_result"
    }
   ],
   "source": [
    "movielens_df: pd.DataFrame = load_movielens()\n",
    "movielens_df.head(5)"
   ]
  },
  {
   "cell_type": "code",
   "execution_count": 4,
   "metadata": {
    "slideshow": {
     "slide_type": "skip"
    }
   },
   "outputs": [],
   "source": [
    "# Remove movies with few ratings\n",
    "movie_ratings = movielens_df.groupby('movie_title').size()\n",
    "valid_movies = movie_ratings[movie_ratings > 50]\n",
    "movie_ratings = movielens_df.set_index('movie_title', drop=False).join(valid_movies.to_frame(), how='inner').reset_index(drop=True)\n",
    "\n",
    "del movie_ratings[0]\n",
    "\n",
    "movie_ratings = movie_ratings.sample(frac=1)\n",
    "movie_ratings.head(5)\n",
    "\n",
    "movielens_df = movie_ratings"
   ]
  },
  {
   "cell_type": "markdown",
   "metadata": {
    "slideshow": {
     "slide_type": "slide"
    }
   },
   "source": [
    "# Training a SVD using Surprise in 4 simple steps"
   ]
  },
  {
   "cell_type": "code",
   "execution_count": 5,
   "metadata": {
    "slideshow": {
     "slide_type": "fragment"
    }
   },
   "outputs": [],
   "source": [
    "from surprise import SVD\n",
    "from surprise import Dataset, Reader\n",
    "from surprise.model_selection import cross_validate, train_test_split\n",
    "\n",
    "# Step 1: create a Reader.\n",
    "# A reader tells our SVD what the lower and upper bound of our ratings is.\n",
    "# MovieLens ratings are from 1 to 5\n",
    "reader = Reader(rating_scale=(1, 5))"
   ]
  },
  {
   "cell_type": "code",
   "execution_count": 6,
   "metadata": {
    "slideshow": {
     "slide_type": "fragment"
    }
   },
   "outputs": [],
   "source": [
    "# Step 2: create a new Dataset instance with a DataFrame and the reader\n",
    "# The DataFrame needs to have 3 columns in this specific order: [user_id, product_id, rating]\n",
    "data = Dataset.load_from_df(movielens_df, reader)"
   ]
  },
  {
   "cell_type": "code",
   "execution_count": 7,
   "metadata": {
    "slideshow": {
     "slide_type": "fragment"
    }
   },
   "outputs": [],
   "source": [
    "# Step 3: keep 25% of your trainset for testing\n",
    "trainset, testset = train_test_split(data, test_size=.25)"
   ]
  },
  {
   "cell_type": "code",
   "execution_count": 8,
   "metadata": {
    "slideshow": {
     "slide_type": "skip"
    }
   },
   "outputs": [],
   "source": [
    "reader = Reader(rating_scale=(1, 5))\n",
    "data = Dataset.load_from_df(movielens_df, reader)\n",
    "trainset, testset = train_test_split(data, test_size=.01)"
   ]
  },
  {
   "cell_type": "code",
   "execution_count": 9,
   "metadata": {
    "slideshow": {
     "slide_type": "fragment"
    }
   },
   "outputs": [
    {
     "data": {
      "text/plain": [
       "<surprise.prediction_algorithms.matrix_factorization.SVD at 0x1130ead68>"
      ]
     },
     "execution_count": 9,
     "metadata": {},
     "output_type": "execute_result"
    }
   ],
   "source": [
    "# Step 4: train a new SVD with 100 latent features (number was chosen arbitrarily)\n",
    "model = SVD(n_factors=100)\n",
    "model.fit(trainset)"
   ]
  },
  {
   "cell_type": "code",
   "execution_count": 10,
   "metadata": {
    "slideshow": {
     "slide_type": "skip"
    }
   },
   "outputs": [
    {
     "data": {
      "text/plain": [
       "0.9999999999999999"
      ]
     },
     "execution_count": 10,
     "metadata": {},
     "output_type": "execute_result"
    }
   ],
   "source": [
    "# Normalization\n",
    "pd.DataFrame(model.qi).iloc[0].pow(2).sum()\n",
    "model.qi /= np.linalg.norm(model.qi, ord=2, axis=1).reshape(-1, 1)\n",
    "pd.DataFrame(model.qi).iloc[0].pow(2).sum()"
   ]
  },
  {
   "cell_type": "markdown",
   "metadata": {
    "slideshow": {
     "slide_type": "slide"
    }
   },
   "source": [
    "# Inspecting our Product Matrix\n",
    "\n",
    "Surprise SVD stores the product matrix under the `model.qi` attribute."
   ]
  },
  {
   "cell_type": "code",
   "execution_count": 11,
   "metadata": {
    "slideshow": {
     "slide_type": "fragment"
    }
   },
   "outputs": [
    {
     "data": {
      "text/plain": [
       "(596, 100)"
      ]
     },
     "execution_count": 11,
     "metadata": {},
     "output_type": "execute_result"
    }
   ],
   "source": [
    "model.qi.shape"
   ]
  },
  {
   "cell_type": "markdown",
   "metadata": {
    "slideshow": {
     "slide_type": "-"
    }
   },
   "source": [
    "The matrix has `n_factors` columns (we chose 100). Every row represents a movie"
   ]
  },
  {
   "cell_type": "markdown",
   "metadata": {
    "slideshow": {
     "slide_type": "slide"
    }
   },
   "source": [
    "# Mapping every vector back to it's movie\n",
    "\n",
    "Every row is mapped to a movie. How do we map every movie to it's vector?"
   ]
  },
  {
   "cell_type": "code",
   "execution_count": 12,
   "metadata": {
    "slideshow": {
     "slide_type": "skip"
    }
   },
   "outputs": [],
   "source": [
    "def display(df: pd.DataFrame):\n",
    "    item_to_row_idx_df = pd.DataFrame(\n",
    "        list(item_to_row_idx.items()),\n",
    "        columns=['Movie name', 'model.qi row idx'],\n",
    "    ).set_index('Movie name')\n",
    "    return item_to_row_idx_df.head(5)"
   ]
  },
  {
   "cell_type": "code",
   "execution_count": 13,
   "metadata": {
    "slideshow": {
     "slide_type": "fragment"
    }
   },
   "outputs": [
    {
     "data": {
      "text/html": [
       "<div>\n",
       "<style>\n",
       "    .dataframe thead tr:only-child th {\n",
       "        text-align: right;\n",
       "    }\n",
       "\n",
       "    .dataframe thead th {\n",
       "        text-align: left;\n",
       "    }\n",
       "\n",
       "    .dataframe tbody tr th {\n",
       "        vertical-align: top;\n",
       "    }\n",
       "</style>\n",
       "<table border=\"1\" class=\"dataframe\">\n",
       "  <thead>\n",
       "    <tr style=\"text-align: right;\">\n",
       "      <th></th>\n",
       "      <th>model.qi row idx</th>\n",
       "    </tr>\n",
       "    <tr>\n",
       "      <th>Movie name</th>\n",
       "      <th></th>\n",
       "    </tr>\n",
       "  </thead>\n",
       "  <tbody>\n",
       "    <tr>\n",
       "      <th>Lion King, The (1994)</th>\n",
       "      <td>0</td>\n",
       "    </tr>\n",
       "    <tr>\n",
       "      <th>African Queen, The (1951)</th>\n",
       "      <td>1</td>\n",
       "    </tr>\n",
       "    <tr>\n",
       "      <th>Day the Earth Stood Still, The (1951)</th>\n",
       "      <td>2</td>\n",
       "    </tr>\n",
       "    <tr>\n",
       "      <th>Fried Green Tomatoes (1991)</th>\n",
       "      <td>3</td>\n",
       "    </tr>\n",
       "    <tr>\n",
       "      <th>Blues Brothers, The (1980)</th>\n",
       "      <td>4</td>\n",
       "    </tr>\n",
       "  </tbody>\n",
       "</table>\n",
       "</div>"
      ],
      "text/plain": [
       "                                       model.qi row idx\n",
       "Movie name                                             \n",
       "Lion King, The (1994)                                 0\n",
       "African Queen, The (1951)                             1\n",
       "Day the Earth Stood Still, The (1951)                 2\n",
       "Fried Green Tomatoes (1991)                           3\n",
       "Blues Brothers, The (1980)                            4"
      ]
     },
     "execution_count": 13,
     "metadata": {},
     "output_type": "execute_result"
    }
   ],
   "source": [
    "item_to_row_idx: Dict[Any, int] = model.trainset._raw2inner_id_items\n",
    "\n",
    "# `display()` is a utility function to make `item_to_row_idx` more readable\n",
    "display(item_to_row_idx)"
   ]
  },
  {
   "cell_type": "markdown",
   "metadata": {
    "slideshow": {
     "slide_type": "slide"
    }
   },
   "source": [
    "# Identifying Toy Story"
   ]
  },
  {
   "cell_type": "code",
   "execution_count": 14,
   "metadata": {
    "slideshow": {
     "slide_type": "fragment"
    }
   },
   "outputs": [],
   "source": [
    "toy_story_row_idx : int = item_to_row_idx['Toy Story (1995)']"
   ]
  },
  {
   "cell_type": "code",
   "execution_count": 15,
   "metadata": {
    "slideshow": {
     "slide_type": "fragment"
    }
   },
   "outputs": [
    {
     "data": {
      "text/plain": [
       "array([-0.00889267, -0.03901101, -0.19582206, -0.06800691,  0.11612643,\n",
       "       -0.0133471 , -0.0067134 ,  0.00288335,  0.18905863, -0.01727417,\n",
       "       -0.05463992,  0.03962723, -0.01882104,  0.01020398, -0.02117866,\n",
       "        0.16177179, -0.04796802,  0.01428753,  0.13078113, -0.02725028,\n",
       "        0.12102731,  0.07361403, -0.03889315,  0.21971317,  0.10844565,\n",
       "       -0.02779188, -0.06676929,  0.06646453, -0.00768229, -0.14992161,\n",
       "       -0.07929755,  0.00377584, -0.18182449, -0.07932236,  0.0837675 ,\n",
       "       -0.08436358,  0.10939826, -0.21550487, -0.00997129, -0.14068558,\n",
       "       -0.07365779, -0.06704182,  0.01132891,  0.10421864,  0.11748961,\n",
       "        0.07426254,  0.09342114,  0.01356848, -0.0250024 ,  0.12239668,\n",
       "       -0.20936433, -0.22866096, -0.04916814,  0.0842263 , -0.1353041 ,\n",
       "       -0.03717908, -0.17404182,  0.02941116,  0.04993152,  0.06490656,\n",
       "       -0.05549422, -0.10358558,  0.00789368,  0.09439441, -0.07726498,\n",
       "       -0.08448086,  0.08246883,  0.17941641,  0.01990596, -0.02759331,\n",
       "        0.06862457, -0.12098117, -0.03077882,  0.08178186,  0.10700504,\n",
       "       -0.01529634, -0.00385706,  0.04940254,  0.28700017, -0.0197356 ,\n",
       "        0.02827431,  0.13303162, -0.05905182, -0.0673481 ,  0.0471547 ,\n",
       "       -0.01943226,  0.09228729,  0.12408544,  0.07230831,  0.09700075,\n",
       "       -0.14674701,  0.03890628,  0.00311309, -0.02259477,  0.00057669,\n",
       "       -0.01448026, -0.00467238, -0.20787822, -0.19006575,  0.05603329])"
      ]
     },
     "execution_count": 15,
     "metadata": {},
     "output_type": "execute_result"
    }
   ],
   "source": [
    "model.qi[toy_story_row_idx]"
   ]
  },
  {
   "cell_type": "code",
   "execution_count": 16,
   "metadata": {
    "slideshow": {
     "slide_type": "fragment"
    }
   },
   "outputs": [
    {
     "name": "stdout",
     "output_type": "stream",
     "text": [
      "Every product has 100 features\n"
     ]
    }
   ],
   "source": [
    "print(f\"Every product has {model.qi[toy_story_row_idx].shape[0]} features\")"
   ]
  },
  {
   "cell_type": "markdown",
   "metadata": {
    "slideshow": {
     "slide_type": "skip"
    }
   },
   "source": [
    "# Recommendations via Product based CF: Finding similarity between vectors\n",
    "\n",
    "2 products are \"similar\" when the cosine distance is close to 0"
   ]
  },
  {
   "cell_type": "code",
   "execution_count": 17,
   "metadata": {
    "slideshow": {
     "slide_type": "skip"
    }
   },
   "outputs": [],
   "source": [
    "from scipy.spatial.distance import cosine\n",
    "\n",
    "\n",
    "def get_vector_by_movie_title(movie_title: str, trained_model: SVD) -> np.array:\n",
    "    \"\"\"Returns the latent features of a movie in the form of a numpy array\"\"\"\n",
    "    movie_row_idx = trained_model.trainset._raw2inner_id_items[movie_title]\n",
    "    return trained_model.qi[movie_row_idx]\n",
    "\n",
    "\n",
    "def cosine_distance(vector_a: np.array, vector_b: np.array) -> float:\n",
    "    \"\"\"Returns a float indicating the similarity between two vectors\"\"\"\n",
    "    return cosine(vector_a, vector_b)"
   ]
  },
  {
   "cell_type": "code",
   "execution_count": 18,
   "metadata": {
    "slideshow": {
     "slide_type": "skip"
    }
   },
   "outputs": [
    {
     "data": {
      "text/plain": [
       "0.9461284008856982"
      ]
     },
     "execution_count": 18,
     "metadata": {},
     "output_type": "execute_result"
    }
   ],
   "source": [
    "# Fetch the vectors of \"Toy Story\" and \"Wizard of Oz\"\n",
    "toy_story_vec = get_vector_by_movie_title('Toy Story (1995)', model)\n",
    "wizard_of_oz_vec = get_vector_by_movie_title('Wizard of Oz, The (1939)', model)\n",
    "\n",
    "# Calculate the distance between the vectors. The smaller the number,\n",
    "# the more similar the two movies are\n",
    "similarity_score = cosine_distance(toy_story_vec, wizard_of_oz_vec)\n",
    "similarity_score"
   ]
  },
  {
   "cell_type": "markdown",
   "metadata": {
    "slideshow": {
     "slide_type": "slide"
    }
   },
   "source": [
    "# Recommendations via Matrix Reconstruction\n",
    "\n",
    "## Use cases:\n",
    "\n",
    "Predict a score between any combination of user and a product"
   ]
  },
  {
   "cell_type": "markdown",
   "metadata": {
    "slideshow": {
     "slide_type": "subslide"
    }
   },
   "source": [
    "# Recommendations via Matrix Reconstruction: Using the predict() API inside of Surprise\n",
    "\n",
    "Computes the rating prediction for given user and movie with `model.predict()`. Pick a random user and movie, and calculate the score between them"
   ]
  },
  {
   "cell_type": "code",
   "execution_count": 19,
   "metadata": {},
   "outputs": [
    {
     "data": {
      "text/html": [
       "<div>\n",
       "<style>\n",
       "    .dataframe thead tr:only-child th {\n",
       "        text-align: right;\n",
       "    }\n",
       "\n",
       "    .dataframe thead th {\n",
       "        text-align: left;\n",
       "    }\n",
       "\n",
       "    .dataframe tbody tr th {\n",
       "        vertical-align: top;\n",
       "    }\n",
       "</style>\n",
       "<table border=\"1\" class=\"dataframe\">\n",
       "  <thead>\n",
       "    <tr style=\"text-align: right;\">\n",
       "      <th></th>\n",
       "      <th>user_id</th>\n",
       "      <th>movie_title</th>\n",
       "      <th>rating</th>\n",
       "    </tr>\n",
       "  </thead>\n",
       "  <tbody>\n",
       "    <tr>\n",
       "      <th>49469</th>\n",
       "      <td>User 437</td>\n",
       "      <td>Monty Python and the Holy Grail (1974)</td>\n",
       "      <td>3</td>\n",
       "    </tr>\n",
       "    <tr>\n",
       "      <th>12181</th>\n",
       "      <td>User 85</td>\n",
       "      <td>Butch Cassidy and the Sundance Kid (1969)</td>\n",
       "      <td>4</td>\n",
       "    </tr>\n",
       "  </tbody>\n",
       "</table>\n",
       "</div>"
      ],
      "text/plain": [
       "        user_id                                movie_title  rating\n",
       "49469  User 437     Monty Python and the Holy Grail (1974)       3\n",
       "12181   User 85  Butch Cassidy and the Sundance Kid (1969)       4"
      ]
     },
     "execution_count": 19,
     "metadata": {},
     "output_type": "execute_result"
    }
   ],
   "source": [
    "# Refresher: ratings data-frame.\n",
    "movielens_df.head(2)"
   ]
  },
  {
   "cell_type": "code",
   "execution_count": 20,
   "metadata": {
    "slideshow": {
     "slide_type": "fragment"
    }
   },
   "outputs": [
    {
     "data": {
      "text/plain": [
       "Prediction(uid='User 196', iid='Toy Story (1995)', r_ui=None, est=4.103242838730761, details={'was_impossible': False})"
      ]
     },
     "execution_count": 20,
     "metadata": {},
     "output_type": "execute_result"
    }
   ],
   "source": [
    "a_user = \"User 196\"\n",
    "a_product = \"Toy Story (1995)\"\n",
    "model.predict(a_user, a_product)"
   ]
  },
  {
   "cell_type": "markdown",
   "metadata": {
    "slideshow": {
     "slide_type": "slide"
    }
   },
   "source": [
    "# Recommendations via Item Similarity\n",
    "\n",
    "## Use cases\n",
    "\n",
    "- Clustering: find clusters of items that are similar (ex. Amazon)\n",
    "- Item-based collaborative filtering"
   ]
  },
  {
   "cell_type": "markdown",
   "metadata": {
    "slideshow": {
     "slide_type": "subslide"
    }
   },
   "source": [
    "# Recommendations via Item Similarity: Finding similarity between vectors\n",
    "\n",
    "2 products are \"similar\" when the cosine distance is close to 0"
   ]
  },
  {
   "cell_type": "code",
   "execution_count": 21,
   "metadata": {
    "slideshow": {
     "slide_type": "skip"
    }
   },
   "outputs": [],
   "source": [
    "from scipy.spatial.distance import cosine as cosine_distance"
   ]
  },
  {
   "cell_type": "code",
   "execution_count": 22,
   "metadata": {
    "slideshow": {
     "slide_type": "fragment"
    }
   },
   "outputs": [],
   "source": [
    "# Fetch indices for Toy Story and Wizard of Oz\n",
    "starwars_idx = model.trainset._raw2inner_id_items['Star Wars (1977)']\n",
    "roj_idx = model.trainset._raw2inner_id_items['Return of the Jedi (1983)']\n",
    "aladdin_idx = model.trainset._raw2inner_id_items['Aladdin (1992)']\n",
    "\n",
    "# Get vectors for both movies\n",
    "starwars_vector = model.qi[starwars_idx]\n",
    "return_of_jedi_vector = model.qi[roj_idx]\n",
    "aladdin_vector = model.qi[aladdin_idx]"
   ]
  },
  {
   "cell_type": "code",
   "execution_count": 23,
   "metadata": {
    "slideshow": {
     "slide_type": "fragment"
    }
   },
   "outputs": [
    {
     "data": {
      "text/plain": [
       "0.29566718216988797"
      ]
     },
     "execution_count": 23,
     "metadata": {},
     "output_type": "execute_result"
    }
   ],
   "source": [
    "# Distance between Starwars and Return of the Jedi\n",
    "cosine_distance(starwars_vector, return_of_jedi_vector)"
   ]
  },
  {
   "cell_type": "code",
   "execution_count": 24,
   "metadata": {
    "slideshow": {
     "slide_type": "fragment"
    }
   },
   "outputs": [
    {
     "data": {
      "text/plain": [
       "0.8587662155892206"
      ]
     },
     "execution_count": 24,
     "metadata": {},
     "output_type": "execute_result"
    }
   ],
   "source": [
    "# Distance between Starwars and Aladdin\n",
    "cosine_distance(starwars_vector, aladdin_vector)"
   ]
  },
  {
   "cell_type": "code",
   "execution_count": 25,
   "metadata": {
    "slideshow": {
     "slide_type": "skip"
    }
   },
   "outputs": [],
   "source": [
    "def display(similarity_table):\n",
    "    similarity_table = pd.DataFrame(\n",
    "        similarity_table,\n",
    "        columns=['vector cosine distance', 'movie title']\n",
    "    ).sort_values('vector cosine distance', ascending=True)\n",
    "    return similarity_table.iloc[:4]"
   ]
  },
  {
   "cell_type": "markdown",
   "metadata": {
    "slideshow": {
     "slide_type": "subslide"
    }
   },
   "source": [
    "# Finding similar movies by ranking"
   ]
  },
  {
   "cell_type": "code",
   "execution_count": 26,
   "metadata": {
    "slideshow": {
     "slide_type": "fragment"
    }
   },
   "outputs": [],
   "source": [
    "def get_top_similarities(movie_title: str, model: SVD) -> pd.DataFrame:\n",
    "    \"\"\"Returns the top 5 most similar movies to a specified movie\"\"\"\n",
    "    ..."
   ]
  },
  {
   "cell_type": "code",
   "execution_count": 27,
   "metadata": {
    "slideshow": {
     "slide_type": "skip"
    }
   },
   "outputs": [],
   "source": [
    "def get_top_similarities(movie_title: str, model: SVD) -> pd.DataFrame:\n",
    "    \"\"\"Returns the top 5 most similar movies to a specified movie\n",
    "    \n",
    "    This function iterates over every possible movie in MovieLens and calculates\n",
    "    distance between `movie_title` vector and that movie's vector.\n",
    "    \"\"\"\n",
    "    \n",
    "    # Get the first movie vector\n",
    "    movie_vector: np.array = get_vector_by_movie_title(movie_title, model)\n",
    "    similarity_table = []\n",
    "    \n",
    "    # Iterate over every possible movie and calculate similarity\n",
    "    for other_movie_title in model.trainset._raw2inner_id_items.keys():\n",
    "        other_movie_vector = get_vector_by_movie_title(other_movie_title, model)\n",
    "        \n",
    "        # Get the second movie vector, and calculate distance\n",
    "        similarity_score = cosine_distance(other_movie_vector, movie_vector)\n",
    "        similarity_table.append((similarity_score, other_movie_title))\n",
    "    \n",
    "    # sort movies by ascending similarity\n",
    "    return display(sorted(similarity_table))"
   ]
  },
  {
   "cell_type": "code",
   "execution_count": 28,
   "metadata": {
    "slideshow": {
     "slide_type": "fragment"
    }
   },
   "outputs": [
    {
     "data": {
      "text/html": [
       "<div>\n",
       "<style>\n",
       "    .dataframe thead tr:only-child th {\n",
       "        text-align: right;\n",
       "    }\n",
       "\n",
       "    .dataframe thead th {\n",
       "        text-align: left;\n",
       "    }\n",
       "\n",
       "    .dataframe tbody tr th {\n",
       "        vertical-align: top;\n",
       "    }\n",
       "</style>\n",
       "<table border=\"1\" class=\"dataframe\">\n",
       "  <thead>\n",
       "    <tr style=\"text-align: right;\">\n",
       "      <th></th>\n",
       "      <th>vector cosine distance</th>\n",
       "      <th>movie title</th>\n",
       "    </tr>\n",
       "  </thead>\n",
       "  <tbody>\n",
       "    <tr>\n",
       "      <th>0</th>\n",
       "      <td>0.000000</td>\n",
       "      <td>Star Wars (1977)</td>\n",
       "    </tr>\n",
       "    <tr>\n",
       "      <th>1</th>\n",
       "      <td>0.262668</td>\n",
       "      <td>Empire Strikes Back, The (1980)</td>\n",
       "    </tr>\n",
       "    <tr>\n",
       "      <th>2</th>\n",
       "      <td>0.295667</td>\n",
       "      <td>Return of the Jedi (1983)</td>\n",
       "    </tr>\n",
       "    <tr>\n",
       "      <th>3</th>\n",
       "      <td>0.435423</td>\n",
       "      <td>Raiders of the Lost Ark (1981)</td>\n",
       "    </tr>\n",
       "  </tbody>\n",
       "</table>\n",
       "</div>"
      ],
      "text/plain": [
       "   vector cosine distance                      movie title\n",
       "0                0.000000                 Star Wars (1977)\n",
       "1                0.262668  Empire Strikes Back, The (1980)\n",
       "2                0.295667        Return of the Jedi (1983)\n",
       "3                0.435423   Raiders of the Lost Ark (1981)"
      ]
     },
     "execution_count": 28,
     "metadata": {},
     "output_type": "execute_result"
    }
   ],
   "source": [
    "get_top_similarities('Star Wars (1977)', model)"
   ]
  },
  {
   "cell_type": "code",
   "execution_count": 29,
   "metadata": {
    "slideshow": {
     "slide_type": "fragment"
    }
   },
   "outputs": [
    {
     "data": {
      "text/html": [
       "<div>\n",
       "<style>\n",
       "    .dataframe thead tr:only-child th {\n",
       "        text-align: right;\n",
       "    }\n",
       "\n",
       "    .dataframe thead th {\n",
       "        text-align: left;\n",
       "    }\n",
       "\n",
       "    .dataframe tbody tr th {\n",
       "        vertical-align: top;\n",
       "    }\n",
       "</style>\n",
       "<table border=\"1\" class=\"dataframe\">\n",
       "  <thead>\n",
       "    <tr style=\"text-align: right;\">\n",
       "      <th></th>\n",
       "      <th>vector cosine distance</th>\n",
       "      <th>movie title</th>\n",
       "    </tr>\n",
       "  </thead>\n",
       "  <tbody>\n",
       "    <tr>\n",
       "      <th>0</th>\n",
       "      <td>0.000000</td>\n",
       "      <td>Pulp Fiction (1994)</td>\n",
       "    </tr>\n",
       "    <tr>\n",
       "      <th>1</th>\n",
       "      <td>0.514664</td>\n",
       "      <td>Ed Wood (1994)</td>\n",
       "    </tr>\n",
       "    <tr>\n",
       "      <th>2</th>\n",
       "      <td>0.658022</td>\n",
       "      <td>Trainspotting (1996)</td>\n",
       "    </tr>\n",
       "    <tr>\n",
       "      <th>3</th>\n",
       "      <td>0.659555</td>\n",
       "      <td>From Dusk Till Dawn (1996)</td>\n",
       "    </tr>\n",
       "  </tbody>\n",
       "</table>\n",
       "</div>"
      ],
      "text/plain": [
       "   vector cosine distance                 movie title\n",
       "0                0.000000         Pulp Fiction (1994)\n",
       "1                0.514664              Ed Wood (1994)\n",
       "2                0.658022        Trainspotting (1996)\n",
       "3                0.659555  From Dusk Till Dawn (1996)"
      ]
     },
     "execution_count": 29,
     "metadata": {},
     "output_type": "execute_result"
    }
   ],
   "source": [
    "get_top_similarities('Pulp Fiction (1994)', model)"
   ]
  },
  {
   "cell_type": "markdown",
   "metadata": {
    "slideshow": {
     "slide_type": "slide"
    }
   },
   "source": [
    "# In conclusion\n",
    "\n",
    "- SVD is a really powerful technique for providing recommendations\n",
    "\n",
    "- Latent features can be used in many different ways\n",
    "\n",
    "- Once the latent features are generated, collaborative filtering becomes entirely platform agnostic. The vectors are very portable\n",
    "\n",
    "- Surprise has a really low barrier of entry. \n"
   ]
  },
  {
   "cell_type": "markdown",
   "metadata": {
    "slideshow": {
     "slide_type": "subslide"
    }
   },
   "source": [
    "<img src=\"https://upload.wikimedia.org/wikipedia/commons/e/ea/Thats_all_folks.svg\" alt=\"LT\" style=\"\n",
    "    height: 400px;\n",
    "\">\n",
    "\n",
    "### A special thanks to\n",
    " - David O'Steen\n",
    " - Upom Malik\n",
    " - Danni Hu\n",
    " \n",
    "Slides: https://github.com/PirosB3/PyConUS2018"
   ]
  },
  {
   "cell_type": "markdown",
   "metadata": {},
   "source": []
  }
 ],
 "metadata": {
  "celltoolbar": "Slideshow",
  "kernelspec": {
   "display_name": "Python 3",
   "language": "python",
   "name": "python3"
  },
  "language_info": {
   "codemirror_mode": {
    "name": "ipython",
    "version": 3
   },
   "file_extension": ".py",
   "mimetype": "text/x-python",
   "name": "python",
   "nbconvert_exporter": "python",
   "pygments_lexer": "ipython3",
   "version": "3.6.4"
  }
 },
 "nbformat": 4,
 "nbformat_minor": 2
}
