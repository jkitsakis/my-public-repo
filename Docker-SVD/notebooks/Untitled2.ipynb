{
 "cells": [
  {
   "cell_type": "code",
   "execution_count": 4,
   "id": "3c187a0e-337a-4f10-986b-3f37f67d5ee2",
   "metadata": {},
   "outputs": [
    {
     "name": "stdout",
     "output_type": "stream",
     "text": [
      "Evaluating RMSE, MAE of algorithm SVD on 5 split(s).\n",
      "\n",
      "                  Fold 1  Fold 2  Fold 3  Fold 4  Fold 5  Mean    Std     \n",
      "RMSE (testset)    0.9360  0.9361  0.9348  0.9419  0.9347  0.9367  0.0027  \n",
      "MAE (testset)     0.7361  0.7395  0.7382  0.7391  0.7360  0.7378  0.0015  \n",
      "Fit time          1.87    1.99    1.98    1.83    1.73    1.88    0.10    \n",
      "Test time         0.41    0.73    0.29    0.36    0.80    0.52    0.21    \n"
     ]
    },
    {
     "data": {
      "text/plain": [
       "{'test_rmse': array([0.93600541, 0.93606394, 0.9347654 , 0.94194259, 0.934712  ]),\n",
       " 'test_mae': array([0.73613286, 0.73949433, 0.73819878, 0.73913005, 0.73595016]),\n",
       " 'fit_time': (1.8710017204284668,\n",
       "  1.9883615970611572,\n",
       "  1.9846312999725342,\n",
       "  1.8340675830841064,\n",
       "  1.726180076599121),\n",
       " 'test_time': (0.41192102432250977,\n",
       "  0.7320029735565186,\n",
       "  0.29024672508239746,\n",
       "  0.3620281219482422,\n",
       "  0.7961077690124512)}"
      ]
     },
     "execution_count": 4,
     "metadata": {},
     "output_type": "execute_result"
    }
   ],
   "source": [
    "from surprise import SVD\n",
    "from surprise import Dataset\n",
    "from surprise.model_selection import cross_validate\n",
    "\n",
    "# Load the movielens-100k dataset (download it if needed).\n",
    "data = Dataset.load_builtin('ml-100k')\n",
    "\n",
    "# Use the famous SVD algorithm.\n",
    "algo = SVD()\n",
    "\n",
    "# Run 5-fold cross-validation and print results.\n",
    "cross_validate(algo, data, measures=['RMSE', 'MAE'], cv=5, verbose=True)"
   ]
  },
  {
   "cell_type": "code",
   "execution_count": null,
   "id": "08f7584b-6ef0-4f85-8754-a7977cf9a099",
   "metadata": {},
   "outputs": [],
   "source": []
  }
 ],
 "metadata": {
  "kernelspec": {
   "display_name": "Python 3 (ipykernel)",
   "language": "python",
   "name": "python3"
  },
  "language_info": {
   "codemirror_mode": {
    "name": "ipython",
    "version": 3
   },
   "file_extension": ".py",
   "mimetype": "text/x-python",
   "name": "python",
   "nbconvert_exporter": "python",
   "pygments_lexer": "ipython3",
   "version": "3.11.6"
  }
 },
 "nbformat": 4,
 "nbformat_minor": 5
}
